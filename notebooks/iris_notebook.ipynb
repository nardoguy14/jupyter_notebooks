{
 "cells": [
  {
   "cell_type": "markdown",
   "source": [
    "# About\n",
    "\n",
    "This is an example of using the iris dataset and constructing a classifier via a simple neural network. \n",
    "Pytorch is utilized to construct the layers of the network with linear layers in between. Progress of the train and test error are tracked as the model is trained.\n",
    " "
   ],
   "metadata": {
    "collapsed": false
   },
   "id": "148b5a9df7689d81"
  },
  {
   "cell_type": "markdown",
   "source": [
    "# Loading Data\n",
    "\n",
    "Here we are loading data directly into a pandas dataframe from a string that represents the Iris dataset. "
   ],
   "metadata": {
    "collapsed": false
   },
   "id": "477201ad3718417b"
  },
  {
   "cell_type": "code",
   "outputs": [
    {
     "data": {
      "text/plain": "     sepal_length  sepal_width  petal_length  petal_width         species\n0             5.1          3.5           1.4          0.2     Iris-setosa\n1             4.9          3.0           1.4          0.2     Iris-setosa\n2             4.7          3.2           1.3          0.2     Iris-setosa\n3             4.6          3.1           1.5          0.2     Iris-setosa\n4             5.0          3.6           1.4          0.2     Iris-setosa\n..            ...          ...           ...          ...             ...\n145           6.7          3.0           5.2          2.3  Iris-virginica\n146           6.3          2.5           5.0          1.9  Iris-virginica\n147           6.5          3.0           5.2          2.0  Iris-virginica\n148           6.2          3.4           5.4          2.3  Iris-virginica\n149           5.9          3.0           5.1          1.8  Iris-virginica\n\n[150 rows x 5 columns]",
      "text/html": "<div>\n<style scoped>\n    .dataframe tbody tr th:only-of-type {\n        vertical-align: middle;\n    }\n\n    .dataframe tbody tr th {\n        vertical-align: top;\n    }\n\n    .dataframe thead th {\n        text-align: right;\n    }\n</style>\n<table border=\"1\" class=\"dataframe\">\n  <thead>\n    <tr style=\"text-align: right;\">\n      <th></th>\n      <th>sepal_length</th>\n      <th>sepal_width</th>\n      <th>petal_length</th>\n      <th>petal_width</th>\n      <th>species</th>\n    </tr>\n  </thead>\n  <tbody>\n    <tr>\n      <th>0</th>\n      <td>5.1</td>\n      <td>3.5</td>\n      <td>1.4</td>\n      <td>0.2</td>\n      <td>Iris-setosa</td>\n    </tr>\n    <tr>\n      <th>1</th>\n      <td>4.9</td>\n      <td>3.0</td>\n      <td>1.4</td>\n      <td>0.2</td>\n      <td>Iris-setosa</td>\n    </tr>\n    <tr>\n      <th>2</th>\n      <td>4.7</td>\n      <td>3.2</td>\n      <td>1.3</td>\n      <td>0.2</td>\n      <td>Iris-setosa</td>\n    </tr>\n    <tr>\n      <th>3</th>\n      <td>4.6</td>\n      <td>3.1</td>\n      <td>1.5</td>\n      <td>0.2</td>\n      <td>Iris-setosa</td>\n    </tr>\n    <tr>\n      <th>4</th>\n      <td>5.0</td>\n      <td>3.6</td>\n      <td>1.4</td>\n      <td>0.2</td>\n      <td>Iris-setosa</td>\n    </tr>\n    <tr>\n      <th>...</th>\n      <td>...</td>\n      <td>...</td>\n      <td>...</td>\n      <td>...</td>\n      <td>...</td>\n    </tr>\n    <tr>\n      <th>145</th>\n      <td>6.7</td>\n      <td>3.0</td>\n      <td>5.2</td>\n      <td>2.3</td>\n      <td>Iris-virginica</td>\n    </tr>\n    <tr>\n      <th>146</th>\n      <td>6.3</td>\n      <td>2.5</td>\n      <td>5.0</td>\n      <td>1.9</td>\n      <td>Iris-virginica</td>\n    </tr>\n    <tr>\n      <th>147</th>\n      <td>6.5</td>\n      <td>3.0</td>\n      <td>5.2</td>\n      <td>2.0</td>\n      <td>Iris-virginica</td>\n    </tr>\n    <tr>\n      <th>148</th>\n      <td>6.2</td>\n      <td>3.4</td>\n      <td>5.4</td>\n      <td>2.3</td>\n      <td>Iris-virginica</td>\n    </tr>\n    <tr>\n      <th>149</th>\n      <td>5.9</td>\n      <td>3.0</td>\n      <td>5.1</td>\n      <td>1.8</td>\n      <td>Iris-virginica</td>\n    </tr>\n  </tbody>\n</table>\n<p>150 rows × 5 columns</p>\n</div>"
     },
     "execution_count": 4,
     "metadata": {},
     "output_type": "execute_result"
    }
   ],
   "source": [
    "import pandas as pd\n",
    "\n",
    "df = pd.read_csv(\"https://raw.githubusercontent.com/nardoguy14/jupyter_notebooks/main/datasets/IRIS.csv\")\n",
    "df"
   ],
   "metadata": {
    "collapsed": false,
    "ExecuteTime": {
     "end_time": "2024-04-19T09:04:49.301199Z",
     "start_time": "2024-04-19T09:04:49.054761Z"
    }
   },
   "id": "91fb72336c5ff901",
   "execution_count": 4
  },
  {
   "cell_type": "markdown",
   "source": [
    "# Cleaning Data\n",
    "\n",
    "Here we're just checking for null values or missing values. However the dataset looks clean and complete without null values."
   ],
   "metadata": {
    "collapsed": false
   },
   "id": "9be61d43049cec5e"
  },
  {
   "cell_type": "code",
   "outputs": [
    {
     "name": "stdout",
     "output_type": "stream",
     "text": [
      "<class 'pandas.core.frame.DataFrame'>\n",
      "RangeIndex: 150 entries, 0 to 149\n",
      "Data columns (total 5 columns):\n",
      " #   Column        Non-Null Count  Dtype  \n",
      "---  ------        --------------  -----  \n",
      " 0   sepal_length  150 non-null    float64\n",
      " 1   sepal_width   150 non-null    float64\n",
      " 2   petal_length  150 non-null    float64\n",
      " 3   petal_width   150 non-null    float64\n",
      " 4   species       150 non-null    object \n",
      "dtypes: float64(4), object(1)\n",
      "memory usage: 6.0+ KB\n"
     ]
    }
   ],
   "source": [
    "df.info()"
   ],
   "metadata": {
    "collapsed": false,
    "ExecuteTime": {
     "end_time": "2024-04-19T09:04:49.314587Z",
     "start_time": "2024-04-19T09:04:49.305432Z"
    }
   },
   "id": "c8e61240991b0fd9",
   "execution_count": 5
  },
  {
   "cell_type": "markdown",
   "source": [
    "# Unique Targets\n",
    "\n",
    "We need to see the distinct set of target values the model can output. Here we take the dataframe strip out a series of the target that has a label of `species` then create a set out of it."
   ],
   "metadata": {
    "collapsed": false
   },
   "id": "c6a9fc290bf944e6"
  },
  {
   "cell_type": "code",
   "execution_count": 6,
   "id": "cbf1faafaa749ccc",
   "metadata": {
    "collapsed": false,
    "ExecuteTime": {
     "end_time": "2024-04-19T09:04:49.314983Z",
     "start_time": "2024-04-19T09:04:49.308043Z"
    }
   },
   "outputs": [
    {
     "data": {
      "text/plain": "array(['Iris-setosa', 'Iris-versicolor', 'Iris-virginica'], dtype=object)"
     },
     "execution_count": 6,
     "metadata": {},
     "output_type": "execute_result"
    }
   ],
   "source": [
    "labels = df[['species']]['species']\n",
    "distinct_labels = labels.unique()\n",
    "distinct_labels"
   ]
  },
  {
   "cell_type": "markdown",
   "source": [
    "# Features\n",
    "\n",
    "We need to take the dataframe and just keep the data that relates to the features without the labels."
   ],
   "metadata": {
    "collapsed": false
   },
   "id": "32d4db093bc920d1"
  },
  {
   "cell_type": "code",
   "execution_count": 7,
   "id": "bcc21d46a64e64ed",
   "metadata": {
    "collapsed": false,
    "ExecuteTime": {
     "end_time": "2024-04-19T09:04:49.316598Z",
     "start_time": "2024-04-19T09:04:49.314489Z"
    }
   },
   "outputs": [
    {
     "data": {
      "text/plain": "     sepal_length  sepal_width  petal_length  petal_width\n0             5.1          3.5           1.4          0.2\n1             4.9          3.0           1.4          0.2\n2             4.7          3.2           1.3          0.2\n3             4.6          3.1           1.5          0.2\n4             5.0          3.6           1.4          0.2\n..            ...          ...           ...          ...\n145           6.7          3.0           5.2          2.3\n146           6.3          2.5           5.0          1.9\n147           6.5          3.0           5.2          2.0\n148           6.2          3.4           5.4          2.3\n149           5.9          3.0           5.1          1.8\n\n[150 rows x 4 columns]",
      "text/html": "<div>\n<style scoped>\n    .dataframe tbody tr th:only-of-type {\n        vertical-align: middle;\n    }\n\n    .dataframe tbody tr th {\n        vertical-align: top;\n    }\n\n    .dataframe thead th {\n        text-align: right;\n    }\n</style>\n<table border=\"1\" class=\"dataframe\">\n  <thead>\n    <tr style=\"text-align: right;\">\n      <th></th>\n      <th>sepal_length</th>\n      <th>sepal_width</th>\n      <th>petal_length</th>\n      <th>petal_width</th>\n    </tr>\n  </thead>\n  <tbody>\n    <tr>\n      <th>0</th>\n      <td>5.1</td>\n      <td>3.5</td>\n      <td>1.4</td>\n      <td>0.2</td>\n    </tr>\n    <tr>\n      <th>1</th>\n      <td>4.9</td>\n      <td>3.0</td>\n      <td>1.4</td>\n      <td>0.2</td>\n    </tr>\n    <tr>\n      <th>2</th>\n      <td>4.7</td>\n      <td>3.2</td>\n      <td>1.3</td>\n      <td>0.2</td>\n    </tr>\n    <tr>\n      <th>3</th>\n      <td>4.6</td>\n      <td>3.1</td>\n      <td>1.5</td>\n      <td>0.2</td>\n    </tr>\n    <tr>\n      <th>4</th>\n      <td>5.0</td>\n      <td>3.6</td>\n      <td>1.4</td>\n      <td>0.2</td>\n    </tr>\n    <tr>\n      <th>...</th>\n      <td>...</td>\n      <td>...</td>\n      <td>...</td>\n      <td>...</td>\n    </tr>\n    <tr>\n      <th>145</th>\n      <td>6.7</td>\n      <td>3.0</td>\n      <td>5.2</td>\n      <td>2.3</td>\n    </tr>\n    <tr>\n      <th>146</th>\n      <td>6.3</td>\n      <td>2.5</td>\n      <td>5.0</td>\n      <td>1.9</td>\n    </tr>\n    <tr>\n      <th>147</th>\n      <td>6.5</td>\n      <td>3.0</td>\n      <td>5.2</td>\n      <td>2.0</td>\n    </tr>\n    <tr>\n      <th>148</th>\n      <td>6.2</td>\n      <td>3.4</td>\n      <td>5.4</td>\n      <td>2.3</td>\n    </tr>\n    <tr>\n      <th>149</th>\n      <td>5.9</td>\n      <td>3.0</td>\n      <td>5.1</td>\n      <td>1.8</td>\n    </tr>\n  </tbody>\n</table>\n<p>150 rows × 4 columns</p>\n</div>"
     },
     "execution_count": 7,
     "metadata": {},
     "output_type": "execute_result"
    }
   ],
   "source": [
    "features = df.drop(columns=['species'])\n",
    "features"
   ]
  },
  {
   "cell_type": "markdown",
   "source": [
    "# Defining the Model\n",
    "\n",
    "We use PyTorch here to define a linear model class with 2 hidden layers. "
   ],
   "metadata": {
    "collapsed": false
   },
   "id": "3326bdc9b3c8300e"
  },
  {
   "cell_type": "code",
   "execution_count": 8,
   "id": "be257173178378fe",
   "metadata": {
    "collapsed": false,
    "ExecuteTime": {
     "end_time": "2024-04-19T09:04:51.067333Z",
     "start_time": "2024-04-19T09:04:49.319322Z"
    }
   },
   "outputs": [
    {
     "name": "stdout",
     "output_type": "stream",
     "text": [
      "Requirement already satisfied: torch in /Users/nardoarevalo/Desktop/pandas_learning/venv/lib/python3.9/site-packages (2.2.2)\r\n",
      "Requirement already satisfied: filelock in /Users/nardoarevalo/Desktop/pandas_learning/venv/lib/python3.9/site-packages (from torch) (3.13.4)\r\n",
      "Requirement already satisfied: typing-extensions>=4.8.0 in /Users/nardoarevalo/Desktop/pandas_learning/venv/lib/python3.9/site-packages (from torch) (4.11.0)\r\n",
      "Requirement already satisfied: sympy in /Users/nardoarevalo/Desktop/pandas_learning/venv/lib/python3.9/site-packages (from torch) (1.12)\r\n",
      "Requirement already satisfied: networkx in /Users/nardoarevalo/Desktop/pandas_learning/venv/lib/python3.9/site-packages (from torch) (3.2.1)\r\n",
      "Requirement already satisfied: jinja2 in /Users/nardoarevalo/Desktop/pandas_learning/venv/lib/python3.9/site-packages (from torch) (3.1.3)\r\n",
      "Requirement already satisfied: fsspec in /Users/nardoarevalo/Desktop/pandas_learning/venv/lib/python3.9/site-packages (from torch) (2024.3.1)\r\n",
      "Requirement already satisfied: MarkupSafe>=2.0 in /Users/nardoarevalo/Desktop/pandas_learning/venv/lib/python3.9/site-packages (from jinja2->torch) (2.1.5)\r\n",
      "Requirement already satisfied: mpmath>=0.19 in /Users/nardoarevalo/Desktop/pandas_learning/venv/lib/python3.9/site-packages (from sympy->torch) (1.3.0)\r\n",
      "\r\n",
      "\u001B[1m[\u001B[0m\u001B[34;49mnotice\u001B[0m\u001B[1;39;49m]\u001B[0m\u001B[39;49m A new release of pip is available: \u001B[0m\u001B[31;49m23.2.1\u001B[0m\u001B[39;49m -> \u001B[0m\u001B[32;49m24.0\u001B[0m\r\n",
      "\u001B[1m[\u001B[0m\u001B[34;49mnotice\u001B[0m\u001B[1;39;49m]\u001B[0m\u001B[39;49m To update, run: \u001B[0m\u001B[32;49mpip install --upgrade pip\u001B[0m\r\n"
     ]
    }
   ],
   "source": [
    "!pip install torch\n",
    "import torch\n",
    "import torch.nn as nn\n",
    "import torch.optim as optim\n",
    "\n",
    "class IrisClassifier(nn.Module):\n",
    "    def __init__(self):\n",
    "        super(IrisClassifier, self).__init__()\n",
    "        # Define the layers of your neural network\n",
    "        self.fc1 = nn.Linear(4, 64)  # Input size: 4, Output size: 64\n",
    "        self.fc2 = nn.Linear(64, 32)  # Input size: 64, Output size: 32\n",
    "        self.fc3 = nn.Linear(32, 3)   # Input size: 32, Output size: 3 (number of classes)\n",
    "\n",
    "    def forward(self, x):\n",
    "        # Define the forward pass of your neural network\n",
    "        x = torch.relu(self.fc1(x))\n",
    "        x = torch.relu(self.fc2(x))\n",
    "        x = self.fc3(x)  # No activation function for the final layer in this example\n",
    "        return x\n",
    "    "
   ]
  },
  {
   "cell_type": "markdown",
   "source": [
    "# Construct Model, Loss Function, and Optimizer\n",
    "\n",
    "We instantiate the model here and setup a loss function to use with a optimizer that has an appropriate learning rate. We also turn the dataframe features into a tensor of inputs."
   ],
   "metadata": {
    "collapsed": false
   },
   "id": "c7963520b904174c"
  },
  {
   "cell_type": "code",
   "execution_count": 9,
   "id": "3f332c6cb0889dee",
   "metadata": {
    "collapsed": false,
    "ExecuteTime": {
     "end_time": "2024-04-19T09:04:51.535909Z",
     "start_time": "2024-04-19T09:04:51.069021Z"
    }
   },
   "outputs": [
    {
     "data": {
      "text/plain": "tensor([[5.1000, 3.5000, 1.4000, 0.2000],\n        [4.9000, 3.0000, 1.4000, 0.2000],\n        [4.7000, 3.2000, 1.3000, 0.2000],\n        [4.6000, 3.1000, 1.5000, 0.2000],\n        [5.0000, 3.6000, 1.4000, 0.2000],\n        [5.4000, 3.9000, 1.7000, 0.4000],\n        [4.6000, 3.4000, 1.4000, 0.3000],\n        [5.0000, 3.4000, 1.5000, 0.2000],\n        [4.4000, 2.9000, 1.4000, 0.2000],\n        [4.9000, 3.1000, 1.5000, 0.1000],\n        [5.4000, 3.7000, 1.5000, 0.2000],\n        [4.8000, 3.4000, 1.6000, 0.2000],\n        [4.8000, 3.0000, 1.4000, 0.1000],\n        [4.3000, 3.0000, 1.1000, 0.1000],\n        [5.8000, 4.0000, 1.2000, 0.2000],\n        [5.7000, 4.4000, 1.5000, 0.4000],\n        [5.4000, 3.9000, 1.3000, 0.4000],\n        [5.1000, 3.5000, 1.4000, 0.3000],\n        [5.7000, 3.8000, 1.7000, 0.3000],\n        [5.1000, 3.8000, 1.5000, 0.3000],\n        [5.4000, 3.4000, 1.7000, 0.2000],\n        [5.1000, 3.7000, 1.5000, 0.4000],\n        [4.6000, 3.6000, 1.0000, 0.2000],\n        [5.1000, 3.3000, 1.7000, 0.5000],\n        [4.8000, 3.4000, 1.9000, 0.2000],\n        [5.0000, 3.0000, 1.6000, 0.2000],\n        [5.0000, 3.4000, 1.6000, 0.4000],\n        [5.2000, 3.5000, 1.5000, 0.2000],\n        [5.2000, 3.4000, 1.4000, 0.2000],\n        [4.7000, 3.2000, 1.6000, 0.2000],\n        [4.8000, 3.1000, 1.6000, 0.2000],\n        [5.4000, 3.4000, 1.5000, 0.4000],\n        [5.2000, 4.1000, 1.5000, 0.1000],\n        [5.5000, 4.2000, 1.4000, 0.2000],\n        [4.9000, 3.1000, 1.5000, 0.1000],\n        [5.0000, 3.2000, 1.2000, 0.2000],\n        [5.5000, 3.5000, 1.3000, 0.2000],\n        [4.9000, 3.1000, 1.5000, 0.1000],\n        [4.4000, 3.0000, 1.3000, 0.2000],\n        [5.1000, 3.4000, 1.5000, 0.2000],\n        [5.0000, 3.5000, 1.3000, 0.3000],\n        [4.5000, 2.3000, 1.3000, 0.3000],\n        [4.4000, 3.2000, 1.3000, 0.2000],\n        [5.0000, 3.5000, 1.6000, 0.6000],\n        [5.1000, 3.8000, 1.9000, 0.4000],\n        [4.8000, 3.0000, 1.4000, 0.3000],\n        [5.1000, 3.8000, 1.6000, 0.2000],\n        [4.6000, 3.2000, 1.4000, 0.2000],\n        [5.3000, 3.7000, 1.5000, 0.2000],\n        [5.0000, 3.3000, 1.4000, 0.2000],\n        [7.0000, 3.2000, 4.7000, 1.4000],\n        [6.4000, 3.2000, 4.5000, 1.5000],\n        [6.9000, 3.1000, 4.9000, 1.5000],\n        [5.5000, 2.3000, 4.0000, 1.3000],\n        [6.5000, 2.8000, 4.6000, 1.5000],\n        [5.7000, 2.8000, 4.5000, 1.3000],\n        [6.3000, 3.3000, 4.7000, 1.6000],\n        [4.9000, 2.4000, 3.3000, 1.0000],\n        [6.6000, 2.9000, 4.6000, 1.3000],\n        [5.2000, 2.7000, 3.9000, 1.4000],\n        [5.0000, 2.0000, 3.5000, 1.0000],\n        [5.9000, 3.0000, 4.2000, 1.5000],\n        [6.0000, 2.2000, 4.0000, 1.0000],\n        [6.1000, 2.9000, 4.7000, 1.4000],\n        [5.6000, 2.9000, 3.6000, 1.3000],\n        [6.7000, 3.1000, 4.4000, 1.4000],\n        [5.6000, 3.0000, 4.5000, 1.5000],\n        [5.8000, 2.7000, 4.1000, 1.0000],\n        [6.2000, 2.2000, 4.5000, 1.5000],\n        [5.6000, 2.5000, 3.9000, 1.1000],\n        [5.9000, 3.2000, 4.8000, 1.8000],\n        [6.1000, 2.8000, 4.0000, 1.3000],\n        [6.3000, 2.5000, 4.9000, 1.5000],\n        [6.1000, 2.8000, 4.7000, 1.2000],\n        [6.4000, 2.9000, 4.3000, 1.3000],\n        [6.6000, 3.0000, 4.4000, 1.4000],\n        [6.8000, 2.8000, 4.8000, 1.4000],\n        [6.7000, 3.0000, 5.0000, 1.7000],\n        [6.0000, 2.9000, 4.5000, 1.5000],\n        [5.7000, 2.6000, 3.5000, 1.0000],\n        [5.5000, 2.4000, 3.8000, 1.1000],\n        [5.5000, 2.4000, 3.7000, 1.0000],\n        [5.8000, 2.7000, 3.9000, 1.2000],\n        [6.0000, 2.7000, 5.1000, 1.6000],\n        [5.4000, 3.0000, 4.5000, 1.5000],\n        [6.0000, 3.4000, 4.5000, 1.6000],\n        [6.7000, 3.1000, 4.7000, 1.5000],\n        [6.3000, 2.3000, 4.4000, 1.3000],\n        [5.6000, 3.0000, 4.1000, 1.3000],\n        [5.5000, 2.5000, 4.0000, 1.3000],\n        [5.5000, 2.6000, 4.4000, 1.2000],\n        [6.1000, 3.0000, 4.6000, 1.4000],\n        [5.8000, 2.6000, 4.0000, 1.2000],\n        [5.0000, 2.3000, 3.3000, 1.0000],\n        [5.6000, 2.7000, 4.2000, 1.3000],\n        [5.7000, 3.0000, 4.2000, 1.2000],\n        [5.7000, 2.9000, 4.2000, 1.3000],\n        [6.2000, 2.9000, 4.3000, 1.3000],\n        [5.1000, 2.5000, 3.0000, 1.1000],\n        [5.7000, 2.8000, 4.1000, 1.3000],\n        [6.3000, 3.3000, 6.0000, 2.5000],\n        [5.8000, 2.7000, 5.1000, 1.9000],\n        [7.1000, 3.0000, 5.9000, 2.1000],\n        [6.3000, 2.9000, 5.6000, 1.8000],\n        [6.5000, 3.0000, 5.8000, 2.2000],\n        [7.6000, 3.0000, 6.6000, 2.1000],\n        [4.9000, 2.5000, 4.5000, 1.7000],\n        [7.3000, 2.9000, 6.3000, 1.8000],\n        [6.7000, 2.5000, 5.8000, 1.8000],\n        [7.2000, 3.6000, 6.1000, 2.5000],\n        [6.5000, 3.2000, 5.1000, 2.0000],\n        [6.4000, 2.7000, 5.3000, 1.9000],\n        [6.8000, 3.0000, 5.5000, 2.1000],\n        [5.7000, 2.5000, 5.0000, 2.0000],\n        [5.8000, 2.8000, 5.1000, 2.4000],\n        [6.4000, 3.2000, 5.3000, 2.3000],\n        [6.5000, 3.0000, 5.5000, 1.8000],\n        [7.7000, 3.8000, 6.7000, 2.2000],\n        [7.7000, 2.6000, 6.9000, 2.3000],\n        [6.0000, 2.2000, 5.0000, 1.5000],\n        [6.9000, 3.2000, 5.7000, 2.3000],\n        [5.6000, 2.8000, 4.9000, 2.0000],\n        [7.7000, 2.8000, 6.7000, 2.0000],\n        [6.3000, 2.7000, 4.9000, 1.8000],\n        [6.7000, 3.3000, 5.7000, 2.1000],\n        [7.2000, 3.2000, 6.0000, 1.8000],\n        [6.2000, 2.8000, 4.8000, 1.8000],\n        [6.1000, 3.0000, 4.9000, 1.8000],\n        [6.4000, 2.8000, 5.6000, 2.1000],\n        [7.2000, 3.0000, 5.8000, 1.6000],\n        [7.4000, 2.8000, 6.1000, 1.9000],\n        [7.9000, 3.8000, 6.4000, 2.0000],\n        [6.4000, 2.8000, 5.6000, 2.2000],\n        [6.3000, 2.8000, 5.1000, 1.5000],\n        [6.1000, 2.6000, 5.6000, 1.4000],\n        [7.7000, 3.0000, 6.1000, 2.3000],\n        [6.3000, 3.4000, 5.6000, 2.4000],\n        [6.4000, 3.1000, 5.5000, 1.8000],\n        [6.0000, 3.0000, 4.8000, 1.8000],\n        [6.9000, 3.1000, 5.4000, 2.1000],\n        [6.7000, 3.1000, 5.6000, 2.4000],\n        [6.9000, 3.1000, 5.1000, 2.3000],\n        [5.8000, 2.7000, 5.1000, 1.9000],\n        [6.8000, 3.2000, 5.9000, 2.3000],\n        [6.7000, 3.3000, 5.7000, 2.5000],\n        [6.7000, 3.0000, 5.2000, 2.3000],\n        [6.3000, 2.5000, 5.0000, 1.9000],\n        [6.5000, 3.0000, 5.2000, 2.0000],\n        [6.2000, 3.4000, 5.4000, 2.3000],\n        [5.9000, 3.0000, 5.1000, 1.8000]])"
     },
     "execution_count": 9,
     "metadata": {},
     "output_type": "execute_result"
    }
   ],
   "source": [
    "# Create an instance of the classifier\n",
    "model = IrisClassifier()\n",
    "\n",
    "# Define your loss function and optimizer\n",
    "criterion = nn.CrossEntropyLoss()\n",
    "optimizer = optim.SGD(model.parameters(), lr=0.01)\n",
    "\n",
    "inputs = torch.tensor(features.values)\n",
    "inputs = inputs.to(torch.float)\n",
    "inputs"
   ]
  },
  {
   "cell_type": "markdown",
   "source": [
    "# Labels to Numerical Values\n",
    "\n",
    "We use a helper library called `scikit-learn` to map our alphanumerical labels to numerical labels. We then construct our expected mapped outputs from a dataframe series to a tensor of numerical long values."
   ],
   "metadata": {
    "collapsed": false
   },
   "id": "af6a098b1c2041e"
  },
  {
   "cell_type": "code",
   "execution_count": 10,
   "id": "8ddc76f7b4835199",
   "metadata": {
    "collapsed": false,
    "ExecuteTime": {
     "end_time": "2024-04-19T09:04:53.424769Z",
     "start_time": "2024-04-19T09:04:51.536509Z"
    }
   },
   "outputs": [
    {
     "name": "stdout",
     "output_type": "stream",
     "text": [
      "Requirement already satisfied: scikit-learn in /Users/nardoarevalo/Desktop/pandas_learning/venv/lib/python3.9/site-packages (1.4.2)\r\n",
      "Requirement already satisfied: numpy>=1.19.5 in /Users/nardoarevalo/Desktop/pandas_learning/venv/lib/python3.9/site-packages (from scikit-learn) (1.26.4)\r\n",
      "Requirement already satisfied: scipy>=1.6.0 in /Users/nardoarevalo/Desktop/pandas_learning/venv/lib/python3.9/site-packages (from scikit-learn) (1.13.0)\r\n",
      "Requirement already satisfied: joblib>=1.2.0 in /Users/nardoarevalo/Desktop/pandas_learning/venv/lib/python3.9/site-packages (from scikit-learn) (1.4.0)\r\n",
      "Requirement already satisfied: threadpoolctl>=2.0.0 in /Users/nardoarevalo/Desktop/pandas_learning/venv/lib/python3.9/site-packages (from scikit-learn) (3.4.0)\r\n",
      "\r\n",
      "\u001B[1m[\u001B[0m\u001B[34;49mnotice\u001B[0m\u001B[1;39;49m]\u001B[0m\u001B[39;49m A new release of pip is available: \u001B[0m\u001B[31;49m23.2.1\u001B[0m\u001B[39;49m -> \u001B[0m\u001B[32;49m24.0\u001B[0m\r\n",
      "\u001B[1m[\u001B[0m\u001B[34;49mnotice\u001B[0m\u001B[1;39;49m]\u001B[0m\u001B[39;49m To update, run: \u001B[0m\u001B[32;49mpip install --upgrade pip\u001B[0m\r\n"
     ]
    },
    {
     "data": {
      "text/plain": "tensor([0, 0, 0, 0, 0, 0, 0, 0, 0, 0, 0, 0, 0, 0, 0, 0, 0, 0, 0, 0, 0, 0, 0, 0,\n        0, 0, 0, 0, 0, 0, 0, 0, 0, 0, 0, 0, 0, 0, 0, 0, 0, 0, 0, 0, 0, 0, 0, 0,\n        0, 0, 1, 1, 1, 1, 1, 1, 1, 1, 1, 1, 1, 1, 1, 1, 1, 1, 1, 1, 1, 1, 1, 1,\n        1, 1, 1, 1, 1, 1, 1, 1, 1, 1, 1, 1, 1, 1, 1, 1, 1, 1, 1, 1, 1, 1, 1, 1,\n        1, 1, 1, 1, 2, 2, 2, 2, 2, 2, 2, 2, 2, 2, 2, 2, 2, 2, 2, 2, 2, 2, 2, 2,\n        2, 2, 2, 2, 2, 2, 2, 2, 2, 2, 2, 2, 2, 2, 2, 2, 2, 2, 2, 2, 2, 2, 2, 2,\n        2, 2, 2, 2, 2, 2])"
     },
     "execution_count": 10,
     "metadata": {},
     "output_type": "execute_result"
    }
   ],
   "source": [
    "!pip install scikit-learn\n",
    "from sklearn.preprocessing import LabelEncoder\n",
    "label_encoder = LabelEncoder()\n",
    "mapped_labels = label_encoder.fit_transform(labels)\n",
    "outputs = torch.tensor(mapped_labels)\n",
    "outputs =  outputs.to(torch.long)\n",
    "outputs"
   ]
  },
  {
   "cell_type": "markdown",
   "source": [
    "# Defining/Constructing the Dataset & Dataloaders\n",
    "\n",
    "PyTorch uses dataset and dataloaders to feed the model data from. Here we define a class for our dataset and also split our dataset into a training set and a testing set. We then load the two sets into dataloaders that will be used during training. The loaders define the batch size that will be used for each epoch of the training."
   ],
   "metadata": {
    "collapsed": false
   },
   "id": "f3b0b27a1b5829a5"
  },
  {
   "cell_type": "code",
   "execution_count": 11,
   "id": "584fd06681b79ac",
   "metadata": {
    "collapsed": false,
    "ExecuteTime": {
     "end_time": "2024-04-19T09:04:53.556084Z",
     "start_time": "2024-04-19T09:04:53.425762Z"
    }
   },
   "outputs": [
    {
     "name": "stdout",
     "output_type": "stream",
     "text": [
      "done!\n"
     ]
    }
   ],
   "source": [
    "from torch.utils.data import Dataset, DataLoader, Subset\n",
    "from sklearn.model_selection import train_test_split\n",
    "\n",
    "\n",
    "class CustomDataset(Dataset):\n",
    "    def __init__(self, X, y):\n",
    "        self.X = X\n",
    "        self.y = y\n",
    "\n",
    "    def __len__(self):\n",
    "        return len(self.X)\n",
    "\n",
    "    def __getitem__(self, idx):\n",
    "        return self.X[idx], self.y[idx]\n",
    "\n",
    "dataset = CustomDataset(inputs, outputs)\n",
    "train_indices, test_indices = train_test_split(range(len(dataset)), test_size=0.2, random_state=42)\n",
    "\n",
    "train_dataset = Subset(dataset, train_indices)\n",
    "test_dataset = Subset(dataset, test_indices)\n",
    "\n",
    "train_data_loader = DataLoader(train_dataset, batch_size=10, shuffle=True)\n",
    "test_data_loader = DataLoader(test_dataset, batch_size=10, shuffle=False)\n",
    "\n",
    "\n",
    "loss_array = []\n",
    "test_err_arr = []\n",
    "print(\"done!\")\n"
   ]
  },
  {
   "cell_type": "markdown",
   "source": [
    "# Defining Test and Train\n",
    "\n",
    "The train loop and test loops are defined here for pytorch where we use the model for either training or testing and outputing the current loss for both training and testing."
   ],
   "metadata": {
    "collapsed": false
   },
   "id": "a754d51f42a9759f"
  },
  {
   "cell_type": "code",
   "execution_count": 12,
   "id": "4bc0dcdf12da1359",
   "metadata": {
    "collapsed": false,
    "ExecuteTime": {
     "end_time": "2024-04-19T09:04:53.560751Z",
     "start_time": "2024-04-19T09:04:53.558815Z"
    }
   },
   "outputs": [
    {
     "name": "stdout",
     "output_type": "stream",
     "text": [
      "done!\n"
     ]
    }
   ],
   "source": [
    "def test_loop(dataloader, model, loss_fn) -> list[float]:\n",
    "    # Set the model to evaluation mode - important for batch normalization and dropout layers\n",
    "    # Unnecessary in this situation but added for best practices\n",
    "    model.eval()\n",
    "    size = len(dataloader.dataset)\n",
    "    num_batches = len(dataloader)\n",
    "    test_loss, correct = 0, 0\n",
    "    test_err_arr = []\n",
    "\n",
    "    # Evaluating the model with torch.no_grad() ensures that no gradients are computed during test mode\n",
    "    # also serves to reduce unnecessary gradient computations and memory usage for tensors with requires_grad=True\n",
    "    with torch.no_grad():\n",
    "        i = 1\n",
    "        for X, y in dataloader:\n",
    "            pred = model(X)\n",
    "            test_loss += loss_fn(pred, y).item()\n",
    "            i += 1\n",
    "            correct += (pred.argmax(1) == y).type(torch.float).sum().item()\n",
    "\n",
    "    test_loss /= num_batches\n",
    "    test_err_arr.append(test_loss)\n",
    "    correct /= size\n",
    "    print(f\"Test Error: \\n Accuracy: {(100*correct):>0.1f}%, Avg loss: {test_loss:>8f} \\n\")\n",
    "    return test_err_arr\n",
    "\n",
    "def train_loop(train_data_loader, model, criterion):\n",
    "    loss_array_in = []\n",
    "    model.train()\n",
    "    running_loss = 0.0\n",
    "    for ins, outs in train_data_loader:\n",
    "        optimizer.zero_grad()\n",
    "        obs_outs = model(ins)\n",
    "        loss = criterion(obs_outs, outs)\n",
    "        loss.backward()\n",
    "        optimizer.step()\n",
    "        running_loss += loss.item()\n",
    "    train_loss = running_loss / len(train_data_loader)\n",
    "    loss_array_in.append(train_loss)\n",
    "    return loss_array_in\n",
    "print(\"done!\")"
   ]
  },
  {
   "cell_type": "markdown",
   "source": [
    "# Running Training & Testing\n",
    "\n",
    "Now that we defined the functions to train and test we run a taining of 20 epochs where we train measure the loss then test and measure the test loss. "
   ],
   "metadata": {
    "collapsed": false
   },
   "id": "c730b37baaea71b9"
  },
  {
   "cell_type": "code",
   "execution_count": 13,
   "id": "d155a2f269152640",
   "metadata": {
    "collapsed": false,
    "ExecuteTime": {
     "end_time": "2024-04-19T09:04:53.663512Z",
     "start_time": "2024-04-19T09:04:53.563Z"
    }
   },
   "outputs": [
    {
     "name": "stdout",
     "output_type": "stream",
     "text": [
      "Test Error: \n",
      " Accuracy: 40.0%, Avg loss: 1.081893 \n",
      "\n",
      "Epoch [1/20], Loss: 1.116767942905426\n",
      "Test Error: \n",
      " Accuracy: 46.7%, Avg loss: 1.048822 \n",
      "\n",
      "Epoch [2/20], Loss: 1.0834330022335052\n",
      "Test Error: \n",
      " Accuracy: 30.0%, Avg loss: 1.033564 \n",
      "\n",
      "Epoch [3/20], Loss: 1.047450914978981\n",
      "Test Error: \n",
      " Accuracy: 50.0%, Avg loss: 0.985492 \n",
      "\n",
      "Epoch [4/20], Loss: 1.0213819096485774\n",
      "Test Error: \n",
      " Accuracy: 56.7%, Avg loss: 0.946188 \n",
      "\n",
      "Epoch [5/20], Loss: 0.9826554556687673\n",
      "Test Error: \n",
      " Accuracy: 83.3%, Avg loss: 0.908523 \n",
      "\n",
      "Epoch [6/20], Loss: 0.9449802190065384\n",
      "Test Error: \n",
      " Accuracy: 83.3%, Avg loss: 0.864856 \n",
      "\n",
      "Epoch [7/20], Loss: 0.9013162354628245\n",
      "Test Error: \n",
      " Accuracy: 86.7%, Avg loss: 0.825809 \n",
      "\n",
      "Epoch [8/20], Loss: 0.8599927177031835\n",
      "Test Error: \n",
      " Accuracy: 73.3%, Avg loss: 0.768739 \n",
      "\n",
      "Epoch [9/20], Loss: 0.8112937758366267\n",
      "Test Error: \n",
      " Accuracy: 70.0%, Avg loss: 0.715979 \n",
      "\n",
      "Epoch [10/20], Loss: 0.7579562962055206\n",
      "Test Error: \n",
      " Accuracy: 86.7%, Avg loss: 0.672486 \n",
      "\n",
      "Epoch [11/20], Loss: 0.7079369425773621\n",
      "Test Error: \n",
      " Accuracy: 70.0%, Avg loss: 0.624751 \n",
      "\n",
      "Epoch [12/20], Loss: 0.6620107839504877\n",
      "Test Error: \n",
      " Accuracy: 83.3%, Avg loss: 0.593470 \n",
      "\n",
      "Epoch [13/20], Loss: 0.6205105682214102\n",
      "Test Error: \n",
      " Accuracy: 86.7%, Avg loss: 0.562145 \n",
      "\n",
      "Epoch [14/20], Loss: 0.59096260368824\n",
      "Test Error: \n",
      " Accuracy: 100.0%, Avg loss: 0.541071 \n",
      "\n",
      "Epoch [15/20], Loss: 0.5611115967233976\n",
      "Test Error: \n",
      " Accuracy: 80.0%, Avg loss: 0.508427 \n",
      "\n",
      "Epoch [16/20], Loss: 0.5365449140469233\n",
      "Test Error: \n",
      " Accuracy: 80.0%, Avg loss: 0.486048 \n",
      "\n",
      "Epoch [17/20], Loss: 0.5133741125464439\n",
      "Test Error: \n",
      " Accuracy: 80.0%, Avg loss: 0.469353 \n",
      "\n",
      "Epoch [18/20], Loss: 0.4933936173717181\n",
      "Test Error: \n",
      " Accuracy: 100.0%, Avg loss: 0.461377 \n",
      "\n",
      "Epoch [19/20], Loss: 0.4733566741148631\n",
      "Test Error: \n",
      " Accuracy: 80.0%, Avg loss: 0.435139 \n",
      "\n",
      "Epoch [20/20], Loss: 0.4598309670885404\n"
     ]
    }
   ],
   "source": [
    "num_epochs = 20\n",
    "for epoch in range(num_epochs):\n",
    "    \n",
    "    results = train_loop(train_data_loader, model, criterion)\n",
    "    for i in results:\n",
    "        loss_array.append(i)\n",
    "\n",
    "    results = test_loop(test_data_loader, model, criterion)\n",
    "    for i in results:\n",
    "        test_err_arr.append(i)\n",
    "\n",
    "    print(f'Epoch [{epoch+1}/{num_epochs}], Loss: {loss_array[-1]}')\n"
   ]
  },
  {
   "cell_type": "markdown",
   "source": [
    "# Results\n",
    "\n",
    "We check the running test and train loss to be sure we are not overfitting and that our training loss does not drop dramatically fast compared to the test loss."
   ],
   "metadata": {
    "collapsed": false
   },
   "id": "b8be178b7afa44f4"
  },
  {
   "cell_type": "code",
   "execution_count": 14,
   "id": "516247f90d6796a7",
   "metadata": {
    "collapsed": false,
    "ExecuteTime": {
     "end_time": "2024-04-19T09:04:54.116698Z",
     "start_time": "2024-04-19T09:04:53.663891Z"
    }
   },
   "outputs": [
    {
     "data": {
      "text/plain": "<Figure size 640x480 with 1 Axes>",
      "image/png": "[encoded data removed]"
     },
     "metadata": {},
     "output_type": "display_data"
    }
   ],
   "source": [
    "import matplotlib.pyplot as plt\n",
    "plt.plot(loss_array, label=\"train loss\")\n",
    "plt.plot(test_err_arr, label=\"test loss\")\n",
    "plt.xlabel('Epoch')\n",
    "plt.ylabel('Loss')\n",
    "plt.title('Training and Test Loss')\n",
    "plt.legend()\n",
    "plt.show()\n"
   ]
  }
 ],
 "metadata": {
  "kernelspec": {
   "display_name": "nardo_kernel",
   "language": "python",
   "name": "nardo_kernel"
  },
  "language_info": {
   "codemirror_mode": {
    "name": "ipython",
    "version": 3
   },
   "file_extension": ".py",
   "mimetype": "text/x-python",
   "name": "python",
   "nbconvert_exporter": "python",
   "pygments_lexer": "ipython3",
   "version": "3.9.6"
  }
 },
 "nbformat": 4,
 "nbformat_minor": 5
}
