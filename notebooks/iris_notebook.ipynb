{
 "cells": [
  {
   "cell_type": "code",
   "outputs": [
    {
     "data": {
      "text/plain": "     sepal_length  sepal_width  petal_length  petal_width         species\n0             5.1          3.5           1.4          0.2     Iris-setosa\n1             4.9          3.0           1.4          0.2     Iris-setosa\n2             4.7          3.2           1.3          0.2     Iris-setosa\n3             4.6          3.1           1.5          0.2     Iris-setosa\n4             5.0          3.6           1.4          0.2     Iris-setosa\n..            ...          ...           ...          ...             ...\n145           6.7          3.0           5.2          2.3  Iris-virginica\n146           6.3          2.5           5.0          1.9  Iris-virginica\n147           6.5          3.0           5.2          2.0  Iris-virginica\n148           6.2          3.4           5.4          2.3  Iris-virginica\n149           5.9          3.0           5.1          1.8  Iris-virginica\n\n[150 rows x 5 columns]",
      "text/html": "<div>\n<style scoped>\n    .dataframe tbody tr th:only-of-type {\n        vertical-align: middle;\n    }\n\n    .dataframe tbody tr th {\n        vertical-align: top;\n    }\n\n    .dataframe thead th {\n        text-align: right;\n    }\n</style>\n<table border=\"1\" class=\"dataframe\">\n  <thead>\n    <tr style=\"text-align: right;\">\n      <th></th>\n      <th>sepal_length</th>\n      <th>sepal_width</th>\n      <th>petal_length</th>\n      <th>petal_width</th>\n      <th>species</th>\n    </tr>\n  </thead>\n  <tbody>\n    <tr>\n      <th>0</th>\n      <td>5.1</td>\n      <td>3.5</td>\n      <td>1.4</td>\n      <td>0.2</td>\n      <td>Iris-setosa</td>\n    </tr>\n    <tr>\n      <th>1</th>\n      <td>4.9</td>\n      <td>3.0</td>\n      <td>1.4</td>\n      <td>0.2</td>\n      <td>Iris-setosa</td>\n    </tr>\n    <tr>\n      <th>2</th>\n      <td>4.7</td>\n      <td>3.2</td>\n      <td>1.3</td>\n      <td>0.2</td>\n      <td>Iris-setosa</td>\n    </tr>\n    <tr>\n      <th>3</th>\n      <td>4.6</td>\n      <td>3.1</td>\n      <td>1.5</td>\n      <td>0.2</td>\n      <td>Iris-setosa</td>\n    </tr>\n    <tr>\n      <th>4</th>\n      <td>5.0</td>\n      <td>3.6</td>\n      <td>1.4</td>\n      <td>0.2</td>\n      <td>Iris-setosa</td>\n    </tr>\n    <tr>\n      <th>...</th>\n      <td>...</td>\n      <td>...</td>\n      <td>...</td>\n      <td>...</td>\n      <td>...</td>\n    </tr>\n    <tr>\n      <th>145</th>\n      <td>6.7</td>\n      <td>3.0</td>\n      <td>5.2</td>\n      <td>2.3</td>\n      <td>Iris-virginica</td>\n    </tr>\n    <tr>\n      <th>146</th>\n      <td>6.3</td>\n      <td>2.5</td>\n      <td>5.0</td>\n      <td>1.9</td>\n      <td>Iris-virginica</td>\n    </tr>\n    <tr>\n      <th>147</th>\n      <td>6.5</td>\n      <td>3.0</td>\n      <td>5.2</td>\n      <td>2.0</td>\n      <td>Iris-virginica</td>\n    </tr>\n    <tr>\n      <th>148</th>\n      <td>6.2</td>\n      <td>3.4</td>\n      <td>5.4</td>\n      <td>2.3</td>\n      <td>Iris-virginica</td>\n    </tr>\n    <tr>\n      <th>149</th>\n      <td>5.9</td>\n      <td>3.0</td>\n      <td>5.1</td>\n      <td>1.8</td>\n      <td>Iris-virginica</td>\n    </tr>\n  </tbody>\n</table>\n<p>150 rows × 5 columns</p>\n</div>"
     },
     "execution_count": 1,
     "metadata": {},
     "output_type": "execute_result"
    }
   ],
   "source": [
    "import pandas as pd\n",
    "from io import StringIO\n",
    "\n",
    "iris_str = \"\"\"\n",
    "sepal_length,sepal_width,petal_length,petal_width,species\n",
    "5.1,3.5,1.4,0.2,Iris-setosa\n",
    "4.9,3,1.4,0.2,Iris-setosa\n",
    "4.7,3.2,1.3,0.2,Iris-setosa\n",
    "4.6,3.1,1.5,0.2,Iris-setosa\n",
    "5,3.6,1.4,0.2,Iris-setosa\n",
    "5.4,3.9,1.7,0.4,Iris-setosa\n",
    "4.6,3.4,1.4,0.3,Iris-setosa\n",
    "5,3.4,1.5,0.2,Iris-setosa\n",
    "4.4,2.9,1.4,0.2,Iris-setosa\n",
    "4.9,3.1,1.5,0.1,Iris-setosa\n",
    "5.4,3.7,1.5,0.2,Iris-setosa\n",
    "4.8,3.4,1.6,0.2,Iris-setosa\n",
    "4.8,3,1.4,0.1,Iris-setosa\n",
    "4.3,3,1.1,0.1,Iris-setosa\n",
    "5.8,4,1.2,0.2,Iris-setosa\n",
    "5.7,4.4,1.5,0.4,Iris-setosa\n",
    "5.4,3.9,1.3,0.4,Iris-setosa\n",
    "5.1,3.5,1.4,0.3,Iris-setosa\n",
    "5.7,3.8,1.7,0.3,Iris-setosa\n",
    "5.1,3.8,1.5,0.3,Iris-setosa\n",
    "5.4,3.4,1.7,0.2,Iris-setosa\n",
    "5.1,3.7,1.5,0.4,Iris-setosa\n",
    "4.6,3.6,1,0.2,Iris-setosa\n",
    "5.1,3.3,1.7,0.5,Iris-setosa\n",
    "4.8,3.4,1.9,0.2,Iris-setosa\n",
    "5,3,1.6,0.2,Iris-setosa\n",
    "5,3.4,1.6,0.4,Iris-setosa\n",
    "5.2,3.5,1.5,0.2,Iris-setosa\n",
    "5.2,3.4,1.4,0.2,Iris-setosa\n",
    "4.7,3.2,1.6,0.2,Iris-setosa\n",
    "4.8,3.1,1.6,0.2,Iris-setosa\n",
    "5.4,3.4,1.5,0.4,Iris-setosa\n",
    "5.2,4.1,1.5,0.1,Iris-setosa\n",
    "5.5,4.2,1.4,0.2,Iris-setosa\n",
    "4.9,3.1,1.5,0.1,Iris-setosa\n",
    "5,3.2,1.2,0.2,Iris-setosa\n",
    "5.5,3.5,1.3,0.2,Iris-setosa\n",
    "4.9,3.1,1.5,0.1,Iris-setosa\n",
    "4.4,3,1.3,0.2,Iris-setosa\n",
    "5.1,3.4,1.5,0.2,Iris-setosa\n",
    "5,3.5,1.3,0.3,Iris-setosa\n",
    "4.5,2.3,1.3,0.3,Iris-setosa\n",
    "4.4,3.2,1.3,0.2,Iris-setosa\n",
    "5,3.5,1.6,0.6,Iris-setosa\n",
    "5.1,3.8,1.9,0.4,Iris-setosa\n",
    "4.8,3,1.4,0.3,Iris-setosa\n",
    "5.1,3.8,1.6,0.2,Iris-setosa\n",
    "4.6,3.2,1.4,0.2,Iris-setosa\n",
    "5.3,3.7,1.5,0.2,Iris-setosa\n",
    "5,3.3,1.4,0.2,Iris-setosa\n",
    "7,3.2,4.7,1.4,Iris-versicolor\n",
    "6.4,3.2,4.5,1.5,Iris-versicolor\n",
    "6.9,3.1,4.9,1.5,Iris-versicolor\n",
    "5.5,2.3,4,1.3,Iris-versicolor\n",
    "6.5,2.8,4.6,1.5,Iris-versicolor\n",
    "5.7,2.8,4.5,1.3,Iris-versicolor\n",
    "6.3,3.3,4.7,1.6,Iris-versicolor\n",
    "4.9,2.4,3.3,1,Iris-versicolor\n",
    "6.6,2.9,4.6,1.3,Iris-versicolor\n",
    "5.2,2.7,3.9,1.4,Iris-versicolor\n",
    "5,2,3.5,1,Iris-versicolor\n",
    "5.9,3,4.2,1.5,Iris-versicolor\n",
    "6,2.2,4,1,Iris-versicolor\n",
    "6.1,2.9,4.7,1.4,Iris-versicolor\n",
    "5.6,2.9,3.6,1.3,Iris-versicolor\n",
    "6.7,3.1,4.4,1.4,Iris-versicolor\n",
    "5.6,3,4.5,1.5,Iris-versicolor\n",
    "5.8,2.7,4.1,1,Iris-versicolor\n",
    "6.2,2.2,4.5,1.5,Iris-versicolor\n",
    "5.6,2.5,3.9,1.1,Iris-versicolor\n",
    "5.9,3.2,4.8,1.8,Iris-versicolor\n",
    "6.1,2.8,4,1.3,Iris-versicolor\n",
    "6.3,2.5,4.9,1.5,Iris-versicolor\n",
    "6.1,2.8,4.7,1.2,Iris-versicolor\n",
    "6.4,2.9,4.3,1.3,Iris-versicolor\n",
    "6.6,3,4.4,1.4,Iris-versicolor\n",
    "6.8,2.8,4.8,1.4,Iris-versicolor\n",
    "6.7,3,5,1.7,Iris-versicolor\n",
    "6,2.9,4.5,1.5,Iris-versicolor\n",
    "5.7,2.6,3.5,1,Iris-versicolor\n",
    "5.5,2.4,3.8,1.1,Iris-versicolor\n",
    "5.5,2.4,3.7,1,Iris-versicolor\n",
    "5.8,2.7,3.9,1.2,Iris-versicolor\n",
    "6,2.7,5.1,1.6,Iris-versicolor\n",
    "5.4,3,4.5,1.5,Iris-versicolor\n",
    "6,3.4,4.5,1.6,Iris-versicolor\n",
    "6.7,3.1,4.7,1.5,Iris-versicolor\n",
    "6.3,2.3,4.4,1.3,Iris-versicolor\n",
    "5.6,3,4.1,1.3,Iris-versicolor\n",
    "5.5,2.5,4,1.3,Iris-versicolor\n",
    "5.5,2.6,4.4,1.2,Iris-versicolor\n",
    "6.1,3,4.6,1.4,Iris-versicolor\n",
    "5.8,2.6,4,1.2,Iris-versicolor\n",
    "5,2.3,3.3,1,Iris-versicolor\n",
    "5.6,2.7,4.2,1.3,Iris-versicolor\n",
    "5.7,3,4.2,1.2,Iris-versicolor\n",
    "5.7,2.9,4.2,1.3,Iris-versicolor\n",
    "6.2,2.9,4.3,1.3,Iris-versicolor\n",
    "5.1,2.5,3,1.1,Iris-versicolor\n",
    "5.7,2.8,4.1,1.3,Iris-versicolor\n",
    "6.3,3.3,6,2.5,Iris-virginica\n",
    "5.8,2.7,5.1,1.9,Iris-virginica\n",
    "7.1,3,5.9,2.1,Iris-virginica\n",
    "6.3,2.9,5.6,1.8,Iris-virginica\n",
    "6.5,3,5.8,2.2,Iris-virginica\n",
    "7.6,3,6.6,2.1,Iris-virginica\n",
    "4.9,2.5,4.5,1.7,Iris-virginica\n",
    "7.3,2.9,6.3,1.8,Iris-virginica\n",
    "6.7,2.5,5.8,1.8,Iris-virginica\n",
    "7.2,3.6,6.1,2.5,Iris-virginica\n",
    "6.5,3.2,5.1,2,Iris-virginica\n",
    "6.4,2.7,5.3,1.9,Iris-virginica\n",
    "6.8,3,5.5,2.1,Iris-virginica\n",
    "5.7,2.5,5,2,Iris-virginica\n",
    "5.8,2.8,5.1,2.4,Iris-virginica\n",
    "6.4,3.2,5.3,2.3,Iris-virginica\n",
    "6.5,3,5.5,1.8,Iris-virginica\n",
    "7.7,3.8,6.7,2.2,Iris-virginica\n",
    "7.7,2.6,6.9,2.3,Iris-virginica\n",
    "6,2.2,5,1.5,Iris-virginica\n",
    "6.9,3.2,5.7,2.3,Iris-virginica\n",
    "5.6,2.8,4.9,2,Iris-virginica\n",
    "7.7,2.8,6.7,2,Iris-virginica\n",
    "6.3,2.7,4.9,1.8,Iris-virginica\n",
    "6.7,3.3,5.7,2.1,Iris-virginica\n",
    "7.2,3.2,6,1.8,Iris-virginica\n",
    "6.2,2.8,4.8,1.8,Iris-virginica\n",
    "6.1,3,4.9,1.8,Iris-virginica\n",
    "6.4,2.8,5.6,2.1,Iris-virginica\n",
    "7.2,3,5.8,1.6,Iris-virginica\n",
    "7.4,2.8,6.1,1.9,Iris-virginica\n",
    "7.9,3.8,6.4,2,Iris-virginica\n",
    "6.4,2.8,5.6,2.2,Iris-virginica\n",
    "6.3,2.8,5.1,1.5,Iris-virginica\n",
    "6.1,2.6,5.6,1.4,Iris-virginica\n",
    "7.7,3,6.1,2.3,Iris-virginica\n",
    "6.3,3.4,5.6,2.4,Iris-virginica\n",
    "6.4,3.1,5.5,1.8,Iris-virginica\n",
    "6,3,4.8,1.8,Iris-virginica\n",
    "6.9,3.1,5.4,2.1,Iris-virginica\n",
    "6.7,3.1,5.6,2.4,Iris-virginica\n",
    "6.9,3.1,5.1,2.3,Iris-virginica\n",
    "5.8,2.7,5.1,1.9,Iris-virginica\n",
    "6.8,3.2,5.9,2.3,Iris-virginica\n",
    "6.7,3.3,5.7,2.5,Iris-virginica\n",
    "6.7,3,5.2,2.3,Iris-virginica\n",
    "6.3,2.5,5,1.9,Iris-virginica\n",
    "6.5,3,5.2,2,Iris-virginica\n",
    "6.2,3.4,5.4,2.3,Iris-virginica\n",
    "5.9,3,5.1,1.8,Iris-virginica\n",
    "\"\"\"\n",
    "\n",
    "df = pd.read_csv(StringIO(iris_str))\n",
    "df"
   ],
   "metadata": {
    "collapsed": false,
    "ExecuteTime": {
     "end_time": "2024-04-17T01:58:44.108827Z",
     "start_time": "2024-04-17T01:58:43.765073Z"
    }
   },
   "id": "f5f30f9bd920f0ea",
   "execution_count": 1
  },
  {
   "cell_type": "code",
   "outputs": [
    {
     "name": "stdout",
     "output_type": "stream",
     "text": [
      "<class 'pandas.core.frame.DataFrame'>\n",
      "RangeIndex: 150 entries, 0 to 149\n",
      "Data columns (total 5 columns):\n",
      " #   Column        Non-Null Count  Dtype  \n",
      "---  ------        --------------  -----  \n",
      " 0   sepal_length  150 non-null    float64\n",
      " 1   sepal_width   150 non-null    float64\n",
      " 2   petal_length  150 non-null    float64\n",
      " 3   petal_width   150 non-null    float64\n",
      " 4   species       150 non-null    object \n",
      "dtypes: float64(4), object(1)\n",
      "memory usage: 6.0+ KB\n"
     ]
    }
   ],
   "source": [
    "df.info()"
   ],
   "metadata": {
    "collapsed": false,
    "ExecuteTime": {
     "end_time": "2024-04-17T01:58:44.116615Z",
     "start_time": "2024-04-17T01:58:44.109940Z"
    }
   },
   "id": "c8e61240991b0fd9",
   "execution_count": 2
  },
  {
   "cell_type": "code",
   "execution_count": 3,
   "id": "cbf1faafaa749ccc",
   "metadata": {
    "collapsed": false,
    "ExecuteTime": {
     "end_time": "2024-04-17T01:58:44.119534Z",
     "start_time": "2024-04-17T01:58:44.116867Z"
    }
   },
   "outputs": [
    {
     "data": {
      "text/plain": "array(['Iris-setosa', 'Iris-versicolor', 'Iris-virginica'], dtype=object)"
     },
     "execution_count": 3,
     "metadata": {},
     "output_type": "execute_result"
    }
   ],
   "source": [
    "labels = df[['species']]['species']\n",
    "distinct_labels = labels.unique()\n",
    "distinct_labels"
   ]
  },
  {
   "cell_type": "code",
   "execution_count": 4,
   "id": "bcc21d46a64e64ed",
   "metadata": {
    "collapsed": false,
    "ExecuteTime": {
     "end_time": "2024-04-17T01:58:44.125866Z",
     "start_time": "2024-04-17T01:58:44.123351Z"
    }
   },
   "outputs": [
    {
     "data": {
      "text/plain": "     sepal_length  sepal_width  petal_length  petal_width\n0             5.1          3.5           1.4          0.2\n1             4.9          3.0           1.4          0.2\n2             4.7          3.2           1.3          0.2\n3             4.6          3.1           1.5          0.2\n4             5.0          3.6           1.4          0.2\n..            ...          ...           ...          ...\n145           6.7          3.0           5.2          2.3\n146           6.3          2.5           5.0          1.9\n147           6.5          3.0           5.2          2.0\n148           6.2          3.4           5.4          2.3\n149           5.9          3.0           5.1          1.8\n\n[150 rows x 4 columns]",
      "text/html": "<div>\n<style scoped>\n    .dataframe tbody tr th:only-of-type {\n        vertical-align: middle;\n    }\n\n    .dataframe tbody tr th {\n        vertical-align: top;\n    }\n\n    .dataframe thead th {\n        text-align: right;\n    }\n</style>\n<table border=\"1\" class=\"dataframe\">\n  <thead>\n    <tr style=\"text-align: right;\">\n      <th></th>\n      <th>sepal_length</th>\n      <th>sepal_width</th>\n      <th>petal_length</th>\n      <th>petal_width</th>\n    </tr>\n  </thead>\n  <tbody>\n    <tr>\n      <th>0</th>\n      <td>5.1</td>\n      <td>3.5</td>\n      <td>1.4</td>\n      <td>0.2</td>\n    </tr>\n    <tr>\n      <th>1</th>\n      <td>4.9</td>\n      <td>3.0</td>\n      <td>1.4</td>\n      <td>0.2</td>\n    </tr>\n    <tr>\n      <th>2</th>\n      <td>4.7</td>\n      <td>3.2</td>\n      <td>1.3</td>\n      <td>0.2</td>\n    </tr>\n    <tr>\n      <th>3</th>\n      <td>4.6</td>\n      <td>3.1</td>\n      <td>1.5</td>\n      <td>0.2</td>\n    </tr>\n    <tr>\n      <th>4</th>\n      <td>5.0</td>\n      <td>3.6</td>\n      <td>1.4</td>\n      <td>0.2</td>\n    </tr>\n    <tr>\n      <th>...</th>\n      <td>...</td>\n      <td>...</td>\n      <td>...</td>\n      <td>...</td>\n    </tr>\n    <tr>\n      <th>145</th>\n      <td>6.7</td>\n      <td>3.0</td>\n      <td>5.2</td>\n      <td>2.3</td>\n    </tr>\n    <tr>\n      <th>146</th>\n      <td>6.3</td>\n      <td>2.5</td>\n      <td>5.0</td>\n      <td>1.9</td>\n    </tr>\n    <tr>\n      <th>147</th>\n      <td>6.5</td>\n      <td>3.0</td>\n      <td>5.2</td>\n      <td>2.0</td>\n    </tr>\n    <tr>\n      <th>148</th>\n      <td>6.2</td>\n      <td>3.4</td>\n      <td>5.4</td>\n      <td>2.3</td>\n    </tr>\n    <tr>\n      <th>149</th>\n      <td>5.9</td>\n      <td>3.0</td>\n      <td>5.1</td>\n      <td>1.8</td>\n    </tr>\n  </tbody>\n</table>\n<p>150 rows × 4 columns</p>\n</div>"
     },
     "execution_count": 4,
     "metadata": {},
     "output_type": "execute_result"
    }
   ],
   "source": [
    "features = df.drop(columns=['species'])\n",
    "features"
   ]
  },
  {
   "cell_type": "code",
   "execution_count": 5,
   "id": "be257173178378fe",
   "metadata": {
    "collapsed": false,
    "ExecuteTime": {
     "end_time": "2024-04-17T01:58:45.927484Z",
     "start_time": "2024-04-17T01:58:44.129234Z"
    }
   },
   "outputs": [
    {
     "name": "stdout",
     "output_type": "stream",
     "text": [
      "Requirement already satisfied: torch in /Users/nardoarevalo/Desktop/pandas_learning/venv/lib/python3.9/site-packages (2.2.2)\r\n",
      "Requirement already satisfied: filelock in /Users/nardoarevalo/Desktop/pandas_learning/venv/lib/python3.9/site-packages (from torch) (3.13.4)\r\n",
      "Requirement already satisfied: typing-extensions>=4.8.0 in /Users/nardoarevalo/Desktop/pandas_learning/venv/lib/python3.9/site-packages (from torch) (4.11.0)\r\n",
      "Requirement already satisfied: sympy in /Users/nardoarevalo/Desktop/pandas_learning/venv/lib/python3.9/site-packages (from torch) (1.12)\r\n",
      "Requirement already satisfied: networkx in /Users/nardoarevalo/Desktop/pandas_learning/venv/lib/python3.9/site-packages (from torch) (3.2.1)\r\n",
      "Requirement already satisfied: jinja2 in /Users/nardoarevalo/Desktop/pandas_learning/venv/lib/python3.9/site-packages (from torch) (3.1.3)\r\n",
      "Requirement already satisfied: fsspec in /Users/nardoarevalo/Desktop/pandas_learning/venv/lib/python3.9/site-packages (from torch) (2024.3.1)\r\n",
      "Requirement already satisfied: MarkupSafe>=2.0 in /Users/nardoarevalo/Desktop/pandas_learning/venv/lib/python3.9/site-packages (from jinja2->torch) (2.1.5)\r\n",
      "Requirement already satisfied: mpmath>=0.19 in /Users/nardoarevalo/Desktop/pandas_learning/venv/lib/python3.9/site-packages (from sympy->torch) (1.3.0)\r\n",
      "\r\n",
      "\u001B[1m[\u001B[0m\u001B[34;49mnotice\u001B[0m\u001B[1;39;49m]\u001B[0m\u001B[39;49m A new release of pip is available: \u001B[0m\u001B[31;49m23.2.1\u001B[0m\u001B[39;49m -> \u001B[0m\u001B[32;49m24.0\u001B[0m\r\n",
      "\u001B[1m[\u001B[0m\u001B[34;49mnotice\u001B[0m\u001B[1;39;49m]\u001B[0m\u001B[39;49m To update, run: \u001B[0m\u001B[32;49mpip install --upgrade pip\u001B[0m\r\n"
     ]
    }
   ],
   "source": [
    "!pip install torch\n",
    "import torch\n",
    "import torch.nn as nn\n",
    "import torch.optim as optim\n",
    "\n",
    "class IrisClassifier(nn.Module):\n",
    "    def __init__(self):\n",
    "        super(IrisClassifier, self).__init__()\n",
    "        # Define the layers of your neural network\n",
    "        self.fc1 = nn.Linear(4, 64)  # Input size: 4, Output size: 64\n",
    "        self.fc2 = nn.Linear(64, 32)  # Input size: 64, Output size: 32\n",
    "        self.fc3 = nn.Linear(32, 3)   # Input size: 32, Output size: 3 (number of classes)\n",
    "\n",
    "    def forward(self, x):\n",
    "        # Define the forward pass of your neural network\n",
    "        x = torch.relu(self.fc1(x))\n",
    "        x = torch.relu(self.fc2(x))\n",
    "        x = self.fc3(x)  # No activation function for the final layer in this example\n",
    "        return x\n",
    "    "
   ]
  },
  {
   "cell_type": "code",
   "execution_count": 6,
   "id": "3f332c6cb0889dee",
   "metadata": {
    "collapsed": false,
    "ExecuteTime": {
     "end_time": "2024-04-17T01:58:46.413957Z",
     "start_time": "2024-04-17T01:58:45.928742Z"
    }
   },
   "outputs": [],
   "source": [
    "# Create an instance of the classifier\n",
    "model = IrisClassifier()\n",
    "\n",
    "# Define your loss function and optimizer\n",
    "criterion = nn.CrossEntropyLoss()\n",
    "optimizer = optim.SGD(model.parameters(), lr=0.01)\n",
    "\n",
    "inputs = torch.tensor(features.values)\n",
    "inputs = inputs.to(torch.float)"
   ]
  },
  {
   "cell_type": "code",
   "execution_count": 7,
   "id": "8ddc76f7b4835199",
   "metadata": {
    "collapsed": false,
    "ExecuteTime": {
     "end_time": "2024-04-17T01:58:56.724889Z",
     "start_time": "2024-04-17T01:58:46.412211Z"
    }
   },
   "outputs": [
    {
     "name": "stdout",
     "output_type": "stream",
     "text": [
      "Requirement already satisfied: scikit-learn in /Users/nardoarevalo/Desktop/pandas_learning/venv/lib/python3.9/site-packages (1.4.2)\r\n",
      "Requirement already satisfied: numpy>=1.19.5 in /Users/nardoarevalo/Desktop/pandas_learning/venv/lib/python3.9/site-packages (from scikit-learn) (1.26.4)\r\n",
      "Requirement already satisfied: scipy>=1.6.0 in /Users/nardoarevalo/Desktop/pandas_learning/venv/lib/python3.9/site-packages (from scikit-learn) (1.13.0)\r\n",
      "Requirement already satisfied: joblib>=1.2.0 in /Users/nardoarevalo/Desktop/pandas_learning/venv/lib/python3.9/site-packages (from scikit-learn) (1.4.0)\r\n",
      "Requirement already satisfied: threadpoolctl>=2.0.0 in /Users/nardoarevalo/Desktop/pandas_learning/venv/lib/python3.9/site-packages (from scikit-learn) (3.4.0)\r\n",
      "\r\n",
      "\u001B[1m[\u001B[0m\u001B[34;49mnotice\u001B[0m\u001B[1;39;49m]\u001B[0m\u001B[39;49m A new release of pip is available: \u001B[0m\u001B[31;49m23.2.1\u001B[0m\u001B[39;49m -> \u001B[0m\u001B[32;49m24.0\u001B[0m\r\n",
      "\u001B[1m[\u001B[0m\u001B[34;49mnotice\u001B[0m\u001B[1;39;49m]\u001B[0m\u001B[39;49m To update, run: \u001B[0m\u001B[32;49mpip install --upgrade pip\u001B[0m\r\n"
     ]
    }
   ],
   "source": [
    "!pip install scikit-learn\n",
    "from sklearn.preprocessing import LabelEncoder\n",
    "label_encoder = LabelEncoder()\n",
    "mapped_labels = label_encoder.fit_transform(labels)\n",
    "outputs = torch.tensor(mapped_labels)\n",
    "outputs =  outputs.to(torch.long)"
   ]
  },
  {
   "cell_type": "code",
   "execution_count": 8,
   "id": "584fd06681b79ac",
   "metadata": {
    "collapsed": false,
    "ExecuteTime": {
     "end_time": "2024-04-17T01:58:57.172963Z",
     "start_time": "2024-04-17T01:58:55.953895Z"
    }
   },
   "outputs": [],
   "source": [
    "from torch.utils.data import Dataset, DataLoader, Subset\n",
    "from sklearn.model_selection import train_test_split\n",
    "\n",
    "\n",
    "class CustomDataset(Dataset):\n",
    "    def __init__(self, X, y):\n",
    "        self.X = X\n",
    "        self.y = y\n",
    "\n",
    "    def __len__(self):\n",
    "        return len(self.X)\n",
    "\n",
    "    def __getitem__(self, idx):\n",
    "        return self.X[idx], self.y[idx]\n",
    "\n",
    "dataset = CustomDataset(inputs, outputs)\n",
    "train_indices, test_indices = train_test_split(range(len(dataset)), test_size=0.2, random_state=42)\n",
    "\n",
    "train_dataset = Subset(dataset, train_indices)\n",
    "test_dataset = Subset(dataset, test_indices)\n",
    "\n",
    "train_data_loader = DataLoader(train_dataset, batch_size=10, shuffle=True)\n",
    "test_data_loader = DataLoader(test_dataset, batch_size=10, shuffle=False)\n",
    "\n",
    "\n",
    "loss_array = []\n",
    "test_err_arr = []\n"
   ]
  },
  {
   "cell_type": "code",
   "execution_count": 9,
   "id": "4bc0dcdf12da1359",
   "metadata": {
    "collapsed": false,
    "ExecuteTime": {
     "end_time": "2024-04-17T01:58:57.184893Z",
     "start_time": "2024-04-17T01:58:57.177673Z"
    }
   },
   "outputs": [],
   "source": [
    "def test_loop(dataloader, model, loss_fn) -> list[float]:\n",
    "    # Set the model to evaluation mode - important for batch normalization and dropout layers\n",
    "    # Unnecessary in this situation but added for best practices\n",
    "    model.eval()\n",
    "    size = len(dataloader.dataset)\n",
    "    num_batches = len(dataloader)\n",
    "    test_loss, correct = 0, 0\n",
    "    test_err_arr = []\n",
    "\n",
    "    # Evaluating the model with torch.no_grad() ensures that no gradients are computed during test mode\n",
    "    # also serves to reduce unnecessary gradient computations and memory usage for tensors with requires_grad=True\n",
    "    with torch.no_grad():\n",
    "        i = 1\n",
    "        for X, y in dataloader:\n",
    "            pred = model(X)\n",
    "            test_loss += loss_fn(pred, y).item()\n",
    "            i += 1\n",
    "            correct += (pred.argmax(1) == y).type(torch.float).sum().item()\n",
    "\n",
    "    test_loss /= num_batches\n",
    "    test_err_arr.append(test_loss)\n",
    "    correct /= size\n",
    "    print(f\"Test Error: \\n Accuracy: {(100*correct):>0.1f}%, Avg loss: {test_loss:>8f} \\n\")\n",
    "    return test_err_arr\n",
    "\n",
    "def train_loop(train_data_loader, model, criterion):\n",
    "    loss_array_in = []\n",
    "    model.train()\n",
    "    running_loss = 0.0\n",
    "    for ins, outs in train_data_loader:\n",
    "        optimizer.zero_grad()\n",
    "        obs_outs = model(ins)\n",
    "        loss = criterion(obs_outs, outs)\n",
    "        loss.backward()\n",
    "        optimizer.step()\n",
    "        running_loss += loss.item()\n",
    "    train_loss = running_loss / len(train_data_loader)\n",
    "    loss_array_in.append(train_loss)\n",
    "    return loss_array_in"
   ]
  },
  {
   "cell_type": "code",
   "execution_count": 10,
   "id": "d155a2f269152640",
   "metadata": {
    "collapsed": false,
    "ExecuteTime": {
     "end_time": "2024-04-17T01:58:57.303601Z",
     "start_time": "2024-04-17T01:58:57.181760Z"
    }
   },
   "outputs": [
    {
     "name": "stdout",
     "output_type": "stream",
     "text": [
      "Test Error: \n",
      " Accuracy: 33.3%, Avg loss: 1.050211 \n",
      "\n",
      "Epoch [1/20], Loss: 1.082923909028371\n",
      "Test Error: \n",
      " Accuracy: 63.3%, Avg loss: 1.005732 \n",
      "\n",
      "Epoch [2/20], Loss: 1.0260461866855621\n",
      "Test Error: \n",
      " Accuracy: 66.7%, Avg loss: 0.976861 \n",
      "\n",
      "Epoch [3/20], Loss: 0.9991214176019033\n",
      "Test Error: \n",
      " Accuracy: 96.7%, Avg loss: 0.947553 \n",
      "\n",
      "Epoch [4/20], Loss: 0.9765913486480713\n",
      "Test Error: \n",
      " Accuracy: 96.7%, Avg loss: 0.920558 \n",
      "\n",
      "Epoch [5/20], Loss: 0.9467319746812185\n",
      "Test Error: \n",
      " Accuracy: 96.7%, Avg loss: 0.890201 \n",
      "\n",
      "Epoch [6/20], Loss: 0.9156134327252706\n",
      "Test Error: \n",
      " Accuracy: 73.3%, Avg loss: 0.851220 \n",
      "\n",
      "Epoch [7/20], Loss: 0.8840391784906387\n",
      "Test Error: \n",
      " Accuracy: 73.3%, Avg loss: 0.812113 \n",
      "\n",
      "Epoch [8/20], Loss: 0.8470653047164282\n",
      "Test Error: \n",
      " Accuracy: 70.0%, Avg loss: 0.773048 \n",
      "\n",
      "Epoch [9/20], Loss: 0.8087206135193507\n",
      "Test Error: \n",
      " Accuracy: 93.3%, Avg loss: 0.736832 \n",
      "\n",
      "Epoch [10/20], Loss: 0.7705944428841273\n",
      "Test Error: \n",
      " Accuracy: 83.3%, Avg loss: 0.696110 \n",
      "\n",
      "Epoch [11/20], Loss: 0.7318831086158752\n",
      "Test Error: \n",
      " Accuracy: 70.0%, Avg loss: 0.652806 \n",
      "\n",
      "Epoch [12/20], Loss: 0.6899034430583318\n",
      "Test Error: \n",
      " Accuracy: 80.0%, Avg loss: 0.620307 \n",
      "\n",
      "Epoch [13/20], Loss: 0.6573972056309382\n",
      "Test Error: \n",
      " Accuracy: 80.0%, Avg loss: 0.586302 \n",
      "\n",
      "Epoch [14/20], Loss: 0.6211295202374458\n",
      "Test Error: \n",
      " Accuracy: 80.0%, Avg loss: 0.557377 \n",
      "\n",
      "Epoch [15/20], Loss: 0.5893404732147852\n",
      "Test Error: \n",
      " Accuracy: 80.0%, Avg loss: 0.529915 \n",
      "\n",
      "Epoch [16/20], Loss: 0.5634384676814079\n",
      "Test Error: \n",
      " Accuracy: 80.0%, Avg loss: 0.507654 \n",
      "\n",
      "Epoch [17/20], Loss: 0.537585124373436\n",
      "Test Error: \n",
      " Accuracy: 100.0%, Avg loss: 0.493221 \n",
      "\n",
      "Epoch [18/20], Loss: 0.5143637259801229\n",
      "Test Error: \n",
      " Accuracy: 96.7%, Avg loss: 0.474144 \n",
      "\n",
      "Epoch [19/20], Loss: 0.49648542950550717\n",
      "Test Error: \n",
      " Accuracy: 100.0%, Avg loss: 0.464120 \n",
      "\n",
      "Epoch [20/20], Loss: 0.4788622359434764\n"
     ]
    }
   ],
   "source": [
    "num_epochs = 20\n",
    "for epoch in range(num_epochs):\n",
    "    \n",
    "    results = train_loop(train_data_loader, model, criterion)\n",
    "    for i in results:\n",
    "        loss_array.append(i)\n",
    "\n",
    "    results = test_loop(test_data_loader, model, criterion)\n",
    "    for i in results:\n",
    "        test_err_arr.append(i)\n",
    "\n",
    "    print(f'Epoch [{epoch+1}/{num_epochs}], Loss: {loss_array[-1]}')\n"
   ]
  },
  {
   "cell_type": "code",
   "execution_count": 11,
   "id": "516247f90d6796a7",
   "metadata": {
    "collapsed": false,
    "ExecuteTime": {
     "end_time": "2024-04-17T01:58:58.042583Z",
     "start_time": "2024-04-17T01:58:57.295130Z"
    }
   },
   "outputs": [
    {
     "data": {
      "text/plain": "<Figure size 640x480 with 1 Axes>",
      "image/png": "[encoded data removed]"
     },
     "metadata": {},
     "output_type": "display_data"
    }
   ],
   "source": [
    "import matplotlib.pyplot as plt\n",
    "plt.plot(loss_array, label=\"train loss\")\n",
    "plt.plot(test_err_arr, label=\"test loss\")\n",
    "plt.xlabel('Epoch')\n",
    "plt.ylabel('Loss')\n",
    "plt.title('Training and Test Loss')\n",
    "plt.legend()\n",
    "plt.show()\n"
   ]
  }
 ],
 "metadata": {
  "kernelspec": {
   "display_name": "nardo_kernel",
   "language": "python",
   "name": "nardo_kernel"
  },
  "language_info": {
   "codemirror_mode": {
    "name": "ipython",
    "version": 3
   },
   "file_extension": ".py",
   "mimetype": "text/x-python",
   "name": "python",
   "nbconvert_exporter": "python",
   "pygments_lexer": "ipython3",
   "version": "3.9.6"
  }
 },
 "nbformat": 4,
 "nbformat_minor": 5
}
