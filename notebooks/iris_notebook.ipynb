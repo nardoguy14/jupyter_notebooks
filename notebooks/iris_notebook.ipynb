{
 "cells": [
  {
   "cell_type": "code",
   "outputs": [
    {
     "data": {
      "text/plain": "     sepal_length  sepal_width  petal_length  petal_width         species\n0             5.1          3.5           1.4          0.2     Iris-setosa\n1             4.9          3.0           1.4          0.2     Iris-setosa\n2             4.7          3.2           1.3          0.2     Iris-setosa\n3             4.6          3.1           1.5          0.2     Iris-setosa\n4             5.0          3.6           1.4          0.2     Iris-setosa\n..            ...          ...           ...          ...             ...\n145           6.7          3.0           5.2          2.3  Iris-virginica\n146           6.3          2.5           5.0          1.9  Iris-virginica\n147           6.5          3.0           5.2          2.0  Iris-virginica\n148           6.2          3.4           5.4          2.3  Iris-virginica\n149           5.9          3.0           5.1          1.8  Iris-virginica\n\n[150 rows x 5 columns]",
      "text/html": "<div>\n<style scoped>\n    .dataframe tbody tr th:only-of-type {\n        vertical-align: middle;\n    }\n\n    .dataframe tbody tr th {\n        vertical-align: top;\n    }\n\n    .dataframe thead th {\n        text-align: right;\n    }\n</style>\n<table border=\"1\" class=\"dataframe\">\n  <thead>\n    <tr style=\"text-align: right;\">\n      <th></th>\n      <th>sepal_length</th>\n      <th>sepal_width</th>\n      <th>petal_length</th>\n      <th>petal_width</th>\n      <th>species</th>\n    </tr>\n  </thead>\n  <tbody>\n    <tr>\n      <th>0</th>\n      <td>5.1</td>\n      <td>3.5</td>\n      <td>1.4</td>\n      <td>0.2</td>\n      <td>Iris-setosa</td>\n    </tr>\n    <tr>\n      <th>1</th>\n      <td>4.9</td>\n      <td>3.0</td>\n      <td>1.4</td>\n      <td>0.2</td>\n      <td>Iris-setosa</td>\n    </tr>\n    <tr>\n      <th>2</th>\n      <td>4.7</td>\n      <td>3.2</td>\n      <td>1.3</td>\n      <td>0.2</td>\n      <td>Iris-setosa</td>\n    </tr>\n    <tr>\n      <th>3</th>\n      <td>4.6</td>\n      <td>3.1</td>\n      <td>1.5</td>\n      <td>0.2</td>\n      <td>Iris-setosa</td>\n    </tr>\n    <tr>\n      <th>4</th>\n      <td>5.0</td>\n      <td>3.6</td>\n      <td>1.4</td>\n      <td>0.2</td>\n      <td>Iris-setosa</td>\n    </tr>\n    <tr>\n      <th>...</th>\n      <td>...</td>\n      <td>...</td>\n      <td>...</td>\n      <td>...</td>\n      <td>...</td>\n    </tr>\n    <tr>\n      <th>145</th>\n      <td>6.7</td>\n      <td>3.0</td>\n      <td>5.2</td>\n      <td>2.3</td>\n      <td>Iris-virginica</td>\n    </tr>\n    <tr>\n      <th>146</th>\n      <td>6.3</td>\n      <td>2.5</td>\n      <td>5.0</td>\n      <td>1.9</td>\n      <td>Iris-virginica</td>\n    </tr>\n    <tr>\n      <th>147</th>\n      <td>6.5</td>\n      <td>3.0</td>\n      <td>5.2</td>\n      <td>2.0</td>\n      <td>Iris-virginica</td>\n    </tr>\n    <tr>\n      <th>148</th>\n      <td>6.2</td>\n      <td>3.4</td>\n      <td>5.4</td>\n      <td>2.3</td>\n      <td>Iris-virginica</td>\n    </tr>\n    <tr>\n      <th>149</th>\n      <td>5.9</td>\n      <td>3.0</td>\n      <td>5.1</td>\n      <td>1.8</td>\n      <td>Iris-virginica</td>\n    </tr>\n  </tbody>\n</table>\n<p>150 rows × 5 columns</p>\n</div>"
     },
     "execution_count": 12,
     "metadata": {},
     "output_type": "execute_result"
    }
   ],
   "source": [
    "import pandas as pd\n",
    "from io import StringIO\n",
    "\n",
    "iris_str = \"\"\"\n",
    "sepal_length,sepal_width,petal_length,petal_width,species\n",
    "5.1,3.5,1.4,0.2,Iris-setosa\n",
    "4.9,3,1.4,0.2,Iris-setosa\n",
    "4.7,3.2,1.3,0.2,Iris-setosa\n",
    "4.6,3.1,1.5,0.2,Iris-setosa\n",
    "5,3.6,1.4,0.2,Iris-setosa\n",
    "5.4,3.9,1.7,0.4,Iris-setosa\n",
    "4.6,3.4,1.4,0.3,Iris-setosa\n",
    "5,3.4,1.5,0.2,Iris-setosa\n",
    "4.4,2.9,1.4,0.2,Iris-setosa\n",
    "4.9,3.1,1.5,0.1,Iris-setosa\n",
    "5.4,3.7,1.5,0.2,Iris-setosa\n",
    "4.8,3.4,1.6,0.2,Iris-setosa\n",
    "4.8,3,1.4,0.1,Iris-setosa\n",
    "4.3,3,1.1,0.1,Iris-setosa\n",
    "5.8,4,1.2,0.2,Iris-setosa\n",
    "5.7,4.4,1.5,0.4,Iris-setosa\n",
    "5.4,3.9,1.3,0.4,Iris-setosa\n",
    "5.1,3.5,1.4,0.3,Iris-setosa\n",
    "5.7,3.8,1.7,0.3,Iris-setosa\n",
    "5.1,3.8,1.5,0.3,Iris-setosa\n",
    "5.4,3.4,1.7,0.2,Iris-setosa\n",
    "5.1,3.7,1.5,0.4,Iris-setosa\n",
    "4.6,3.6,1,0.2,Iris-setosa\n",
    "5.1,3.3,1.7,0.5,Iris-setosa\n",
    "4.8,3.4,1.9,0.2,Iris-setosa\n",
    "5,3,1.6,0.2,Iris-setosa\n",
    "5,3.4,1.6,0.4,Iris-setosa\n",
    "5.2,3.5,1.5,0.2,Iris-setosa\n",
    "5.2,3.4,1.4,0.2,Iris-setosa\n",
    "4.7,3.2,1.6,0.2,Iris-setosa\n",
    "4.8,3.1,1.6,0.2,Iris-setosa\n",
    "5.4,3.4,1.5,0.4,Iris-setosa\n",
    "5.2,4.1,1.5,0.1,Iris-setosa\n",
    "5.5,4.2,1.4,0.2,Iris-setosa\n",
    "4.9,3.1,1.5,0.1,Iris-setosa\n",
    "5,3.2,1.2,0.2,Iris-setosa\n",
    "5.5,3.5,1.3,0.2,Iris-setosa\n",
    "4.9,3.1,1.5,0.1,Iris-setosa\n",
    "4.4,3,1.3,0.2,Iris-setosa\n",
    "5.1,3.4,1.5,0.2,Iris-setosa\n",
    "5,3.5,1.3,0.3,Iris-setosa\n",
    "4.5,2.3,1.3,0.3,Iris-setosa\n",
    "4.4,3.2,1.3,0.2,Iris-setosa\n",
    "5,3.5,1.6,0.6,Iris-setosa\n",
    "5.1,3.8,1.9,0.4,Iris-setosa\n",
    "4.8,3,1.4,0.3,Iris-setosa\n",
    "5.1,3.8,1.6,0.2,Iris-setosa\n",
    "4.6,3.2,1.4,0.2,Iris-setosa\n",
    "5.3,3.7,1.5,0.2,Iris-setosa\n",
    "5,3.3,1.4,0.2,Iris-setosa\n",
    "7,3.2,4.7,1.4,Iris-versicolor\n",
    "6.4,3.2,4.5,1.5,Iris-versicolor\n",
    "6.9,3.1,4.9,1.5,Iris-versicolor\n",
    "5.5,2.3,4,1.3,Iris-versicolor\n",
    "6.5,2.8,4.6,1.5,Iris-versicolor\n",
    "5.7,2.8,4.5,1.3,Iris-versicolor\n",
    "6.3,3.3,4.7,1.6,Iris-versicolor\n",
    "4.9,2.4,3.3,1,Iris-versicolor\n",
    "6.6,2.9,4.6,1.3,Iris-versicolor\n",
    "5.2,2.7,3.9,1.4,Iris-versicolor\n",
    "5,2,3.5,1,Iris-versicolor\n",
    "5.9,3,4.2,1.5,Iris-versicolor\n",
    "6,2.2,4,1,Iris-versicolor\n",
    "6.1,2.9,4.7,1.4,Iris-versicolor\n",
    "5.6,2.9,3.6,1.3,Iris-versicolor\n",
    "6.7,3.1,4.4,1.4,Iris-versicolor\n",
    "5.6,3,4.5,1.5,Iris-versicolor\n",
    "5.8,2.7,4.1,1,Iris-versicolor\n",
    "6.2,2.2,4.5,1.5,Iris-versicolor\n",
    "5.6,2.5,3.9,1.1,Iris-versicolor\n",
    "5.9,3.2,4.8,1.8,Iris-versicolor\n",
    "6.1,2.8,4,1.3,Iris-versicolor\n",
    "6.3,2.5,4.9,1.5,Iris-versicolor\n",
    "6.1,2.8,4.7,1.2,Iris-versicolor\n",
    "6.4,2.9,4.3,1.3,Iris-versicolor\n",
    "6.6,3,4.4,1.4,Iris-versicolor\n",
    "6.8,2.8,4.8,1.4,Iris-versicolor\n",
    "6.7,3,5,1.7,Iris-versicolor\n",
    "6,2.9,4.5,1.5,Iris-versicolor\n",
    "5.7,2.6,3.5,1,Iris-versicolor\n",
    "5.5,2.4,3.8,1.1,Iris-versicolor\n",
    "5.5,2.4,3.7,1,Iris-versicolor\n",
    "5.8,2.7,3.9,1.2,Iris-versicolor\n",
    "6,2.7,5.1,1.6,Iris-versicolor\n",
    "5.4,3,4.5,1.5,Iris-versicolor\n",
    "6,3.4,4.5,1.6,Iris-versicolor\n",
    "6.7,3.1,4.7,1.5,Iris-versicolor\n",
    "6.3,2.3,4.4,1.3,Iris-versicolor\n",
    "5.6,3,4.1,1.3,Iris-versicolor\n",
    "5.5,2.5,4,1.3,Iris-versicolor\n",
    "5.5,2.6,4.4,1.2,Iris-versicolor\n",
    "6.1,3,4.6,1.4,Iris-versicolor\n",
    "5.8,2.6,4,1.2,Iris-versicolor\n",
    "5,2.3,3.3,1,Iris-versicolor\n",
    "5.6,2.7,4.2,1.3,Iris-versicolor\n",
    "5.7,3,4.2,1.2,Iris-versicolor\n",
    "5.7,2.9,4.2,1.3,Iris-versicolor\n",
    "6.2,2.9,4.3,1.3,Iris-versicolor\n",
    "5.1,2.5,3,1.1,Iris-versicolor\n",
    "5.7,2.8,4.1,1.3,Iris-versicolor\n",
    "6.3,3.3,6,2.5,Iris-virginica\n",
    "5.8,2.7,5.1,1.9,Iris-virginica\n",
    "7.1,3,5.9,2.1,Iris-virginica\n",
    "6.3,2.9,5.6,1.8,Iris-virginica\n",
    "6.5,3,5.8,2.2,Iris-virginica\n",
    "7.6,3,6.6,2.1,Iris-virginica\n",
    "4.9,2.5,4.5,1.7,Iris-virginica\n",
    "7.3,2.9,6.3,1.8,Iris-virginica\n",
    "6.7,2.5,5.8,1.8,Iris-virginica\n",
    "7.2,3.6,6.1,2.5,Iris-virginica\n",
    "6.5,3.2,5.1,2,Iris-virginica\n",
    "6.4,2.7,5.3,1.9,Iris-virginica\n",
    "6.8,3,5.5,2.1,Iris-virginica\n",
    "5.7,2.5,5,2,Iris-virginica\n",
    "5.8,2.8,5.1,2.4,Iris-virginica\n",
    "6.4,3.2,5.3,2.3,Iris-virginica\n",
    "6.5,3,5.5,1.8,Iris-virginica\n",
    "7.7,3.8,6.7,2.2,Iris-virginica\n",
    "7.7,2.6,6.9,2.3,Iris-virginica\n",
    "6,2.2,5,1.5,Iris-virginica\n",
    "6.9,3.2,5.7,2.3,Iris-virginica\n",
    "5.6,2.8,4.9,2,Iris-virginica\n",
    "7.7,2.8,6.7,2,Iris-virginica\n",
    "6.3,2.7,4.9,1.8,Iris-virginica\n",
    "6.7,3.3,5.7,2.1,Iris-virginica\n",
    "7.2,3.2,6,1.8,Iris-virginica\n",
    "6.2,2.8,4.8,1.8,Iris-virginica\n",
    "6.1,3,4.9,1.8,Iris-virginica\n",
    "6.4,2.8,5.6,2.1,Iris-virginica\n",
    "7.2,3,5.8,1.6,Iris-virginica\n",
    "7.4,2.8,6.1,1.9,Iris-virginica\n",
    "7.9,3.8,6.4,2,Iris-virginica\n",
    "6.4,2.8,5.6,2.2,Iris-virginica\n",
    "6.3,2.8,5.1,1.5,Iris-virginica\n",
    "6.1,2.6,5.6,1.4,Iris-virginica\n",
    "7.7,3,6.1,2.3,Iris-virginica\n",
    "6.3,3.4,5.6,2.4,Iris-virginica\n",
    "6.4,3.1,5.5,1.8,Iris-virginica\n",
    "6,3,4.8,1.8,Iris-virginica\n",
    "6.9,3.1,5.4,2.1,Iris-virginica\n",
    "6.7,3.1,5.6,2.4,Iris-virginica\n",
    "6.9,3.1,5.1,2.3,Iris-virginica\n",
    "5.8,2.7,5.1,1.9,Iris-virginica\n",
    "6.8,3.2,5.9,2.3,Iris-virginica\n",
    "6.7,3.3,5.7,2.5,Iris-virginica\n",
    "6.7,3,5.2,2.3,Iris-virginica\n",
    "6.3,2.5,5,1.9,Iris-virginica\n",
    "6.5,3,5.2,2,Iris-virginica\n",
    "6.2,3.4,5.4,2.3,Iris-virginica\n",
    "5.9,3,5.1,1.8,Iris-virginica\n",
    "\"\"\"\n",
    "\n",
    "df = pd.read_csv(StringIO(iris_str))\n",
    "df"
   ],
   "metadata": {
    "collapsed": false,
    "ExecuteTime": {
     "end_time": "2024-04-17T02:47:36.482604Z",
     "start_time": "2024-04-17T02:47:36.466736Z"
    }
   },
   "id": "f5f30f9bd920f0ea",
   "execution_count": 12
  },
  {
   "cell_type": "code",
   "outputs": [
    {
     "name": "stdout",
     "output_type": "stream",
     "text": [
      "<class 'pandas.core.frame.DataFrame'>\n",
      "RangeIndex: 150 entries, 0 to 149\n",
      "Data columns (total 5 columns):\n",
      " #   Column        Non-Null Count  Dtype  \n",
      "---  ------        --------------  -----  \n",
      " 0   sepal_length  150 non-null    float64\n",
      " 1   sepal_width   150 non-null    float64\n",
      " 2   petal_length  150 non-null    float64\n",
      " 3   petal_width   150 non-null    float64\n",
      " 4   species       150 non-null    object \n",
      "dtypes: float64(4), object(1)\n",
      "memory usage: 6.0+ KB\n"
     ]
    }
   ],
   "source": [
    "df.info()"
   ],
   "metadata": {
    "collapsed": false,
    "ExecuteTime": {
     "end_time": "2024-04-17T02:47:36.491067Z",
     "start_time": "2024-04-17T02:47:36.486572Z"
    }
   },
   "id": "c8e61240991b0fd9",
   "execution_count": 13
  },
  {
   "cell_type": "code",
   "execution_count": 14,
   "id": "cbf1faafaa749ccc",
   "metadata": {
    "collapsed": false,
    "ExecuteTime": {
     "end_time": "2024-04-17T02:47:36.496998Z",
     "start_time": "2024-04-17T02:47:36.491476Z"
    }
   },
   "outputs": [
    {
     "data": {
      "text/plain": "array(['Iris-setosa', 'Iris-versicolor', 'Iris-virginica'], dtype=object)"
     },
     "execution_count": 14,
     "metadata": {},
     "output_type": "execute_result"
    }
   ],
   "source": [
    "labels = df[['species']]['species']\n",
    "distinct_labels = labels.unique()\n",
    "distinct_labels"
   ]
  },
  {
   "cell_type": "code",
   "execution_count": 15,
   "id": "bcc21d46a64e64ed",
   "metadata": {
    "collapsed": false,
    "ExecuteTime": {
     "end_time": "2024-04-17T02:47:36.516643Z",
     "start_time": "2024-04-17T02:47:36.496722Z"
    }
   },
   "outputs": [
    {
     "data": {
      "text/plain": "     sepal_length  sepal_width  petal_length  petal_width\n0             5.1          3.5           1.4          0.2\n1             4.9          3.0           1.4          0.2\n2             4.7          3.2           1.3          0.2\n3             4.6          3.1           1.5          0.2\n4             5.0          3.6           1.4          0.2\n..            ...          ...           ...          ...\n145           6.7          3.0           5.2          2.3\n146           6.3          2.5           5.0          1.9\n147           6.5          3.0           5.2          2.0\n148           6.2          3.4           5.4          2.3\n149           5.9          3.0           5.1          1.8\n\n[150 rows x 4 columns]",
      "text/html": "<div>\n<style scoped>\n    .dataframe tbody tr th:only-of-type {\n        vertical-align: middle;\n    }\n\n    .dataframe tbody tr th {\n        vertical-align: top;\n    }\n\n    .dataframe thead th {\n        text-align: right;\n    }\n</style>\n<table border=\"1\" class=\"dataframe\">\n  <thead>\n    <tr style=\"text-align: right;\">\n      <th></th>\n      <th>sepal_length</th>\n      <th>sepal_width</th>\n      <th>petal_length</th>\n      <th>petal_width</th>\n    </tr>\n  </thead>\n  <tbody>\n    <tr>\n      <th>0</th>\n      <td>5.1</td>\n      <td>3.5</td>\n      <td>1.4</td>\n      <td>0.2</td>\n    </tr>\n    <tr>\n      <th>1</th>\n      <td>4.9</td>\n      <td>3.0</td>\n      <td>1.4</td>\n      <td>0.2</td>\n    </tr>\n    <tr>\n      <th>2</th>\n      <td>4.7</td>\n      <td>3.2</td>\n      <td>1.3</td>\n      <td>0.2</td>\n    </tr>\n    <tr>\n      <th>3</th>\n      <td>4.6</td>\n      <td>3.1</td>\n      <td>1.5</td>\n      <td>0.2</td>\n    </tr>\n    <tr>\n      <th>4</th>\n      <td>5.0</td>\n      <td>3.6</td>\n      <td>1.4</td>\n      <td>0.2</td>\n    </tr>\n    <tr>\n      <th>...</th>\n      <td>...</td>\n      <td>...</td>\n      <td>...</td>\n      <td>...</td>\n    </tr>\n    <tr>\n      <th>145</th>\n      <td>6.7</td>\n      <td>3.0</td>\n      <td>5.2</td>\n      <td>2.3</td>\n    </tr>\n    <tr>\n      <th>146</th>\n      <td>6.3</td>\n      <td>2.5</td>\n      <td>5.0</td>\n      <td>1.9</td>\n    </tr>\n    <tr>\n      <th>147</th>\n      <td>6.5</td>\n      <td>3.0</td>\n      <td>5.2</td>\n      <td>2.0</td>\n    </tr>\n    <tr>\n      <th>148</th>\n      <td>6.2</td>\n      <td>3.4</td>\n      <td>5.4</td>\n      <td>2.3</td>\n    </tr>\n    <tr>\n      <th>149</th>\n      <td>5.9</td>\n      <td>3.0</td>\n      <td>5.1</td>\n      <td>1.8</td>\n    </tr>\n  </tbody>\n</table>\n<p>150 rows × 4 columns</p>\n</div>"
     },
     "execution_count": 15,
     "metadata": {},
     "output_type": "execute_result"
    }
   ],
   "source": [
    "features = df.drop(columns=['species'])\n",
    "features"
   ]
  },
  {
   "cell_type": "code",
   "execution_count": 16,
   "id": "be257173178378fe",
   "metadata": {
    "collapsed": false,
    "ExecuteTime": {
     "end_time": "2024-04-17T02:47:37.554906Z",
     "start_time": "2024-04-17T02:47:36.506336Z"
    }
   },
   "outputs": [
    {
     "name": "stdout",
     "output_type": "stream",
     "text": [
      "Requirement already satisfied: torch in /Users/nardoarevalo/Desktop/pandas_learning/venv/lib/python3.9/site-packages (2.2.2)\r\n",
      "Requirement already satisfied: filelock in /Users/nardoarevalo/Desktop/pandas_learning/venv/lib/python3.9/site-packages (from torch) (3.13.4)\r\n",
      "Requirement already satisfied: typing-extensions>=4.8.0 in /Users/nardoarevalo/Desktop/pandas_learning/venv/lib/python3.9/site-packages (from torch) (4.11.0)\r\n",
      "Requirement already satisfied: sympy in /Users/nardoarevalo/Desktop/pandas_learning/venv/lib/python3.9/site-packages (from torch) (1.12)\r\n",
      "Requirement already satisfied: networkx in /Users/nardoarevalo/Desktop/pandas_learning/venv/lib/python3.9/site-packages (from torch) (3.2.1)\r\n",
      "Requirement already satisfied: jinja2 in /Users/nardoarevalo/Desktop/pandas_learning/venv/lib/python3.9/site-packages (from torch) (3.1.3)\r\n",
      "Requirement already satisfied: fsspec in /Users/nardoarevalo/Desktop/pandas_learning/venv/lib/python3.9/site-packages (from torch) (2024.3.1)\r\n",
      "Requirement already satisfied: MarkupSafe>=2.0 in /Users/nardoarevalo/Desktop/pandas_learning/venv/lib/python3.9/site-packages (from jinja2->torch) (2.1.5)\r\n",
      "Requirement already satisfied: mpmath>=0.19 in /Users/nardoarevalo/Desktop/pandas_learning/venv/lib/python3.9/site-packages (from sympy->torch) (1.3.0)\r\n",
      "\r\n",
      "\u001B[1m[\u001B[0m\u001B[34;49mnotice\u001B[0m\u001B[1;39;49m]\u001B[0m\u001B[39;49m A new release of pip is available: \u001B[0m\u001B[31;49m23.2.1\u001B[0m\u001B[39;49m -> \u001B[0m\u001B[32;49m24.0\u001B[0m\r\n",
      "\u001B[1m[\u001B[0m\u001B[34;49mnotice\u001B[0m\u001B[1;39;49m]\u001B[0m\u001B[39;49m To update, run: \u001B[0m\u001B[32;49mpip install --upgrade pip\u001B[0m\r\n"
     ]
    }
   ],
   "source": [
    "!pip install torch\n",
    "import torch\n",
    "import torch.nn as nn\n",
    "import torch.optim as optim\n",
    "\n",
    "class IrisClassifier(nn.Module):\n",
    "    def __init__(self):\n",
    "        super(IrisClassifier, self).__init__()\n",
    "        # Define the layers of your neural network\n",
    "        self.fc1 = nn.Linear(4, 64)  # Input size: 4, Output size: 64\n",
    "        self.fc2 = nn.Linear(64, 32)  # Input size: 64, Output size: 32\n",
    "        self.fc3 = nn.Linear(32, 3)   # Input size: 32, Output size: 3 (number of classes)\n",
    "\n",
    "    def forward(self, x):\n",
    "        # Define the forward pass of your neural network\n",
    "        x = torch.relu(self.fc1(x))\n",
    "        x = torch.relu(self.fc2(x))\n",
    "        x = self.fc3(x)  # No activation function for the final layer in this example\n",
    "        return x\n",
    "    "
   ]
  },
  {
   "cell_type": "code",
   "execution_count": 17,
   "id": "3f332c6cb0889dee",
   "metadata": {
    "collapsed": false,
    "ExecuteTime": {
     "end_time": "2024-04-17T02:47:37.575176Z",
     "start_time": "2024-04-17T02:47:37.556517Z"
    }
   },
   "outputs": [
    {
     "data": {
      "text/plain": "tensor([[5.1000, 3.5000, 1.4000, 0.2000],\n        [4.9000, 3.0000, 1.4000, 0.2000],\n        [4.7000, 3.2000, 1.3000, 0.2000],\n        [4.6000, 3.1000, 1.5000, 0.2000],\n        [5.0000, 3.6000, 1.4000, 0.2000],\n        [5.4000, 3.9000, 1.7000, 0.4000],\n        [4.6000, 3.4000, 1.4000, 0.3000],\n        [5.0000, 3.4000, 1.5000, 0.2000],\n        [4.4000, 2.9000, 1.4000, 0.2000],\n        [4.9000, 3.1000, 1.5000, 0.1000],\n        [5.4000, 3.7000, 1.5000, 0.2000],\n        [4.8000, 3.4000, 1.6000, 0.2000],\n        [4.8000, 3.0000, 1.4000, 0.1000],\n        [4.3000, 3.0000, 1.1000, 0.1000],\n        [5.8000, 4.0000, 1.2000, 0.2000],\n        [5.7000, 4.4000, 1.5000, 0.4000],\n        [5.4000, 3.9000, 1.3000, 0.4000],\n        [5.1000, 3.5000, 1.4000, 0.3000],\n        [5.7000, 3.8000, 1.7000, 0.3000],\n        [5.1000, 3.8000, 1.5000, 0.3000],\n        [5.4000, 3.4000, 1.7000, 0.2000],\n        [5.1000, 3.7000, 1.5000, 0.4000],\n        [4.6000, 3.6000, 1.0000, 0.2000],\n        [5.1000, 3.3000, 1.7000, 0.5000],\n        [4.8000, 3.4000, 1.9000, 0.2000],\n        [5.0000, 3.0000, 1.6000, 0.2000],\n        [5.0000, 3.4000, 1.6000, 0.4000],\n        [5.2000, 3.5000, 1.5000, 0.2000],\n        [5.2000, 3.4000, 1.4000, 0.2000],\n        [4.7000, 3.2000, 1.6000, 0.2000],\n        [4.8000, 3.1000, 1.6000, 0.2000],\n        [5.4000, 3.4000, 1.5000, 0.4000],\n        [5.2000, 4.1000, 1.5000, 0.1000],\n        [5.5000, 4.2000, 1.4000, 0.2000],\n        [4.9000, 3.1000, 1.5000, 0.1000],\n        [5.0000, 3.2000, 1.2000, 0.2000],\n        [5.5000, 3.5000, 1.3000, 0.2000],\n        [4.9000, 3.1000, 1.5000, 0.1000],\n        [4.4000, 3.0000, 1.3000, 0.2000],\n        [5.1000, 3.4000, 1.5000, 0.2000],\n        [5.0000, 3.5000, 1.3000, 0.3000],\n        [4.5000, 2.3000, 1.3000, 0.3000],\n        [4.4000, 3.2000, 1.3000, 0.2000],\n        [5.0000, 3.5000, 1.6000, 0.6000],\n        [5.1000, 3.8000, 1.9000, 0.4000],\n        [4.8000, 3.0000, 1.4000, 0.3000],\n        [5.1000, 3.8000, 1.6000, 0.2000],\n        [4.6000, 3.2000, 1.4000, 0.2000],\n        [5.3000, 3.7000, 1.5000, 0.2000],\n        [5.0000, 3.3000, 1.4000, 0.2000],\n        [7.0000, 3.2000, 4.7000, 1.4000],\n        [6.4000, 3.2000, 4.5000, 1.5000],\n        [6.9000, 3.1000, 4.9000, 1.5000],\n        [5.5000, 2.3000, 4.0000, 1.3000],\n        [6.5000, 2.8000, 4.6000, 1.5000],\n        [5.7000, 2.8000, 4.5000, 1.3000],\n        [6.3000, 3.3000, 4.7000, 1.6000],\n        [4.9000, 2.4000, 3.3000, 1.0000],\n        [6.6000, 2.9000, 4.6000, 1.3000],\n        [5.2000, 2.7000, 3.9000, 1.4000],\n        [5.0000, 2.0000, 3.5000, 1.0000],\n        [5.9000, 3.0000, 4.2000, 1.5000],\n        [6.0000, 2.2000, 4.0000, 1.0000],\n        [6.1000, 2.9000, 4.7000, 1.4000],\n        [5.6000, 2.9000, 3.6000, 1.3000],\n        [6.7000, 3.1000, 4.4000, 1.4000],\n        [5.6000, 3.0000, 4.5000, 1.5000],\n        [5.8000, 2.7000, 4.1000, 1.0000],\n        [6.2000, 2.2000, 4.5000, 1.5000],\n        [5.6000, 2.5000, 3.9000, 1.1000],\n        [5.9000, 3.2000, 4.8000, 1.8000],\n        [6.1000, 2.8000, 4.0000, 1.3000],\n        [6.3000, 2.5000, 4.9000, 1.5000],\n        [6.1000, 2.8000, 4.7000, 1.2000],\n        [6.4000, 2.9000, 4.3000, 1.3000],\n        [6.6000, 3.0000, 4.4000, 1.4000],\n        [6.8000, 2.8000, 4.8000, 1.4000],\n        [6.7000, 3.0000, 5.0000, 1.7000],\n        [6.0000, 2.9000, 4.5000, 1.5000],\n        [5.7000, 2.6000, 3.5000, 1.0000],\n        [5.5000, 2.4000, 3.8000, 1.1000],\n        [5.5000, 2.4000, 3.7000, 1.0000],\n        [5.8000, 2.7000, 3.9000, 1.2000],\n        [6.0000, 2.7000, 5.1000, 1.6000],\n        [5.4000, 3.0000, 4.5000, 1.5000],\n        [6.0000, 3.4000, 4.5000, 1.6000],\n        [6.7000, 3.1000, 4.7000, 1.5000],\n        [6.3000, 2.3000, 4.4000, 1.3000],\n        [5.6000, 3.0000, 4.1000, 1.3000],\n        [5.5000, 2.5000, 4.0000, 1.3000],\n        [5.5000, 2.6000, 4.4000, 1.2000],\n        [6.1000, 3.0000, 4.6000, 1.4000],\n        [5.8000, 2.6000, 4.0000, 1.2000],\n        [5.0000, 2.3000, 3.3000, 1.0000],\n        [5.6000, 2.7000, 4.2000, 1.3000],\n        [5.7000, 3.0000, 4.2000, 1.2000],\n        [5.7000, 2.9000, 4.2000, 1.3000],\n        [6.2000, 2.9000, 4.3000, 1.3000],\n        [5.1000, 2.5000, 3.0000, 1.1000],\n        [5.7000, 2.8000, 4.1000, 1.3000],\n        [6.3000, 3.3000, 6.0000, 2.5000],\n        [5.8000, 2.7000, 5.1000, 1.9000],\n        [7.1000, 3.0000, 5.9000, 2.1000],\n        [6.3000, 2.9000, 5.6000, 1.8000],\n        [6.5000, 3.0000, 5.8000, 2.2000],\n        [7.6000, 3.0000, 6.6000, 2.1000],\n        [4.9000, 2.5000, 4.5000, 1.7000],\n        [7.3000, 2.9000, 6.3000, 1.8000],\n        [6.7000, 2.5000, 5.8000, 1.8000],\n        [7.2000, 3.6000, 6.1000, 2.5000],\n        [6.5000, 3.2000, 5.1000, 2.0000],\n        [6.4000, 2.7000, 5.3000, 1.9000],\n        [6.8000, 3.0000, 5.5000, 2.1000],\n        [5.7000, 2.5000, 5.0000, 2.0000],\n        [5.8000, 2.8000, 5.1000, 2.4000],\n        [6.4000, 3.2000, 5.3000, 2.3000],\n        [6.5000, 3.0000, 5.5000, 1.8000],\n        [7.7000, 3.8000, 6.7000, 2.2000],\n        [7.7000, 2.6000, 6.9000, 2.3000],\n        [6.0000, 2.2000, 5.0000, 1.5000],\n        [6.9000, 3.2000, 5.7000, 2.3000],\n        [5.6000, 2.8000, 4.9000, 2.0000],\n        [7.7000, 2.8000, 6.7000, 2.0000],\n        [6.3000, 2.7000, 4.9000, 1.8000],\n        [6.7000, 3.3000, 5.7000, 2.1000],\n        [7.2000, 3.2000, 6.0000, 1.8000],\n        [6.2000, 2.8000, 4.8000, 1.8000],\n        [6.1000, 3.0000, 4.9000, 1.8000],\n        [6.4000, 2.8000, 5.6000, 2.1000],\n        [7.2000, 3.0000, 5.8000, 1.6000],\n        [7.4000, 2.8000, 6.1000, 1.9000],\n        [7.9000, 3.8000, 6.4000, 2.0000],\n        [6.4000, 2.8000, 5.6000, 2.2000],\n        [6.3000, 2.8000, 5.1000, 1.5000],\n        [6.1000, 2.6000, 5.6000, 1.4000],\n        [7.7000, 3.0000, 6.1000, 2.3000],\n        [6.3000, 3.4000, 5.6000, 2.4000],\n        [6.4000, 3.1000, 5.5000, 1.8000],\n        [6.0000, 3.0000, 4.8000, 1.8000],\n        [6.9000, 3.1000, 5.4000, 2.1000],\n        [6.7000, 3.1000, 5.6000, 2.4000],\n        [6.9000, 3.1000, 5.1000, 2.3000],\n        [5.8000, 2.7000, 5.1000, 1.9000],\n        [6.8000, 3.2000, 5.9000, 2.3000],\n        [6.7000, 3.3000, 5.7000, 2.5000],\n        [6.7000, 3.0000, 5.2000, 2.3000],\n        [6.3000, 2.5000, 5.0000, 1.9000],\n        [6.5000, 3.0000, 5.2000, 2.0000],\n        [6.2000, 3.4000, 5.4000, 2.3000],\n        [5.9000, 3.0000, 5.1000, 1.8000]])"
     },
     "execution_count": 17,
     "metadata": {},
     "output_type": "execute_result"
    }
   ],
   "source": [
    "# Create an instance of the classifier\n",
    "model = IrisClassifier()\n",
    "\n",
    "# Define your loss function and optimizer\n",
    "criterion = nn.CrossEntropyLoss()\n",
    "optimizer = optim.SGD(model.parameters(), lr=0.01)\n",
    "\n",
    "inputs = torch.tensor(features.values)\n",
    "inputs = inputs.to(torch.float)\n",
    "inputs"
   ]
  },
  {
   "cell_type": "code",
   "execution_count": 18,
   "id": "8ddc76f7b4835199",
   "metadata": {
    "collapsed": false,
    "ExecuteTime": {
     "end_time": "2024-04-17T02:47:38.369064Z",
     "start_time": "2024-04-17T02:47:37.576383Z"
    }
   },
   "outputs": [
    {
     "name": "stdout",
     "output_type": "stream",
     "text": [
      "Requirement already satisfied: scikit-learn in /Users/nardoarevalo/Desktop/pandas_learning/venv/lib/python3.9/site-packages (1.4.2)\r\n",
      "Requirement already satisfied: numpy>=1.19.5 in /Users/nardoarevalo/Desktop/pandas_learning/venv/lib/python3.9/site-packages (from scikit-learn) (1.26.4)\r\n",
      "Requirement already satisfied: scipy>=1.6.0 in /Users/nardoarevalo/Desktop/pandas_learning/venv/lib/python3.9/site-packages (from scikit-learn) (1.13.0)\r\n",
      "Requirement already satisfied: joblib>=1.2.0 in /Users/nardoarevalo/Desktop/pandas_learning/venv/lib/python3.9/site-packages (from scikit-learn) (1.4.0)\r\n",
      "Requirement already satisfied: threadpoolctl>=2.0.0 in /Users/nardoarevalo/Desktop/pandas_learning/venv/lib/python3.9/site-packages (from scikit-learn) (3.4.0)\r\n",
      "\r\n",
      "\u001B[1m[\u001B[0m\u001B[34;49mnotice\u001B[0m\u001B[1;39;49m]\u001B[0m\u001B[39;49m A new release of pip is available: \u001B[0m\u001B[31;49m23.2.1\u001B[0m\u001B[39;49m -> \u001B[0m\u001B[32;49m24.0\u001B[0m\r\n",
      "\u001B[1m[\u001B[0m\u001B[34;49mnotice\u001B[0m\u001B[1;39;49m]\u001B[0m\u001B[39;49m To update, run: \u001B[0m\u001B[32;49mpip install --upgrade pip\u001B[0m\r\n"
     ]
    },
    {
     "data": {
      "text/plain": "tensor([0, 0, 0, 0, 0, 0, 0, 0, 0, 0, 0, 0, 0, 0, 0, 0, 0, 0, 0, 0, 0, 0, 0, 0,\n        0, 0, 0, 0, 0, 0, 0, 0, 0, 0, 0, 0, 0, 0, 0, 0, 0, 0, 0, 0, 0, 0, 0, 0,\n        0, 0, 1, 1, 1, 1, 1, 1, 1, 1, 1, 1, 1, 1, 1, 1, 1, 1, 1, 1, 1, 1, 1, 1,\n        1, 1, 1, 1, 1, 1, 1, 1, 1, 1, 1, 1, 1, 1, 1, 1, 1, 1, 1, 1, 1, 1, 1, 1,\n        1, 1, 1, 1, 2, 2, 2, 2, 2, 2, 2, 2, 2, 2, 2, 2, 2, 2, 2, 2, 2, 2, 2, 2,\n        2, 2, 2, 2, 2, 2, 2, 2, 2, 2, 2, 2, 2, 2, 2, 2, 2, 2, 2, 2, 2, 2, 2, 2,\n        2, 2, 2, 2, 2, 2])"
     },
     "execution_count": 18,
     "metadata": {},
     "output_type": "execute_result"
    }
   ],
   "source": [
    "!pip install scikit-learn\n",
    "from sklearn.preprocessing import LabelEncoder\n",
    "label_encoder = LabelEncoder()\n",
    "mapped_labels = label_encoder.fit_transform(labels)\n",
    "outputs = torch.tensor(mapped_labels)\n",
    "outputs =  outputs.to(torch.long)\n",
    "outputs"
   ]
  },
  {
   "cell_type": "code",
   "execution_count": 19,
   "id": "584fd06681b79ac",
   "metadata": {
    "collapsed": false,
    "ExecuteTime": {
     "end_time": "2024-04-17T02:47:38.376120Z",
     "start_time": "2024-04-17T02:47:38.373293Z"
    }
   },
   "outputs": [
    {
     "name": "stdout",
     "output_type": "stream",
     "text": [
      "done!\n"
     ]
    }
   ],
   "source": [
    "from torch.utils.data import Dataset, DataLoader, Subset\n",
    "from sklearn.model_selection import train_test_split\n",
    "\n",
    "\n",
    "class CustomDataset(Dataset):\n",
    "    def __init__(self, X, y):\n",
    "        self.X = X\n",
    "        self.y = y\n",
    "\n",
    "    def __len__(self):\n",
    "        return len(self.X)\n",
    "\n",
    "    def __getitem__(self, idx):\n",
    "        return self.X[idx], self.y[idx]\n",
    "\n",
    "dataset = CustomDataset(inputs, outputs)\n",
    "train_indices, test_indices = train_test_split(range(len(dataset)), test_size=0.2, random_state=42)\n",
    "\n",
    "train_dataset = Subset(dataset, train_indices)\n",
    "test_dataset = Subset(dataset, test_indices)\n",
    "\n",
    "train_data_loader = DataLoader(train_dataset, batch_size=10, shuffle=True)\n",
    "test_data_loader = DataLoader(test_dataset, batch_size=10, shuffle=False)\n",
    "\n",
    "\n",
    "loss_array = []\n",
    "test_err_arr = []\n",
    "print(\"done!\")\n"
   ]
  },
  {
   "cell_type": "code",
   "execution_count": 20,
   "id": "4bc0dcdf12da1359",
   "metadata": {
    "collapsed": false,
    "ExecuteTime": {
     "end_time": "2024-04-17T02:47:38.381539Z",
     "start_time": "2024-04-17T02:47:38.379272Z"
    }
   },
   "outputs": [
    {
     "name": "stdout",
     "output_type": "stream",
     "text": [
      "done!\n"
     ]
    }
   ],
   "source": [
    "def test_loop(dataloader, model, loss_fn) -> list[float]:\n",
    "    # Set the model to evaluation mode - important for batch normalization and dropout layers\n",
    "    # Unnecessary in this situation but added for best practices\n",
    "    model.eval()\n",
    "    size = len(dataloader.dataset)\n",
    "    num_batches = len(dataloader)\n",
    "    test_loss, correct = 0, 0\n",
    "    test_err_arr = []\n",
    "\n",
    "    # Evaluating the model with torch.no_grad() ensures that no gradients are computed during test mode\n",
    "    # also serves to reduce unnecessary gradient computations and memory usage for tensors with requires_grad=True\n",
    "    with torch.no_grad():\n",
    "        i = 1\n",
    "        for X, y in dataloader:\n",
    "            pred = model(X)\n",
    "            test_loss += loss_fn(pred, y).item()\n",
    "            i += 1\n",
    "            correct += (pred.argmax(1) == y).type(torch.float).sum().item()\n",
    "\n",
    "    test_loss /= num_batches\n",
    "    test_err_arr.append(test_loss)\n",
    "    correct /= size\n",
    "    print(f\"Test Error: \\n Accuracy: {(100*correct):>0.1f}%, Avg loss: {test_loss:>8f} \\n\")\n",
    "    return test_err_arr\n",
    "\n",
    "def train_loop(train_data_loader, model, criterion):\n",
    "    loss_array_in = []\n",
    "    model.train()\n",
    "    running_loss = 0.0\n",
    "    for ins, outs in train_data_loader:\n",
    "        optimizer.zero_grad()\n",
    "        obs_outs = model(ins)\n",
    "        loss = criterion(obs_outs, outs)\n",
    "        loss.backward()\n",
    "        optimizer.step()\n",
    "        running_loss += loss.item()\n",
    "    train_loss = running_loss / len(train_data_loader)\n",
    "    loss_array_in.append(train_loss)\n",
    "    return loss_array_in\n",
    "print(\"done!\")"
   ]
  },
  {
   "cell_type": "code",
   "execution_count": 21,
   "id": "d155a2f269152640",
   "metadata": {
    "collapsed": false,
    "ExecuteTime": {
     "end_time": "2024-04-17T02:47:38.465494Z",
     "start_time": "2024-04-17T02:47:38.384296Z"
    }
   },
   "outputs": [
    {
     "name": "stdout",
     "output_type": "stream",
     "text": [
      "Test Error: \n",
      " Accuracy: 36.7%, Avg loss: 1.036971 \n",
      "\n",
      "Epoch [1/20], Loss: 1.117734303077062\n",
      "Test Error: \n",
      " Accuracy: 43.3%, Avg loss: 1.009130 \n",
      "\n",
      "Epoch [2/20], Loss: 1.0436909198760986\n",
      "Test Error: \n",
      " Accuracy: 40.0%, Avg loss: 0.959321 \n",
      "\n",
      "Epoch [3/20], Loss: 1.0011896987756093\n",
      "Test Error: \n",
      " Accuracy: 46.7%, Avg loss: 0.916722 \n",
      "\n",
      "Epoch [4/20], Loss: 0.9546289841334025\n",
      "Test Error: \n",
      " Accuracy: 70.0%, Avg loss: 0.867241 \n",
      "\n",
      "Epoch [5/20], Loss: 0.9127781043450037\n",
      "Test Error: \n",
      " Accuracy: 70.0%, Avg loss: 0.826192 \n",
      "\n",
      "Epoch [6/20], Loss: 0.8728327552477518\n",
      "Test Error: \n",
      " Accuracy: 70.0%, Avg loss: 0.775486 \n",
      "\n",
      "Epoch [7/20], Loss: 0.8229608088731766\n",
      "Test Error: \n",
      " Accuracy: 83.3%, Avg loss: 0.738502 \n",
      "\n",
      "Epoch [8/20], Loss: 0.7715736875931422\n",
      "Test Error: \n",
      " Accuracy: 70.0%, Avg loss: 0.684393 \n",
      "\n",
      "Epoch [9/20], Loss: 0.7319991290569305\n",
      "Test Error: \n",
      " Accuracy: 83.3%, Avg loss: 0.648231 \n",
      "\n",
      "Epoch [10/20], Loss: 0.6914117385943731\n",
      "Test Error: \n",
      " Accuracy: 70.0%, Avg loss: 0.607020 \n",
      "\n",
      "Epoch [11/20], Loss: 0.6481520334879557\n",
      "Test Error: \n",
      " Accuracy: 80.0%, Avg loss: 0.575648 \n",
      "\n",
      "Epoch [12/20], Loss: 0.611857662598292\n",
      "Test Error: \n",
      " Accuracy: 83.3%, Avg loss: 0.549504 \n",
      "\n",
      "Epoch [13/20], Loss: 0.5763776873548826\n",
      "Test Error: \n",
      " Accuracy: 76.7%, Avg loss: 0.520647 \n",
      "\n",
      "Epoch [14/20], Loss: 0.5454452981551489\n",
      "Test Error: \n",
      " Accuracy: 93.3%, Avg loss: 0.503088 \n",
      "\n",
      "Epoch [15/20], Loss: 0.5308966711163521\n",
      "Test Error: \n",
      " Accuracy: 83.3%, Avg loss: 0.479580 \n",
      "\n",
      "Epoch [16/20], Loss: 0.5053606480360031\n",
      "Test Error: \n",
      " Accuracy: 86.7%, Avg loss: 0.479106 \n",
      "\n",
      "Epoch [17/20], Loss: 0.4859256048997243\n",
      "Test Error: \n",
      " Accuracy: 76.7%, Avg loss: 0.447289 \n",
      "\n",
      "Epoch [18/20], Loss: 0.4737576072414716\n",
      "Test Error: \n",
      " Accuracy: 86.7%, Avg loss: 0.433298 \n",
      "\n",
      "Epoch [19/20], Loss: 0.4550653671224912\n",
      "Test Error: \n",
      " Accuracy: 93.3%, Avg loss: 0.422136 \n",
      "\n",
      "Epoch [20/20], Loss: 0.4374414061506589\n"
     ]
    }
   ],
   "source": [
    "num_epochs = 20\n",
    "for epoch in range(num_epochs):\n",
    "    \n",
    "    results = train_loop(train_data_loader, model, criterion)\n",
    "    for i in results:\n",
    "        loss_array.append(i)\n",
    "\n",
    "    results = test_loop(test_data_loader, model, criterion)\n",
    "    for i in results:\n",
    "        test_err_arr.append(i)\n",
    "\n",
    "    print(f'Epoch [{epoch+1}/{num_epochs}], Loss: {loss_array[-1]}')\n"
   ]
  },
  {
   "cell_type": "code",
   "execution_count": 22,
   "id": "516247f90d6796a7",
   "metadata": {
    "collapsed": false,
    "ExecuteTime": {
     "end_time": "2024-04-17T02:47:38.610697Z",
     "start_time": "2024-04-17T02:47:38.466007Z"
    }
   },
   "outputs": [
    {
     "data": {
      "text/plain": "<Figure size 640x480 with 1 Axes>",
      "image/png": "[encoded data removed]"
     },
     "metadata": {},
     "output_type": "display_data"
    }
   ],
   "source": [
    "import matplotlib.pyplot as plt\n",
    "plt.plot(loss_array, label=\"train loss\")\n",
    "plt.plot(test_err_arr, label=\"test loss\")\n",
    "plt.xlabel('Epoch')\n",
    "plt.ylabel('Loss')\n",
    "plt.title('Training and Test Loss')\n",
    "plt.legend()\n",
    "plt.show()\n"
   ]
  }
 ],
 "metadata": {
  "kernelspec": {
   "display_name": "nardo_kernel",
   "language": "python",
   "name": "nardo_kernel"
  },
  "language_info": {
   "codemirror_mode": {
    "name": "ipython",
    "version": 3
   },
   "file_extension": ".py",
   "mimetype": "text/x-python",
   "name": "python",
   "nbconvert_exporter": "python",
   "pygments_lexer": "ipython3",
   "version": "3.9.6"
  }
 },
 "nbformat": 4,
 "nbformat_minor": 5
}
