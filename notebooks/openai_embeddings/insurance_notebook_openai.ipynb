{
 "cells": [
  {
   "cell_type": "code",
   "execution_count": 30,
   "id": "initial_id",
   "metadata": {
    "collapsed": true,
    "ExecuteTime": {
     "end_time": "2024-04-19T07:35:40.133500Z",
     "start_time": "2024-04-19T07:35:40.120599Z"
    }
   },
   "outputs": [
    {
     "data": {
      "text/plain": "<openai.OpenAI at 0x1470ffa00>"
     },
     "execution_count": 30,
     "metadata": {},
     "output_type": "execute_result"
    }
   ],
   "source": [
    "import ast\n",
    "from openai import OpenAI # for calling the OpenAI API\n",
    "import pandas as pd  # for storing text and embeddings data\n",
    "import tiktoken  # for counting tokens\n",
    "import os # for getting API token from env variable OPENAI_API_KEY\n",
    "from scipy import spatial  # for calculating vector similarities for search\n",
    "\n",
    "# models\n",
    "EMBEDDING_MODEL = \"text-embedding-ada-002\"\n",
    "GPT_MODEL = \"gpt-3.5-turbo\"\n",
    "OPEN_AI_KEY = os.environ.get(\"OPENAI_API_KEY\")\n",
    "client = OpenAI(api_key=OPEN_AI_KEY)\n",
    "client"
   ]
  },
  {
   "cell_type": "code",
   "outputs": [
    {
     "name": "stdout",
     "output_type": "stream",
     "text": [
      "loading from web!\n",
      "<class 'pandas.core.frame.DataFrame'>\n",
      "RangeIndex: 41 entries, 0 to 40\n",
      "Data columns (total 2 columns):\n",
      " #   Column      Non-Null Count  Dtype \n",
      "---  ------      --------------  ----- \n",
      " 0   text        41 non-null     object\n",
      " 1   embeddings  41 non-null     object\n",
      "dtypes: object(2)\n",
      "memory usage: 784.0+ bytes\n"
     ]
    }
   ],
   "source": [
    "try:\n",
    "    df = pd.read_csv(\"/Users/nardoarevalo/Desktop/pandas_learning/notebooks/openai_embeddings/data.csv\")\n",
    "except Exception as e:\n",
    "    print(\"loading from web!\")\n",
    "    df = pd.read_csv(\"https://raw.githubusercontent.com/nardoguy14/jupyter_notebooks/main/notebooks/openai_embeddings/data.csv\")\n",
    "df['embeddings'] = df['embeddings'].apply(ast.literal_eval)\n",
    "\n",
    "df.info()"
   ],
   "metadata": {
    "collapsed": false,
    "ExecuteTime": {
     "end_time": "2024-04-19T07:36:03.044796Z",
     "start_time": "2024-04-19T07:36:02.050964Z"
    }
   },
   "id": "81e4371b395f9268",
   "execution_count": 32
  },
  {
   "cell_type": "code",
   "outputs": [],
   "source": [
    "def num_tokens(text: str, model: str = GPT_MODEL) -> int:\n",
    "    \"\"\"Return the number of tokens in a string.\"\"\"\n",
    "    encoding = tiktoken.encoding_for_model(model)\n",
    "    return len(encoding.encode(text))\n",
    "\n",
    "def get_query_embeddings(query):\n",
    "    query_embedding_response = client.embeddings.create(\n",
    "        model=EMBEDDING_MODEL,\n",
    "        input=query,\n",
    "    )\n",
    "    query_embedding = query_embedding_response.data[0].embedding\n",
    "    return query_embedding\n",
    "\n",
    "def strings_ranked_by_relatedness(\n",
    "        query_embedding,\n",
    "        df: pd.DataFrame,\n",
    "        relatedness_fn=lambda x, y: 1 - spatial.distance.cosine(x, y),\n",
    "        top_n: int = 100\n",
    ") -> tuple[list[str], list[float]]:\n",
    "    \"\"\"Returns a list of strings and relatednesses, sorted from most related to least.\"\"\"\n",
    "    strings_and_relatednesses = [\n",
    "        (row[\"text\"], relatedness_fn(query_embedding, row[\"embeddings\"]))\n",
    "        for i, row in df.iterrows()\n",
    "    ]\n",
    "    strings_and_relatednesses.sort(key=lambda x: x[1], reverse=True)\n",
    "    strings, relatednesses = zip(*strings_and_relatednesses)\n",
    "    return strings[:top_n], relatednesses[:top_n]"
   ],
   "metadata": {
    "collapsed": false,
    "ExecuteTime": {
     "end_time": "2024-04-19T07:36:06.083178Z",
     "start_time": "2024-04-19T07:36:06.078418Z"
    }
   },
   "id": "68d02769ebfd637e",
   "execution_count": 33
  },
  {
   "cell_type": "code",
   "outputs": [
    {
     "name": "stdout",
     "output_type": "stream",
     "text": [
      "relatedness=0.866\n",
      "relatedness=0.851\n",
      "relatedness=0.830\n",
      "relatedness=0.818\n",
      "relatedness=0.803\n",
      "relatedness=0.780\n",
      "relatedness=0.779\n",
      "relatedness=0.773\n",
      "relatedness=0.766\n",
      "relatedness=0.762\n"
     ]
    }
   ],
   "source": [
    "query_embedding = get_query_embeddings(\"Silver 73: Enhanced Plan\")\n",
    "strings, relatednesses =strings_ranked_by_relatedness(query_embedding, df, top_n=10)\n",
    "for string, relatedness in zip(strings, relatednesses):\n",
    "    print(f\"{relatedness=:.3f}\")"
   ],
   "metadata": {
    "collapsed": false,
    "ExecuteTime": {
     "end_time": "2024-04-19T07:36:07.120454Z",
     "start_time": "2024-04-19T07:36:06.891038Z"
    }
   },
   "id": "6f7b0a447f7b46fe",
   "execution_count": 34
  },
  {
   "cell_type": "code",
   "outputs": [],
   "source": [
    "def query_message(\n",
    "        query: str,\n",
    "        df: pd.DataFrame,\n",
    "        model: str,\n",
    "        token_budget: int\n",
    ") -> str:\n",
    "    \"\"\"Return a message for GPT, with relevant source texts pulled from a dataframe.\"\"\"\n",
    "\n",
    "    query_embedding = get_query_embeddings(query)\n",
    "    strings, relatednesses = strings_ranked_by_relatedness(query_embedding, df, top_n=4)\n",
    "    introduction = 'Use the below articles on Covered California to answer the subsequent question. If the answer cannot be found in the articles, write \"I could not find an answer.\"'\n",
    "    question = f\"\\n\\nQuestion: {query}\"\n",
    "    message = introduction\n",
    "    for string in strings:\n",
    "        next_article = f'\\n\\nCovered California section:\\n\"\"\"\\n{string}\\n\"\"\"'\n",
    "        if (\n",
    "                num_tokens(message + next_article + question, model=model)\n",
    "                > token_budget\n",
    "        ):\n",
    "            break\n",
    "        else:\n",
    "            message += next_article\n",
    "    return message + question\n",
    "\n",
    "\n",
    "def ask(\n",
    "        query: str,\n",
    "        df: pd.DataFrame = df,\n",
    "        model: str = GPT_MODEL,\n",
    "        token_budget: int = 4096 - 500,\n",
    "        print_message: bool = False,\n",
    ") -> str:\n",
    "    \"\"\"Answers a query using GPT and a dataframe of relevant texts and embeddings.\"\"\"\n",
    "    message = query_message(query, df, model=model, token_budget=token_budget)\n",
    "    print(\"tokens\")\n",
    "    display(num_tokens(message))\n",
    "    if print_message:\n",
    "        print(message)\n",
    "    messages = [\n",
    "        {\"role\": \"system\", \"content\": \"You answer questions about Covered California Health Insurnace.\"},\n",
    "        {\"role\": \"user\", \"content\": message},\n",
    "    ]\n",
    "    response = client.chat.completions.create(\n",
    "        model=model,\n",
    "        messages=messages,\n",
    "        temperature=0\n",
    "    )\n",
    "    response_message = response.choices[0].message.content\n",
    "    return response_message"
   ],
   "metadata": {
    "collapsed": false,
    "ExecuteTime": {
     "end_time": "2024-04-19T07:36:10.019564Z",
     "start_time": "2024-04-19T07:36:10.014959Z"
    }
   },
   "id": "845d38803a78128c",
   "execution_count": 35
  },
  {
   "cell_type": "code",
   "outputs": [
    {
     "name": "stdout",
     "output_type": "stream",
     "text": [
      "tokens\n"
     ]
    },
    {
     "data": {
      "text/plain": "2346"
     },
     "metadata": {},
     "output_type": "display_data"
    },
    {
     "data": {
      "text/plain": "'The Silver 73 plan may not be the best fit for you if you are unhealthy. The plan is more suitable for individuals who are relatively healthy and want typical services such as office visits, basic labs, and prescriptions (generic) covered right away for a minimum set fee (copay) without having to pay a deductible. If you are unhealthy and anticipate needing more medical services, you may want to consider a plan with lower out-of-pocket costs and potentially more comprehensive coverage.'"
     },
     "execution_count": 36,
     "metadata": {},
     "output_type": "execute_result"
    }
   ],
   "source": [
    "query = \"is silver 73 a good plan for me if im unhealthy \"\n",
    "ask(query)"
   ],
   "metadata": {
    "collapsed": false,
    "ExecuteTime": {
     "end_time": "2024-04-19T07:36:14.282184Z",
     "start_time": "2024-04-19T07:36:11.645022Z"
    }
   },
   "id": "50a53418619be90b",
   "execution_count": 36
  },
  {
   "cell_type": "code",
   "outputs": [],
   "source": [],
   "metadata": {
    "collapsed": false
   },
   "id": "d4701d16fae7b21f"
  }
 ],
 "metadata": {
  "kernelspec": {
   "display_name": "Python 3",
   "language": "python",
   "name": "python3"
  },
  "language_info": {
   "codemirror_mode": {
    "name": "ipython",
    "version": 2
   },
   "file_extension": ".py",
   "mimetype": "text/x-python",
   "name": "python",
   "nbconvert_exporter": "python",
   "pygments_lexer": "ipython2",
   "version": "2.7.6"
  }
 },
 "nbformat": 4,
 "nbformat_minor": 5
}
