{
 "cells": [
  {
   "cell_type": "code",
   "execution_count": 2,
   "id": "initial_id",
   "metadata": {
    "collapsed": true,
    "ExecuteTime": {
     "end_time": "2024-04-19T02:12:15.438576Z",
     "start_time": "2024-04-19T02:12:15.423842Z"
    }
   },
   "outputs": [
    {
     "data": {
      "text/plain": "<openai.OpenAI at 0x107666ee0>"
     },
     "execution_count": 2,
     "metadata": {},
     "output_type": "execute_result"
    }
   ],
   "source": [
    "import ast  # for converting embeddings saved as strings back to arrays\n",
    "from openai import OpenAI # for calling the OpenAI API\n",
    "import pandas as pd  # for storing text and embeddings data\n",
    "import tiktoken  # for counting tokens\n",
    "import os # for getting API token from env variable OPENAI_API_KEY\n",
    "from scipy import spatial  # for calculating vector similarities for search\n",
    "\n",
    "# models\n",
    "EMBEDDING_MODEL = \"text-embedding-ada-002\"\n",
    "GPT_MODEL = \"gpt-3.5-turbo\"\n",
    "OPEN_AI_KEY = os.environ.get(\"OPENAI_API_KEY\")\n",
    "client = OpenAI(api_key=OPEN_AI_KEY)\n",
    "client"
   ]
  },
  {
   "cell_type": "code",
   "outputs": [
    {
     "data": {
      "text/plain": "0       [-0.005021067801862955, 0.00026050032465718687...\n1       [0.0033927420154213905, -0.007447326090186834,...\n2       [-0.00915789045393467, -0.008366798982024193, ...\n3       [0.0030951891094446182, -0.006064314860850573,...\n4       [-0.002936174161732197, -0.006185177247971296,...\n                              ...                        \n6054    [-0.027750400826334953, 0.001746018067933619, ...\n6055    [-0.021714167669415474, 0.016001321375370026, ...\n6056    [-0.029143543913960457, 0.014654331840574741, ...\n6057    [-0.024266039952635765, 0.011665306985378265, ...\n6058    [-0.021818075329065323, 0.005420385394245386, ...\nName: embedding, Length: 6059, dtype: object"
     },
     "execution_count": 23,
     "metadata": {},
     "output_type": "execute_result"
    }
   ],
   "source": [
    "# download pre-chunked text and pre-computed embeddings\n",
    "# this file is ~200 MB, so may take a minute depending on your connection speed\n",
    "embeddings_path = \"https://cdn.openai.com/API/examples/data/winter_olympics_2022.csv\"\n",
    "\n",
    "df = pd.read_csv(embeddings_path)\n",
    "df['embedding']"
   ],
   "metadata": {
    "collapsed": false,
    "ExecuteTime": {
     "end_time": "2024-04-18T07:23:08.753253Z",
     "start_time": "2024-04-18T07:22:54.947649Z"
    }
   },
   "id": "ad7e494721356628",
   "execution_count": 23
  },
  {
   "cell_type": "code",
   "outputs": [
    {
     "name": "stdout",
     "output_type": "stream",
     "text": [
      "<class 'pandas.core.frame.DataFrame'>\n",
      "RangeIndex: 6059 entries, 0 to 6058\n",
      "Data columns (total 2 columns):\n",
      " #   Column     Non-Null Count  Dtype \n",
      "---  ------     --------------  ----- \n",
      " 0   text       6059 non-null   object\n",
      " 1   embedding  6059 non-null   object\n",
      "dtypes: object(2)\n",
      "memory usage: 94.8+ KB\n"
     ]
    }
   ],
   "source": [
    "# convert embeddings from CSV str type back to list type\n",
    "df['embedding'] = df['embedding'].apply(ast.literal_eval)\n",
    "df['embedding']\n",
    "\n",
    "df.info()"
   ],
   "metadata": {
    "collapsed": false,
    "ExecuteTime": {
     "end_time": "2024-04-18T07:26:33.000786Z",
     "start_time": "2024-04-18T07:26:32.974609Z"
    }
   },
   "id": "36f990a2b8ec8e0b",
   "execution_count": 33
  },
  {
   "cell_type": "code",
   "outputs": [],
   "source": [
    "def get_query_embeddings(query):\n",
    "    query_embedding_response = client.embeddings.create(\n",
    "        model=EMBEDDING_MODEL,\n",
    "        input=query,\n",
    "    )\n",
    "    query_embedding = query_embedding_response.data[0].embedding\n",
    "    return query_embedding\n",
    "\n",
    "def strings_ranked_by_relatedness(\n",
    "        query_embedding,\n",
    "        df: pd.DataFrame,\n",
    "        relatedness_fn=lambda x, y: 1 - spatial.distance.cosine(x, y),\n",
    "        top_n: int = 100\n",
    ") -> tuple[list[str], list[float]]:\n",
    "    \"\"\"Returns a list of strings and relatednesses, sorted from most related to least.\"\"\"\n",
    "    strings_and_relatednesses = [\n",
    "        (row[\"text\"], relatedness_fn(query_embedding, row[\"embedding\"]))\n",
    "        for i, row in df.iterrows()\n",
    "    ]\n",
    "    strings_and_relatednesses.sort(key=lambda x: x[1], reverse=True)\n",
    "    strings, relatednesses = zip(*strings_and_relatednesses)\n",
    "    return strings[:top_n], relatednesses[:top_n]\n"
   ],
   "metadata": {
    "collapsed": false,
    "ExecuteTime": {
     "end_time": "2024-04-18T07:25:06.107615Z",
     "start_time": "2024-04-18T07:25:06.104608Z"
    }
   },
   "id": "e7c3ba530ee5730a",
   "execution_count": 29
  },
  {
   "cell_type": "code",
   "outputs": [
    {
     "name": "stdout",
     "output_type": "stream",
     "text": [
      "relatedness=0.879\n"
     ]
    },
    {
     "data": {
      "text/plain": "'Curling at the 2022 Winter Olympics\\n\\n==Medal summary==\\n\\n===Medal table===\\n\\n{{Medals table\\n | caption        = \\n | host           = \\n | flag_template  = flagIOC\\n | event          = 2022 Winter\\n | team           = \\n | gold_CAN = 0 | silver_CAN = 0 | bronze_CAN = 1\\n | gold_ITA = 1 | silver_ITA = 0 | bronze_ITA = 0\\n | gold_NOR = 0 | silver_NOR = 1 | bronze_NOR = 0\\n | gold_SWE = 1 | silver_SWE = 0 | bronze_SWE = 2\\n | gold_GBR = 1 | silver_GBR = 1 | bronze_GBR = 0\\n | gold_JPN = 0 | silver_JPN = 1 | bronze_JPN - 0\\n}}'"
     },
     "metadata": {},
     "output_type": "display_data"
    },
    {
     "name": "stdout",
     "output_type": "stream",
     "text": [
      "relatedness=0.872\n"
     ]
    },
    {
     "data": {
      "text/plain": "\"Curling at the 2022 Winter Olympics\\n\\n==Results summary==\\n\\n===Women's tournament===\\n\\n====Playoffs====\\n\\n=====Gold medal game=====\\n\\n''Sunday, 20 February, 9:05''\\n{{#lst:Curling at the 2022 Winter Olympics – Women's tournament|GM}}\\n{{Player percentages\\n| team1 = {{flagIOC|JPN|2022 Winter}}\\n| [[Yurika Yoshida]] | 97%\\n| [[Yumi Suzuki]] | 82%\\n| [[Chinami Yoshida]] | 64%\\n| [[Satsuki Fujisawa]] | 69%\\n| teampct1 = 78%\\n| team2 = {{flagIOC|GBR|2022 Winter}}\\n| [[Hailey Duff]] | 90%\\n| [[Jennifer Dodds]] | 89%\\n| [[Vicky Wright]] | 89%\\n| [[Eve Muirhead]] | 88%\\n| teampct2 = 89%\\n}}\""
     },
     "metadata": {},
     "output_type": "display_data"
    },
    {
     "name": "stdout",
     "output_type": "stream",
     "text": [
      "relatedness=0.869\n"
     ]
    },
    {
     "data": {
      "text/plain": "'Curling at the 2022 Winter Olympics\\n\\n==Results summary==\\n\\n===Mixed doubles tournament===\\n\\n====Playoffs====\\n\\n=====Gold medal game=====\\n\\n\\'\\'Tuesday, 8 February, 20:05\\'\\'\\n{{#lst:Curling at the 2022 Winter Olympics – Mixed doubles tournament|GM}}\\n{| class=\"wikitable\"\\n!colspan=4 width=400|Player percentages\\n|-\\n!colspan=2 width=200 style=\"white-space:nowrap;\"| {{flagIOC|ITA|2022 Winter}}\\n!colspan=2 width=200 style=\"white-space:nowrap;\"| {{flagIOC|NOR|2022 Winter}}\\n|-\\n| [[Stefania Constantini]] || 83%\\n| [[Kristin Skaslien]] || 70%\\n|-\\n| [[Amos Mosaner]] || 90%\\n| [[Magnus Nedregotten]] || 69%\\n|-\\n| \\'\\'\\'Total\\'\\'\\' || 87%\\n| \\'\\'\\'Total\\'\\'\\' || 69%\\n|}'"
     },
     "metadata": {},
     "output_type": "display_data"
    },
    {
     "name": "stdout",
     "output_type": "stream",
     "text": [
      "relatedness=0.868\n"
     ]
    },
    {
     "data": {
      "text/plain": "\"Curling at the 2022 Winter Olympics\\n\\n==Medal summary==\\n\\n===Medalists===\\n\\n{| {{MedalistTable|type=Event|columns=1}}\\n|-\\n|Men<br/>{{DetailsLink|Curling at the 2022 Winter Olympics – Men's tournament}}\\n|{{flagIOC|SWE|2022 Winter}}<br>[[Niklas Edin]]<br>[[Oskar Eriksson]]<br>[[Rasmus Wranå]]<br>[[Christoffer Sundgren]]<br>[[Daniel Magnusson (curler)|Daniel Magnusson]]\\n|{{flagIOC|GBR|2022 Winter}}<br>[[Bruce Mouat]]<br>[[Grant Hardie]]<br>[[Bobby Lammie]]<br>[[Hammy McMillan Jr.]]<br>[[Ross Whyte]]\\n|{{flagIOC|CAN|2022 Winter}}<br>[[Brad Gushue]]<br>[[Mark Nichols (curler)|Mark Nichols]]<br>[[Brett Gallant]]<br>[[Geoff Walker (curler)|Geoff Walker]]<br>[[Marc Kennedy]]\\n|-\\n|Women<br/>{{DetailsLink|Curling at the 2022 Winter Olympics – Women's tournament}}\\n|{{flagIOC|GBR|2022 Winter}}<br>[[Eve Muirhead]]<br>[[Vicky Wright]]<br>[[Jennifer Dodds]]<br>[[Hailey Duff]]<br>[[Mili Smith]]\\n|{{flagIOC|JPN|2022 Winter}}<br>[[Satsuki Fujisawa]]<br>[[Chinami Yoshida]]<br>[[Yumi Suzuki]]<br>[[Yurika Yoshida]]<br>[[Kotomi Ishizaki]]\\n|{{flagIOC|SWE|2022 Winter}}<br>[[Anna Hasselborg]]<br>[[Sara McManus]]<br>[[Agnes Knochenhauer]]<br>[[Sofia Mabergs]]<br>[[Johanna Heldin]]\\n|-\\n|Mixed doubles<br/>{{DetailsLink|Curling at the 2022 Winter Olympics – Mixed doubles tournament}}\\n|{{flagIOC|ITA|2022 Winter}}<br>[[Stefania Constantini]]<br>[[Amos Mosaner]]\\n|{{flagIOC|NOR|2022 Winter}}<br>[[Kristin Skaslien]]<br>[[Magnus Nedregotten]]\\n|{{flagIOC|SWE|2022 Winter}}<br>[[Almida de Val]]<br>[[Oskar Eriksson]]\\n|}\""
     },
     "metadata": {},
     "output_type": "display_data"
    },
    {
     "name": "stdout",
     "output_type": "stream",
     "text": [
      "relatedness=0.867\n"
     ]
    },
    {
     "data": {
      "text/plain": "\"Curling at the 2022 Winter Olympics\\n\\n==Results summary==\\n\\n===Men's tournament===\\n\\n====Playoffs====\\n\\n=====Gold medal game=====\\n\\n''Saturday, 19 February, 14:50''\\n{{#lst:Curling at the 2022 Winter Olympics – Men's tournament|GM}}\\n{{Player percentages\\n| team1 = {{flagIOC|GBR|2022 Winter}}\\n| [[Hammy McMillan Jr.]] | 95%\\n| [[Bobby Lammie]] | 80%\\n| [[Grant Hardie]] | 94%\\n| [[Bruce Mouat]] | 89%\\n| teampct1 = 90%\\n| team2 = {{flagIOC|SWE|2022 Winter}}\\n| [[Christoffer Sundgren]] | 99%\\n| [[Rasmus Wranå]] | 95%\\n| [[Oskar Eriksson]] | 93%\\n| [[Niklas Edin]] | 87%\\n| teampct2 = 94%\\n}}\""
     },
     "metadata": {},
     "output_type": "display_data"
    },
    {
     "name": "stdout",
     "output_type": "stream",
     "text": [
      "relatedness=0.864\n"
     ]
    },
    {
     "data": {
      "text/plain": "'Curling at the 2022 Winter Olympics\\n\\n==Results summary==\\n\\n===Mixed doubles tournament===\\n\\n====Playoffs====\\n\\n=====Bronze medal game=====\\n\\n\\'\\'Tuesday, 8 February, 14:05\\'\\'\\n{{#lst:Curling at the 2022 Winter Olympics – Mixed doubles tournament|BM}}\\n{| class=\"wikitable\"\\n!colspan=4 width=400|Player percentages\\n|-\\n!colspan=2 width=200 style=\"white-space:nowrap;\"| {{flagIOC|SWE|2022 Winter}}\\n!colspan=2 width=200 style=\"white-space:nowrap;\"| {{flagIOC|GBR|2022 Winter}}\\n|-\\n| [[Almida de Val]] || 100%\\n| [[Jennifer Dodds]] || 56%\\n|-\\n| [[Oskar Eriksson]] || 82%\\n| [[Bruce Mouat]] || 85%\\n|-\\n| \\'\\'\\'Total\\'\\'\\' || 89%\\n| \\'\\'\\'Total\\'\\'\\' || 73%\\n|}'"
     },
     "metadata": {},
     "output_type": "display_data"
    },
    {
     "name": "stdout",
     "output_type": "stream",
     "text": [
      "relatedness=0.863\n"
     ]
    },
    {
     "data": {
      "text/plain": "\"Curling at the 2022 Winter Olympics\\n\\n==Results summary==\\n\\n===Women's tournament===\\n\\n====Playoffs====\\n\\n{{4TeamBracket-with 3rd\\n| Team-Width = 150\\n| RD1 = Semifinals\\n| RD2 = Gold medal game\\n| RD3 = Bronze medal game\\n\\n| RD1-seed1 = 1\\n| RD1-team1 = {{flagIOC|SUI|2022 Winter}}\\n| RD1-score1 = 6\\n| RD1-seed2 = 4\\n| RD1-team2 = '''{{flagIOC|JPN|2022 Winter}}'''\\n| RD1-score2 = '''8'''\\n| RD1-seed3 = 2\\n| RD1-team3 = {{flagIOC|SWE|2022 Winter}}\\n| RD1-score3 = 11\\n| RD1-seed4 = 3\\n| RD1-team4 = '''{{flagIOC|GBR|2022 Winter}}'''\\n| RD1-score4 = '''12'''\\n\\n| RD2-seed1 = 4\\n| RD2-team1 = {{flagIOC|JPN|2022 Winter}}\\n| RD2-score1 = 3\\n| RD2-seed2 = 3\\n| RD2-team2 = '''{{flagIOC|GBR|2022 Winter}}'''\\n| RD2-score2 = '''10'''\\n\\n| RD3-seed1 = 1\\n| RD3-team1 = {{flagIOC|SUI|2022 Winter}}\\n| RD3-score1 = 7\\n| RD3-seed2 = 2\\n| RD3-team2 = '''{{flagIOC|SWE|2022 Winter}}'''\\n| RD3-score2 = '''9'''\\n}}\""
     },
     "metadata": {},
     "output_type": "display_data"
    },
    {
     "name": "stdout",
     "output_type": "stream",
     "text": [
      "relatedness=0.861\n"
     ]
    },
    {
     "data": {
      "text/plain": "\"Curling at the 2022 Winter Olympics\\n\\n==Results summary==\\n\\n===Men's tournament===\\n\\n====Playoffs====\\n\\n{{4TeamBracket-with 3rd\\n| Team-Width = 150\\n| RD1 = Semifinals\\n| RD2 = Gold medal game\\n| RD3 = Bronze medal game\\n\\n| RD1-seed1 = 1\\n| RD1-team1 = '''{{flagIOC|GBR|2022 Winter}}'''\\n| RD1-score1 = '''8'''\\n| RD1-seed2 = 4\\n| RD1-team2 = {{flagIOC|USA|2022 Winter}}\\n| RD1-score2 = 4\\n| RD1-seed3 = 2\\n| RD1-team3 = '''{{flagIOC|SWE|2022 Winter}}'''\\n| RD1-score3 = '''5'''\\n| RD1-seed4 = 3\\n| RD1-team4 = {{flagIOC|CAN|2022 Winter}}\\n| RD1-score4 = 3\\n\\n| RD2-seed1 = 1\\n| RD2-team1 = {{flagIOC|GBR|2022 Winter}}\\n| RD2-score1 = 4\\n| RD2-seed2 = 2\\n| RD2-team2 = '''{{flagIOC|SWE|2022 Winter}}'''\\n| RD2-score2 = '''5'''\\n\\n| RD3-seed1 = 4\\n| RD3-team1 = {{flagIOC|USA|2022 Winter}}\\n| RD3-score1 = 5\\n| RD3-seed2 = 3\\n| RD3-team2 = '''{{flagIOC|CAN|2022 Winter}}'''\\n| RD3-score2 = '''8'''\\n}}\""
     },
     "metadata": {},
     "output_type": "display_data"
    },
    {
     "name": "stdout",
     "output_type": "stream",
     "text": [
      "relatedness=0.860\n"
     ]
    },
    {
     "data": {
      "text/plain": "\"Curling at the 2022 Winter Olympics\\n\\n==Results summary==\\n\\n===Mixed doubles tournament===\\n\\n====Playoffs====\\n\\n{{4TeamBracket-with 3rd\\n| Team-Width = 150\\n| RD1 = Semifinals\\n| RD2 = Gold medal game\\n| RD3 = Bronze medal game\\n\\n| RD1-seed1 = 1\\n| RD1-team1 = '''{{flagIOC|ITA|2022 Winter}}'''\\n| RD1-score1 = '''8'''\\n| RD1-seed2 = 4\\n| RD1-team2 = {{flagIOC|SWE|2022 Winter}}\\n| RD1-score2 = 1\\n| RD1-seed3 = 2\\n| RD1-team3 = '''{{flagIOC|NOR|2022 Winter}}'''\\n| RD1-score3 = '''6'''\\n| RD1-seed4 = 3\\n| RD1-team4 = {{flagIOC|GBR|2022 Winter}}\\n| RD1-score4 = 5\\n\\n| RD2-seed1 = 1\\n| RD2-team1 = '''{{flagIOC|ITA|2022 Winter}}'''\\n| RD2-score1 = '''8'''\\n| RD2-seed2 = 2\\n| RD2-team2 = {{flagIOC|NOR|2022 Winter}}\\n| RD2-score2 = 5\\n\\n| RD3-seed1 = 4\\n| RD3-team1 = '''{{flagIOC|SWE|2022 Winter}}'''\\n| RD3-score1 = '''9'''\\n| RD3-seed2 = 3\\n| RD3-team2 = {{flagIOC|GBR|2022 Winter}}\\n| RD3-score2 = 3\\n}}\""
     },
     "metadata": {},
     "output_type": "display_data"
    },
    {
     "name": "stdout",
     "output_type": "stream",
     "text": [
      "relatedness=0.860\n"
     ]
    },
    {
     "data": {
      "text/plain": "\"Curling at the 2022 Winter Olympics\\n\\n==Results summary==\\n\\n===Women's tournament===\\n\\n====Playoffs====\\n\\n=====Bronze medal game=====\\n\\n''Saturday, 19 February, 20:05''\\n{{#lst:Curling at the 2022 Winter Olympics – Women's tournament|BM}}\\n{{Player percentages\\n| team1 = {{flagIOC|SUI|2022 Winter}}\\n| [[Melanie Barbezat]] | 79%\\n| [[Esther Neuenschwander]] | 75%\\n| [[Silvana Tirinzoni]] | 81%\\n| [[Alina Pätz]] | 64%\\n| teampct1 = 75%\\n| team2 = {{flagIOC|SWE|2022 Winter}}\\n| [[Sofia Mabergs]] | 89%\\n| [[Agnes Knochenhauer]] | 80%\\n| [[Sara McManus]] | 81%\\n| [[Anna Hasselborg]] | 76%\\n| teampct2 = 82%\\n}}\""
     },
     "metadata": {},
     "output_type": "display_data"
    },
    {
     "name": "stdout",
     "output_type": "stream",
     "text": [
      "relatedness=0.859\n"
     ]
    },
    {
     "data": {
      "text/plain": "\"Curling at the 2022 Winter Olympics\\n\\n==Results summary==\\n\\n===Men's tournament===\\n\\n====Playoffs====\\n\\n=====Bronze medal game=====\\n\\n''Friday, 18 February, 14:05''\\n{{#lst:Curling at the 2022 Winter Olympics – Men's tournament|BM}}\\n{{Player percentages\\n| team1 = {{flagIOC|USA|2022 Winter}}\\n| [[John Landsteiner]] | 80%\\n| [[Matt Hamilton (curler)|Matt Hamilton]] | 86%\\n| [[Chris Plys]] | 74%\\n| [[John Shuster]] | 69%\\n| teampct1 = 77%\\n| team2 = {{flagIOC|CAN|2022 Winter}}\\n| [[Geoff Walker (curler)|Geoff Walker]] | 84%\\n| [[Brett Gallant]] | 86%\\n| [[Mark Nichols (curler)|Mark Nichols]] | 78%\\n| [[Brad Gushue]] | 78%\\n| teampct2 = 82%\\n}}\""
     },
     "metadata": {},
     "output_type": "display_data"
    },
    {
     "name": "stdout",
     "output_type": "stream",
     "text": [
      "relatedness=0.859\n"
     ]
    },
    {
     "data": {
      "text/plain": "\"Curling at the 2022 Winter Olympics\\n\\n==Teams==\\n\\n===Mixed doubles===\\n\\n{| class=wikitable\\n|-\\n!width=200|{{flagIOC|AUS|2022 Winter}}\\n!width=200|{{flagIOC|CAN|2022 Winter}}\\n!width=200|{{flagIOC|CHN|2022 Winter}}\\n!width=200|{{flagIOC|CZE|2022 Winter}}\\n!width=200|{{flagIOC|GBR|2022 Winter}}\\n|-\\n|\\n'''Female:''' [[Tahli Gill]]<br>\\n'''Male:''' [[Dean Hewitt]]\\n|\\n'''Female:''' [[Rachel Homan]]<br>\\n'''Male:''' [[John Morris (curler)|John Morris]]\\n|\\n'''Female:''' [[Fan Suyuan]]<br>\\n'''Male:''' [[Ling Zhi]]\\n|\\n'''Female:''' [[Zuzana Paulová]]<br>\\n'''Male:''' [[Tomáš Paul]]\\n|\\n'''Female:''' [[Jennifer Dodds]]<br>\\n'''Male:''' [[Bruce Mouat]]\\n|-\\n!width=200|{{flagIOC|ITA|2022 Winter}}\\n!width=200|{{flagIOC|NOR|2022 Winter}}\\n!width=200|{{flagIOC|SWE|2022 Winter}}\\n!width=200|{{flagIOC|SUI|2022 Winter}}\\n!width=200|{{flagIOC|USA|2022 Winter}}\\n|-\\n|\\n'''Female:''' [[Stefania Constantini]]<br>\\n'''Male:''' [[Amos Mosaner]]\\n|\\n'''Female:''' [[Kristin Skaslien]]<br>\\n'''Male:''' [[Magnus Nedregotten]]\\n|\\n'''Female:''' [[Almida de Val]]<br>\\n'''Male:''' [[Oskar Eriksson]]\\n|\\n'''Female:''' [[Jenny Perret]]<br>\\n'''Male:''' [[Martin Rios]]\\n|\\n'''Female:''' [[Vicky Persinger]]<br>\\n'''Male:''' [[Chris Plys]]\\n|}\""
     },
     "metadata": {},
     "output_type": "display_data"
    },
    {
     "name": "stdout",
     "output_type": "stream",
     "text": [
      "relatedness=0.858\n"
     ]
    },
    {
     "data": {
      "text/plain": "'List of 2022 Winter Olympics medal winners\\n\\n==Curling==\\n\\n{{main|Curling at the 2022 Winter Olympics}}\\n{|{{MedalistTable|type=Event|columns=1|width=225|labelwidth=200}}\\n|-valign=\"top\"\\n|Men<br/>{{DetailsLink|Curling at the 2022 Winter Olympics – Men\\'s tournament}}\\n|{{flagIOC|SWE|2022 Winter}}<br/>[[Niklas Edin]]<br/>[[Oskar Eriksson]]<br/>[[Rasmus Wranå]]<br/>[[Christoffer Sundgren]]<br/>[[Daniel Magnusson (curler)|Daniel Magnusson]]\\n|{{flagIOC|GBR|2022 Winter}}<br/>[[Bruce Mouat]]<br/>[[Grant Hardie]]<br/>[[Bobby Lammie]]<br/>[[Hammy McMillan Jr.]]<br/>[[Ross Whyte]]\\n|{{flagIOC|CAN|2022 Winter}}<br/>[[Brad Gushue]]<br/>[[Mark Nichols (curler)|Mark Nichols]]<br/>[[Brett Gallant]]<br/>[[Geoff Walker (curler)|Geoff Walker]]<br/>[[Marc Kennedy]]\\n|-valign=\"top\"\\n|Women<br/>{{DetailsLink|Curling at the 2022 Winter Olympics – Women\\'s tournament}}\\n|{{flagIOC|GBR|2022 Winter}}<br/>[[Eve Muirhead]]<br/>[[Vicky Wright]]<br/>[[Jennifer Dodds]]<br/>[[Hailey Duff]]<br/>[[Mili Smith]]\\n|{{flagIOC|JPN|2022 Winter}}<br/>[[Satsuki Fujisawa]]<br/>[[Chinami Yoshida]]<br/>[[Yumi Suzuki]]<br/>[[Yurika Yoshida]]<br/>[[Kotomi Ishizaki]]\\n|{{flagIOC|SWE|2022 Winter}}<br/>[[Anna Hasselborg]]<br/>[[Sara McManus]]<br/>[[Agnes Knochenhauer]]<br/>[[Sofia Mabergs]]<br/>[[Johanna Heldin]]\\n|-valign=\"top\"\\n|Mixed doubles<br/>{{DetailsLink|Curling at the 2022 Winter Olympics – Mixed doubles tournament}}\\n|{{flagIOC|ITA|2022 Winter}}<br/>[[Stefania Constantini]]<br/>[[Amos Mosaner]]\\n|{{flagIOC|NOR|2022 Winter}}<br/>[[Kristin Skaslien]]<br/>[[Magnus Nedregotten]]\\n|{{flagIOC|SWE|2022 Winter}}<br/>[[Almida de Val]]<br/>[[Oskar Eriksson]]\\n|}'"
     },
     "metadata": {},
     "output_type": "display_data"
    },
    {
     "name": "stdout",
     "output_type": "stream",
     "text": [
      "relatedness=0.856\n"
     ]
    },
    {
     "data": {
      "text/plain": "\"Curling at the 2022 Winter Olympics\\n\\n==Teams==\\n\\n===Women===\\n\\n{| class=wikitable\\n|-\\n!width=200|{{flagIOC|CAN|2022 Winter}}\\n!width=200|{{flagIOC|CHN|2022 Winter}}\\n!width=200|{{flagIOC|DEN|2022 Winter}}\\n!width=200|{{flagIOC|GBR|2022 Winter}}\\n!width=200|{{flagIOC|JPN|2022 Winter}}\\n|-\\n|\\n'''Skip:''' [[Jennifer Jones (curler)|Jennifer Jones]]<br>\\n'''Third:''' [[Kaitlyn Lawes]]<br>\\n'''Second:''' [[Jocelyn Peterman]]<br>\\n'''Lead:''' [[Dawn McEwen]]<br>\\n'''Alternate:''' ''[[Lisa Weagle]]''\\n|\\n'''Skip:''' [[Han Yu (curler)|Han Yu]]<br>\\n'''Third:''' [[Wang Rui (curler)|Wang Rui]]<br>\\n'''Second:''' [[Dong Ziqi]]<br>\\n'''Lead:''' [[Zhang Lijun (curler)|Zhang Lijun]]<br>\\n'''Alternate:''' ''[[Jiang Xindi]]''\\n|\\n'''Skip:''' [[Madeleine Dupont]]<br>\\n'''Third:''' [[Mathilde Halse]]<br>\\n'''Second:''' [[Denise Dupont]]<br>\\n'''Lead:''' [[My Larsen]]<br>\\n'''Alternate:''' ''[[Jasmin Lander]]''\\n|\\n'''Skip:''' [[Eve Muirhead]]<br>\\n'''Third:''' [[Vicky Wright]]<br>\\n'''Second:''' [[Jennifer Dodds]]<br>\\n'''Lead:''' [[Hailey Duff]]<br>\\n'''Alternate:''' ''[[Mili Smith]]''\\n|\\n'''Skip:''' [[Satsuki Fujisawa]]<br>\\n'''Third:''' [[Chinami Yoshida]]<br>\\n'''Second:''' [[Yumi Suzuki]]<br>\\n'''Lead:''' [[Yurika Yoshida]]<br>\\n'''Alternate:''' ''[[Kotomi Ishizaki]]''\\n|-\\n!width=200|{{flagIOC|ROC|2022 Winter}}\\n!width=200|{{flagIOC|KOR|2022 Winter}}\\n!width=200|{{flagIOC|SWE|2022 Winter}}\\n!width=200|{{flagIOC|SUI|2022 Winter}}\\n!width=200|{{flagIOC|USA|2022 Winter}}\\n|-\\n|\\n'''Skip:''' [[Alina Kovaleva]]<br>\\n'''Third:''' [[Yulia Portunova]]<br>\\n'''Second:''' [[Galina Arsenkina]]<br>\\n'''Lead:''' [[Ekaterina Kuzmina]]<br>\\n'''Alternate:''' ''[[Maria Komarova]]''\\n|\\n'''Skip:''' [[Kim Eun-jung (curler)|Kim Eun-jung]]<br>\\n'''Third:''' [[Kim Kyeong-ae (curler)|Kim Kyeong-ae]]<br>\\n'''Second:''' [[Kim Cho-hi]]<br>\\n'''Lead:''' [[Kim Seon-yeong (curler)|Kim Seon-yeong]]<br>\\n'''Alternate:''' ''[[Kim Yeong-mi]]''\\n|\\n'''Skip:''' [[Anna Hasselborg]]<br>\\n'''Third:''' [[Sara McManus]]<br>\\n'''Second:''' [[Agnes Knochenhauer]]<br>\\n'''Lead:''' [[Sofia Mabergs]]<br>\\n'''Alternate:''' ''[[Johanna Heldin]]''\\n|\\n'''Fourth:''' [[Alina Pätz]]<br>\\n'''Skip:''' [[Silvana Tirinzoni]]<br>\\n'''Second:''' [[Esther Neuenschwander]]<br>\\n'''Lead:''' [[Melanie Barbezat]]<br>\\n'''Alternate:''' ''[[Carole Howald]]''\\n|\\n'''Skip:''' [[Tabitha Peterson]]<br>\\n'''Third:''' [[Nina Roth]]<br>\\n'''Second:''' [[Becca Hamilton]]<br>\\n'''Lead:''' [[Tara Peterson]]<br>\\n'''Alternate:''' ''[[Aileen Geving]]''\\n|}\""
     },
     "metadata": {},
     "output_type": "display_data"
    },
    {
     "name": "stdout",
     "output_type": "stream",
     "text": [
      "relatedness=0.853\n"
     ]
    },
    {
     "data": {
      "text/plain": "\"Curling at the 2022 Winter Olympics\\n\\n==Results summary==\\n\\n===Women's tournament===\\n\\n{{main|Curling at the 2022 Winter Olympics – Women's tournament}}\""
     },
     "metadata": {},
     "output_type": "display_data"
    },
    {
     "name": "stdout",
     "output_type": "stream",
     "text": [
      "relatedness=0.853\n"
     ]
    },
    {
     "data": {
      "text/plain": "\"Curling at the 2022 Winter Olympics\\n\\n==Results summary==\\n\\n===Women's tournament===\\n\\n====Playoffs====\\n\\n=====Semifinals=====\\n\\n''Friday, 18 February, 20:05''\\n{{#lst:Curling at the 2022 Winter Olympics – Women's tournament|SF1}}\\n{{Player percentages\\n| team1 = {{flagIOC|SUI|2022 Winter}}\\n| [[Melanie Barbezat]] | 81%\\n| [[Esther Neuenschwander]] | 95%\\n| [[Silvana Tirinzoni]] | 75%\\n| [[Alina Pätz]] | 74%\\n| teampct1 = 81%\\n| team2 = {{flagIOC|JPN|2022 Winter}}\\n| [[Yurika Yoshida]] | 99%\\n| [[Yumi Suzuki]] | 85%\\n| [[Chinami Yoshida]] | 81%\\n| [[Satsuki Fujisawa]] | 89%\\n| teampct2 = 88%\\n}}\\n{{#lst:Curling at the 2022 Winter Olympics – Women's tournament|SF2}}\\n{{Player percentages\\n| team1 = {{flagIOC|SWE|2022 Winter}}\\n| [[Sofia Mabergs]] | 93%\\n| [[Agnes Knochenhauer]] | 91%\\n| [[Sara McManus]] | 85%\\n| [[Anna Hasselborg]] | 74%\\n| teampct1 = 86%\\n| team2 = {{flagIOC|GBR|2022 Winter}}\\n| [[Hailey Duff]] | 80%\\n| [[Jennifer Dodds]] | 83%\\n| [[Vicky Wright]] | 86%\\n| [[Eve Muirhead]] | 85%\\n| teampct2 = 83%\\n}}\""
     },
     "metadata": {},
     "output_type": "display_data"
    },
    {
     "name": "stdout",
     "output_type": "stream",
     "text": [
      "relatedness=0.852\n"
     ]
    },
    {
     "data": {
      "text/plain": "'2021 Olympic Qualification Event – Curling\\n\\n==Women==\\n\\n===World Ranking===\\n\\n{| class=\"wikitable\" style=\"text-align:center;\"\\n|-\\n!min-width=265| Member Associations !!width=15| Rank !!width=15| Points\\n|-\\n|style=\"text-align:left;\"| {{flagIOC|KOR|2022 Winter}} || 3 || 62.025\\n|-\\n|style=\"text-align:left;\"| {{flagIOC|JPN|2022 Winter}} || 7 || 47.099\\n|-\\n|style=\"text-align:left;\"| {{flagIOC|GBR|2022 Winter}} || 8 || 46.677\\n|-\\n|style=\"text-align:left;\"| {{flagIOC|GER|2022 Winter}} || 11 || 21.624\\n|-\\n|style=\"text-align:left;\"| {{flagIOC|CZE|2022 Winter}} || 12 || 20.464\\n|-\\n|style=\"text-align:left;\"| {{flagIOC|ITA|2022 Winter}} || 13 || 14.241\\n|-\\n|style=\"text-align:left;\"| {{flagIOC|LAT|2022 Winter}} || 14 || 11.213\\n|-\\n|style=\"text-align:left;\"| {{flagIOC|EST|2022 Winter}} || 16 || 10.654\\n|-\\n|style=\"text-align:left;\"| {{flagIOC|TUR|2022 Winter}} || 18 || 9.926\\n|-\\n|}'"
     },
     "metadata": {},
     "output_type": "display_data"
    },
    {
     "name": "stdout",
     "output_type": "stream",
     "text": [
      "relatedness=0.851\n"
     ]
    },
    {
     "data": {
      "text/plain": "'Curling at the 2022 Winter Olympics\\n\\n==Results summary==\\n\\n===Mixed doubles tournament===\\n\\n====Playoffs====\\n\\n=====Semifinals=====\\n\\n\\'\\'Monday, 7 February, 20:05\\'\\'\\n{{#lst:Curling at the 2022 Winter Olympics – Mixed doubles tournament|SF1}}\\n{| class=\"wikitable\"\\n!colspan=4 width=400|Player percentages\\n|-\\n!colspan=2 width=200 style=\"white-space:nowrap;\"| {{flagIOC|ITA|2022 Winter}}\\n!colspan=2 width=200 style=\"white-space:nowrap;\"| {{flagIOC|SWE|2022 Winter}}\\n|-\\n| [[Stefania Constantini]] || 84%\\n| [[Almida de Val]] || 52%\\n|-\\n| [[Amos Mosaner]] || 94%\\n| [[Oskar Eriksson]] || 76%\\n|-\\n| \\'\\'\\'Total\\'\\'\\' || 89%\\n| \\'\\'\\'Total\\'\\'\\' || 64%\\n|}\\n{{#lst:Curling at the 2022 Winter Olympics – Mixed doubles tournament|SF2}}\\n{| class=\"wikitable\"\\n!colspan=4 width=400|Player percentages\\n|-\\n!colspan=2 width=200 style=\"white-space:nowrap;\"| {{flagIOC|NOR|2022 Winter}}\\n!colspan=2 width=200 style=\"white-space:nowrap;\"| {{flagIOC|GBR|2022 Winter}}\\n|-\\n| [[Kristin Skaslien]] || 81%\\n| [[Jennifer Dodds]] || 83%\\n|-\\n| [[Magnus Nedregotten]] || 85%\\n| [[Bruce Mouat]] || 81%\\n|-\\n| \\'\\'\\'Total\\'\\'\\' || 83%\\n| \\'\\'\\'Total\\'\\'\\' || 82%\\n|}'"
     },
     "metadata": {},
     "output_type": "display_data"
    },
    {
     "name": "stdout",
     "output_type": "stream",
     "text": [
      "relatedness=0.851\n"
     ]
    },
    {
     "data": {
      "text/plain": "'2021 Olympic Qualification Event – Curling\\n\\n==Men==\\n\\n===World Ranking===\\n\\n{| class=\"wikitable\" style=\"text-align:center;\"\\n|-\\n!min-width=265| Member Associations !!width=15| Rank !!width=15| Points\\n|-\\n|style=\"text-align:left;\"| {{flagIOC|JPN|2022 Winter}} || 6 || 39.715\\n|-\\n|style=\"text-align:left;\"| {{flagIOC|NOR|2022 Winter}} || 7 || 39.161\\n|-\\n|style=\"text-align:left;\"| {{flagIOC|ITA|2022 Winter}} || 8 || 37.658\\n|-\\n|style=\"text-align:left;\"| {{flagIOC|KOR|2022 Winter}} || 9 || 33.070\\n|-\\n|style=\"text-align:left;\"| {{flagIOC|GER|2022 Winter}} || 11 || 20.622\\n|-\\n|style=\"text-align:left;\"| {{flagIOC|DEN|2022 Winter}} || 12 || 20.190\\n|-\\n|style=\"text-align:left;\"| {{flagIOC|NED|2022 Winter}} || 13 || 18.302\\n|-\\n|style=\"text-align:left;\"| {{flagIOC|CZE|2022 Winter}} || 16 || 9.916\\n|-\\n|style=\"text-align:left;\"| {{flagIOC|FIN|2022 Winter}} || 24 || 7.046\\n|}'"
     },
     "metadata": {},
     "output_type": "display_data"
    },
    {
     "name": "stdout",
     "output_type": "stream",
     "text": [
      "relatedness=0.851\n"
     ]
    },
    {
     "data": {
      "text/plain": "'Curling at the 2022 Winter Olympics – Qualification\\n\\n==Qualification Results==\\n\\n===Mixed doubles===\\n\\nNote: Scotland, England and Wales all compete separately in international curling. By an agreement between the curling federations of those three home nations, only Scotland can qualify for the Olympics on behalf of Great Britain.'"
     },
     "metadata": {},
     "output_type": "display_data"
    },
    {
     "name": "stdout",
     "output_type": "stream",
     "text": [
      "relatedness=0.850\n"
     ]
    },
    {
     "data": {
      "text/plain": "\"Eve Muirhead\\n\\n{{MedalGold | [[2022 Winter Olympics|2022 Beijing]]|[[Curling at the 2022 Winter Olympics – Women's tournament|Team]] }}\\n{{MedalBronze | [[2014 Winter Olympics|2014 Sochi]]|[[Curling at the 2014 Winter Olympics – Women's tournament|Team]] }}\\n{{MedalCountry | {{SCO}} }}\\n{{MedalCompetition | [[World Curling Championships|World Championships]] }}\\n{{MedalGold | [[2013 World Women's Curling Championship|2013 Riga]] | }}\\n{{MedalSilver | [[2010 World Women's Curling Championship|2010 Swift Current]] | }}\\n{{MedalBronze | [[2017 World Women's Curling Championship|2017 Beijing]] | }}\\n{{MedalCompetition|[[European Curling Championships]] | }}\\n{{MedalGold | [[2011 European Curling Championships|2011 Moscow]] | }}\\n{{MedalGold | [[2017 European Curling Championships|2017 St Gallen]] | }}\\n{{MedalGold | [[2021 European Curling Championships|2021 Lillehammer]] | }}\\n{{MedalSilver | [[2010 European Curling Championships|2010 Champéry]] | }}\\n{{MedalSilver | [[2012 European Curling Championships|2012 Karlstad]] | }}\\n{{MedalSilver | [[2013 European Curling Championships|2013 Stavanger]] | }}\\n{{MedalSilver | [[2015 European Curling Championships|2015 Esbjerg]] | }}\\n{{Medal | Silver | {{EuCC|2019|2019 Helsingborg}} | }}\\n{{MedalBronze | [[2014 European Curling Championships|2014 Champéry]] | }}\\n{{MedalBronze| [[2016 European Curling Championships|2016 Braehead]] |}}\\n{{MedalCompetition|[[Scottish Women's Curling Championship]]}}\\n{{MedalGold| [[2009 Scottish Women's Curling Championship|2009 Perth]] | }}\\n{{MedalGold| [[2010 Scottish Women's Curling Championship|2010 Perth]] | }}\\n{{MedalGold| [[2012 Scottish Women's Curling Championship|2012 Perth]] | }}\\n{{MedalGold| [[2013 Scottish Women's Curling Championship|2013 Perth]] | }}\\n{{MedalGold| [[2015 Scottish Women's Curling Championship|2015 Perth]] | }}\\n{{MedalGold| [[2016 Scottish Women's Curling Championship|2016 Perth]] | }}\\n{{MedalGold| [[2017 Scottish Women's Curling Championship|2017 Perth]] | }}\\n{{MedalGold| [[2020 Scottish Women's Curling Championship|2020 Perth]] | }}\\n{{MedalSilver| [[2019 Scottish Women's Curling Championship|2019 Perth]] | }}\\n{{MedalCompetition|[[World Junior Curling Championships]] }}\\n{{MedalGold| [[2007 World Junior Curling Championships|2007 Eveleth]] | }}\\n{{MedalGold| [[2008 World Junior Curling Championships|2008 Ostersund]] | }}\\n{{MedalGold| [[2009 World Junior Curling Championships|2009 Vancouver]] |}}\\n{{MedalGold| [[2011 World Junior Curling Championships|2011 Perth]] | }}\\n{{MedalCompetition | [[World Mixed Doubles Curling Championships|World Mixed Doubles Championship]] }}\\n{{MedalGold| [[2022 World Mixed Doubles Curling Championship|2022 Geneva]] | }}\\n{{MedalCompetition|[[Scottish Mixed Doubles Curling Championship]]}}\\n{{MedalGold| [[2022 Scottish Mixed Doubles Curling Championship|2022 Perth]] | }}\\n{{MedalBronze| [[2020 Scottish Mixed Doubles Curling Championship|2020 Perth]] | }}\\n{{MedalCompetition | [[European Mixed Curling Championship|European Mixed Championship]]}}\\n{{MedalGold | [[2012 European Mixed Curling Championship|2012 Erzurum]] | }}\\n}}\""
     },
     "metadata": {},
     "output_type": "display_data"
    },
    {
     "name": "stdout",
     "output_type": "stream",
     "text": [
      "relatedness=0.850\n"
     ]
    },
    {
     "data": {
      "text/plain": "\"Marc Kennedy\\n\\n==Career==\\n\\n===2022 Winter Olympics===\\n\\nKennedy's team, skipped by [[Brad Gushue]], qualified as the Canadian representatives by winning the [[2021 Canadian Olympic Curling Trials]], defeating [[Brad Jacobs]] 4–3 in the final. Kennedy was the alternate for the team. The team would go onto win the bronze medal.\""
     },
     "metadata": {},
     "output_type": "display_data"
    },
    {
     "name": "stdout",
     "output_type": "stream",
     "text": [
      "relatedness=0.850\n"
     ]
    },
    {
     "data": {
      "text/plain": "'List of 2022 Winter Paralympics medal winners\\n\\n==Wheelchair curling==\\n\\n{{main|Wheelchair curling at the 2022 Winter Paralympics}}\\n{{#lst:Wheelchair curling at the 2022 Winter Paralympics|Medal Summary}}'"
     },
     "metadata": {},
     "output_type": "display_data"
    },
    {
     "name": "stdout",
     "output_type": "stream",
     "text": [
      "relatedness=0.850\n"
     ]
    },
    {
     "data": {
      "text/plain": "\"Curling at the 2022 Winter Olympics\\n\\n==Results summary==\\n\\n===Men's tournament===\\n\\n====Playoffs====\\n\\n=====Semifinals=====\\n\\n''Thursday, 17 February, 20:05''\\n{{#lst:Curling at the 2022 Winter Olympics – Men's tournament|SF1}}\\n{{Player percentages\\n| team1 = {{flagIOC|GBR|2022 Winter}}\\n| [[Hammy McMillan Jr.]] | 96%\\n| [[Bobby Lammie]] | 90%\\n| [[Grant Hardie]] | 84%\\n| [[Bruce Mouat]] | 90%\\n| teampct1 = 90%\\n| team2 = {{flagIOC|USA|2022 Winter}}\\n| [[John Landsteiner]] | 79%\\n| [[Matt Hamilton (curler)|Matt Hamilton]] | 88%\\n| [[Chris Plys]] | 73%\\n| [[John Shuster]] | 87%\\n| teampct2 = 82%\\n}}\\n{{#lst:Curling at the 2022 Winter Olympics – Men's tournament|SF2}}\\n{{Player percentages\\n| team1 = {{flagIOC|SWE|2022 Winter}}\\n| [[Christoffer Sundgren]] | 95%\\n| [[Rasmus Wranå]] | 84%\\n| [[Oskar Eriksson]] | 89%\\n| [[Niklas Edin]] | 90%\\n| teampct1 = 90%\\n| team2 = {{flagIOC|CAN|2022 Winter}}\\n| [[Geoff Walker (curler)|Geoff Walker]] | 93%\\n| [[Brett Gallant]] | 69%\\n| [[Mark Nichols (curler)|Mark Nichols]] | 79%\\n| [[Brad Gushue]] | 76%\\n| teampct2 = 79%\\n}}\""
     },
     "metadata": {},
     "output_type": "display_data"
    },
    {
     "name": "stdout",
     "output_type": "stream",
     "text": [
      "relatedness=0.849\n"
     ]
    },
    {
     "data": {
      "text/plain": "'Curling at the 2022 Winter Olympics\\n\\n==Results summary==\\n\\n===Mixed doubles tournament===\\n\\n{{main|Curling at the 2022 Winter Olympics – Mixed doubles tournament}}'"
     },
     "metadata": {},
     "output_type": "display_data"
    },
    {
     "name": "stdout",
     "output_type": "stream",
     "text": [
      "relatedness=0.849\n"
     ]
    },
    {
     "data": {
      "text/plain": "\"2021 Olympic Qualification Event – Curling\\n\\n==Mixed doubles==\\n\\n===Teams===\\n\\n{| class=wikitable \\n|-\\n!width=250|{{flagIOC|AUS|2022 Winter}}\\n!width=250|{{flagIOC|DEN|2022 Winter}}\\n!width=250|{{flagIOC|EST|2022 Winter}}\\n!width=250|{{flagIOC|FIN|2022 Winter}}\\n|-\\n|\\n'''Female:''' [[Tahli Gill]]<br>\\n'''Male:''' [[Dean Hewitt]]\\n|\\n'''Female:''' [[Jasmin Lander]]<br>\\n'''Male:''' [[Henrik Holtermann]]\\n|\\n'''Female:''' [[Marie Kaldvee]]<br>\\n'''Male:''' [[Harri Lill]]\\n|\\n'''Female:''' [[Oona Kauste]]<br>\\n'''Male:''' [[Aku Kauste]]\\n|-\\n!width=250|{{flagIOC|GER|2022 Winter}}\\n!width=250|{{flagIOC|HUN|2022 Winter}}\\n!width=250|{{flagIOC|JPN|2022 Winter}}\\n!width=250|{{flagIOC|LAT|2022 Winter}}\\n|-\\n|\\n'''Female:''' [[Pia-Lisa Schöll]]<br>\\n'''Male:''' [[Klaudius Harsch]]\\n|\\n'''Female:''' [[Dorottya Palancsa]]<br>\\n'''Male:''' [[Zsolt Kiss (curler)|Zsolt Kiss]]\\n|\\n'''Female:''' [[Chiaki Matsumura]]<br>\\n'''Male:''' [[Yasumasa Tanida]]\\n|\\n'''Female:''' [[Daina Barone]]<br>\\n'''Male:''' [[Arnis Veidemanis]]\\n|-\\n!width=250|{{flagIOC|NZL|2022 Winter}}\\n!width=250|{{flagIOC|ROC|2022 Winter}}\\n!width=250|{{flagIOC|KOR|2022 Winter}}\\n!width=250|{{flagIOC|ESP|2022 Winter}}\\n|-\\n|\\n'''Female:''' [[Mhairi-Bronté Duncan]]<br>\\n'''Male:''' [[Brett Sargon]]\\n|\\n'''Female:''' [[Anna Sidorova]]<br>\\n'''Male:''' [[Alexey Timofeev]]\\n|\\n'''Female:''' [[Kim Min-ji (curler)|Kim Min-ji]]<br>\\n'''Male:''' [[Lee Ki-jeong]]\\n|\\n'''Female:''' [[Oihane Otaegi|Oihane Unanue]]<br>\\n'''Male:''' [[Mikel Unanue]]\\n|-\\n!width=250|{{flagIOC|TUR|2022 Winter}}\\n!width=250|{{flagIOC|USA|2022 Winter}}\\n!width=250|\\n!width=250|\\n|-\\n|\\n'''Female:''' [[Dilşat Yıldız]]<br>\\n'''Male:''' [[Uğurcan Karagöz]]\\n|\\n'''Female:''' [[Vicky Persinger]]<br>\\n'''Male:''' [[Chris Plys]]\\n|\\n|\\n|}\""
     },
     "metadata": {},
     "output_type": "display_data"
    },
    {
     "name": "stdout",
     "output_type": "stream",
     "text": [
      "relatedness=0.848\n"
     ]
    },
    {
     "data": {
      "text/plain": "\"Curling at the 2022 Winter Olympics\\n\\n==Results summary==\\n\\n===Men's tournament===\\n\\n{{main|Curling at the 2022 Winter Olympics – Men's tournament}}\""
     },
     "metadata": {},
     "output_type": "display_data"
    },
    {
     "name": "stdout",
     "output_type": "stream",
     "text": [
      "relatedness=0.848\n"
     ]
    },
    {
     "data": {
      "text/plain": "\"Australia at the 2022 Winter Olympics\\n\\n==Curling==\\n\\n{{main|Curling at the 2022 Winter Olympics|Curling at the 2022 Winter Olympics – Qualification}}\\nAustralia's curling team consisted of two athletes (one per gender), competing in the mixed doubles tournament. This marked the country's debut in the sport at the Olympics. The team won two out of nine matches and did not advance to the medal round.\\n\\n;Summary\\n{|class=wikitable style=font-size:90%;text-align:center\\n!rowspan=2|Team\\n!rowspan=2|Event\\n!colspan=10|Round robin\\n!Semifinal\\n!colspan=2|Final / {{abbr|BM|Bronze medal match}}\\n|-\\n!Opposition<br/>Score\\n!Opposition<br/>Score\\n!Opposition<br/>Score\\n!Opposition<br/>Score\\n!Opposition<br/>Score\\n!Opposition<br/>Score\\n!Opposition<br/>Score\\n!Opposition<br/>Score\\n!Opposition<br/>Score\\n!Rank\\n!Opposition<br/>Score\\n!Opposition<br/>Score\\n!Rank\\n|-\\n|align=left|[[Tahli Gill]]<br>[[Dean Hewitt]]\\n|align=left|[[Curling at the 2022 Winter Olympics – Mixed doubles tournament|Mixed doubles tournament]]\\n|{{flagIOCshort|USA|2022 Winter}}<br>'''L''' 5–6\\n|{{flagIOCshort|CHN|2022 Winter}}<br>'''L''' 5–6\\n|{{flagIOCshort|CZE|2022 Winter}}<br>'''L''' 2–8\\n|{{flagIOCshort|SWE|2022 Winter}}<br>'''L''' 6–7\\n|{{flagIOCshort|GBR|2022 Winter}}<br>'''L''' 8–9\\n|{{flagIOCshort|NOR|2022 Winter}}<br>'''L''' 4–10\\n|{{flagIOCshort|ITA|2022 Winter}}<br>'''L''' 3–7\\n|{{flagIOCshort|SUI|2022 Winter}}<br>'''W''' 9–6\\n|{{flagIOCshort|CAN|2022 Winter}}<br>'''W''' 10–8\\n|10\\n|colspan=3|Did not advance\\n|}\""
     },
     "metadata": {},
     "output_type": "display_data"
    },
    {
     "name": "stdout",
     "output_type": "stream",
     "text": [
      "relatedness=0.848\n"
     ]
    },
    {
     "data": {
      "text/plain": "\"Curling at the 2022 Winter Olympics\\n\\n==Teams==\\n\\n===Men===\\n\\n{| class=wikitable\\n|-\\n!width=200|{{flagIOC|CAN|2022 Winter}}\\n!width=200|{{flagIOC|CHN|2022 Winter}}\\n!width=200|{{flagIOC|DEN|2022 Winter}}\\n!width=200|{{flagIOC|GBR|2022 Winter}}\\n!width=200|{{flagIOC|ITA|2022 Winter}}\\n|-\\n|\\n'''Skip:''' [[Brad Gushue]]<br>\\n'''Third:''' [[Mark Nichols (curler)|Mark Nichols]]<br>\\n'''Second:''' [[Brett Gallant]]<br>\\n'''Lead:''' [[Geoff Walker (curler)|Geoff Walker]]<br>\\n'''Alternate:''' ''[[Marc Kennedy]]''\\n|\\n'''Skip:''' [[Ma Xiuyue]]<br>\\n'''Third:''' [[Zou Qiang]]<br>\\n'''Second:''' [[Wang Zhiyu]]<br>\\n'''Lead:''' [[Xu Jingtao]]<br>\\n'''Alternate:''' ''[[Jiang Dongxu]]''\\n|\\n'''Skip:''' [[Mikkel Krause]]<br>\\n'''Third:''' [[Mads Nørgård]]<br>\\n'''Second:''' [[Henrik Holtermann]]<br>\\n'''Lead:''' [[Kasper Wiksten]]<br>\\n'''Alternate:''' ''[[Tobias Thune]]''\\n|\\n'''Skip:''' [[Bruce Mouat]]<br>\\n'''Third:''' [[Grant Hardie]]<br>\\n'''Second:''' [[Bobby Lammie]]<br>\\n'''Lead:''' [[Hammy McMillan Jr.]]<br>\\n'''Alternate:''' ''[[Ross Whyte]]''\\n|\\n'''Skip:''' [[Joël Retornaz]]<br>\\n'''Third:''' [[Amos Mosaner]]<br>\\n'''Second:''' [[Sebastiano Arman]]<br>\\n'''Lead:''' [[Simone Gonin]]<br>\\n'''Alternate:''' ''[[Mattia Giovanella]]''\\n|-\\n!width=200|{{flagIOC|NOR|2022 Winter}}\\n!width=200|{{flagIOC|ROC|2022 Winter}}\\n!width=200|{{flagIOC|SWE|2022 Winter}}\\n!width=200|{{flagIOC|SUI|2022 Winter}}\\n!width=200|{{flagIOC|USA|2022 Winter}}\\n|-\\n|\\n'''Skip:''' [[Steffen Walstad]]<br>\\n'''Third:''' [[Torger Nergård]]<br>\\n'''Second:''' [[Markus Høiberg]]<br>\\n'''Lead:''' [[Magnus Vågberg]]<br>\\n'''Alternate:''' ''[[Magnus Nedregotten]]''\\n|\\n'''Skip:''' [[Sergey Glukhov]]<br>\\n'''Third:''' [[Evgeny Klimov (curler)|Evgeny Klimov]]<br>\\n'''Second:''' [[Dmitry Mironov]]<br>\\n'''Lead:''' [[Anton Kalalb]]<br>\\n'''Alternate:''' ''[[Daniil Goriachev]]''\\n|\\n'''Skip:''' [[Niklas Edin]]<br>\\n'''Third:''' [[Oskar Eriksson]]<br>\\n'''Second:''' [[Rasmus Wranå]]<br>\\n'''Lead:''' [[Christoffer Sundgren]]<br>\\n'''Alternate:''' ''{{Nowrap|[[Daniel Magnusson (curler)|Daniel Magnusson]]}}''\\n|\\n'''Fourth:''' [[Benoît Schwarz]]<br>\\n'''Third:''' [[Sven Michel]]<br>\\n'''Skip:''' [[Peter de Cruz]]<br>\\n'''Lead:''' [[Valentin Tanner]]<br>\\n'''Alternate:''' ''[[Pablo Lachat]]''\\n|\\n'''Skip:''' [[John Shuster]]<br>\\n'''Third:''' [[Chris Plys]]<br>\\n'''Second:''' [[Matt Hamilton (curler)|Matt Hamilton]]<br>\\n'''Lead:''' [[John Landsteiner]]<br>\\n'''Alternate:''' ''[[Colin Hufman]]''\\n|}\""
     },
     "metadata": {},
     "output_type": "display_data"
    },
    {
     "name": "stdout",
     "output_type": "stream",
     "text": [
      "relatedness=0.847\n"
     ]
    },
    {
     "data": {
      "text/plain": "\"Great Britain at the 2022 Winter Olympics\\n\\n==Summary==\\n\\n{{unsourced section|date=February 2022}}\\nThe team won two medals (a tally below the 3-7 medal target set by UK Sport) during the course of the Games, both in [[curling]]. This is also three medals less than the team achieved at both the 2014 and 2018 Winter Olympics. The [[Curling at the 2022 Winter Olympics – Women's tournament|women's team]], skipped by Eve Muirhead won gold, beating Japan 10-3 in the gold medal game, and the [[Curling at the 2022 Winter Olympics – Men's tournament|men's team]], skipped by Bruce Mouat won silver, having lost the gold medal match to Sweden 5-4 after an extra end. The gold medal from women's curling team ensured Great Britain won at least one gold medal for a fourth consecutive Winter Olympics. However, there was no repeat of the successes of previous Olympic Games in the sliding sports, particularly in [[Skeleton (sport)|skeleton]], where Great Britain failed to win a medal - the first time this had happened since skeleton was included as an event. 2018 bronze medallist [[Laura Deas]] finished 19th. The team had other high hopes with [[Charlotte Bankes]] being one of the favourites to win the Women's Snowboard Cross event, but she was beaten in the quarter finals and finished ninth overall. [[Isabel Atkin|Izzy Atkin]] who won a bronze in 2018 in the Women's Ski Slopestyle also dented the team's hopes of further medals, after she withdrew from the games due to injury.\""
     },
     "metadata": {},
     "output_type": "display_data"
    },
    {
     "name": "stdout",
     "output_type": "stream",
     "text": [
      "relatedness=0.847\n"
     ]
    },
    {
     "data": {
      "text/plain": "'2021 Olympic Qualification Event – Curling\\n\\n==Mixed doubles==\\n\\n===World Ranking===\\n\\n{| class=\"wikitable\" style=\"text-align:center;\"\\n|-\\n!min-width=265| Member Associations !!width=15| Rank !!width=15| Points\\n|-\\n|style=\"text-align:left;\"| {{flagIOC|USA|2022 Winter}} || 5 || 42.954\\n|-\\n|style=\"text-align:left;\"| {{flagIOC|KOR|2022 Winter}} || 8 || 34.678\\n|-\\n|style=\"text-align:left;\"| {{flagIOC|ROC|2022 Winter}} || 9 || 30.670\\n|-\\n|style=\"text-align:left;\"| {{flagIOC|FIN|2022 Winter}} || 11 || 26.524\\n|-\\n|style=\"text-align:left;\"| {{flagIOC|JPN|2022 Winter}} || 12 || 20.754\\n|-\\n|style=\"text-align:left;\"| {{flagIOC|AUS|2022 Winter}} || 14 || 19.335\\n|-\\n|style=\"text-align:left;\"| {{flagIOC|HUN|2022 Winter}} || 15 || 16.988\\n|-\\n|style=\"text-align:left;\"| {{flagIOC|EST|2022 Winter}} || 16 || 14.109\\n|-\\n|style=\"text-align:left;\"| {{flagIOC|TUR|2022 Winter}} || 17 || 12.089\\n|-\\n|style=\"text-align:left;\"| {{flagIOC|GER|2022 Winter}} || 18 || 11.345\\n|-\\n|style=\"text-align:left;\"| {{flagIOC|ESP|2022 Winter}} || 20 || 10.047\\n|-\\n|style=\"text-align:left;\"| {{flagIOC|NZL|2022 Winter}} || 21 || 9.794\\n|-\\n|style=\"text-align:left;\"| {{flagIOC|LAT|2022 Winter}} || 22 || 8.977\\n|-\\n|style=\"text-align:left;\"| {{flagIOC|DEN|2022 Winter}} || 23 || 6.377\\n|-\\n|}'"
     },
     "metadata": {},
     "output_type": "display_data"
    },
    {
     "name": "stdout",
     "output_type": "stream",
     "text": [
      "relatedness=0.847\n"
     ]
    },
    {
     "data": {
      "text/plain": "\"2021 Olympic Qualification Event – Curling\\n\\n==Women==\\n\\n===Teams===\\n\\n{| class=wikitable\\n|-\\n!width=250|{{flagIOC|CZE|2022 Winter}}\\n!width=250|{{flagIOC|EST|2022 Winter}}\\n!width=250|{{flagIOC|GER|2022 Winter}}\\n|-\\n|\\n'''Skip:''' [[Anna Kubešková]]<br>\\n'''Third:''' [[Alžběta Baudyšová]]<br>\\n'''Second:''' [[Michaela Baudyšová]]<br>\\n'''Lead:''' [[Ežen Kolčevská]]<br>\\n'''Alternate:''' ''[[Klára Svatoňová]]''\\n|\\n'''Fourth:''' [[Kerli Laidsalu]]<br>\\n'''Skip:''' [[Liisa Turmann]]<br>\\n'''Second:''' [[Heili Grossmann]]<br>\\n'''Lead:''' [[Erika Tuvike]]<br>\\n'''Alternate:''' ''[[Karoliine Kaare]]''\\n|\\n'''Skip:''' [[Daniela Jentsch]]<br>\\n'''Third:''' [[Emira Abbes]]<br>\\n'''Second:''' [[Mia Höhne]]<br>\\n'''Lead:''' [[Analena Jentsch]]<br>\\n'''Alternate:''' ''[[Klara-Hermine Fomm]]''\\n|-\\n!width=250|{{flagIOC|GBR|2022 Winter}}\\n!width=250|{{flagIOC|ITA|2022 Winter}}\\n!width=250|{{flagIOC|JPN|2022 Winter}}\\n|-\\n|\\n'''Skip:''' [[Eve Muirhead]]<br>\\n'''Third:''' [[Vicky Wright]]<br>\\n'''Second:''' [[Jennifer Dodds]]<br>\\n'''Lead:''' [[Hailey Duff]]<br>\\n'''Alternate:''' ''[[Mili Smith]]''\\n|\\n'''Skip:''' [[Stefania Constantini]]<br>\\n'''Third:''' [[Marta Lo Deserto]]<br>\\n'''Second:''' [[Angela Romei]]<br>\\n'''Lead:''' [[Giulia Zardini Lacedelli]]<br>\\n'''Alternate:''' ''[[Elena Dami]]''\\n|\\n'''Skip:''' [[Satsuki Fujisawa]]<br>\\n'''Third:''' [[Chinami Yoshida]]<br>\\n'''Second:''' [[Yumi Suzuki]]<br>\\n'''Lead:''' [[Yurika Yoshida]]<br>\\n'''Alternate:''' ''[[Kotomi Ishizaki]]''\\n|-\\n!width=250|{{flagIOC|LAT|2022 Winter}}\\n!width=250|{{flagIOC|KOR|2022 Winter}}\\n!width=250|{{flagIOC|TUR|2022 Winter}}\\n|-\\n|\\n'''Fourth:''' [[Evelīna Barone]]<br>\\n'''Skip:''' [[Santa Blumberga-Bērziņa]]<br>\\n'''Second:''' [[Ieva Rudzīte]]<br>\\n'''Lead:''' [[Ieva Krusta]]<br>\\n'''Alternate:''' ''[[Tīna Siliņa]]''\\n|\\n'''Skip:''' [[Kim Eun-jung (curler)|Kim Eun-jung]]<br>\\n'''Third:''' [[Kim Kyeong-ae (curler)|Kim Kyeong-ae]]<br>\\n'''Second:''' [[Kim Cho-hi]]<br>\\n'''Lead:''' [[Kim Seon-yeong (curler)|Kim Seon-yeong]]<br>\\n'''Alternate:''' ''[[Kim Yeong-mi]]''\\n|\\n'''Skip:''' [[Dilşat Yıldız]]<br>\\n'''Third:''' [[Öznur Polat]]<br>\\n'''Second:''' [[Berfin Şengül]]<br>\\n'''Lead:''' [[Ayşe Gözütok]]<br>\\n'''Alternate:''' ''[[Mihriban Polat]]''\\n|}\""
     },
     "metadata": {},
     "output_type": "display_data"
    },
    {
     "name": "stdout",
     "output_type": "stream",
     "text": [
      "relatedness=0.846\n"
     ]
    },
    {
     "data": {
      "text/plain": "'2021 Olympic Qualification Event – Curling\\n\\n==Sponsorship controversy==\\n\\nLive streaming of the mixed doubles event was cancelled by some international broadcasters, including [[NBC Olympic broadcasts|NBC]] and [[NHK]], due to the sponsorship of a Dutch [[sex toy]] store, EasyToys, whose logo appeared on the ice. Following the mixed doubles event, the ads were replaced with the statement \"#equalityforall\" for the women\\'s and men\\'s events.'"
     },
     "metadata": {},
     "output_type": "display_data"
    },
    {
     "name": "stdout",
     "output_type": "stream",
     "text": [
      "relatedness=0.846\n"
     ]
    },
    {
     "data": {
      "text/plain": "'2021 Olympic Qualification Event – Curling\\n\\n==Mixed doubles==\\n\\n===Playoffs===\\n\\n{{6TeamBracket|maxround=2\\n| boldwinner = y\\n\\n| RD1 = Qualification semifinals\\n| RD2 = Qualification finals\\n\\n| RD1-seed1=B2\\n| RD1-team1={{flagIOC|KOR|2022 Winter}}\\n| RD1-score1=7\\n| RD1-seed2=A3\\n| RD1-team2={{flagIOC|HUN|2022 Winter}}\\n| RD1-score2=5\\n\\n| RD1-seed3=A2\\n| RD1-team3={{flagIOC|ROC|2022 Winter}}\\n| RD1-score3=10\\n| RD1-seed4=B3\\n| RD1-team4={{flagIOC|FIN|2022 Winter}}\\n| RD1-score4=5\\n\\n| RD2-seed1=A1\\n| RD2-team1={{flagIOC|AUS|2022 Winter}}\\n| RD2-score1=6\\n| RD2-seed2=B2\\n| RD2-team2={{flagIOC|KOR|2022 Winter}}\\n| RD2-score2=5\\n\\n| RD2-seed3=B1\\n| RD2-team3={{flagIOC|USA|2022 Winter}}\\n| RD2-score3=6\\n| RD2-seed4=A2\\n| RD2-team4={{flagIOC|ROC|2022 Winter}}\\n| RD2-score4=4\\n}}'"
     },
     "metadata": {},
     "output_type": "display_data"
    },
    {
     "name": "stdout",
     "output_type": "stream",
     "text": [
      "relatedness=0.845\n"
     ]
    },
    {
     "data": {
      "text/plain": "'2021 Olympic Qualification Event – Curling\\n\\n==Mixed doubles==\\n\\n===Playoffs===\\n\\n====Semifinal 1====\\n\\n\\'\\'Thursday, December 9, 9:00\\'\\'\\n{{Curlingbox8\\n| sheet = D\\n| team1 = {{flagIOC|KOR|2022 Winter}} {{X}}\\n|2|0|0|1|0|1|0|3| |7\\n| team2 = {{flagIOC|HUN|2022 Winter}}\\n|0|1|1|0|1|0|2|0| |5\\n}}\\n{| class=\"wikitable\"\\n!colspan=4 width=400|Player percentages\\n|-\\n!colspan=2 width=200 style=\"white-space:nowrap;\"| {{flagIOC|KOR|2022 Winter}}\\n!colspan=2 width=200 style=\"white-space:nowrap;\"| {{flagIOC|HUN|2022 Winter}}\\n|-\\n| [[Kim Min-ji (curler)|Kim Min-ji]] || 61%\\n| [[Dorottya Palancsa]] || 75%\\n|-\\n| [[Lee Ki-jeong]] || 67%\\n| [[Zsolt Kiss (curler)|Zsolt Kiss]] || 73%\\n|-\\n| \\'\\'\\'Total\\'\\'\\' || 65%\\n| \\'\\'\\'Total\\'\\'\\' || 74%\\n|}'"
     },
     "metadata": {},
     "output_type": "display_data"
    },
    {
     "name": "stdout",
     "output_type": "stream",
     "text": [
      "relatedness=0.845\n"
     ]
    },
    {
     "data": {
      "text/plain": "'2021 Olympic Qualification Event – Curling\\n\\n==Mixed doubles==\\n\\n===Playoffs===\\n\\n====Semifinal 2====\\n\\n\\'\\'Thursday, December 9, 9:00\\'\\'\\n{{Curlingbox8\\n| sheet = B\\n| team1 = {{flagIOC|ROC|2022 Winter}} {{X}}\\n|2|0|0|2|1|0|5|X| |10\\n| team2 = {{flagIOC|FIN|2022 Winter}}\\n|0|3|1|0|0|1|0|X| |5\\n}}\\n{| class=\"wikitable\"\\n!colspan=4 width=400|Player percentages\\n|-\\n!colspan=2 width=200 style=\"white-space:nowrap;\"| {{flagIOC|ROC|2022 Winter}}\\n!colspan=2 width=200 style=\"white-space:nowrap;\"| {{flagIOC|FIN|2022 Winter}}\\n|-\\n| [[Anna Sidorova]] || 77%\\n| [[Oona Kauste]] || 82%\\n|-\\n| [[Alexey Timofeev]] || 79%\\n| [[Aku Kauste]] || 81%\\n|-\\n| \\'\\'\\'Total\\'\\'\\' || 78%\\n| \\'\\'\\'Total\\'\\'\\' || 81%\\n|}'"
     },
     "metadata": {},
     "output_type": "display_data"
    },
    {
     "name": "stdout",
     "output_type": "stream",
     "text": [
      "relatedness=0.844\n"
     ]
    },
    {
     "data": {
      "text/plain": "\"Curling at the 2022 Winter Olympics\\n\\n==Results summary==\\n\\n===Women's tournament===\\n\\n====Round robin====\\n\\n;Standings\\n{{#lst:Curling at the 2022 Winter Olympics – Women's tournament|Standings}}\\n;Results\\n{{#lst:Curling at the 2022 Winter Olympics – Women's tournament|Results}}\""
     },
     "metadata": {},
     "output_type": "display_data"
    },
    {
     "name": "stdout",
     "output_type": "stream",
     "text": [
      "relatedness=0.844\n"
     ]
    },
    {
     "data": {
      "text/plain": "\"Mark Nichols (curler)\\n\\n==Career==\\n\\n===2022 Winter Olympics===\\n\\nNichol's team, skipped by [[Brad Gushue]], qualified as the Canadian representatives for the [[2022 Winter Olympics]] by winning the [[2021 Canadian Olympic Curling Trials]], defeating [[Brad Jacobs (curler)|Brad Jacobs]] 4–3 in the final. The team would go onto win the bronze medal.\""
     },
     "metadata": {},
     "output_type": "display_data"
    },
    {
     "name": "stdout",
     "output_type": "stream",
     "text": [
      "relatedness=0.843\n"
     ]
    },
    {
     "data": {
      "text/plain": "'Curling at the 2022 Winter Olympics – Qualification\\n\\n==Qualification Results==\\n\\n{| class=\"wikitable\" style=\"text-align: center; font-size:95%\"\\n|-\\n!colspan=2|Key\\n|-\\n|style=\"background:#ccffcc; width:20px;\"|\\n|align=left|Olympic Host Nation\\n|-\\n|style=\"background:#ccffff; width:20px;\"|\\n|align=left|Qualified for the Olympic Games via placement at the 2021 World Championships\\n|-\\n|style=\"background:#cccfff; width:20px;\"|\\n|align=left|Qualified for the Olympic Games via the Olympic Qualification Event\\n|-\\n|style=\"background:#ffffcc; width:20px;\"|\\n|align=left|Qualified for the Olympic Qualification Event\\n|-\\n|[[File:Olympic_rings_without_rims.svg|25px]]\\n|align=left|Nation Qualified for the [[2022 Winter Olympics]]\\n|-\\n|✔\\n|align=left|Nation Qualified Without Participating in the Pre-OQE or OQE\\n|-\\n|✖\\n|align=left|Nation Didn\\'t Qualify for the Event\\n|}'"
     },
     "metadata": {},
     "output_type": "display_data"
    },
    {
     "name": "stdout",
     "output_type": "stream",
     "text": [
      "relatedness=0.843\n"
     ]
    },
    {
     "data": {
      "text/plain": "\"Curling at the 2022 Winter Olympics\\n\\n{{Short description|none}}\\n{{Use dmy dates|date=February 2022}}\\n{{Infobox Olympic event\\n|event = Curling\\n|games = 2022 Winter\\n|image = [[Image:Curling pictogram.svg|80px]]\\n|caption = Curling pictogram\\n|venue = [[Beijing National Aquatics Centre]]\\n|dates = 2–20 February 2022\\n|competitors = 114\\n| num_events  = 3 (1 men, 1 women, 1 mixed)\\n|nations =14\\n|prev = [[Curling at the 2018 Winter Olympics|2018]]\\n|next = ''2026''\\n}}\\n{{Infobox Olympic event\\n|event = Men's curling\\n|games = 2022 Winter\\n|gold = {{flagIOC|SWE}}\\n|silver = {{flagIOC|GBR}}\\n|bronze = {{flagIOC|CAN}}\\n}}\\n{{Infobox Olympic event\\n|event = Women's curling\\n|games = 2022 Winter\\n|gold = {{flagIOC|GBR}}\\n|silver = {{flagIOC|JPN}}\\n|bronze = {{flagIOC|SWE}}\\n}}\\n{{Infobox Olympic event\\n|event = Mixed doubles's curling\\n|games = 2022 Winter\\n|gold = {{flagIOC|ITA}}\\n|silver = {{flagIOC|NOR}}\\n|bronze = {{flagIOC|SWE}}\\n}}\\n{{Curling at the 2022 Winter Olympics}}\\nThe [[Curling at the Winter Olympics|curling]] competitions of the [[2022 Winter Olympics]] were held at the [[Beijing National Aquatics Centre]], one of the [[Olympic Green]] venues. Curling competitions were scheduled for every day of the games, from February 2 to February 20. This was the eighth time that [[curling]] was part of the Olympic program.\\n\\nIn each of the men's, women's, and [[mixed doubles curling|mixed doubles]] competitions, 10 nations competed. The mixed doubles competition was expanded for its second appearance in the Olympics. A total of 120 quota spots (60 per sex) were distributed to the sport of curling, an increase of four from the [[2018 Winter Olympics]]. A total of 3 events were contested, one for men, one for women, and one mixed.\""
     },
     "metadata": {},
     "output_type": "display_data"
    },
    {
     "name": "stdout",
     "output_type": "stream",
     "text": [
      "relatedness=0.843\n"
     ]
    },
    {
     "data": {
      "text/plain": "'2021 Olympic Qualification Event – Curling\\n\\n==Mixed doubles==\\n\\n===Playoffs===\\n\\n====Qualification Game 1====\\n\\n\\'\\'Thursday, December 9, 15:00\\'\\'\\n{{Curlingbox8\\n| sheet = C\\n| team1 = {{flagIOC|AUS|2022 Winter}} {{X}}\\n|0|1|0|1|0|3|0|1| |6\\n| team2 = {{flagIOC|KOR|2022 Winter}}\\n|1|0|2|0|1|0|1|0| |5\\n}}\\n{| class=\"wikitable\"\\n!colspan=4 width=400|Player percentages\\n|-\\n!colspan=2 width=200 style=\"white-space:nowrap;\"| {{flagIOC|AUS|2022 Winter}}\\n!colspan=2 width=200 style=\"white-space:nowrap;\"| {{flagIOC|KOR|2022 Winter}}\\n|-\\n| [[Tahli Gill]] || 69%\\n| [[Kim Min-ji (curler)|Kim Min-ji]] || 78%\\n|-\\n| [[Dean Hewitt]] || 71%\\n| [[Lee Ki-jeong]] || 65%\\n|-\\n| \\'\\'\\'Total\\'\\'\\' || 70%\\n| \\'\\'\\'Total\\'\\'\\' || 70%\\n|}'"
     },
     "metadata": {},
     "output_type": "display_data"
    },
    {
     "name": "stdout",
     "output_type": "stream",
     "text": [
      "relatedness=0.842\n"
     ]
    },
    {
     "data": {
      "text/plain": "'2021 Olympic Qualification Event – Curling\\n\\n==Women==\\n\\n===Round robin standings===\\n\\n{| class=\"wikitable sortable nowrap\" style=\"text-align:center; font-size:0.9em;\"\\n|+ Round Robin Summary Table\\n|-\\n! Pos.\\n! Country\\n! [[Image:{{country alias| CZE|flag=yes|year=2021}}|22x20px|border|alt=Czech Republic|link=]]\\n! [[Image:{{country alias| EST|flag=yes|year=2021}}|22x20px|border|alt=Estonia|link=]]\\n! [[Image:{{country alias| GER|flag=yes|year=2021}}|22x20px|border|alt=Germany|link=]]\\n! [[Image:{{country alias| GBR|flag=yes|year=2021}}|22x20px|border|alt=Great Britain|link=]]\\n! [[Image:{{country alias| ITA|flag=yes|year=2021}}|22x20px|border|alt=Italy|link=]]\\n! [[Image:{{country alias| JPN|flag=yes|year=2021}}|22x20px|border|alt=Japan|link=]]\\n! [[Image:{{country alias| LAT|flag=yes|year=2021}}|22x20px|border|alt=Latvia|link=]]\\n! [[Image:{{country alias| KOR|flag=yes|year=2021}}|22x20px|border|alt=South Korea|link=]]\\n! [[Image:{{country alias| TUR|flag=yes|year=2021}}|22x20px|border|alt=Turkey|link=]]\\n! Record\\n|-\\n! 9\\n| style=\"text-align:left;\" | {{flagIOC|CZE|2022 Winter}}\\n| {{N/a|—}} <!--- vs CZE --->\\n| {{No2|5–6}} <!--- vs EST --->\\n| {{Won|10–4}} <!--- vs GER --->\\n| {{No2|5–7}} <!--- vs GBR --->\\n| {{No2|6–13}} <!--- vs ITA --->\\n| {{No2|2–6}} <!--- vs JPN --->\\n| {{No2|6–9}} <!--- vs LAT --->\\n| {{No2|6–12}} <!--- vs KOR --->\\n| {{Won|7–2}} <!--- vs TUR --->\\n! 2–6\\n|-\\n! 8\\n| style=\"text-align:left;\" | {{flagIOC|EST|2022 Winter}}\\n| {{Won|6–5}} <!--- vs CZE --->\\n| {{N/a|—}} <!--- vs EST --->\\n| {{No2|1–7}} <!--- vs GER --->\\n| {{No2|2–9}} <!--- vs GBR --->\\n| {{No2|2–6}} <!--- vs ITA --->\\n| {{No2|2–9}} <!--- vs JPN --->\\n| {{No2|6–8}} <!--- vs LAT --->\\n| {{No2|5–10}} <!--- vs KOR --->\\n| {{Won|12–11}} <!--- vs TUR --->\\n! 2–6\\n|-\\n! 6\\n| style=\"text-align:left;\" | {{flagIOC|GER|2022 Winter}}\\n| {{No2|4–10}} <!--- vs CZE --->\\n| {{Won|7–1}} <!--- vs EST --->\\n| {{N/a|—}} <!--- vs GER --->\\n| {{No2|4–7}} <!--- vs GBR --->\\n| {{No2|6–7}} <!--- vs ITA --->\\n| {{No2|6–7}} <!--- vs JPN --->\\n| {{Won|8–7}} <!--- vs LAT --->\\n| {{No2|8–10}} <!--- vs KOR --->\\n| {{Won|10–7}} <!--- vs TUR --->\\n! 3–5\\n|-\\n! 1\\n| style=\"text-align:left; background:#cccfff;\" | {{flagIOC|GBR|2022 Winter}}\\n| {{Won|7–5}} <!--- vs CZE --->\\n| {{Won|9–2}} <!--- vs EST --->\\n| {{Won|7–4}} <!--- vs GER --->\\n| {{N/a|—}} <!--- vs GBR --->'"
     },
     "metadata": {},
     "output_type": "display_data"
    },
    {
     "name": "stdout",
     "output_type": "stream",
     "text": [
      "relatedness=0.842\n"
     ]
    },
    {
     "data": {
      "text/plain": "'Curling at the 2022 Winter Olympics\\n\\n==Results summary==\\n\\n===Mixed doubles tournament===\\n\\n====Round robin====\\n\\n;Standings\\n{{#lst:Curling at the 2022 Winter Olympics – Mixed doubles tournament|Standings}}\\n;Results\\n{{#lst:Curling at the 2022 Winter Olympics – Mixed doubles tournament|Results}}'"
     },
     "metadata": {},
     "output_type": "display_data"
    },
    {
     "name": "stdout",
     "output_type": "stream",
     "text": [
      "relatedness=0.842\n"
     ]
    },
    {
     "data": {
      "text/plain": "'Russian Olympic Committee athletes at the 2022 Winter Olympics\\n\\n==Curling==\\n\\n{{main|Curling at the 2022 Winter Olympics|Curling at the 2022 Winter Olympics – Qualification}}\\n\\nBased on results of the 2021 World Curling Championships and Olympic Qualification Event, Russian Olympic Committee has qualified for men\\'s and women\\'s tournaments. Russian Curling Federation announced the five men and five women participating on 4 January 2022.\\n\\n;Summary\\n{|class=wikitable style=font-size:90%;text-align:center\\n|-\\n!rowspan=2|Team\\n!rowspan=2|Event\\n!colspan=10|Group stage\\n!Semifinal\\n!colspan=2|Final / {{abbr|BM|Bronze medal match}}\\n|-style=\"font-size:95%\"\\n!Opposition<br />Score\\n!Opposition<br />Score\\n!Opposition<br />Score\\n!Opposition<br />Score\\n!Opposition<br />Score\\n!Opposition<br />Score\\n!Opposition<br />Score\\n!Opposition<br />Score\\n!Opposition<br />Score\\n!Rank\\n!Opposition<br />Score\\n!Opposition<br />Score\\n!Rank\\n|-\\n|align=left|[[Sergey Glukhov]]<br>[[Evgeny Klimov (curler)|Evgeny Klimov]]<br>[[Dmitry Mironov]]<br>[[Anton Kalalb]]<br>[[Daniil Goriachev]]\\n|align=left|[[Curling at the 2022 Winter Olympics – Men\\'s tournament|Men\\'s tournament]]\\n|{{flagIOCshort|USA|2022 Winter}}<br>\\'\\'\\'L\\'\\'\\' 5–6\\n|{{flagIOCshort|CHN|2022 Winter}}<br>\\'\\'\\'W\\'\\'\\' 7–4\\n|{{flagIOCshort|SUI|2022 Winter}}<br>\\'\\'\\'L\\'\\'\\' 3–6\\n|{{flagIOCshort|DEN|2022 Winter}}<br>\\'\\'\\'W\\'\\'\\' 10–2\\n|{{flagIOCshort|ITA|2022 Winter}}<br>\\'\\'\\'W\\'\\'\\' 10–7\\n|{{flagIOCshort|SWE|2022 Winter}}<br>\\'\\'\\'L\\'\\'\\' 5–7\\n|{{flagIOCshort|NOR|2022 Winter}}<br>\\'\\'\\'L\\'\\'\\' 5–12\\n|{{flagIOCshort|CAN|2022 Winter}}<br>\\'\\'\\'W\\'\\'\\' 7–6\\n|{{flagIOCshort|GBR|2022 Winter}}<br>\\'\\'\\'L\\'\\'\\' 6–8\\n|8\\n|colspan=3|Did not advance\\n|-\\n|align=left|[[Alina Kovaleva]]<br>[[Yulia Portunova]]<br>[[Galina Arsenkina]]<br>[[Ekaterina Kuzmina]]<br>[[Maria Komarova]]\\n|align=left|[[Curling at the 2022 Winter Olympics – Women\\'s tournament|Women\\'s tournament]]\\n|{{flagIOCshort|USA|2022 Winter}}<br>\\'\\'\\'L\\'\\'\\' 3–9\\n|{{flagIOCshort|SUI|2022 Winter}}<br>\\'\\'\\'L\\'\\'\\' 7–8\\n|{{flagIOCshort|KOR|2022 Winter}}<br>\\'\\'\\'L\\'\\'\\' 5–9\\n|{{flagIOCshort|JPN|2022 Winter}}<br>\\'\\'\\'L\\'\\'\\' 5–10\\n|{{flagIOCshort|CAN|2022 Winter}}<br>\\'\\'\\'L\\'\\'\\' 5–11\\n|{{flagIOCshort|DEN|2022 Winter}}<br>\\'\\'\\'L\\'\\'\\' 5–10\\n|{{flagIOCshort|CHN|2022 Winter}}<br>\\'\\'\\'W\\'\\'\\' 11–5\\n|{{flagIOCshort|SWE|2022 Winter}}<br>\\'\\'\\'L\\'\\'\\' 5–8\\n|{{flagIOCshort|GBR|2022 Winter}}<br>\\'\\'\\'L\\'\\'\\' 4–9\\n|10\\n|colspan=3|Did not advance\\n|}'"
     },
     "metadata": {},
     "output_type": "display_data"
    },
    {
     "name": "stdout",
     "output_type": "stream",
     "text": [
      "relatedness=0.842\n"
     ]
    },
    {
     "data": {
      "text/plain": "'Curling at the 2022 Winter Olympics – Qualification\\n\\n{{short description|None}}\\n\\n{{main|Curling at the 2022 Winter Olympics}}\\n{{Curling at the 2022 Winter Olympics}}\\n\\nA total of 10 teams in each tournament (5 athletes per team) will qualify for a quota of 100 athletes in curling at the [[2022 Winter Olympics]]. A further 10 mixed doubles pairs will qualify for a total of 20 athletes. Therefore, a total of 120 athletes can qualify in total to compete in the curling competitions.'"
     },
     "metadata": {},
     "output_type": "display_data"
    },
    {
     "name": "stdout",
     "output_type": "stream",
     "text": [
      "relatedness=0.842\n"
     ]
    },
    {
     "data": {
      "text/plain": "'Czech Republic at the 2022 Winter Olympics\\n\\n==Curling==\\n\\n{{main|Curling at the 2022 Winter Olympics|Curling at the 2022 Winter Olympics – Qualification}}\\nCzech Republic\\'s curling team consisted of two athletes (one per gender), competing in the mixed doubles tournament.\\n\\n;Summary\\n{|class=wikitable style=font-size:90%\\n|-\\n!rowspan=2|Team\\n!rowspan=2|Event\\n!colspan=10|Round robin\\n!Semifinal\\n!colspan=2|Final / {{abbr|BM|Bronze medal match}}\\n|-style=font-size:95%\\n!Opposition<br/>Score\\n!Opposition<br/>Score\\n!Opposition<br/>Score\\n!Opposition<br/>Score\\n!Opposition<br/>Score\\n!Opposition<br/>Score\\n!Opposition<br/>Score\\n!Opposition<br/>Score\\n!Opposition<br/>Score\\n!Rank\\n!Opposition<br/>Score\\n!Opposition<br/>Score\\n!Rank\\n|-align=center\\n|align=left|[[Zuzana Paulová]]<br>[[Tomáš Paul]]\\n|align=left|[[Curling at the 2022 Winter Olympics – Mixed doubles tournament|Mixed doubles tournament]]\\n|{{flagIOCshort|NOR|2022 Winter}}<br>\\'\\'\\'W\\'\\'\\' 7–6\\n|{{flagIOCshort|SWE|2022 Winter}}<br>\\'\\'\\'L\\'\\'\\' 4–7\\n|{{flagIOCshort|AUS|2022 Winter}}<br>\\'\\'\\'W\\'\\'\\' 8–2\\n|{{flagIOCshort|ITA|2022 Winter}}<br>\\'\\'\\'L\\'\\'\\' 2–10\\n|{{flagIOCshort|GBR|2022 Winter}}<br>\\'\\'\\'L\\'\\'\\' 3–8\\n|{{flagIOCshort|SUI|2022 Winter}}<br>\\'\\'\\'L\\'\\'\\' 3–11\\n|{{flagIOCshort|USA|2022 Winter}}<br>\\'\\'\\'W\\'\\'\\' 10–8\\n|{{flagIOCshort|CAN|2022 Winter}}<br>\\'\\'\\'L\\'\\'\\' 5–7\\n|{{flagIOCshort|CHN|2022 Winter}}<br>\\'\\'\\'W\\'\\'\\' 8–6\\n|6\\n|colspan=\"3\"|Did not advance\\n|}'"
     },
     "metadata": {},
     "output_type": "display_data"
    },
    {
     "name": "stdout",
     "output_type": "stream",
     "text": [
      "relatedness=0.842\n"
     ]
    },
    {
     "data": {
      "text/plain": "'Curling at the 2022 Winter Olympics – Qualification\\n\\n==National qualifying events==\\n\\nSome countries select their teams through trial qualification tournaments.\\n\\n*{{flagicon|CAN}} [[2021 Canadian Olympic Curling Trials]]\\n*{{flagicon|JPN}} [[2021 Japanese Olympic Curling Trials]]\\n*{{flagicon|JPN}} [[2021 Japanese mixed doubles curling Olympic trials]]\\n*{{flagicon|KOR}} [[2021 Korean Curling Championships]]\\n*{{flagicon|KOR}} [[2021 Korean Mixed Doubles Curling Championship]]\\n*{{flagicon|RUS}} [[2021 Russian mixed doubles curling Olympic trials]]\\n*{{flagicon|SUI}} [[2021 Swiss Olympic Curling Trials]]\\n*{{flagicon|USA}} [[2021 United States Olympic Curling Trials]]\\n*{{flagicon|USA}} [[2021 United States mixed doubles curling Olympic trials]]'"
     },
     "metadata": {},
     "output_type": "display_data"
    },
    {
     "name": "stdout",
     "output_type": "stream",
     "text": [
      "relatedness=0.841\n"
     ]
    },
    {
     "data": {
      "text/plain": "'2021 Olympic Qualification Event – Curling\\n\\n==Women==\\n\\n===Playoffs===\\n\\nThree teams, Japan, South Korea and Latvia qualified for the play-offs to decide the final two places at Beijing 2022. The teams finishing second and third, South Korea and Japan, face off in the first Qualifier; the winner qualifies for Beijing. The loser then faces fourth-placed Latvia in the second and final qualifier, with the winner of that match taking the final place in Beijing.\\n\\n{{3TeamBracket-PagePlayoff\\n| boldwinner = y\\n| RD1 = Qualification Game 1\\n| RD2 = Qualification Game 2\\n| RD3 = Qualified\\n| RD3-legs = 0\\n\\n| RD1-seed1 = 2\\n| RD1-team1 = {{flagIOC|KOR|2022 Winter}}\\n| RD1-score1 = 5\\n| RD1-seed2 = 3\\n| RD1-team2 = {{flagIOC|JPN|2022 Winter}}\\n| RD1-score2 = 8\\n\\n| RD2-seed1 = 2\\n| RD2-team1 = {{flagIOC|KOR|2022 Winter}}\\n| RD2-score1 = 8\\n| RD2-seed2 = 4\\n| RD2-team2 = {{flagIOC|LAT|2022 Winter}}\\n| RD2-score2 = 5\\n\\n| RD3-team1 = {{flagIOC|JPN|2022 Winter}}\\n| RD3-team2 = {{flagIOC|KOR|2022 Winter}}\\n}}'"
     },
     "metadata": {},
     "output_type": "display_data"
    },
    {
     "name": "stdout",
     "output_type": "stream",
     "text": [
      "relatedness=0.841\n"
     ]
    },
    {
     "data": {
      "text/plain": "'2021 Olympic Qualification Event – Curling\\n\\n==Women==\\n\\n===Round robin standings===\\n\\n\\'\\'Final Round Robin Standings\\'\\'\\n{| class=\"wikitable\" style=\"text-align: center;\"\\n|-\\n!colspan=2|Key\\n|-\\n| style=\"background:#cccfff; width:20px;\"|\\n|align=left|Qualified for the 2022 Olympics via Round Robin\\n|-\\n| style=\"background:#ffffcc; width:20px;\"|\\n|align=left|Teams to Playoffs\\n|}\\n\\n{| class=wikitable  style=\"text-align:center;\"\\n|-\\n!width=150|Country\\n!width=165|Skip\\n!width=20|{{tooltip|W|Games Won}}\\n!width=20|{{tooltip|L|Games Lost}}\\n!width=40|{{tooltip|W–L|Wins/losses against tied teams}}\\n!width=20|{{tooltip|DSC|Draw shot challenge (used to break ties) in cm.}}\\n|- bgcolor=#cccfff\\n|style=\"text-align:left;\"| {{flagIOC|GBR|2022 Winter}} ||style=\"text-align:left;\"| [[Eve Muirhead]] || 6 || 2 || 1–1 || 27.39\\n|- bgcolor=#ffffcc\\n|style=\"text-align:left;\"| {{flagIOC|KOR|2022 Winter}} ||style=\"text-align:left;\"| [[Kim Eun-jung (curler)|Kim Eun-jung]] || 6 || 2 || 1–1 || 34.27\\n|- bgcolor=#ffffcc\\n|style=\"text-align:left;\"| {{flagIOC|JPN|2022 Winter}} ||style=\"text-align:left;\"| [[Satsuki Fujisawa]] || 6 || 2 || 1–1 || 34.61\\n|- bgcolor=#ffffcc\\n|style=\"text-align:left;\"| {{flagIOC|LAT|2022 Winter}} ||style=\"text-align:left;\"| [[Santa Blumberga-Bērziņa]] || 4 || 4 || 1–0 || 61.26\\n|-\\n|style=\"text-align:left;\"| {{flagIOC|ITA|2022 Winter}} ||style=\"text-align:left;\"| [[Stefania Constantini]] || 4 || 4 || 0–1 || 71.39\\n|-\\n|style=\"text-align:left;\"| {{flagIOC|GER|2022 Winter}} ||style=\"text-align:left;\"| [[Daniela Jentsch]] || 3 || 5 || 1–0 || 53.81\\n|-\\n|style=\"text-align:left;\"| {{flagIOC|TUR|2022 Winter}} ||style=\"text-align:left;\"| [[Dilşat Yıldız]] || 3 || 5 || 0–1 || 75.38\\n|-\\n|style=\"text-align:left;\"| {{flagIOC|EST|2022 Winter}} ||style=\"text-align:left;\"| [[Liisa Turmann]] || 2 || 6 || 1–0 || 37.11\\n|-\\n|style=\"text-align:left;\"| {{flagIOC|CZE|2022 Winter}} ||style=\"text-align:left;\"| [[Anna Kubešková]] || 2 || 6 || 0–1 || 47.53\\n|}'"
     },
     "metadata": {},
     "output_type": "display_data"
    },
    {
     "name": "stdout",
     "output_type": "stream",
     "text": [
      "relatedness=0.841\n"
     ]
    },
    {
     "data": {
      "text/plain": "'2021 Olympic Qualification Event – Curling\\n\\n==Mixed doubles==\\n\\n===Playoffs===\\n\\n====Qualification Game 2====\\n\\n\\'\\'Thursday, December 9, 18:00\\'\\'\\n{{Curlingbox8\\n| sheet = C\\n| team1 = {{flagIOC|USA|2022 Winter}} {{X}}\\n|1|2|0|1|0|1|0|1| |6\\n| team2 = {{flagIOC|ROC|2022 Winter}}\\n|0|0|1|0|1|0|2|0| |4\\n}}\\n{| class=\"wikitable\"\\n!colspan=4 width=400|Player percentages\\n|-\\n!colspan=2 width=200 style=\"white-space:nowrap;\"| {{flagIOC|USA|2022 Winter}}\\n!colspan=2 width=200 style=\"white-space:nowrap;\"| {{flagIOC|ROC|2022 Winter}}\\n|-\\n| [[Vicky Persinger]] || 82%\\n| [[Anna Sidorova]] || 69%\\n|-\\n| [[Chris Plys]] || 80%\\n| [[Alexey Timofeev]] || 83%\\n|-\\n| \\'\\'\\'Total\\'\\'\\' || 81%\\n| \\'\\'\\'Total\\'\\'\\' || 77%\\n|}'"
     },
     "metadata": {},
     "output_type": "display_data"
    },
    {
     "name": "stdout",
     "output_type": "stream",
     "text": [
      "relatedness=0.841\n"
     ]
    },
    {
     "data": {
      "text/plain": "'Japan at the 2022 Winter Olympics\\n\\n==Curling==\\n\\n{{main|Curling at the 2022 Winter Olympics|Curling at the 2022 Winter Olympics – Qualification}}\\n\\n;Summary\\n{|class=wikitable style=font-size:90%;text-align:center\\n|-\\n!rowspan=2|Team\\n!rowspan=2|Event\\n!colspan=10|Group stage\\n!Semifinal\\n!colspan=2|Final\\n|-style=\"font-size:95%\"\\n!Opposition<br />Score\\n!Opposition<br />Score\\n!Opposition<br />Score\\n!Opposition<br />Score\\n!Opposition<br />Score\\n!Opposition<br />Score\\n!Opposition<br />Score\\n!Opposition<br />Score\\n!Opposition<br />Score\\n!Rank\\n!Opposition<br />Score\\n!Opposition<br />Score\\n!Rank\\n|-\\n|align=left|\\'\\'\\'[[Satsuki Fujisawa]]<br>[[Chinami Yoshida]]<br>[[Yumi Suzuki]]<br>[[Yurika Yoshida]]<br>[[Kotomi Ishizaki]]\\'\\'\\'\\n|align=left|[[Curling at the 2022 Winter Olympics – Women\\'s tournament|Women\\'s tournament]]\\n|{{flagIOCshort|SWE|2022 Winter}}<br>\\'\\'\\'L\\'\\'\\' 5–8\\n|{{flagIOCshort|CAN|2022 Winter}}<br>\\'\\'\\'W\\'\\'\\' 8–5\\n|{{flagIOCshort|DEN|2022 Winter}}<br>\\'\\'\\'W\\'\\'\\' 8–7\\n|{{flagIOC|ROC|2022 Winter}}<br>\\'\\'\\'W\\'\\'\\' 10–5\\n|{{flagIOCshort|CHN|2022 Winter}}<br>\\'\\'\\'W\\'\\'\\' 10–2\\n|{{flagIOCshort|KOR|2022 Winter}}<br>\\'\\'\\'L\\'\\'\\' 5–10\\n|{{flagIOCshort|GBR|2022 Winter}}<br>\\'\\'\\'L\\'\\'\\' 4–10\\n|{{flagIOCshort|USA|2022 Winter}}<br>\\'\\'\\'W\\'\\'\\' 10–7\\n|{{flagIOCshort|SUI|2022 Winter}}<br>\\'\\'\\'L\\'\\'\\' 4–8\\n|4 \\'\\'\\'Q\\'\\'\\'\\n|{{flagIOCshort|SUI|2022 Winter}}<br>\\'\\'\\'W\\'\\'\\' 8–6\\n|{{flagIOCshort|GBR|2022 Winter}}<br>\\'\\'\\'L\\'\\'\\' 3–10\\n|{{silver02}}\\n|}'"
     },
     "metadata": {},
     "output_type": "display_data"
    },
    {
     "name": "stdout",
     "output_type": "stream",
     "text": [
      "relatedness=0.841\n"
     ]
    },
    {
     "data": {
      "text/plain": "\"Christoffer Sundgren\\n\\n== Curling career ==\\n\\n=== Career achievements ===\\n\\nSundgren's achievements with Team Eriksson and Team Niklas Edin have earned him both gold and silver Olympic medals and five gold medals and two silver medals at the World Men's Curling Championships and five gold medals and one silver at the European Curling Championships. His record of four gold medals at the World Men's Curling Championships ties him for second place of all-time winners of such medals, alongside players such as [[Glenn Howard]], [[Randy Ferbey]], [[Scott Pfeifer]], and [[Ernie Richardson (curler)|Ernie Richardson]], but he is the only curler in this category to also hold the Olympic gold medal. Only his teammates Niklas Edin and Oskar Eriksson have more, with a record five gold World Men's Curling Championship medals and Olympic gold, silver, and bronze. With Edin and Eriksson, Sundgren also became one of the first men's curlers to simultaneously hold the World Curling Championship and European Curling Championship titles in two separate calendar years (2015 and 2019). Sundgren, Edin, and Eriksson are also the first curlers in history on the men's side to win four European Championship gold medals in a row (2014-2017).\""
     },
     "metadata": {},
     "output_type": "display_data"
    },
    {
     "name": "stdout",
     "output_type": "stream",
     "text": [
      "relatedness=0.841\n"
     ]
    },
    {
     "data": {
      "text/plain": "\"Geoff Walker (curler)\\n\\n==Career==\\n\\n===2022 Winter Olympics===\\n\\nWalker's team, skipped by [[Brad Gushue]], qualified as the Canadian representatives by winning the [[2021 Canadian Olympic Curling Trials]], defeating [[Brad Jacobs (curler)|Brad Jacobs]] 4–3 in the final. The team would go onto win the bronze medal.\""
     },
     "metadata": {},
     "output_type": "display_data"
    },
    {
     "name": "stdout",
     "output_type": "stream",
     "text": [
      "relatedness=0.841\n"
     ]
    },
    {
     "data": {
      "text/plain": "'Curling at the 2022 Winter Olympics – Qualification\\n\\n==Qualification Results==\\n\\n===Mixed doubles===\\n\\n{| class=\"wikitable sortable\" style=\"text-align:center\"\\n!{{abbr|Q|Qualifed for Olympics|2022 Winter}}\\n!Country\\n![[2021 World Mixed Doubles Curling Championship|2021]]\\n![[2021 Pre-Olympic Qualification Event#Mixed doubles|Pre-OQE]]\\n![[Curling at the 2022 Winter Olympics – Qualification event#Mixed doubles|OQE]]\\n|- style=\"background:#ccffff\" \\n|[[File:Olympic_rings_without_rims.svg|25px]]\\n|align=left|{{flagIOC|GBR|2022 Winter}}\\n|\\'\\'\\'1\\'\\'\\' \\n|colspan=\"2\"|✔\\n|- style=\"background:#ccffff\"\\n|[[File:Olympic_rings_without_rims.svg|25px]]\\n|align=left|{{flagIOC|NOR|2022 Winter}}\\n|\\'\\'\\'2\\'\\'\\'\\n|colspan=\"2\"|✔\\n|- style=\"background:#ccffff\"\\n|[[File:Olympic_rings_without_rims.svg|25px]]\\n|align=left|{{flagIOC|SWE|2022 Winter}}\\n|\\'\\'\\'3\\'\\'\\'\\n|colspan=\"2\"|✔\\n|- style=\"background:#ccffff\"\\n|[[File:Olympic_rings_without_rims.svg|25px]]\\n|align=left|{{flagIOC|CAN|2022 Winter}}\\n|\\'\\'\\'4\\'\\'\\'\\n|colspan=\"2\"|✔\\n|- style=\"background:#ccffff\"\\n|[[File:Olympic_rings_without_rims.svg|25px]]\\n|align=left|{{flagIOC|ITA|2022 Winter}}\\n|\\'\\'\\'5\\'\\'\\' \\n|colspan=\"2\"|✔\\n|- style=\"background:#ccffff\"\\n|[[File:Olympic_rings_without_rims.svg|25px]]\\n|align=left|{{flagIOC|SUI|2022 Winter}}\\n|\\'\\'\\'5\\'\\'\\'\\n|colspan=\"2\"|✔\\n|- style=\"background:#ccffff\"\\n|[[File:Olympic_rings_without_rims.svg|25px]]\\n|align=left|{{flagIOC|CZE|2022 Winter}}\\n|\\'\\'\\'7\\'\\'\\'\\n|colspan=\"2\"|✔\\n|- style=\"background:#cccfff\"\\n|[[File:Olympic_rings_without_rims.svg|25px]]\\n|align=left|{{flagIOC|USA|2022 Winter}}\\n|\\'\\'\\'8\\'\\'\\'\\n|✔\\n|\\'\\'\\'1\\'\\'\\'\\n|- style=\"background:#ccffcc\"\\n|[[File:Olympic_rings_without_rims.svg|25px]]\\n|align=left|{{flagIOC|CHN|2022 Winter}}\\n|\\'\\'\\'9\\'\\'\\' \\n|colspan=\"2\"|✔\\n|- style=\"background:#ffffcc\"\\n|\\n|align=left|{{flagIOC|GER|2022 Winter}}\\n|\\'\\'\\'10\\'\\'\\'\\n|✔\\n|\\'\\'\\'7\\'\\'\\'\\n|- style=\"background:#ffffcc\"\\n|\\n|align=left|{{flagIOC|ROC|2022 Winter}}\\n|\\'\\'\\'11\\'\\'\\' \\n|✔\\n|\\'\\'\\'3\\'\\'\\'\\n|- style=\"background:#ffffcc\"\\n|\\n|align=left|{{flagIOC|NZL|2022 Winter}}\\n|\\'\\'\\'12\\'\\'\\' \\n|✔\\n|\\'\\'\\'7\\'\\'\\'\\n|- style=\"background:#cccfff\"\\n|[[File:Olympic_rings_without_rims.svg|25px]]\\n|align=left|{{flagIOC|AUS|2022 Winter}}\\n|\\'\\'\\'13\\'\\'\\'\\n|✔\\n|\\'\\'\\'1\\'\\'\\'\\n|- \\n|\\n|align=left|{{ENG|2022 Winter}}\\n|\\'\\'\\'14\\'\\'\\'\\n|colspan=\"2\"|{{abbr|✖|Only Scotland can qualify for the Olympics on behalf of Great Britain|2022 Winter}}\\n|- style=\"background:#ffffcc\"\\n|\\n|align=left|{{flagIOC|HUN|2022 Winter}}\\n|\\'\\'\\'15\\'\\'\\'\\n|✔\\n|\\'\\'\\'5\\'\\'\\'\\n|- style=\"background:#ffffcc\"\\n|\\n|align=left|{{flagIOC|JPN|2022 Winter}}\\n|\\'\\'\\'15\\'\\'\\'\\n|✔\\n|\\'\\'\\'7\\'\\'\\'\\n|- style=\"background:#ffffcc\"\\n|\\n|align=left|{{flagIOC|FIN|2022 Winter}}\\n|\\'\\'\\'17\\'\\'\\'\\n|✔\\n|\\'\\'\\'5\\'\\'\\'\\n|- style=\"background:#ffffcc\"\\n|\\n|align=left|{{flagIOC|KOR|2022 Winter}}\\n|\\'\\'\\'17\\'\\'\\'\\n|✔\\n|\\'\\'\\'3\\'\\'\\'\\n|- style=\"background:#ffffcc\"\\n|\\n|align=left|{{flagIOC|EST|2022 Winter}}\\n|\\'\\'\\'19\\'\\'\\' \\n|✔\\n|\\'\\'\\'7\\'\\'\\'\\n|- style=\"background:#ffffcc\"\\n|\\n|align=left|{{flagIOC|ESP|2022 Winter}}\\n|\\'\\'\\'20\\'\\'\\'\\n|✔\\n|\\'\\'\\'7\\'\\'\\'\\n|- style=\"background:#ffffcc\"\\n|\\n|align=left|{{flagIOC|NED|2022 Winter}}\\n|✖\\n|{{abbr|✔|Host of the OQE|2022 Winter}}\\n|{{abbr|\\'\\'\\'DNA\\'\\'\\'|Did Not Attend}}\\n|- style=\"background:#ffffcc\"\\n|\\n|align=left|{{flagIOC|DEN|2022 Winter}}\\n|✖\\n|\\'\\'\\'1\\'\\'\\'\\n|\\'\\'\\'7\\'\\'\\'\\n|- style=\"background:#ffffcc\"\\n|\\n|align=left|{{flagIOC|LAT|2022 Winter}}\\n|✖\\n|\\'\\'\\'1\\'\\'\\'\\n|\\'\\'\\'7\\'\\'\\'\\n|- style=\"background:#ffffcc\"\\n|\\n|align=left|{{flagIOC|TUR|2022 Winter}}\\n|✖\\n|\\'\\'\\'1\\'\\'\\'\\n|\\'\\'\\'7\\'\\'\\'\\n|-\\n|\\n|align=left|{{flagIOC|BLR|2022 Winter}}\\n|✖\\n|\\'\\'\\'4\\'\\'\\'\\n|✖\\n|-\\n|\\n|align=left|{{flagIOC|KAZ|2022 Winter}}\\n|✖\\n|\\'\\'\\'4\\'\\'\\'\\n|✖\\n|-\\n|\\n|align=left|{{flagIOC|POR|2022 Winter}}\\n|✖\\n|\\'\\'\\'4\\'\\'\\'\\n|✖\\n|-\\n|\\n|align=left|{{flagIOC|AUT|2022 Winter}}\\n|✖\\n|\\'\\'\\'7\\'\\'\\'\\n|✖\\n|-\\n|\\n|align=left|{{flagIOC|BRA|2022 Winter}}\\n|✖\\n|\\'\\'\\'7\\'\\'\\'\\n|✖\\n|-\\n|\\n|align=left|{{flagIOC|TPE|2022 Winter}}\\n|✖\\n|\\'\\'\\'7\\'\\'\\'\\n|✖\\n|-\\n|\\n|align=left|{{flagIOC|BEL|2022 Winter}}\\n|✖\\n|\\'\\'\\'10\\'\\'\\'\\n|✖\\n|-\\n|\\n|align=left|{{flagIOC|KGZ|2022 Winter}}\\n|✖\\n|\\'\\'\\'10\\'\\'\\'\\n|✖\\n|-\\n|\\n|align=left|{{flagIOC|LTU|2022 Winter}}\\n|✖\\n|\\'\\'\\'10\\'\\'\\'\\n|✖\\n|-\\n|\\n|align=left|{{flagIOC|MEX|2022 Winter}}\\n|✖\\n|\\'\\'\\'10\\'\\'\\'\\n|✖\\n|-\\n|\\n|align=left|{{flagIOC|NGR|2022 Winter}}\\n|✖\\n|\\'\\'\\'10\\'\\'\\'\\n|✖\\n|-\\n|\\n|align=left|{{flagIOC|SVK|2022 Winter}}\\n|✖\\n|\\'\\'\\'10\\'\\'\\'\\n|✖\\n|-\\n|\\n|align=left|{{flagIOC|SLO|2022 Winter}}\\n|✖\\n|\\'\\'\\'10\\'\\'\\'\\n|✖\\n|-\\n|}'"
     },
     "metadata": {},
     "output_type": "display_data"
    },
    {
     "name": "stdout",
     "output_type": "stream",
     "text": [
      "relatedness=0.840\n"
     ]
    },
    {
     "data": {
      "text/plain": "'2021 Olympic Qualification Event – Curling\\n\\n==Women==\\n\\n===Qualification===\\n\\n{| class=\"wikitable\" style=\"width:525px;\"\\n|-\\n! Means of qualification || Vacancies || Qualified<ref name=\"auto\"/>\\n|-\\n| Host Nation\\n|align=center| 0\\n|<s>{{flagIOC|NED|2022 Winter}}</s>\\n|-\\n| [[2021 World Women\\'s Curling Championship]]\\n|align=center| 7\\n|{{flagIOC|KOR|2022 Winter}}<br>{{flagIOC|GBR|2022 Winter}}<br>{{flagIOC|GER|2022 Winter}}<br>{{flagIOC|JPN|2022 Winter}}<br>{{flagIOC|CZE|2022 Winter}}<br>{{flagIOC|ITA|2022 Winter}}<br>{{flagIOC|EST|2022 Winter}}\\n|-\\n| [[2021 Pre-Olympic Qualification Event]]\\n|align=center| 2\\n|{{flagIOC|LAT|2022 Winter}}<br>{{flagIOC|TUR|2022 Winter}}\\n|-\\n! TOTAL  || 9 ||\\n|}'"
     },
     "metadata": {},
     "output_type": "display_data"
    },
    {
     "name": "stdout",
     "output_type": "stream",
     "text": [
      "relatedness=0.840\n"
     ]
    },
    {
     "data": {
      "text/plain": "'2021 Olympic Qualification Event – Curling\\n\\n==Men==\\n\\n===Round robin standings===\\n\\n{| class=\"wikitable sortable nowrap\" style=\"text-align:center; font-size:0.9em;\"\\n|+ Round Robin Summary Table\\n|-\\n! Pos.\\n! Country\\n! [[Image:{{country alias| NOR|flag=yes|year=2021}}|22x20px|border|alt=Norway]]\\n! [[Image:{{country alias| ITA|flag=yes|year=2021}}|22x20px|border|alt=Italy]]\\n! [[Image:{{country alias| CZE|flag=yes|year=2021}}|22x20px|border|alt=Czech Republic|link=]]\\n! [[Image:{{country alias| DEN|flag=yes|year=2021}}|22x20px|border|alt=Denmark|link=]]\\n! [[Image:{{country alias| FIN|flag=yes|year=2021}}|22x20px|border|alt=Finland|link=]]\\n! [[Image:{{country alias| JPN|flag=yes|year=2021}}|22x20px|border|alt=Japan]]\\n! [[Image:{{country alias| NED|flag=yes|year=2021}}|22x20px|border|alt=Netherlands]]\\n! [[Image:{{country alias| KOR|flag=yes|year=2021}}|22x20px|border|alt=South Korea]]\\n! [[Image:{{country alias| GER|flag=yes|year=2021}}|22x20px|border|alt=Germany|link=]]\\n! Record\\n|-\\n! 1\\n| style=\"text-align:left; background:#cccfff;\" | {{flagIOC|NOR|2022 Winter}}\\n| {{N/a|—}} <!--- vs NOR --->\\n| {{Won|5–4}} <!--- vs ITA --->\\n| {{Won|8–5}} <!--- vs CZE --->\\n| {{Won|7–4}} <!--- vs DEN --->\\n| {{Won|7–4}} <!--- vs FIN --->\\n| {{Won|6–4}} <!--- vs JPN --->\\n| {{Won|8–5}} <!--- vs NED --->\\n| {{Won|10–6}} <!--- vs KOR --->\\n| {{Won|7–4}} <!--- vs GER --->\\n! 8–0\\n|-\\n! 2\\n| style=\"text-align:left; background:#ffffcc;\" | {{flagIOC|ITA|2022 Winter}}\\n| {{No2|4–5}} <!--- vs NOR --->\\n| {{N/a|—}} <!--- vs ITA --->\\n| {{Won|7–2}} <!--- vs CZE --->\\n| {{Won|6–5}} <!--- vs DEN --->\\n| {{Won|9–5}} <!--- vs FIN --->\\n| {{Won|9–4}} <!--- vs JPN --->\\n| {{Won|7–6}} <!--- vs NED --->\\n| {{Won|7–3}} <!--- vs KOR --->\\n| {{Won|11–4}} <!--- vs GER --->\\n! 7–1\\n|-\\n! 3\\n| style=\"text-align:left; background:#ffffcc;\" | {{flagIOC|CZE|2022 Winter}}\\n| {{No2|5–8}} <!--- vs NOR --->\\n| {{No2|2–7}} <!--- vs ITA --->\\n| {{N/a|—}} <!--- vs CZE --->\\n| {{Won|7–5}} <!--- vs DEN --->\\n| {{Won|8–3}} <!--- vs FIN --->\\n| {{Won|11–6}} <!--- vs JPN --->\\n| {{No2|4–7}} <!--- vs NED --->\\n| {{Won|14–6}} <!--- vs KOR --->\\n| {{Won|7–4}} <!--- vs GER --->\\n! 5–3\\n|-\\n! 4\\n| style=\"text-align:left; background:#ffffcc;\" | {{flagIOC|DEN|2022 Winter}}\\n| {{No2|4–7}} <!--- vs NOR --->\\n| {{No2|5–6}} <!--- vs ITA --->\\n| {{No2|5–7}} <!--- vs CZE --->\\n| {{N/a|—}} <!--- vs DEN --->'"
     },
     "metadata": {},
     "output_type": "display_data"
    },
    {
     "name": "stdout",
     "output_type": "stream",
     "text": [
      "relatedness=0.840\n"
     ]
    },
    {
     "data": {
      "text/plain": "\"2021 Olympic Qualification Event – Curling\\n\\n==Men==\\n\\n===Round robin results===\\n\\n====Draw 6====\\n\\n''Tuesday, December 14, 19:00''\\n{{Curlingbox\\n| sheet = A\\n| team1 = {{flagIOC|CZE|2022 Winter}} (Klíma) {{X}}\\n|2|0|1|0|1|0|4|0|3|X| |11\\n| team2 = {{flagIOC|JPN|2022 Winter}} (Matsumura)\\n|0|1|0|2|0|1|0|2|0|X| |6\\n}}\\n{{Curlingbox\\n| sheet = B\\n| team1 = {{flagIOC|DEN|2022 Winter}} (Krause)\\n|1|1|1|0|1|0|1|0|2|0| |7\\n| team2 = {{flagIOC|KOR|2022 Winter}} (Kim) {{X}}\\n|0|0|0|3|0|3|0|1|0|1| |8\\n}}\\n{{Curlingbox\\n| sheet = C\\n| team1 = {{flagIOC|ITA|2022 Winter}} (Retornaz) {{X}}\\n|0|0|0|2|0|0|0|1|0|1|0 |4\\n| team2 = {{flagIOC|NOR|2022 Winter}} (Walstad)\\n|0|0|0|0|1|1|0|0|2|0|1 |5\\n}}\\n{{Curlingbox\\n| sheet = D\\n| team1 = {{flagIOC|NED|2022 Winter}} (Gösgens)\\n|0|1|1|0|1|0|0|1|0|1| |5\\n| team2 = {{flagIOC|FIN|2022 Winter}} (Kiiskinen) {{X}}\\n|2|0|0|2|0|1|0|0|2|0| |7\\n}}\""
     },
     "metadata": {},
     "output_type": "display_data"
    },
    {
     "name": "stdout",
     "output_type": "stream",
     "text": [
      "relatedness=0.839\n"
     ]
    },
    {
     "data": {
      "text/plain": "'China at the 2022 Winter Olympics\\n\\n==Curling==\\n\\n{{main|Curling at the 2022 Winter Olympics|Curling at the 2022 Winter Olympics – Qualification}}\\n\\n;Summary\\n{|class=wikitable style=font-size:90%;text-align:center\\n|-\\n!rowspan=2|Team\\n!rowspan=2|Event\\n!colspan=10|Group stage\\n!Semifinal\\n!colspan=2|Final / {{abbr|BM|Bronze medal match}}\\n|-style=font-size:95%\\n!Opposition<br />Score\\n!Opposition<br />Score\\n!Opposition<br />Score\\n!Opposition<br />Score\\n!Opposition<br />Score\\n!Opposition<br />Score\\n!Opposition<br />Score\\n!Opposition<br />Score\\n!Opposition<br />Score\\n!Rank\\n!Opposition<br />Score\\n!Opposition<br />Score\\n!Rank\\n|-\\n|align=left|[[Ma Xiuyue]]<br>[[Zou Qiang]]<br>[[Wang Zhiyu]]<br>[[Xu Jingtao]]<br>[[Jiang Dongxu]]\\n|align=left|[[Curling at the 2022 Winter Olympics – Men\\'s tournament|Men\\'s tournament]]\\n|{{flagIOCshort|SWE|2022 Winter}}<br>\\'\\'\\'L\\'\\'\\' 4–6\\n|{{flagIOC|ROC|2022 Winter}}<br>\\'\\'\\'L\\'\\'\\' 4–7\\n|{{flagIOCshort|DEN|2022 Winter}}<br>\\'\\'\\'W\\'\\'\\' 5–4\\n|{{flagIOCshort|ITA|2022 Winter}}<br>\\'\\'\\'W\\'\\'\\' 12–9\\n|{{flagIOCshort|GBR|2022 Winter}}<br>\\'\\'\\'L\\'\\'\\' 6–7\\n|{{flagIOCshort|USA|2022 Winter}}<br>\\'\\'\\'L\\'\\'\\' 6–8\\n|{{flagIOCshort|CAN|2022 Winter}}<br>\\'\\'\\'L\\'\\'\\' 8–10\\n|{{flagIOCshort|NOR|2022 Winter}}<br>\\'\\'\\'W\\'\\'\\' 8–6\\n|{{flagIOCshort|SUI|2022 Winter}}<br>\\'\\'\\'W\\'\\'\\' 6–5\\n|5\\n|colspan=\"3\"|Did not advance\\n|-\\n|align=left|[[Han Yu (curler)|Han Yu]]<br>[[Wang Rui (curler)|Wang Rui]]<br>[[Dong Ziqi]]<br>[[Zhang Lijun (curler)|Zhang Lijun]]<br>[[Jiang Xindi]]\\n|align=left|[[Curling at the 2022 Winter Olympics – Women\\'s tournament|Women\\'s tournament]]\\n|{{flagIOCshort|DEN|2022 Winter}}<br>\\'\\'\\'L\\'\\'\\' 6–7\\n|{{flagIOCshort|SUI|2022 Winter}}<br>\\'\\'\\'L\\'\\'\\' 5–7\\n|{{flagIOCshort|USA|2022 Winter}}<br>\\'\\'\\'L\\'\\'\\' 4–8\\n|{{flagIOCshort|SWE|2022 Winter}}<br>\\'\\'\\'W\\'\\'\\' 9–6\\n|{{flagIOCshort|KOR|2022 Winter}}<br>\\'\\'\\'W\\'\\'\\' 6–5\\n|{{flagIOCshort|JPN|2022 Winter}}<br>\\'\\'\\'L\\'\\'\\' 2–10\\n|{{flagIOC|ROC|2022 Winter}}<br>\\'\\'\\'L\\'\\'\\' 5–11\\n|{{flagIOCshort|GBR|2022 Winter}}<br>\\'\\'\\'W\\'\\'\\' 8–4\\n|{{flagIOCshort|CAN|2022 Winter}}<br>\\'\\'\\'W\\'\\'\\' 11–9\\n|7\\n|colspan=\"3\"|Did not advance\\n|-\\n|align=left|[[Fan Suyuan]]<br>[[Ling Zhi]]\\n|align=left|[[Curling at the 2022 Winter Olympics – Mixed doubles tournament|Mixed doubles tournament]]\\n|{{flagIOCshort|SUI|2022 Winter}}<br>\\'\\'\\'W\\'\\'\\' 7–6\\n|{{flagIOCshort|AUS|2022 Winter}}<br>\\'\\'\\'W\\'\\'\\' 6–5\\n|{{flagIOCshort|SWE|2022 Winter}}<br>\\'\\'\\'L\\'\\'\\' 6–7\\n|{{flagIOCshort|CAN|2022 Winter}}<br>\\'\\'\\'L\\'\\'\\' 6–8\\n|{{flagIOCshort|USA|2022 Winter}}<br>\\'\\'\\'L\\'\\'\\' 5–7\\n|{{flagIOCshort|NOR|2022 Winter}}<br>\\'\\'\\'L\\'\\'\\' 6–9\\n|{{flagIOCshort|GBR|2022 Winter}}<br>\\'\\'\\'L\\'\\'\\' 5–6\\n|{{flagIOCshort|ITA|2022 Winter}}<br>\\'\\'\\'L\\'\\'\\' 4–8\\n|{{flagIOCshort|CZE|2022 Winter}}<br>\\'\\'\\'L\\'\\'\\' 6–8\\n|9\\n|colspan=\"3\"|Did not advance\\n|}'"
     },
     "metadata": {},
     "output_type": "display_data"
    },
    {
     "name": "stdout",
     "output_type": "stream",
     "text": [
      "relatedness=0.839\n"
     ]
    },
    {
     "data": {
      "text/plain": "\"Japan at the 2022 Winter Olympics\\n\\n==Curling==\\n\\n===Women's tournament===\\n\\n{{main|Curling at the 2022 Winter Olympics – Women's tournament}}\\n\\nJapan has qualified their women's team (five athletes), by finishing second in the [[2021 Olympic Qualification Event – Curling|2021 Olympic Qualification Event]]. Team [[Satsuki Fujisawa]] qualified as Japanese representatives by winning the [[2021 Japanese Olympic Curling Trials]], defeating [[Sayaka Yoshimura]] 3–2 in the best-of-five trial.\\n\\n{{#lst:Curling at the 2022 Winter Olympics – Women's tournament|Standings}}\\n;Round robin\\nJapan had a [[Bye (sports)|bye]] in draws 2, 6 and 10.\\n{{Col-float-begin|style=width:45em}}\\n;Draw 1\\n''Thursday, 10 February, 9:05''\\n{{#lst:Curling at the 2022 Winter Olympics – Women's tournament|Draw1SheetC}}\\n;Draw 3\\n''Friday, 11 February, 14:05''\\n{{#lst:Curling at the 2022 Winter Olympics – Women's tournament|Draw3SheetB}}\\n;Draw 4\\n''Saturday, 12 February, 9:05''\\n{{#lst:Curling at the 2022 Winter Olympics – Women's tournament|Draw4SheetD}}\\n;Draw 5\\n''Saturday, 12 February, 20:05''\\n{{#lst:Curling at the 2022 Winter Olympics – Women's tournament|Draw5SheetA}}\\n;Draw 7\\n''Monday, 14 February, 9:05''\\n{{#lst:Curling at the 2022 Winter Olympics – Women's tournament|Draw7SheetB}}\\n{{Col-float-break|style=width:45em}}\\n;Draw 8\\n''Monday, 14 February, 20:05''\\n{{#lst:Curling at the 2022 Winter Olympics – Women's tournament|Draw8SheetC}}\\n;Draw 9\\n''Tuesday, 15 February, 14:05''\\n{{#lst:Curling at the 2022 Winter Olympics – Women's tournament|Draw9SheetD}}\\n;Draw 11\\n''Wednesday, 16 February, 20:05''\\n{{#lst:Curling at the 2022 Winter Olympics – Women's tournament|Draw11SheetB}}\\n;Draw 12\\n''Thursday, 17 February, 14:05''\\n{{#lst:Curling at the 2022 Winter Olympics – Women's tournament|Draw12SheetA}}\\n{{Col-float-end}}\\n;Semifinal\\n''Friday, 18 February, 20:05''\\n{{#lst:Curling at the 2022 Winter Olympics – Women's tournament|SF1}}\\n;Gold medal game\\n''Sunday, 20 February, 9:05''\\n{{#lst:Curling at the 2022 Winter Olympics – Women's tournament|GM}}\""
     },
     "metadata": {},
     "output_type": "display_data"
    },
    {
     "name": "stdout",
     "output_type": "stream",
     "text": [
      "relatedness=0.839\n"
     ]
    },
    {
     "data": {
      "text/plain": "\"2021 Olympic Qualification Event – Curling\\n\\n==Women==\\n\\n===Playoffs===\\n\\n====Qualification Game 1====\\n\\n''Friday, December 17, 10:00''\\n{{Curlingbox\\n| sheet = B\\n| team1 = {{flagIOC|KOR|2022 Winter}} (Kim)\\n|0|1|0|2|0|0|0|0|2|X| |5\\n| team2 = {{flagIOC|JPN|2022 Winter}} (Fujisawa) {{X}}\\n|1|0|2|0|2|0|2|1|0|X| |8\\n}}\\n{{Player percentages\\n| team1 = {{flagIOC|KOR|2022 Winter}}\\n| [[Kim Seon-yeong (curler)|Kim Seon-yeong]] | 84%\\n| [[Kim Cho-hi]] | 81%\\n| [[Kim Kyeong-ae (curler)|Kim Kyeong-ae]] | 60%\\n| [[Kim Eun-jung (curler)|Kim Eun-jung]] | 71%\\n| teampct1 = 74%\\n| team2 = {{flagIOC|JPN|2022 Winter}}\\n| [[Yurika Yoshida]] | 74%\\n| [[Yumi Suzuki]] | 84%\\n| [[Chinami Yoshida]] | 78%\\n| [[Satsuki Fujisawa]] | 82%\\n| teampct2 = 79%\\n}}\""
     },
     "metadata": {},
     "output_type": "display_data"
    },
    {
     "name": "stdout",
     "output_type": "stream",
     "text": [
      "relatedness=0.838\n"
     ]
    },
    {
     "data": {
      "text/plain": "\"2021 Olympic Qualification Event – Curling\\n\\n==Women==\\n\\n===Round robin results===\\n\\n====Draw 3====\\n\\n''Sunday, December 12, 14:00''\\n{{Curlingbox\\n| sheet = A\\n| team1 = {{flagIOC|GER|2022 Winter}} (Jentsch)\\n|0|0|2|0|0|2|3|0|0|1| |8\\n| team2 = {{flagIOC|KOR|2022 Winter}} (Kim) {{X}}\\n|0|2|0|3|1|0|0|3|1|0| |10\\n}}\\n{{Curlingbox\\n| sheet = B\\n| team1 = {{flagIOC|JPN|2022 Winter}} (Fujisawa)\\n|0|0|1|1|0|0|2|1|1|X| |6\\n| team2 = {{flagIOC|CZE|2022 Winter}} (Kubešková) {{X}}\\n|0|1|0|0|1|0|0|0|0|X| |2\\n}}\\n{{Curlingbox\\n| sheet = C\\n| team1 = {{flagIOC|LAT|2022 Winter}} (Blumberga-Bērziņa) {{X}}\\n|0|2|1|0|0|1|2|1|0|1| |8\\n| team2 = {{flagIOC|EST|2022 Winter}} (Turmann)\\n|2|0|0|1|2|0|0|0|1|0| |6\\n}}\\n{{Curlingbox\\n| sheet = D\\n| team1 = {{flagIOC|TUR|2022 Winter}} (Yıldız)\\n|1|0|2|0|1|2|1|0|X|X| |7\\n| team2 = {{flagIOC|GBR|2022 Winter}} (Muirhead) {{X}}\\n|0|2|0|0|0|0|0|1|X|X| |3\\n}}\""
     },
     "metadata": {},
     "output_type": "display_data"
    },
    {
     "name": "stdout",
     "output_type": "stream",
     "text": [
      "relatedness=0.838\n"
     ]
    },
    {
     "data": {
      "text/plain": "\"United States at the 2022 Winter Olympics\\n\\n==Curling==\\n\\n{{main|Curling at the 2022 Winter Olympics|Curling at the 2022 Winter Olympics – Qualification}}\\n\\n'''Summary'''\\n{|class=wikitable style=font-size:90%;text-align:center\\n|-\\n!rowspan=2|Team\\n!rowspan=2|Event\\n!colspan=10|Group stage\\n!Semifinal\\n!colspan=2|Final / {{abbr|BM|Bronze medal match}}\\n|- style=font-size:95%\\n!Opposition<br/>Score\\n!Opposition<br/>Score\\n!Opposition<br/>Score\\n!Opposition<br/>Score\\n!Opposition<br/>Score\\n!Opposition<br/>Score\\n!Opposition<br/>Score\\n!Opposition<br/>Score\\n!Opposition<br/>Score\\n!Rank\\n!Opposition<br/>Score\\n!Opposition<br/>Score\\n!Rank\\n|-\\n|align=left|[[John Shuster]]<br/>[[Chris Plys]]<br/>[[Matt Hamilton (curler)|Matt Hamilton]]<br/>[[John Landsteiner]]<br/>[[Colin Hufman]]\\n|align=left|[[Curling at the 2022 Winter Olympics – Men's tournament|Men's tournament]]\\n|{{flagIOC|ROC|2022 Winter}}<br/>'''W''' 6–5\\n|{{flagIOCshort|SWE|2022 Winter}}<br/>'''L''' 4–7\\n|{{flagIOCshort|GBR|2022 Winter}}<br/>'''W''' 9–7\\n|{{flagIOCshort|NOR|2022 Winter}}<br/>'''L''' 6–7\\n|{{flagIOCshort|CAN|2022 Winter}}<br/>'''L''' 5–10\\n|{{flagIOCshort|CHN|2022 Winter}}<br/>'''W''' 8–6\\n|{{flagIOCshort|SUI|2022 Winter}}<br/>'''W''' 7–4\\n|{{flagIOCshort|ITA|2022 Winter}}<br/>'''L''' 4–10\\n|{{flagIOCshort|DEN|2022 Winter}}<br/>'''W''' 7–5\\n|4 '''Q'''\\n|{{flagIOCshort|GBR|2022 Winter}}<br/>'''L''' 4–8\\n|{{flagIOCshort|CAN|2022 Winter}}<br/>'''L''' 5–8\\n|4\\n|-\\n|align=left|[[Tabitha Peterson]]<br/>[[Nina Roth]]<br/>[[Becca Hamilton]]<br/>[[Tara Peterson]]<br/>[[Aileen Geving]]\\n|align=left|[[Curling at the 2022 Winter Olympics – Women's tournament|Women's tournament]]\\n|{{flagIOC|ROC|2022 Winter}}<br/>'''W''' 9–3\\n|{{flagIOCshort|DEN|2022 Winter}}<br/>'''W''' 7–5\\n|{{flagIOCshort|CHN|2022 Winter}}<br/>'''W''' 8–4\\n|{{flagIOCshort|GBR|2022 Winter}}<br/>'''L''' 5–10\\n|{{flagIOCshort|SWE|2022 Winter}}<br/>'''L''' 4–10\\n|{{flagIOCshort|KOR|2022 Winter}}<br/>'''W''' 8–6\\n|{{flagIOCshort|SUI|2022 Winter}}<br/>'''L''' 6–9\\n|{{flagIOCshort|CAN|2022 Winter}}<br/>'''L''' 6–7\\n|{{flagIOCshort|JPN|2022 Winter}}<br/>'''L''' 7–10\\n|6\\n|colspan=3|Did not advance\\n|-\\n|align=left|[[Vicky Persinger]]<br/>[[Chris Plys]]\\n|align=left|[[Curling at the 2022 Winter Olympics – Mixed doubles tournament|Mixed doubles tournament]]\\n|{{flagIOCshort|AUS|2022 Winter}}<br/>'''W''' 6–5\\n|{{flagIOCshort|ITA|2022 Winter}}<br/>'''L''' 4–8\\n|{{flagIOCshort|NOR|2022 Winter}}<br/>'''L''' 6–11\\n|{{flagIOCshort|SWE|2022 Winter}}<br/>'''W''' 8–7\\n|{{flagIOCshort|CHN|2022 Winter}}<br/>'''W''' 7–5\\n|{{flagIOCshort|CAN|2022 Winter}}<br/>'''L''' 2–7\\n|{{flagIOCshort|CZE|2022 Winter}}<br/>'''L''' 8–10\\n|{{flagIOCshort|SUI|2022 Winter}}<br/>'''L''' 5–6\\n|{{flagIOCshort|GBR|2022 Winter}}<br/>'''L''' 4–8\\n|8\\n|colspan=3|Did not advance\\n|}\""
     },
     "metadata": {},
     "output_type": "display_data"
    },
    {
     "name": "stdout",
     "output_type": "stream",
     "text": [
      "relatedness=0.838\n"
     ]
    },
    {
     "data": {
      "text/plain": "\"Canada at the 2022 Winter Olympics\\n\\n==Curling==\\n\\n{{main|Curling at the 2022 Winter Olympics|Curling at the 2022 Winter Olympics – Qualification}}\\nCanada qualified the maximum total of twelve curlers, six men and six women. The men's and women's teams were officially nominated to the team on November 29, 2021. The mixed doubles pair were officially nominated on January 13, 2022. Canada would only go onto win a bronze medal, in the men's competition.\\n\\n'''Summary'''\\n{|class=wikitable style=font-size:90%;text-align:center\\n|-\\n!rowspan=2|Team\\n!rowspan=2|Event\\n!colspan=10|Round robin\\n!Semifinal\\n!colspan=2|Final / {{abbr|BM|Bronze medal match}}\\n|-style=font-size:95%\\n!Opposition<br/>Score\\n!Opposition<br/>Score\\n!Opposition<br/>Score\\n!Opposition<br/>Score\\n!Opposition<br/>Score\\n!Opposition<br/>Score\\n!Opposition<br/>Score\\n!Opposition<br/>Score\\n!Opposition<br/>Score\\n!Rank<br/>Record\\n!Opposition<br/>Score\\n!Opposition<br/>Score\\n!Rank\\n|-\\n|align=left|'''[[Brad Gushue]]<br/>[[Mark Nichols (curler)|Mark Nichols]]<br/>[[Brett Gallant]]<br/>[[Geoff Walker (curler)|Geoff Walker]]<br/>[[Marc Kennedy]]'''\\n|align=left|[[Curling at the 2022 Winter Olympics – Men's tournament|Men's]]\\n|{{flagIOCshort|DEN|2022 Winter}}<br>'''W''' 10–5\\n|{{flagIOCshort|NOR|2022 Winter}}<br>'''W''' 6–5\\n|{{flagIOCshort|SUI|2022 Winter}}<br>'''L''' 3–5\\n|{{flagIOCshort|SWE|2022 Winter}}<br>'''L''' 4–7\\n|{{flagIOCshort|USA|2022 Winter}}<br>'''W''' 10–5\\n|{{flagIOCshort|ITA|2022 Winter}}<br>'''W''' 7–3\\n|{{flagIOCshort|CHN|2022 Winter}}<br>'''W''' 10–8\\n|{{flagIOC|ROC|2022 Winter}}<br>'''L''' 6–7\\n|{{flagIOCshort|GBR|2022 Winter}}<br>'''L''' 2–5\\n|3<br>5–4\\n|{{flagIOCshort|SWE|2022 Winter}}<br>'''L''' 3–5\\n|{{flagIOCshort|USA|2022 Winter}}<br>'''W''' 8–5\\n|{{bronze03}}\\n|-\\n|align=left|[[Jennifer Jones (curler)|Jennifer Jones]]<br/>[[Kaitlyn Lawes]]<br/>{{Nowrap|[[Jocelyn Peterman]]}}<br/>[[Dawn McEwen]]<br/>[[Lisa Weagle]]\\n|align=left|[[Curling at the 2022 Winter Olympics – Women's tournament|Women's]]\\n|{{flagIOCshort|KOR|2022 Winter}}<br>'''W''' 12–7\\n|{{flagIOCshort|JPN|2022 Winter}}<br>'''L''' 5–8\\n|{{flagIOCshort|SWE|2022 Winter}}<br>'''L''' 6–7\\n|{{flagIOCshort|SUI|2022 Winter}}<br>'''L''' 4–8\\n|{{flagIOC|ROC|2022 Winter}}<br>'''W''' 11–5\\n|{{flagIOCshort|GBR|2022 Winter}}<br>'''W''' 7–3\\n|{{flagIOCshort|USA|2022 Winter}}<br>'''W''' 7–6\\n|{{flagIOCshort|CHN|2022 Winter}}<br>'''L''' 9–11\\n|{{flagIOCshort|DEN|2022 Winter}}<br>'''W''' 10–4\\n|5<br>5–4\\n|colspan=2|Did not advance\\n|5\\n|-\\n|align=left|[[Rachel Homan]]<br/>[[John Morris (curler)|John Morris]]\\n|align=left|[[Curling at the 2022 Winter Olympics – Mixed doubles tournament|Mixed doubles]]\\n|{{flagIOCshort|GBR|2022 Winter}}<br/>'''L''' 4–6\\n|{{flagIOCshort|NOR|2022 Winter}}<br/>'''W''' 7–6\\n|{{flagIOCshort|SUI|2022 Winter}}<br/>'''W''' 7–5\\n|{{flagIOCshort|CHN|2022 Winter}}<br/>'''W''' 8–6\\n|{{flagIOCshort|SWE|2022 Winter}}<br/>'''L''' 2–6\\n|{{flagIOCshort|USA|2022 Winter}}<br/>'''W''' 7–2\\n|{{flagIOCshort|CZE|2022 Winter}}<br/>'''W''' 6–5\\n|{{flagIOCshort|AUS|2022 Winter}}<br/>'''L''' 8–10\\n|{{flagIOCshort|ITA|2022 Winter}}<br/>'''L''' 7–8\\n|5<br>5–4\\n|colspan=2|Did not advance\\n|5\\n|}\""
     },
     "metadata": {},
     "output_type": "display_data"
    },
    {
     "name": "stdout",
     "output_type": "stream",
     "text": [
      "relatedness=0.838\n"
     ]
    },
    {
     "data": {
      "text/plain": "'2021 Olympic Qualification Event – Curling\\n\\n==Men==\\n\\n===Playoffs===\\n\\n{{3TeamBracket-PagePlayoff\\n| boldwinner = y\\n| RD1 = Qualification Game 1\\n| RD2 = Qualification Game 2\\n| RD3 = Qualified\\n| RD3-legs = 0\\n\\n| RD1-seed1 = 2\\n| RD1-team1 = {{flagIOC|ITA|2022 Winter}}\\n| RD1-score1 = 6\\n| RD1-seed2 = 3\\n| RD1-team2 = {{flagIOC|CZE|2022 Winter}}\\n| RD1-score2 = 5\\n\\n| RD2-seed1 = 3\\n| RD2-team1 = {{flagIOC|CZE|2022 Winter}}\\n| RD2-score1 = 5\\n| RD2-seed2 = 4\\n| RD2-team2 = {{flagIOC|DEN|2022 Winter}}\\n| RD2-score2 = 8\\n\\n| RD3-team1 = {{flagIOC|ITA|2022 Winter}}\\n| RD3-team2 = {{flagIOC|DEN|2022 Winter}}\\n}}'"
     },
     "metadata": {},
     "output_type": "display_data"
    },
    {
     "name": "stdout",
     "output_type": "stream",
     "text": [
      "relatedness=0.838\n"
     ]
    },
    {
     "data": {
      "text/plain": "\"2021 Olympic Qualification Event – Curling\\n\\n==Mixed doubles==\\n\\n===Round robin results===\\n\\n====Draw 8====\\n\\n''Tuesday, December 7, 9:00''\\n{{Curlingbox8\\n| sheet = B\\n| team1 = {{flagIOC|AUS|2022 Winter}}\\n|0|1|0|0|3|0|3|1| |8\\n| team2 = {{flagIOC|DEN|2022 Winter}} {{X}}\\n|2|0|2|2|0|1|0|0| |7\\n}}\\n{{Curlingbox8\\n| sheet = C\\n| team1 = {{flagIOC|HUN|2022 Winter}} {{X}}\\n|2|0|0|2|0|4|0|0| |8\\n| team2 = {{flagIOC|TUR|2022 Winter}}\\n|0|1|1|0|1|0|2|2| |7\\n}}\\n{{Curlingbox8\\n| sheet = D\\n| team1 = {{flagIOC|ESP|2022 Winter}}\\n|0|2|0|0|1|0|2|X| |5\\n| team2 = {{flagIOC|GER|2022 Winter}} {{X}}\\n|1|0|3|2|0|3|0|X| |9\\n}}\""
     },
     "metadata": {},
     "output_type": "display_data"
    },
    {
     "name": "stdout",
     "output_type": "stream",
     "text": [
      "relatedness=0.838\n"
     ]
    },
    {
     "data": {
      "text/plain": "\"2021 Olympic Qualification Event – Curling\\n\\n==Mixed doubles==\\n\\n===Round robin results===\\n\\n====Draw 6====\\n\\n''Monday, December 6, 14:30''\\n{{Curlingbox8\\n| sheet = B\\n| team1 = {{flagIOC|ESP|2022 Winter}}\\n|1|1|0|1|0|0|1|0| |4\\n| team2 = {{flagIOC|HUN|2022 Winter}} {{X}}\\n|0|0|1|0|5|1|0|1| |8\\n}}\\n{{Curlingbox8\\n| sheet = C\\n| team1 = {{flagIOC|AUS|2022 Winter}}\\n|2|0|1|2|1|2|X|X| |8\\n| team2 = {{flagIOC|GER|2022 Winter}} {{X}}\\n|0|1|0|0|0|0|X|X| |1\\n}}\\n{{Curlingbox8\\n| sheet = D\\n| team1 = {{flagIOC|DEN|2022 Winter}} {{X}}\\n|3|0|2|0|2|0|4|X| |11\\n| team2 = {{flagIOC|ROC|2022 Winter}}\\n|0|1|0|3|0|1|0|X| |5\\n}}\""
     },
     "metadata": {},
     "output_type": "display_data"
    },
    {
     "name": "stdout",
     "output_type": "stream",
     "text": [
      "relatedness=0.838\n"
     ]
    },
    {
     "data": {
      "text/plain": "\"Curling at the 2022 Winter Olympics\\n\\n==Results summary==\\n\\n===Men's tournament===\\n\\n====Round robin====\\n\\n;Standings\\n{{#lst:Curling at the 2022 Winter Olympics – Men's tournament|Standings}}\\n;Results\\n{{#lst:Curling at the 2022 Winter Olympics – Men's tournament|Results}}\""
     },
     "metadata": {},
     "output_type": "display_data"
    },
    {
     "name": "stdout",
     "output_type": "stream",
     "text": [
      "relatedness=0.838\n"
     ]
    },
    {
     "data": {
      "text/plain": "'Curling at the 2022 Winter Olympics – Qualification\\n\\n==Summary==\\n\\n===Mixed doubles===\\n\\n{|class=\"wikitable\"\\n|-\\n! Means of qualification!!Dates !!Location !! Quotas !! Qualified\\n|-\\n|Host nation||colspan=2 {{n/a}} ||align=center|1 ||{{flagIOC|CHN|2022 Winter}}\\n|-\\n|[[2021 World Mixed Doubles Curling Championship]]||17–23 May 2021 ||{{flagicon|GBR}} [[Aberdeen]], [[United Kingdom]] ||align=center|7 ||{{flagIOC|GBR|2022 Winter}}<br />{{flagIOC|NOR|2022 Winter}}<br />{{flagIOC|SWE|2022 Winter}}<br />{{flagIOC|CAN|2022 Winter}}<br />{{flagIOC|ITA|2022 Winter}}<br />{{flagIOC|SUI|2022 Winter}}<br />{{flagIOC|CZE|2022 Winter}}\\n|-\\n|[[2021 Olympic Qualification Event – Curling|Olympic Qualification Event]]||5–9 December 2021 ||{{flagicon|NED}} [[Leeuwarden]], [[Netherlands]] ||align=center|2 ||{{flagIOC|AUS|2022 Winter}}<br />{{flagIOC|USA|2022 Winter}}\\n|-\\n! Total !! !! !! 10 !!\\n|}'"
     },
     "metadata": {},
     "output_type": "display_data"
    },
    {
     "name": "stdout",
     "output_type": "stream",
     "text": [
      "relatedness=0.838\n"
     ]
    },
    {
     "data": {
      "text/plain": "\"2021 Olympic Qualification Event – Curling\\n\\n==Men==\\n\\n===Round robin results===\\n\\n====Draw 5====\\n\\n''Tuesday, December 14, 9:00''\\n{{Curlingbox\\n| sheet = A\\n| team1 = {{flagIOC|NED|2022 Winter}} (Gösgens)  {{X}}\\n|1|0|2|0|0|1|0|0|2|0| |6\\n| team2 = {{flagIOC|ITA|2022 Winter}} (Retornaz)\\n|0|2|0|2|1|0|0|1|0|1| |7\\n}}\\n{{Curlingbox\\n| sheet = B\\n| team1 = {{flagIOC|FIN|2022 Winter}} (Kiiskinen)\\n|0|0|2|0|0|1|2|0|0|1|0 |6\\n| team2 = {{flagIOC|GER|2022 Winter}} (Totzek) {{X}}\\n|1|1|0|0|3|0|0|0|1|0|2 |8\\n}}\\n{{Curlingbox\\n| sheet = C\\n| team1 = {{flagIOC|KOR|2022 Winter}} (Kim) {{X}}\\n|0|1|0|0|1|2|0|2|0|X| |6\\n| team2 = {{flagIOC|CZE|2022 Winter}} (Klíma)\\n|3|0|2|4|0|0|2|0|3|X| |14\\n}}\\n{{Curlingbox\\n| sheet = D\\n| team1 = {{flagIOC|NOR|2022 Winter}} (Walstad) {{X}}\\n|2|0|2|0|0|1|0|1|1|X| |7\\n| team2 = {{flagIOC|DEN|2022 Winter}} (Krause)\\n|0|1|0|1|1|0|1|0|0|X| |4\\n}}\""
     },
     "metadata": {},
     "output_type": "display_data"
    },
    {
     "name": "stdout",
     "output_type": "stream",
     "text": [
      "relatedness=0.838\n"
     ]
    },
    {
     "data": {
      "text/plain": "'2021 Olympic Qualification Event – Curling\\n\\n==Mixed doubles==\\n\\n===Qualification===\\n\\n{| class=\"wikitable\" style=\"width:550px;\"\\n|-\\n! Means of qualification || Vacancies || Qualified\\n|-\\n| Host Nation\\n|align=center| 0\\n|<s>{{flagIOC|NED|2022 Winter}}</s>\\n|-\\n| [[2021 World Mixed Doubles Curling Championship]]\\n|align=center| 11\\n|{{flagIOC|USA|2022 Winter}}<br>{{flagIOC|GER|2022 Winter}}<br>{{flagIOC|ROC|2022 Winter}}<br>{{flagIOC|NZL|2022 Winter}}<br>{{flagIOC|AUS|2022 Winter}}<br>{{flagIOC|HUN|2022 Winter}}<br>{{flagIOC|JPN|2022 Winter}}<br>{{flagIOC|FIN|2022 Winter}}<br>{{flagIOC|KOR|2022 Winter}}<br>{{flagIOC|EST|2022 Winter}}<br>{{flagIOC|ESP|2022 Winter}}\\n|-\\n| [[2021 Pre-Olympic Qualification Event]]\\n|align=center| 3\\n|{{flagIOC|DEN|2022 Winter}}<br>{{flagIOC|LAT|2022 Winter}}<br>{{flagIOC|TUR|2022 Winter}}\\n|-\\n! TOTAL  || 14 ||\\n|}'"
     },
     "metadata": {},
     "output_type": "display_data"
    },
    {
     "name": "stdout",
     "output_type": "stream",
     "text": [
      "relatedness=0.837\n"
     ]
    },
    {
     "data": {
      "text/plain": "'Figure skating at the 2022 Winter Olympics\\n\\n== Medal summary ==\\n\\n=== Medal table ===\\n\\n{{Medals table\\n | caption        = \\n | host           =CHN \\n | flag_template  = flagIOC\\n | event          = 2022 Winter\\n | team           = \\n | gold_ROC = 2 | silver_ROC = 3 | bronze_ROC = 1\\n | gold_USA = 1 | silver_USA = 1 | bronze_USA = 1\\n | gold_CHN = 1 | silver_CHN = 0 | bronze_CHN = 0 | host_CHN = yes\\n | gold_FRA = 1 | silver_FRA = 0 | bronze_FRA = 0\\n | gold_JPN = 0 | silver_JPN = 1 | bronze_JPN = 3\\n}}'"
     },
     "metadata": {},
     "output_type": "display_data"
    },
    {
     "name": "stdout",
     "output_type": "stream",
     "text": [
      "relatedness=0.837\n"
     ]
    },
    {
     "data": {
      "text/plain": "\"2021 Olympic Qualification Event – Curling\\n\\n==Mixed doubles==\\n\\n===Round robin results===\\n\\n====Draw 4====\\n\\n''Sunday, December 5, 19:30''\\n{{Curlingbox8\\n| sheet = B\\n| team1 = {{flagIOC|DEN|2022 Winter}}\\n|0|2|0|1|2|0|2|0| |7\\n| team2 = {{flagIOC|GER|2022 Winter}} {{X}}\\n|3|0|2|0|0|2|0|1| |8\\n}}\\n{{Curlingbox8\\n| sheet = C\\n| team1 = {{flagIOC|ROC|2022 Winter}} {{X}}\\n|0|4|1|0|2|0|2|X| |9\\n| team2 = {{flagIOC|HUN|2022 Winter}}\\n|1|0|0|1|0|1|0|X| |3\\n}}\\n{{Curlingbox8\\n| sheet = D\\n| team1 = {{flagIOC|AUS|2022 Winter}} {{X}}\\n|1|0|1|1|0|0|4|X| |7\\n| team2 = {{flagIOC|TUR|2022 Winter}}\\n|0|1|0|0|1|1|0|X| |3\\n}}\""
     },
     "metadata": {},
     "output_type": "display_data"
    },
    {
     "name": "stdout",
     "output_type": "stream",
     "text": [
      "relatedness=0.837\n"
     ]
    },
    {
     "data": {
      "text/plain": "\"2021 Olympic Qualification Event – Curling\\n\\n==Women==\\n\\n===Round robin results===\\n\\n====Draw 8====\\n\\n''Wednesday, December 15, 19:00''\\n{{Curlingbox\\n| sheet = A\\n| team1 = {{flagIOC|CZE|2022 Winter}} (Kubešková) {{X}}\\n|0|0|2|0|1|1|3|0|X|X| |7\\n| team2 = {{flagIOC|TUR|2022 Winter}} (Yıldız)\\n|0|0|0|1|0|0|0|1|X|X| |2\\n}}\\n{{Curlingbox\\n| sheet = B\\n| team1 = {{flagIOC|LAT|2022 Winter}} (Blumberga-Bērziņa)\\n|0|0|0|2|0|1|0|2|0|X| |5\\n| team2 = {{flagIOC|GBR|2022 Winter}} (Muirhead) {{X}}\\n|0|2|1|0|2|0|1|0|3|X| |9\\n}}\\n{{Curlingbox\\n| sheet = C\\n| team1 = {{flagIOC|GER|2022 Winter}} (Jentsch) {{X}}\\n|0|0|1|1|1|0|0|1|0|2|0 |6\\n| team2 = {{flagIOC|ITA|2022 Winter}} (Constantini)\\n|1|0|0|0|0|1|2|0|2|0|1 |7\\n}}\\n{{Curlingbox\\n| sheet = D\\n| team1 = {{flagIOC|JPN|2022 Winter}} (Fujisawa) {{X}}\\n|0|3|0|1|2|0|3|X|X|X| |9\\n| team2 = {{flagIOC|EST|2022 Winter}} (Turmann)\\n|0|0|1|0|0|1|0|X|X|X| |2\\n}}\""
     },
     "metadata": {},
     "output_type": "display_data"
    },
    {
     "name": "stdout",
     "output_type": "stream",
     "text": [
      "relatedness=0.837\n"
     ]
    },
    {
     "data": {
      "text/plain": "'Curling at the 2022 Winter Olympics – Qualification\\n\\n==Summary==\\n\\n===Final summary===\\n\\nSix nations - [[Canada at the 2022 Winter Olympics|Canada]], [[Great Britain at the 2022 Winter Olympics|Great Britain]], [[Sweden at the 2022 Winter Olympics|Sweden]], [[Switzerland at the 2022 Winter Olympics|Switzerland]] and the [[United States at the 2022 Winter Olympics|United States]], along with hosts [[China at the 2022 Winter Olympics|China]] - achieved a maximum representation of 12 quota places across all three events, while, in total 14 [[National Olympic Committee|NOCS]] are represented in the curling competition in Beijing. Although they competed in the 1992 demonstration event, this will be [[Australia at the 2022 Winter Olympics|Australia]]\\'s debut in curling as a full Olympic event.\\n\\n{| class=\"wikitable sortable\" style=\"text-align:center\"\\n! Nations\\n! [[#Men|Men]]\\n! [[#Women|Women]]\\n! [[#Mixed doubles|Mixed doubles]]\\n! Athletes\\n|-\\n|align=\"left\" |{{flagIOC|AUS|2022 Winter}} ||||||{{ya}} ||\\'\\'\\'2\\'\\'\\'\\n|-\\n|align=\"left\" |{{flagIOC|CAN|2022 Winter}} ||{{ya}} ||{{ya}} ||{{ya}} ||\\'\\'\\'12\\'\\'\\'\\n|-\\n|align=\"left\" |{{flagIOC|CHN|2022 Winter}} ||{{ya}} ||{{ya}} ||{{ya}} ||\\'\\'\\'12\\'\\'\\'\\n|-\\n|align=\"left\" |{{flagIOC|CZE|2022 Winter}} ||||||{{ya}} ||\\'\\'\\'2\\'\\'\\'\\n|-\\n|align=\"left\" |{{flagIOC|DEN|2022 Winter}} ||{{ya}} ||{{ya}} ||||\\'\\'\\'10\\'\\'\\'\\n|-\\n|align=\"left\" |{{flagIOC|GBR|2022 Winter}} ||{{ya}} ||{{ya}} ||{{ya}} ||\\'\\'\\'12\\'\\'\\'\\n|-\\n|align=\"left\" |{{flagIOC|ITA|2022 Winter}} ||{{ya}} ||||{{ya}} ||\\'\\'\\'7\\'\\'\\'\\n|-\\n|align=\"left\" |{{flagIOC|JPN|2022 Winter}} ||||{{ya}} ||||\\'\\'\\'5\\'\\'\\'\\n|-\\n|align=\"left\" |{{flagIOC|NOR|2022 Winter}} ||{{ya}} ||||{{ya}} ||\\'\\'\\'7\\'\\'\\'\\n|-\\n|align=\"left\" |{{flagIOC|ROC|2022 Winter}} ||{{ya}} ||{{ya}} ||||\\'\\'\\'10\\'\\'\\'\\n|-\\n|align=\"left\" |{{flagIOC|KOR|2022 Winter}} ||||{{ya}} ||||\\'\\'\\'5\\'\\'\\'\\n|-\\n|align=\"left\" |{{flagIOC|SWE|2022 Winter}} ||{{ya}} ||{{ya}} ||{{ya}} ||\\'\\'\\'12\\'\\'\\'\\n|-\\n|align=\"left\" |{{flagIOC|SUI|2022 Winter}} ||{{ya}} ||{{ya}} ||{{ya}} ||\\'\\'\\'12\\'\\'\\'\\n|-\\n|align=\"left\" |{{flagIOC|USA|2022 Winter}} ||{{ya}} ||{{ya}} ||{{ya}} ||\\'\\'\\'12\\'\\'\\'\\n|-\\n!Total: 14 NOCs \\n! 10\\n! 10\\n! 10\\n! 120\\n|}'"
     },
     "metadata": {},
     "output_type": "display_data"
    },
    {
     "name": "stdout",
     "output_type": "stream",
     "text": [
      "relatedness=0.837\n"
     ]
    },
    {
     "data": {
      "text/plain": "'Grant Hardie\\n\\n==Career==\\n\\n===Mixed===\\n\\nHardie [[skip (curling)|skip]]ped the Scottish team at the [[2017 World Mixed Curling Championship]]. He led his team of [[Rhiann Macleod]], [[Billy Morton (curler)|Billy Morton]] and [[Barbara McFarlane]] to a 6-1 record after the group stage. The team then went on to win four straight playoff games en route to winning the gold medal, defeating Canada in the final.'"
     },
     "metadata": {},
     "output_type": "display_data"
    },
    {
     "name": "stdout",
     "output_type": "stream",
     "text": [
      "relatedness=0.837\n"
     ]
    },
    {
     "data": {
      "text/plain": "\"2021 Olympic Qualification Event – Curling\\n\\n==Mixed doubles==\\n\\n===Round robin results===\\n\\n====Draw 3====\\n\\n''Sunday, December 5, 16:00''\\n{{Curlingbox8\\n| sheet = B\\n| team1 = {{flagIOC|JPN|2022 Winter}}\\n|1|1|0|2|2|2|X|X| |8\\n| team2 = {{flagIOC|LAT|2022 Winter}} {{X}}\\n|0|0|2|0|0|0|X|X| |2\\n}}\\n{{Curlingbox8\\n| sheet = C\\n| team1 = {{flagIOC|KOR|2022 Winter}}\\n|2|0|0|3|0|4|1|X| |10\\n| team2 = {{flagIOC|FIN|2022 Winter}} {{X}}\\n|0|2|1|0|1|0|0|X| |4\\n}}\\n{{Curlingbox8\\n| sheet = D\\n| team1 = {{flagIOC|EST|2022 Winter}} {{X}}\\n|0|2|2|0|0|2|0|X| |6\\n| team2 = {{flagIOC|USA|2022 Winter}}\\n|4|0|0|3|2|0|2|X| |11\\n}}\""
     },
     "metadata": {},
     "output_type": "display_data"
    },
    {
     "name": "stdout",
     "output_type": "stream",
     "text": [
      "relatedness=0.837\n"
     ]
    },
    {
     "data": {
      "text/plain": "\"2021 Olympic Qualification Event – Curling\\n\\n==Mixed doubles==\\n\\n===Round robin results===\\n\\n====Draw 11====\\n\\n''Tuesday, December 7, 19:30''\\n{{Curlingbox8\\n| sheet = B\\n| team1 = {{flagIOC|FIN|2022 Winter}}\\n|0|2|4|0|0|3|1|X| |10\\n| team2 = {{flagIOC|EST|2022 Winter}} {{X}}\\n|1|0|0|2|1|0|0|X| |4\\n}}\\n{{Curlingbox8\\n| sheet = C\\n| team1 = {{flagIOC|LAT|2022 Winter}}\\n|0|0|0|2|0|4|0|1| |7\\n| team2 = {{flagIOC|KOR|2022 Winter}} {{X}}\\n|3|2|2|0|1|0|1|0| |9\\n}}\\n{{Curlingbox8\\n| sheet = D\\n| team1 = {{flagIOC|USA|2022 Winter}} {{X}}\\n|0|5|0|2|2|0|X|X| |9\\n| team2 = {{flagIOC|NZL|2022 Winter}}\\n|1|0|1|0|0|1|X|X| |3\\n}}\""
     },
     "metadata": {},
     "output_type": "display_data"
    },
    {
     "name": "stdout",
     "output_type": "stream",
     "text": [
      "relatedness=0.837\n"
     ]
    },
    {
     "data": {
      "text/plain": "\"2021 Olympic Qualification Event – Curling\\n\\n==Men==\\n\\n===Round robin results===\\n\\n====Draw 4====\\n\\n''Monday, December 13, 14:00''\\n{{Curlingbox\\n| sheet = A\\n| team1 = {{flagIOC|GER|2022 Winter}} (Totzek) {{X}}\\n|0|0|1|1|0|0|0|2|0|X| |4\\n| team2 = {{flagIOC|NOR|2022 Winter}} (Walstad)\\n|0|2|0|0|0|2|1|0|2|X| |7\\n}}\\n{{Curlingbox\\n| sheet = B\\n| team1 = {{flagIOC|NED|2022 Winter}} (Gösgens) {{X}}\\n|0|3|0|0|0|0|1|1|1|1| |7\\n| team2 = {{flagIOC|CZE|2022 Winter}} (Klíma)\\n|0|0|1|1|1|1|0|0|0|0| |4\\n}}\\n{{Curlingbox\\n| sheet = C\\n| team1 = {{flagIOC|DEN|2022 Winter}} (Krause) {{X}}\\n|1|1|2|0|2|3|X|X|X|X| |9\\n| team2 = {{flagIOC|FIN|2022 Winter}} (Kiiskinen)\\n|0|0|0|2|0|0|X|X|X|X| |2\\n}}\\n{{Curlingbox\\n| sheet = D\\n| team1 = {{flagIOC|JPN|2022 Winter}} (Matsumura) {{X}}\\n|0|1|1|0|1|1|0|1|1|0| |6\\n| team2 = {{flagIOC|KOR|2022 Winter}} (Kim)\\n|0|0|0|1|0|0|3|0|0|1| |5\\n}}\""
     },
     "metadata": {},
     "output_type": "display_data"
    },
    {
     "name": "stdout",
     "output_type": "stream",
     "text": [
      "relatedness=0.837\n"
     ]
    },
    {
     "data": {
      "text/plain": "'United States at the 2022 Winter Olympics\\n\\n==Curling==\\n\\n===Mixed doubles tournament===\\n\\n{{main|Curling at the 2022 Winter Olympics – Mixed doubles tournament}}\\nThe United States qualified their mixed doubles team (two athletes), by finishing in the top two teams in the [[2021 Olympic Qualification Event – Curling|2021 Olympic Qualification Event]]. [[Vicky Persinger]] and [[Chris Plys]] qualified as the United States representatives by winning the [[2021 United States Mixed Doubles Curling Olympic Trials]], defeating [[Jamie Sinclair]] and [[Rich Ruohonen]] 7–6 in the final.\\n\\n{{#lst:Curling at the 2022 Winter Olympics – Mixed doubles tournament|Standings}}\\n\\'\\'\\'Round robin\\'\\'\\'<br/>\\nThe United States had a [[Bye (sports)|bye]] in draws 4, 5, 7, and 11.<ref name=\"Curling Schedule\"/>\\n{{Col-float-begin|style=width:45em}}\\n\\'\\'\\'Draw 1\\'\\'\\'<br/>\\n\\'\\'Wednesday, February 2, 20:05\\'\\'\\n{{#lst:Curling at the 2022 Winter Olympics – Mixed doubles tournament|Draw1SheetB}}\\n\\'\\'\\'Draw 2\\'\\'\\'<br/>\\n\\'\\'Thursday, February 3, 9:05\\'\\'\\n{{#lst:Curling at the 2022 Winter Olympics – Mixed doubles tournament|Draw2SheetC}}\\n\\'\\'\\'Draw 3\\'\\'\\'<br/>\\n\\'\\'Thursday, February 3, 14:05\\'\\'\\n{{#lst:Curling at the 2022 Winter Olympics – Mixed doubles tournament|Draw3SheetB}}\\n\\'\\'\\'Draw 6\\'\\'\\'<br/>\\n\\'\\'Friday, February 4, 13:35\\'\\'\\n{{#lst:Curling at the 2022 Winter Olympics – Mixed doubles tournament|Draw6SheetD}}\\n\\'\\'\\'Draw 8\\'\\'\\'<br/>\\n\\'\\'Saturday, February 5, 14:05\\'\\'\\n{{#lst:Curling at the 2022 Winter Olympics – Mixed doubles tournament|Draw8SheetA}}\\n{{Col-float-break|style=width:45em}}\\n\\'\\'\\'Draw 9\\'\\'\\'<br/>\\n\\'\\'Saturday, February 5, 20:05\\'\\'\\n{{#lst:Curling at the 2022 Winter Olympics – Mixed doubles tournament|Draw9SheetD}}\\n\\'\\'\\'Draw 10\\'\\'\\'<br/>\\n\\'\\'Sunday, February 6, 9:05\\'\\'\\n{{#lst:Curling at the 2022 Winter Olympics – Mixed doubles tournament|Draw10SheetA}}\\n\\'\\'\\'Draw 12\\'\\'\\'<br/>\\n\\'\\'Sunday, February 6, 20:05\\'\\'\\n{{#lst:Curling at the 2022 Winter Olympics – Mixed doubles tournament|Draw12SheetC}}\\n\\'\\'\\'Draw 13\\'\\'\\'<br/>\\n\\'\\'Monday, February 7, 9:05\\'\\'\\n{{#lst:Curling at the 2022 Winter Olympics – Mixed doubles tournament|Draw13SheetC}}\\n{{Col-float-end}}'"
     },
     "metadata": {},
     "output_type": "display_data"
    },
    {
     "name": "stdout",
     "output_type": "stream",
     "text": [
      "relatedness=0.837\n"
     ]
    },
    {
     "data": {
      "text/plain": "\"2021 Olympic Qualification Event – Curling\\n\\n==Men==\\n\\n===Playoffs===\\n\\n====Qualification Game 2====\\n\\n''Saturday, December 18, 15:00''\\n{{Curlingbox\\n| sheet = B\\n| team1 = {{flagIOC|CZE|2022 Winter}} (Klíma) {{X}}\\n|1|0|1|1|1|0|1|0|0|X| |5\\n| team2 = {{flagIOC|DEN|2022 Winter}} (Krause)\\n|0|1|0|0|0|2|0|3|2|X| |8\\n}}\\n{{Player percentages\\n| team1 = {{flagIOC|CZE|2022 Winter}}\\n| [[Jiří Candra]] | 71%\\n| [[Radek Boháč]] | 74%\\n| [[Marek Černovský]] | 83%\\n| [[Lukáš Klíma (curler)|Lukáš Klíma]] | 63%\\n| teampct1 = 73%\\n| team2 = {{flagIOC|DEN|2022 Winter}}\\n| [[Kasper Wiksten]] | 79%\\n| [[Henrik Holtermann]] | 75%\\n| [[Mads Nørgård]] | 79%\\n| [[Mikkel Krause]] | 86%\\n| teampct2 = 80%\\n}}\""
     },
     "metadata": {},
     "output_type": "display_data"
    },
    {
     "name": "stdout",
     "output_type": "stream",
     "text": [
      "relatedness=0.837\n"
     ]
    },
    {
     "data": {
      "text/plain": "\"2021 Olympic Qualification Event – Curling\\n\\n==Women==\\n\\n===Round robin results===\\n\\n====Draw 5====\\n\\n''Monday, December 13, 19:00''\\n{{Curlingbox\\n| sheet = A\\n| team1 = {{flagIOC|GBR|2022 Winter}} (Muirhead) {{X}}\\n|0|2|1|0|2|0|3|0|0|X| |8\\n| team2 = {{flagIOC|JPN|2022 Winter}} (Fujisawa)\\n|0|0|0|2|0|1|0|1|1|X| |5\\n}}\\n{{Curlingbox\\n| sheet = B\\n| team1 = {{flagIOC|GER|2022 Winter}} (Jentsch) {{X}}\\n|1|0|3|0|1|0|0|2|0|3| |10\\n| team2 = {{flagIOC|TUR|2022 Winter}} (Yıldız)\\n|0|1|0|1|0|2|2|0|1|0| |7\\n}}\\n{{Curlingbox\\n| sheet = C\\n| team1 = {{flagIOC|ITA|2022 Winter}} (Constantini)\\n|0|1|0|0|0|0|0|X|X|X| |1\\n| team2 = {{flagIOC|KOR|2022 Winter}} (Kim) {{X}}\\n|2|0|2|0|1|1|1|X|X|X| |7\\n}}\\n{{Curlingbox\\n| sheet = D\\n| team1 = {{flagIOC|LAT|2022 Winter}} (Blumberga-Bērziņa)\\n|0|2|1|1|1|0|0|3|0|1| |9\\n| team2 = {{flagIOC|CZE|2022 Winter}} (Kubešková) {{X}}\\n|2|0|0|0|0|1|1|0|2|0| |6\\n}}\""
     },
     "metadata": {},
     "output_type": "display_data"
    },
    {
     "name": "stdout",
     "output_type": "stream",
     "text": [
      "relatedness=0.837\n"
     ]
    },
    {
     "data": {
      "text/plain": "\"2021 Olympic Qualification Event – Curling\\n\\n==Mixed doubles==\\n\\n===Round robin results===\\n\\n====Draw 10====\\n\\n''Tuesday, December 7, 16:00''\\n{{Curlingbox8\\n| sheet = B\\n| team1 = {{flagIOC|GER|2022 Winter}} {{X}}\\n|2|1|1|1|1|1|X|X| |7\\n| team2 = {{flagIOC|TUR|2022 Winter}}\\n|0|0|0|0|0|0|X|X| |0\\n}}\\n{{Curlingbox8\\n| sheet = C\\n| team1 = {{flagIOC|DEN|2022 Winter}} {{X}}\\n|3|2|1|3|0|0|0|X| |9\\n| team2 = {{flagIOC|ESP|2022 Winter}}\\n|0|0|0|0|1|1|1|X| |3\\n}}\\n{{Curlingbox8\\n| sheet = D\\n| team1 = {{flagIOC|ROC|2022 Winter}}\\n|0|1|0|2|3|0|0|0| |6\\n| team2 = {{flagIOC|AUS|2022 Winter}} {{X}}\\n|2|0|2|0|0|2|1|1| |8\\n}}\""
     },
     "metadata": {},
     "output_type": "display_data"
    },
    {
     "name": "stdout",
     "output_type": "stream",
     "text": [
      "relatedness=0.837\n"
     ]
    },
    {
     "data": {
      "text/plain": "\"2022 Canadian Mixed Doubles Curling Olympic Trials\\n\\n==Championship round==\\n\\n===Semifinals===\\n\\n''Friday, December 31, 4:00 pm''\\n{{Curlingbox8\\n| sheet = \\n| team1 = \\n||||||||| |0\\n| team2 = \\n||||||||| |0\\n}}\\n{{Curlingbox8\\n| sheet = \\n| team1 = \\n||||||||| |0\\n| team2 = \\n||||||||| |0\\n}}\""
     },
     "metadata": {},
     "output_type": "display_data"
    },
    {
     "name": "stdout",
     "output_type": "stream",
     "text": [
      "relatedness=0.837\n"
     ]
    },
    {
     "data": {
      "text/plain": "\"2021 Olympic Qualification Event – Curling\\n\\n==Men==\\n\\n===Round robin results===\\n\\n====Draw 9====\\n\\n''Thursday, December 16, 19:00''\\n{{Curlingbox\\n| sheet = A\\n| team1 = {{flagIOC|KOR|2022 Winter}} (Kim) {{X}}\\n|1|0|0|0|1|0|1|0|X|X| |3\\n| team2 = {{flagIOC|NED|2022 Winter}} (Gösgens)\\n|0|1|1|2|0|1|0|3|X|X| |8\\n}}\\n{{Curlingbox\\n| sheet = B\\n| team1 = {{flagIOC|JPN|2022 Winter}} (Matsumura)\\n|0|1|0|0|1|0|0|0|X|X| |2\\n| team2 = {{flagIOC|FIN|2022 Winter}} (Kiiskinen) {{X}}\\n|1|0|0|2|0|1|3|1|X|X| |8\\n}}\\n{{Curlingbox\\n| sheet = C\\n| team1 = {{flagIOC|GER|2022 Winter}} (Totzek) {{X}}\\n|1|0|0|0|1|0|2|0|X|X| |4\\n| team2 = {{flagIOC|ITA|2022 Winter}} (Retornaz)\\n|0|1|1|1|0|4|0|4|X|X| |11\\n}}\\n{{Curlingbox\\n| sheet = D\\n| team1 = {{flagIOC|DEN|2022 Winter}} (Krause) {{X}}\\n|0|0|1|0|3|0|0|0|1|0| |5\\n| team2 = {{flagIOC|CZE|2022 Winter}} (Klíma)\\n|0|0|0|3|0|1|1|1|0|1| |7\\n}}\""
     },
     "metadata": {},
     "output_type": "display_data"
    },
    {
     "name": "stdout",
     "output_type": "stream",
     "text": [
      "relatedness=0.837\n"
     ]
    },
    {
     "data": {
      "text/plain": "'Curling at the 2022 Winter Olympics\\n\\n==Qualification==\\n\\n{{main|Curling at the 2022 Winter Olympics – Qualification}}\\nQualification to the Men\\'s and Women\\'s curling tournaments at the Winter Olympics was determined through two methods (in addition to the host nation). Nations qualified teams by placing in the top six at the 2021 [[World Curling Championships]]. Teams could also qualify through Olympic qualification events which were held in 2021. Six nations qualified via World Championship qualification placement, while three nations qualified through qualification events. In men\\'s and women\\'s play, a host will be selected for the Olympic Qualification Event (OQE). They would be joined by the teams which competed at the 2021 World Championships but did not qualify for the Olympics, and two qualifiers from the Pre-Olympic Qualification Event (Pre-OQE). The Pre-OQE was open to all member associations.\\n\\nFor the mixed doubles competition in 2022, the tournament field was expanded from eight competitor nations to ten.\\n\\n;Summary\\n{| class=\"wikitable sortable\" style=\"text-align:center;\"\\n! Nations\\n! [[#Men|Men]]\\n! [[#Women|Women]]\\n! [[#Mixed doubles|Mixed doubles]]\\n! Athletes\\n|-\\n| align=\"left\" | {{flagIOC|AUS|2022 Winter}} ||  ||  || {{ya}} ||\\'\\'\\'2\\'\\'\\'\\n|-\\n| align=\"left\" | {{flagIOC|CAN|2022 Winter}} || {{ya}} || {{ya}} || {{ya}} ||\\'\\'\\'12\\'\\'\\'\\n|-\\n| align=\"left\" | {{flagIOC|CHN|2022 Winter}} || {{ya}} || {{ya}} || {{ya}} ||\\'\\'\\'12\\'\\'\\'\\n|-\\n| align=\"left\" | {{flagIOC|CZE|2022 Winter}} ||  ||  || {{ya}} ||\\'\\'\\'2\\'\\'\\'\\n|-\\n| align=\"left\" | {{flagIOC|DEN|2022 Winter}} || {{ya}} || {{ya}} ||  ||\\'\\'\\'10\\'\\'\\'\\n|-\\n| align=\"left\" | {{flagIOC|GBR|2022 Winter}} || {{ya}} || {{ya}} || {{ya}} ||\\'\\'\\'10\\'\\'\\'\\n|-\\n| align=\"left\" | {{flagIOC|ITA|2022 Winter}} || {{ya}} ||  || {{ya}} ||\\'\\'\\'6\\'\\'\\'\\n|-\\n| align=\"left\" | {{flagIOC|JPN|2022 Winter}} ||  || {{ya}} ||  ||\\'\\'\\'5\\'\\'\\'\\n|-\\n| align=\"left\" | {{flagIOC|NOR|2022 Winter}} || {{ya}} ||  || {{ya}} ||\\'\\'\\'6\\'\\'\\'\\n|-\\n| align=\"left\" | {{flagIOC|ROC|2022 Winter}} || {{ya}} || {{ya}} ||  ||\\'\\'\\'10\\'\\'\\'\\n|-\\n| align=\"left\" | {{flagIOC|KOR|2022 Winter}} ||  || {{ya}} ||  ||\\'\\'\\'5\\'\\'\\'\\n|-\\n| align=\"left\" | {{flagIOC|SWE|2022 Winter}} || {{ya}} || {{ya}} || {{ya}} ||\\'\\'\\'11\\'\\'\\'\\n|-\\n| align=\"left\" | {{flagIOC|SUI|2022 Winter}} || {{ya}} || {{ya}} || {{ya}} ||\\'\\'\\'12\\'\\'\\'\\n|-\\n| align=\"left\" | {{flagIOC|USA|2022 Winter}} || {{ya}} || {{ya}} || {{ya}} ||\\'\\'\\'11\\'\\'\\'\\n|-\\n!Total: 14 NOCs\\n! 10\\n! 10\\n! 10\\n! 114\\n|}'"
     },
     "metadata": {},
     "output_type": "display_data"
    },
    {
     "name": "stdout",
     "output_type": "stream",
     "text": [
      "relatedness=0.837\n"
     ]
    },
    {
     "data": {
      "text/plain": "\"2021 Olympic Qualification Event – Curling\\n\\n==Men==\\n\\n===Round robin results===\\n\\n====Draw 2====\\n\\n''Sunday, December 12, 9:00''\\n{{Curlingbox\\n| sheet = A\\n| team1 = {{flagIOC|JPN|2022 Winter}} (Matsumura) {{X}}\\n|0|1|0|1|0|1|0|0|X|X| |3\\n| team2 = {{flagIOC|DEN|2022 Winter}} (Krause)\\n|1|0|2|0|2|0|3|3|X|X| |11\\n}}\\n{{Curlingbox\\n| sheet = B\\n| team1 = {{flagIOC|KOR|2022 Winter}} (Kim)\\n|0|1|0|1|0|2|0|2|0|X| |6\\n| team2 = {{flagIOC|NOR|2022 Winter}} (Walstad) {{X}}\\n|1|0|2|0|1|0|3|0|3|X| |10\\n}}\\n{{Curlingbox\\n| sheet = C\\n| team1 = {{flagIOC|CZE|2022 Winter}} (Klíma)\\n|0|1|1|2|0|0|0|1|2|X| |7\\n| team2 = {{flagIOC|GER|2022 Winter}} (Totzek) {{X}}\\n|1|0|0|0|1|1|1|0|0|X| |4\\n}}\\n{{Curlingbox\\n| sheet = D\\n| team1 = {{flagIOC|FIN|2022 Winter}} (Kiiskinen)\\n|0|0|2|0|1|1|0|1|0|0| |5\\n| team2 = {{flagIOC|ITA|2022 Winter}} (Retornaz) {{X}}\\n|0|2|0|2|0|0|2|0|1|2| |9\\n}}\""
     },
     "metadata": {},
     "output_type": "display_data"
    },
    {
     "name": "stdout",
     "output_type": "stream",
     "text": [
      "relatedness=0.837\n"
     ]
    },
    {
     "data": {
      "text/plain": "\"2021 Olympic Qualification Event – Curling\\n\\n==Mixed doubles==\\n\\n===Round robin results===\\n\\n====Draw 12====\\n\\n''Wednesday, December 8, 10:00''\\n{{Curlingbox8\\n| sheet = B\\n| team1 = {{flagIOC|HUN|2022 Winter}} {{X}}\\n|2|0|0|1|0|1|0|2|0 |6\\n| team2 = {{flagIOC|AUS|2022 Winter}}\\n|0|1|3|0|1|0|1|0|1 |7\\n}}\\n{{Curlingbox8\\n| sheet = C\\n| team1 = {{flagIOC|GER|2022 Winter}} {{X}}\\n|0|1|0|0|2|0|3|0| |6\\n| team2 = {{flagIOC|ROC|2022 Winter}}\\n|3|0|1|2|0|1|0|1| |8\\n}}\\n{{Curlingbox8\\n| sheet = D\\n| team1 = {{flagIOC|TUR|2022 Winter}}\\n|0|1|0|1|0|1|0|4|0 |7\\n| team2 = {{flagIOC|ESP|2022 Winter}} {{X}}\\n|1|0|2|0|2|0|2|0|1 |8\\n}}\""
     },
     "metadata": {},
     "output_type": "display_data"
    },
    {
     "name": "stdout",
     "output_type": "stream",
     "text": [
      "relatedness=0.836\n"
     ]
    },
    {
     "data": {
      "text/plain": "\"2021 Olympic Qualification Event – Curling\\n\\n==Women==\\n\\n===Round robin results===\\n\\n====Draw 7====\\n\\n''Wednesday, December 15, 9:00''\\n{{Curlingbox\\n| sheet = A\\n| team1 = {{flagIOC|LAT|2022 Winter}} (Blumberga-Bērziņa) {{X}}\\n|1|0|0|1|0|3|0|0|2|0| |7\\n| team2 = {{flagIOC|GER|2022 Winter}} (Jentsch)\\n|0|1|2|0|2|0|1|1|0|1| |8\\n}}\\n{{Curlingbox\\n| sheet = B\\n| team1 = {{flagIOC|KOR|2022 Winter}} (Kim)\\n|0|0|1|0|2|0|0|0|1|X| |4\\n| team2 = {{flagIOC|JPN|2022 Winter}} (Fujisawa) {{X}}\\n|3|1|0|1|0|1|1|1|0|X| |8\\n}}\\n{{Curlingbox\\n| sheet = C\\n| team1 = {{flagIOC|EST|2022 Winter}} (Turmann) {{X}}\\n|0|0|0|0|1|0|1|0|0|X| |2\\n| team2 = {{flagIOC|GBR|2022 Winter}} (Muirhead)\\n|0|2|0|0|0|2|0|3|2|X| |9\\n}}\\n{{Curlingbox\\n| sheet = D\\n| team1 = {{flagIOC|ITA|2022 Winter}} (Constantini) {{X}}\\n|0|2|0|3|0|2|0|2|3|X| |12\\n| team2 = {{flagIOC|TUR|2022 Winter}} (Yıldız)\\n|0|0|2|0|1|0|1|0|0|X| |4\\n}}\""
     },
     "metadata": {},
     "output_type": "display_data"
    },
    {
     "name": "stdout",
     "output_type": "stream",
     "text": [
      "relatedness=0.836\n"
     ]
    },
    {
     "data": {
      "text/plain": "\"Curling at the 2022 Winter Olympics\\n\\n==Participating nations==\\n\\nA total of 114 athletes from 14 nations (including the IOC's designation of ROC) were scheduled to participate (the numbers of athletes are shown in parentheses). Some curlers competed in both the 4-person and mixed doubles tournament, therefore, the numbers included on this list are the total athletes sent by each NOC to the Olympics, not how many athletes they qualified. Both Australia and the Czech Republic made their Olympic sport debuts.\\n\\n{{columns-list|colwidth=20em|\\n* {{flagIOC|AUS|2022 Winter|2}}\\n* {{flagIOC|CAN|2022 Winter|12}}\\n* {{flagIOC|CHN|2022 Winter|12}}\\n* {{flagIOC|CZE|2022 Winter|2}}\\n* {{flagIOC|DEN|2022 Winter|10}}\\n* {{flagIOC|GBR|2022 Winter|10}}\\n* {{flagIOC|ITA|2022 Winter|6}}\\n* {{flagIOC|JPN|2022 Winter|5}}\\n* {{flagIOC|NOR|2022 Winter|6}}\\n* {{flagIOC|ROC|2022 Winter|10}}\\n* {{flagIOC|KOR|2022 Winter|5}}\\n* {{flagIOC|SWE|2022 Winter|11}}\\n* {{flagIOC|SUI|2022 Winter|12}}\\n* {{flagIOC|USA|2022 Winter|11}}\\n}}\""
     },
     "metadata": {},
     "output_type": "display_data"
    },
    {
     "name": "stdout",
     "output_type": "stream",
     "text": [
      "relatedness=0.836\n"
     ]
    },
    {
     "data": {
      "text/plain": "\"2021 Olympic Qualification Event – Curling\\n\\n==Mixed doubles==\\n\\n===Round robin results===\\n\\n====Draw 5====\\n\\n''Monday, December 6, 10:00''\\n{{Curlingbox8\\n| sheet = B\\n| team1 = {{flagIOC|NZL|2022 Winter}}\\n|0|1|0|1|0|3|0|X| |5\\n| team2 = {{flagIOC|FIN|2022 Winter}} {{X}}\\n|3|0|3|0|1|0|1|X| |8\\n}}\\n{{Curlingbox8\\n| sheet = C\\n| team1 = {{flagIOC|EST|2022 Winter}}\\n|0|1|0|3|0|2|0|2|0 |8\\n| team2 = {{flagIOC|LAT|2022 Winter}} {{X}}\\n|1|0|2|0|3|0|2|0|1 |9\\n}}\\n{{Curlingbox8\\n| sheet = D\\n| team1 = {{flagIOC|JPN|2022 Winter}}\\n|0|1|2|0|0|1|0|0| |4\\n| team2 = {{flagIOC|KOR|2022 Winter}} {{X}}\\n|2|0|0|1|2|0|1|1| |7\\n}}\""
     },
     "metadata": {},
     "output_type": "display_data"
    },
    {
     "name": "stdout",
     "output_type": "stream",
     "text": [
      "relatedness=0.836\n"
     ]
    },
    {
     "data": {
      "text/plain": "\"2021 Olympic Qualification Event – Curling\\n\\n==Mixed doubles==\\n\\n===Round robin results===\\n\\n====Draw 7====\\n\\n''Monday, December 6, 19:00''\\n{{Curlingbox8\\n| sheet = B\\n| team1 = {{flagIOC|EST|2022 Winter}}\\n|2|0|1|1|0|2|2|X| |8\\n| team2 = {{flagIOC|JPN|2022 Winter}} {{X}}\\n|0|1|0|0|1|0|0|X| |2\\n}}\\n{{Curlingbox8\\n| sheet = C\\n| team1 = {{flagIOC|FIN|2022 Winter}}\\n|0|0|2|1|0|1|0|1| |5\\n| team2 = {{flagIOC|USA|2022 Winter}} {{X}}\\n|1|1|0|0|2|0|3|0| |7\\n}}\\n{{Curlingbox8\\n| sheet = D\\n| team1 = {{flagIOC|NZL|2022 Winter}}\\n|0|0|0|0|0|0|X|X| |0\\n| team2 = {{flagIOC|LAT|2022 Winter}} {{X}}\\n|2|1|1|3|1|1|X|X| |9\\n}}\""
     },
     "metadata": {},
     "output_type": "display_data"
    },
    {
     "name": "stdout",
     "output_type": "stream",
     "text": [
      "relatedness=0.836\n"
     ]
    },
    {
     "data": {
      "text/plain": "\"2021 Olympic Qualification Event – Curling\\n\\n==Mixed doubles==\\n\\n===Round robin results===\\n\\n====Draw 14====\\n\\n''Wednesday, December 8, 19:00''\\n{{Curlingbox8\\n| sheet = B\\n| team1 = {{flagIOC|TUR|2022 Winter}} {{X}}\\n|0|0|2|0|1|0|2|0| |5\\n| team2 = {{flagIOC|ROC|2022 Winter}}\\n|1|1|0|3|0|2|0|1| |8\\n}}\\n{{Curlingbox8\\n| sheet = C\\n| team1 = {{flagIOC|ESP|2022 Winter}} {{X}}\\n|0|0|0|2|2|0|2|0| |6\\n| team2 = {{flagIOC|AUS|2022 Winter}}\\n|1|1|3|0|0|2|0|2| |9\\n}}\\n{{Curlingbox8\\n| sheet = D\\n| team1 = {{flagIOC|HUN|2022 Winter}} {{X}}\\n|1|1|1|0|3|0|2|X| |8\\n| team2 = {{flagIOC|DEN|2022 Winter}}\\n|0|0|0|2|0|1|0|X| |3\\n}}\""
     },
     "metadata": {},
     "output_type": "display_data"
    },
    {
     "name": "stdout",
     "output_type": "stream",
     "text": [
      "relatedness=0.836\n"
     ]
    },
    {
     "data": {
      "text/plain": "'Snowboarding at the 2022 Winter Olympics\\n\\n==Medal summary==\\n\\nAustria and the United States won the most gold medals at these Games, with three apiece, while Canada led the overall standings with six medals.'"
     },
     "metadata": {},
     "output_type": "display_data"
    },
    {
     "name": "stdout",
     "output_type": "stream",
     "text": [
      "relatedness=0.836\n"
     ]
    },
    {
     "data": {
      "text/plain": "'2021 Olympic Qualification Event – Curling\\n\\n==Women==\\n\\n===Round robin standings===\\n\\n| {{Won|8–1}} <!--- vs ITA --->\\n| {{Won|8–5}} <!--- vs JPN --->\\n| {{Won|9–5}} <!--- vs LAT --->\\n| {{No2|4–8}} <!--- vs KOR --->\\n| {{No2|3–7}} <!--- vs TUR --->\\n! 6–2\\n|-\\n! 5\\n| style=\"text-align:left;\" | {{flagIOC|ITA|2022 Winter}}\\n| {{Won|13–6}} <!--- vs CZE --->\\n| {{Won|6–2}} <!--- vs EST --->\\n| {{Won|7–6}} <!--- vs GER --->\\n| {{No2|1–8}} <!--- vs GBR --->\\n| {{N/a|—}} <!--- vs ITA --->\\n| {{No2|6–11}} <!--- vs JPN --->\\n| {{No2|4–8}} <!--- vs LAT --->\\n| {{No2|1–7}} <!--- vs KOR --->\\n| {{Won|12–4}} <!--- vs TUR --->\\n! 4–4\\n|-\\n! 3\\n| style=\"text-align:left; background:#ffffcc;\" | {{flagIOC|JPN|2022 Winter}}\\n| {{Won|6–2}} <!--- vs CZE --->\\n| {{Won|9–2}} <!--- vs EST --->\\n| {{Won|7–6}} <!--- vs GER --->\\n| {{No2|5–8}} <!--- vs GBR --->\\n| {{Won|11–6}} <!--- vs ITA --->\\n| {{N/a|—}} <!--- vs JPN --->\\n| {{Won|9–1}} <!--- vs LAT --->\\n| {{Won|8–4}} <!--- vs KOR --->\\n| {{No2|5–8}} <!--- vs TUR --->\\n! 6–2\\n|-\\n! 4\\n| style=\"text-align:left; background:#ffffcc;\" | {{flagIOC|LAT|2022 Winter}}\\n| {{Won|9–6}} <!--- vs CZE --->\\n| {{Won|8–6}} <!--- vs EST --->\\n| {{No2|7–8}} <!--- vs GER --->\\n| {{No2|5–9}} <!--- vs GBR --->\\n| {{Won|8–4}} <!--- vs ITA --->\\n| {{No2|1–9}} <!--- vs JPN --->\\n| {{N/a|—}} <!--- vs LAT --->\\n| {{No2|4–10}} <!--- vs KOR --->\\n| {{Won|8–7}} <!--- vs TUR --->\\n! 4–4\\n|-\\n! 2\\n| style=\"text-align:left; background:#ffffcc;\" | {{flagIOC|KOR|2022 Winter}}\\n| {{Won|12–6}} <!--- vs CZE --->\\n| {{Won|10–5}} <!--- vs EST --->\\n| {{Won|10–8}} <!--- vs GER --->\\n| {{Won|8–4}} <!--- vs GBR --->\\n| {{Won|7–1}} <!--- vs ITA --->\\n| {{No2|4–8}} <!--- vs JPN --->\\n| {{Won|10–4}} <!--- vs LAT --->\\n| {{N/a|—}} <!--- vs KOR --->\\n| {{No2|7–12}} <!--- vs TUR --->\\n! 6–2\\n|-\\n! 7\\n| style=\"text-align:left;\" | {{flagIOC|TUR|2022 Winter}}\\n| {{No2|2–7}} <!--- vs CZE --->\\n| {{No2|11–12}} <!--- vs EST --->\\n| {{No2|7–10}} <!--- vs GER --->\\n| {{Won|7–3}} <!--- vs GBR --->\\n| {{No2|4–12}} <!--- vs ITA --->\\n| {{Won|8–5}} <!--- vs JPN --->\\n| {{No2|7–8}} <!--- vs LAT --->\\n| {{Won|12–7}} <!--- vs KOR --->\\n| {{N/a|—}} <!--- vs TUR --->\\n! 3–5\\n|}'"
     },
     "metadata": {},
     "output_type": "display_data"
    },
    {
     "name": "stdout",
     "output_type": "stream",
     "text": [
      "relatedness=0.836\n"
     ]
    },
    {
     "data": {
      "text/plain": "'South Korea at the 2022 Winter Olympics\\n\\n==Curling==\\n\\n{{main|Curling at the 2022 Winter Olympics|Curling at the 2022 Winter Olympics – Qualification}}\\n\\n;Summary\\n{|class=wikitable style=font-size:90%;text-align:center\\n|-\\n!rowspan=2|Team\\n!rowspan=2|Event\\n!colspan=10|Group stage\\n!Semifinal\\n!colspan=2|Final / {{abbr|BM|Bronze medal match}}\\n|-style=\"font-size:95%\"\\n!Opposition<br />Score\\n!Opposition<br />Score\\n!Opposition<br />Score\\n!Opposition<br />Score\\n!Opposition<br />Score\\n!Opposition<br />Score\\n!Opposition<br />Score\\n!Opposition<br />Score\\n!Opposition<br />Score\\n!Rank\\n!Opposition<br />Score\\n!Opposition<br />Score\\n!Rank\\n|-\\n|align=left|[[Kim Eun-jung (curler)|Kim Eun-jung]]<br>[[Kim Kyeong-ae (curler)|Kim Kyeong-ae]]<br>[[Kim Cho-hi]]<br>[[Kim Seon-yeong (curler)|Kim Seon-yeong]]<br>[[Kim Yeong-mi]]\\n|align=left|[[Curling at the 2022 Winter Olympics – Women\\'s tournament|Women\\'s tournament]]\\n|{{flagIOCshort|CAN|2022 Winter}}<br>\\'\\'\\'L\\'\\'\\' 7–12\\n|{{flagIOCshort|GBR|2022 Winter}}<br>\\'\\'\\'W\\'\\'\\' 9–7\\n|{{flagIOC|ROC|2022 Winter}}<br>\\'\\'\\'W\\'\\'\\' 9–5\\n|{{flagIOCshort|CHN|2022 Winter}}<br>\\'\\'\\'L\\'\\'\\' 5–6\\n|{{flagIOCshort|USA|2022 Winter}}<br>\\'\\'\\'L\\'\\'\\' 6–8\\n|{{flagIOCshort|JPN|2022 Winter}}<br>\\'\\'\\'W\\'\\'\\' 10–5\\n|{{flagIOCshort|SUI|2022 Winter}}<br>\\'\\'\\'L\\'\\'\\' 4–8\\n|{{flagIOCshort|DEN|2022 Winter}}<br>\\'\\'\\'W\\'\\'\\' 8–7\\n|{{flagIOCshort|SWE|2022 Winter}}<br>\\'\\'\\'L\\'\\'\\' 4–8\\n|8\\n|colspan=3|Did not advance\\n|}'"
     },
     "metadata": {},
     "output_type": "display_data"
    },
    {
     "name": "stdout",
     "output_type": "stream",
     "text": [
      "relatedness=0.836\n"
     ]
    },
    {
     "data": {
      "text/plain": "\"2021 Olympic Qualification Event – Curling\\n\\n==Mixed doubles==\\n\\n===Round robin results===\\n\\n====Draw 1====\\n\\n''Sunday, December 5, 9:00''\\n{{Curlingbox8\\n| sheet = B\\n| team1 = {{flagIOC|KOR|2022 Winter}} {{X}}\\n|2|0|0|1|1|0|3|X| |7\\n| team2 = {{flagIOC|NZL|2022 Winter}}\\n|0|1|1|0|0|1|0|X| |3\\n}}\\n{{Curlingbox8\\n| sheet = C\\n| team1 = {{flagIOC|USA|2022 Winter}} {{X}}\\n|2|0|2|1|0|3|0|X| |8\\n| team2 = {{flagIOC|JPN|2022 Winter}}\\n|0|2|0|0|1|0|3|X| |6\\n}}\\n{{Curlingbox8\\n| sheet = D\\n| team1 = {{flagIOC|LAT|2022 Winter}}\\n|2|0|0|1|0|0|0|X| |3\\n| team2 = {{flagIOC|FIN|2022 Winter}} {{X}}\\n|0|1|1|0|3|1|2|X| |8\\n}}\""
     },
     "metadata": {},
     "output_type": "display_data"
    },
    {
     "name": "stdout",
     "output_type": "stream",
     "text": [
      "relatedness=0.836\n"
     ]
    },
    {
     "data": {
      "text/plain": "\"2021 Olympic Qualification Event – Curling\\n\\n==Men==\\n\\n===Round robin results===\\n\\n====Draw 8====\\n\\n''Thursday, December 16, 9:00''\\n{{Curlingbox\\n| sheet = A\\n| team1 = {{flagIOC|DEN|2022 Winter}} (Krause)\\n|0|3|2|0|2|1|X|X|X|X| |8\\n| team2 = {{flagIOC|GER|2022 Winter}} (Totzek) {{X}}\\n|1|0|0|1|0|0|X|X|X|X| |2\\n}}\\n{{Curlingbox\\n| sheet = B\\n| team1 = {{flagIOC|NOR|2022 Winter}} (Walstad) {{X}}\\n|0|2|1|0|2|0|2|1|0|X| |8\\n| team2 = {{flagIOC|NED|2022 Winter}} (Gösgens)\\n|0|0|0|2|0|1|0|0|2|X| |5\\n}}\\n{{Curlingbox\\n| sheet = C\\n| team1 = {{flagIOC|FIN|2022 Winter}} (Kiiskinen)\\n|0|0|1|0|0|2|0|0|1|1| |5\\n| team2 = {{flagIOC|KOR|2022 Winter}} (Kim) {{X}}\\n|0|0|0|1|1|0|0|1|0|0| |3\\n}}\\n{{Curlingbox\\n| sheet = D\\n| team1 = {{flagIOC|ITA|2022 Winter}} (Retornaz) {{X}}\\n|0|2|0|2|1|0|2|0|2|X| |9\\n| team2 = {{flagIOC|JPN|2022 Winter}} (Matsumura)\\n|1|0|1|0|0|1|0|1|0|X| |4\\n}}\""
     },
     "metadata": {},
     "output_type": "display_data"
    },
    {
     "name": "stdout",
     "output_type": "stream",
     "text": [
      "relatedness=0.836\n"
     ]
    },
    {
     "data": {
      "text/plain": "\"2021 Olympic Qualification Event – Curling\\n\\n==Men==\\n\\n===Playoffs===\\n\\n====Qualification Game 1====\\n\\n''Friday, December 17, 15:00''\\n{{Curlingbox\\n| sheet = B\\n| team1 = {{flagIOC|ITA|2022 Winter}} (Retornaz) {{X}}\\n|3|0|1|0|1|0|0|1|0|0| |6\\n| team2 = {{flagIOC|CZE|2022 Winter}} (Klíma)\\n|0|1|0|2|0|0|1|0|1|0| |5\\n}}\\n{{Player percentages\\n| team1 = {{flagIOC|ITA|2022 Winter}}\\n| [[Simone Gonin]] | 85%\\n| [[Sebastiano Arman]] | 93%\\n| [[Amos Mosaner]] | 93%\\n| [[Joël Retornaz]] | 90%\\n| teampct1 = 90%\\n| team2 = {{flagIOC|CZE|2022 Winter}}\\n| [[Jiří Candra]] |88%\\n| [[Radek Boháč]] | 78%\\n| [[Marek Černovský]] | 68%\\n| [[Lukáš Klíma (curler)|Lukáš Klíma]] | 78%\\n| teampct2 = 78%\\n}}\""
     },
     "metadata": {},
     "output_type": "display_data"
    },
    {
     "name": "stdout",
     "output_type": "stream",
     "text": [
      "relatedness=0.836\n"
     ]
    },
    {
     "data": {
      "text/plain": "\"2021 Olympic Qualification Event – Curling\\n\\n==Mixed doubles==\\n\\n===Round robin results===\\n\\n====Draw 2====\\n\\n''Sunday, December 5, 12:30''\\n{{Curlingbox8\\n| sheet = B\\n| team1 = {{flagIOC|ROC|2022 Winter}} {{X}}\\n|2|1|2|1|0|1|2|X| |9\\n| team2 = {{flagIOC|ESP|2022 Winter}}\\n|0|0|0|0|2|0|0|X| |2\\n}}\\n{{Curlingbox8\\n| sheet = C\\n| team1 = {{flagIOC|TUR|2022 Winter}} {{X}}\\n|0|0|2|2|0|1|2|0| |7\\n| team2 = {{flagIOC|DEN|2022 Winter}}\\n|1|3|0|0|1|0|0|3| |8\\n}}\\n{{Curlingbox8\\n| sheet = D\\n| team1 = {{flagIOC|GER|2022 Winter}}\\n|0|0|0|0|1|1|0|X| |2\\n| team2 = {{flagIOC|HUN|2022 Winter}} {{X}}\\n|1|1|2|2|0|0|2|X| |8\\n}}\""
     },
     "metadata": {},
     "output_type": "display_data"
    },
    {
     "name": "stdout",
     "output_type": "stream",
     "text": [
      "relatedness=0.836\n"
     ]
    },
    {
     "data": {
      "text/plain": "\"2021 Olympic Qualification Event – Curling\\n\\n==Women==\\n\\n===Round robin results===\\n\\n====Draw 9====\\n\\n''Thursday, December 16, 14:00''\\n{{Curlingbox\\n| sheet = A\\n| team1 = {{flagIOC|ITA|2022 Winter}} (Constantini) {{X}}\\n|0|0|1|0|0|0|X|X|X|X| |1\\n| team2 = {{flagIOC|GBR|2022 Winter}} (Muirhead) \\n|2|0|0|1|3|2|X|X|X|X| |8\\n}}\\n{{Curlingbox\\n| sheet = B\\n| team1 = {{flagIOC|EST|2022 Winter}} (Turmann) {{X}}\\n|0|1|0|0|0|0|X|X|X|X| |1\\n| team2 = {{flagIOC|GER|2022 Winter}} (Jentsch)\\n|0|0|1|2|1|3|X|X|X|X| |7\\n}}\\n{{Curlingbox\\n| sheet = C\\n| team1 = {{flagIOC|TUR|2022 Winter}} (Yıldız)\\n|0|0|0|0|2|0|3|0|0|3| |8\\n| team2 = {{flagIOC|JPN|2022 Winter}} (Fujisawa) {{X}}\\n|0|0|1|0|0|2|0|1|1|0| |5\\n}}\\n{{Curlingbox\\n| sheet = D\\n| team1 = {{flagIOC|CZE|2022 Winter}} (Kubešková) {{X}}\\n|2|0|1|0|1|0|2|0|0|X| |6\\n| team2 = {{flagIOC|KOR|2022 Winter}} (Kim)\\n|0|1|0|2|0|2|0|4|3|X| |12\\n}}\""
     },
     "metadata": {},
     "output_type": "display_data"
    }
   ],
   "source": [
    "query_embedding = get_query_embeddings(\"curling gold medal\")\n",
    "strings, relatednesses =strings_ranked_by_relatedness(query_embedding, df)\n",
    "for string, relatedness in zip(strings, relatednesses):\n",
    "    print(f\"{relatedness=:.3f}\")\n",
    "    display(string)"
   ],
   "metadata": {
    "collapsed": false,
    "ExecuteTime": {
     "end_time": "2024-04-18T01:05:08.994032Z",
     "start_time": "2024-04-18T01:03:44.341829Z"
    }
   },
   "id": "92913132086c68d2",
   "execution_count": 15
  },
  {
   "cell_type": "code",
   "outputs": [],
   "source": [
    "def num_tokens(text: str, model: str = GPT_MODEL) -> int:\n",
    "    \"\"\"Return the number of tokens in a string.\"\"\"\n",
    "    encoding = tiktoken.encoding_for_model(model)\n",
    "    return len(encoding.encode(text))"
   ],
   "metadata": {
    "collapsed": false,
    "ExecuteTime": {
     "end_time": "2024-04-18T01:09:09.316807Z",
     "start_time": "2024-04-18T01:09:09.300673Z"
    }
   },
   "id": "fb805a6a58c656c",
   "execution_count": 16
  },
  {
   "cell_type": "code",
   "outputs": [],
   "source": [
    "def query_message(\n",
    "        query: str,\n",
    "        df: pd.DataFrame,\n",
    "        model: str,\n",
    "        token_budget: int\n",
    ") -> str:\n",
    "    \"\"\"Return a message for GPT, with relevant source texts pulled from a dataframe.\"\"\"\n",
    "    \n",
    "    query_embedding = get_query_embeddings(query)\n",
    "    strings, relatednesses = strings_ranked_by_relatedness(query_embedding, df)\n",
    "    introduction = 'Use the below articles on the 2022 Winter Olympics to answer the subsequent question. If the answer cannot be found in the articles, write \"I could not find an answer.\"'\n",
    "    question = f\"\\n\\nQuestion: {query}\"\n",
    "    message = introduction\n",
    "    for string in strings:\n",
    "        next_article = f'\\n\\nWikipedia article section:\\n\"\"\"\\n{string}\\n\"\"\"'\n",
    "        if (\n",
    "                num_tokens(message + next_article + question, model=model)\n",
    "                > token_budget\n",
    "        ):\n",
    "            break\n",
    "        else:\n",
    "            message += next_article\n",
    "    return message + question\n",
    "\n",
    "\n",
    "def ask(\n",
    "        query: str,\n",
    "        df: pd.DataFrame = df,\n",
    "        model: str = GPT_MODEL,\n",
    "        token_budget: int = 4096 - 500,\n",
    "        print_message: bool = False,\n",
    ") -> str:\n",
    "    \"\"\"Answers a query using GPT and a dataframe of relevant texts and embeddings.\"\"\"\n",
    "    message = query_message(query, df, model=model, token_budget=token_budget)\n",
    "    if print_message:\n",
    "        print(message)\n",
    "    messages = [\n",
    "        {\"role\": \"system\", \"content\": \"You answer questions about the 2022 Winter Olympics.\"},\n",
    "        {\"role\": \"user\", \"content\": message},\n",
    "    ]\n",
    "    response = client.chat.completions.create(\n",
    "        model=model,\n",
    "        messages=messages,\n",
    "        temperature=0\n",
    "    )\n",
    "    response_message = response.choices[0].message.content\n",
    "    return response_message"
   ],
   "metadata": {
    "collapsed": false,
    "ExecuteTime": {
     "end_time": "2024-04-18T01:14:16.541557Z",
     "start_time": "2024-04-18T01:14:16.534154Z"
    }
   },
   "id": "60bf92214d3adbf0",
   "execution_count": 17
  },
  {
   "cell_type": "code",
   "outputs": [
    {
     "name": "stderr",
     "output_type": "stream",
     "text": [
      "/Users/nardoarevalo/Desktop/pandas_learning/venv/lib/python3.9/site-packages/urllib3/__init__.py:35: NotOpenSSLWarning: urllib3 v2 only supports OpenSSL 1.1.1+, currently the 'ssl' module is compiled with 'LibreSSL 2.8.3'. See: https://github.com/urllib3/urllib3/issues/3020\n",
      "  warnings.warn(\n"
     ]
    },
    {
     "data": {
      "text/plain": "\"The athletes who won the gold medal in curling at the 2022 Winter Olympics were:\\n\\n- Men's tournament: Team Sweden, consisting of Niklas Edin, Oskar Eriksson, Rasmus Wranå, Christoffer Sundgren, and Daniel Magnusson.\\n- Women's tournament: Team Great Britain, consisting of Eve Muirhead, Vicky Wright, Jennifer Dodds, Hailey Duff, and Mili Smith.\\n- Mixed doubles tournament: Team Italy, consisting of Stefania Constantini and Amos Mosaner.\""
     },
     "execution_count": 18,
     "metadata": {},
     "output_type": "execute_result"
    }
   ],
   "source": [
    "ask('Which athletes won the gold medal in curling at the 2022 Winter Olympics?')\n"
   ],
   "metadata": {
    "collapsed": false,
    "ExecuteTime": {
     "end_time": "2024-04-18T01:16:17.516995Z",
     "start_time": "2024-04-18T01:16:08.831101Z"
    }
   },
   "id": "61d78eefc0fed91f",
   "execution_count": 18
  },
  {
   "cell_type": "code",
   "outputs": [],
   "source": [],
   "metadata": {
    "collapsed": false
   },
   "id": "d7580281c701d73f"
  }
 ],
 "metadata": {
  "kernelspec": {
   "display_name": "Python 3",
   "language": "python",
   "name": "python3"
  },
  "language_info": {
   "codemirror_mode": {
    "name": "ipython",
    "version": 2
   },
   "file_extension": ".py",
   "mimetype": "text/x-python",
   "name": "python",
   "nbconvert_exporter": "python",
   "pygments_lexer": "ipython2",
   "version": "2.7.6"
  }
 },
 "nbformat": 4,
 "nbformat_minor": 5
}
