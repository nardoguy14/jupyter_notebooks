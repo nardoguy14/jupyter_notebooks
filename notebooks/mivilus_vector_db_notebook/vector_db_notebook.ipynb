{
 "cells": [
  {
   "cell_type": "code",
   "outputs": [],
   "source": [
    "from pymilvus import MilvusClient, DataType\n",
    "import pandas as pd\n",
    "import ast\n",
    "\n",
    "# 1. Set up a Milvus client\n",
    "client = MilvusClient(\n",
    "    uri=\"http://localhost:19530\"\n",
    ")\n"
   ],
   "metadata": {
    "collapsed": false,
    "ExecuteTime": {
     "end_time": "2024-04-30T22:58:49.626041Z",
     "start_time": "2024-04-30T22:58:49.607807Z"
    }
   },
   "id": "553cdb472cca1cbd",
   "execution_count": 152
  },
  {
   "cell_type": "code",
   "outputs": [],
   "source": [
    "# 2. Create a collection in quick setup mode\n",
    "client.create_collection(\n",
    "    collection_name=\"open_api_embeddings\",\n",
    "    dimension=1536 # length for embeddings vector\n",
    ")"
   ],
   "metadata": {
    "collapsed": false,
    "ExecuteTime": {
     "end_time": "2024-04-30T22:58:54.318577Z",
     "start_time": "2024-04-30T22:58:50.181525Z"
    }
   },
   "id": "c92da6578bcef7d5",
   "execution_count": 153
  },
  {
   "cell_type": "code",
   "outputs": [],
   "source": [
    "# 3. Create a collection in customized setup mode\n",
    "\n",
    "# 3.1. Create schema\n",
    "schema = MilvusClient.create_schema(\n",
    "    auto_id=False,\n",
    "    enable_dynamic_field=True,\n",
    ")\n",
    "\n",
    "# 3.2. Add fields to schema\n",
    "schema.add_field(field_name=\"id\", datatype=DataType.INT64, is_primary=True)\n",
    "schema.add_field(field_name=\"my_vector\", datatype=DataType.FLOAT_VECTOR, dim=1536)\n",
    "\n",
    "# 3.3. Prepare index parameters\n",
    "index_params = client.prepare_index_params()\n",
    "\n",
    "# 3.4. Add indexes\n",
    "index_params.add_index(\n",
    "    field_name=\"id\"\n",
    ")\n",
    "\n",
    "index_params.add_index(\n",
    "    field_name=\"my_vector\",\n",
    "    index_type=\"AUTOINDEX\",\n",
    "    metric_type=\"COSINE\"\n",
    ")\n",
    "\n",
    "# 3.5. Create a collection\n",
    "client.create_collection(\n",
    "    collection_name=\"customized_setup\",\n",
    "    schema=schema,\n",
    "    index_params=index_params\n",
    ")"
   ],
   "metadata": {
    "collapsed": false,
    "ExecuteTime": {
     "end_time": "2024-04-30T22:58:55.998648Z",
     "start_time": "2024-04-30T22:58:54.909077Z"
    }
   },
   "id": "6db355b163b680fe",
   "execution_count": 154
  },
  {
   "cell_type": "code",
   "outputs": [
    {
     "name": "stdout",
     "output_type": "stream",
     "text": [
      "<class 'pandas.core.frame.DataFrame'>\n",
      "RangeIndex: 41 entries, 0 to 40\n",
      "Data columns (total 2 columns):\n",
      " #   Column      Non-Null Count  Dtype \n",
      "---  ------      --------------  ----- \n",
      " 0   text        41 non-null     object\n",
      " 1   embeddings  41 non-null     object\n",
      "dtypes: object(2)\n",
      "memory usage: 784.0+ bytes\n"
     ]
    }
   ],
   "source": [
    "try:\n",
    "    df = pd.read_csv(\"/Users/nardoarevalo/Desktop/pandas_learning/notebooks/openai_embeddings/data.csv\")\n",
    "except Exception as e:\n",
    "    print(\"loading from web!\")\n",
    "    df = pd.read_csv(\n",
    "        \"https://raw.githubusercontent.com/nardoguy14/jupyter_notebooks/main/notebooks/openai_embeddings/data.csv\")\n",
    "df['embeddings'] = df['embeddings'].apply(ast.literal_eval)\n",
    "\n",
    "df.info()"
   ],
   "metadata": {
    "collapsed": false,
    "ExecuteTime": {
     "end_time": "2024-04-30T22:58:56.215718Z",
     "start_time": "2024-04-30T22:58:56.000411Z"
    }
   },
   "id": "6ee1318fc0212e26",
   "execution_count": 155
  },
  {
   "cell_type": "code",
   "outputs": [
    {
     "data": {
      "text/plain": "                                                 text  \\\n0   Aetna Insurance\\nAetna is a health insurance p...   \n1   Insurance Company\\nAnthem Blue Cross Health In...   \n2   Insurance Company\\nBlue Shield Health Insuranc...   \n3   Bronze 60 Plan: Peace of Mind for Unexpected H...   \n4   Chinese Community Health Insurance Coverage\\nF...   \n5   Covered California Deadline\\nGeneral Applicati...   \n6   Family Health Insurance in California\\nMany fa...   \n7   Covered California Gold 80 Plan: Gold is Golde...   \n8   The Subsidy or Tax Credit of Healthcare Reform...   \n9   Health Net Health Insurance Coverage\\nAbout He...   \n10  HMO vs. PPO Plans\\nIn California, everyone nee...   \n11  IEHP Insurance\\nInland Empire Health Plan (IEH...   \n12  Covered California Income Limits\\n\\nIncome Gui...   \n13  Individual Health Insurance California\\nHealth...   \n14  IRS 1095-A Form\\nAt the end of the year, we st...   \n15  Insurance Company\\nKaiser Permanente Health In...   \n16  L.A. Care Health Insurance Coverage\\nFind the ...   \n17  Medi-Cal\\nMedi-Cal is California’s Medicaid pr...   \n18  Covered California Minimum Coverage: The Least...   \n19  Molina Health Insurance Coverage\\nFind the Low...   \n20  There is so much to prepare when you’re expect...   \n21  Covered California 2023-2024 Open Enrollment P...   \n22  \\nCovered California Platinum 90 Plan: Top of ...   \n23  Preventive Care\\nPreventive care aims to help ...   \n24  Qualifying Life Events\\nf you wish to enroll i...   \n25  Reporting Changes to Covered California\\nOnce ...   \n26  Self-Employed Health Insurance Options in Cali...   \n27  What are your Senior Health Insurance options?...   \n28  Sharp Health Insurance Coverage\\nFind the Lowe...   \n29  Is it time to switch to an HMO Plan?\\n\\nIf you...   \n30  2023 Covered California Silver 70\\nThe Covered...   \n31  2023 Silver 73: Enhanced Plan\\nThe Silver 73 i...   \n32  2023 Silver 87: Enhanced Plan\\nThe Silver 87 P...   \n33  2023 Silver 94: Enhanced Plan\\nIf you already ...   \n34  Covered California Silver Plans: Popular Middl...   \n35  Small Business and Group Health Insurance Cali...   \n36  Covered California – Special Enrollment Period...   \n37  Supplemental Health Insurance Plans\\nSupplemen...   \n38  International Travel Medical Insurance and Sho...   \n39  Valley Health Insurance Coverage\\nFind the Low...   \n40  Western Health Advantage Health Insurance Cove...   \n\n                                           embeddings  id  \n0   [0.011871634051203728, 0.009219045750796795, 0...   0  \n1   [0.002933195559307933, -0.003226845059543848, ...   1  \n2   [0.005859837867319584, -0.015740295872092247, ...   2  \n3   [0.01280609704554081, 0.015537003986537457, 0....   3  \n4   [0.007296297233551741, 0.012715067714452744, 0...   4  \n5   [-0.013264380395412445, 0.003993576858192682, ...   5  \n6   [0.01131445448845625, 0.007411356084048748, 0....   6  \n7   [0.024426080286502838, 0.01196149829775095, 0....   7  \n8   [0.004846894647926092, -0.0026914558839052916,...   8  \n9   [-0.008957654237747192, -0.0032053696922957897...   9  \n10  [0.01743467152118683, 0.007221270352602005, 0....  10  \n11  [-0.0050645568408071995, 0.004377060104161501,...  11  \n12  [0.009735602885484695, -0.014041989110410213, ...  12  \n13  [0.013386666774749756, 0.006544879171997309, 0...  13  \n14  [-0.01765616051852703, 0.008491584099829197, 0...  14  \n15  [0.008426056243479252, 0.017805255949497223, 0...  15  \n16  [0.011298784986138344, 0.013840679079294205, 0...  16  \n17  [0.009693297557532787, 0.018585387617349625, 0...  17  \n18  [0.009746179915964603, 0.0073824431747198105, ...  18  \n19  [-0.003949515987187624, 0.00425182469189167, 0...  19  \n20  [0.024224787950515747, 0.006691439542919397, 0...  20  \n21  [0.0024975468404591084, -0.009278933517634869,...  21  \n22  [0.022902365773916245, 0.009350789710879326, 0...  22  \n23  [0.00799807533621788, 0.003906498197466135, 0....  23  \n24  [0.0002826306445058435, -0.0019552751909941435...  24  \n25  [0.0025597831699997187, 0.001466643065214157, ...  25  \n26  [0.009315697476267815, -0.004736628849059343, ...  26  \n27  [0.020831726491451263, 0.00025999598437920213,...  27  \n28  [0.01390156801789999, 0.007476643193513155, 0....  28  \n29  [0.011512723751366138, 0.010894590988755226, 0...  29  \n30  [0.01917673833668232, 0.010680798441171646, 0....  30  \n31  [0.01669887639582157, 0.0020840091165155172, 0...  31  \n32  [0.009757570922374725, 0.011762919835746288, 0...  32  \n33  [0.022906674072146416, 0.009197580628097057, 0...  33  \n34  [0.023327887058258057, 0.009682399220764637, 0...  34  \n35  [0.007633492816239595, 0.01680428721010685, 0....  35  \n36  [-0.00020279244927223772, -0.00192715297453105...  36  \n37  [0.016194310039281845, 0.03202470391988754, 0....  37  \n38  [0.009028005413711071, 0.020868433639407158, 0...  38  \n39  [-0.0007648649043403566, -0.000489143072627484...  39  \n40  [0.006481920834630728, -0.006431957241147757, ...  40  ",
      "text/html": "<div>\n<style scoped>\n    .dataframe tbody tr th:only-of-type {\n        vertical-align: middle;\n    }\n\n    .dataframe tbody tr th {\n        vertical-align: top;\n    }\n\n    .dataframe thead th {\n        text-align: right;\n    }\n</style>\n<table border=\"1\" class=\"dataframe\">\n  <thead>\n    <tr style=\"text-align: right;\">\n      <th></th>\n      <th>text</th>\n      <th>embeddings</th>\n      <th>id</th>\n    </tr>\n  </thead>\n  <tbody>\n    <tr>\n      <th>0</th>\n      <td>Aetna Insurance\\nAetna is a health insurance p...</td>\n      <td>[0.011871634051203728, 0.009219045750796795, 0...</td>\n      <td>0</td>\n    </tr>\n    <tr>\n      <th>1</th>\n      <td>Insurance Company\\nAnthem Blue Cross Health In...</td>\n      <td>[0.002933195559307933, -0.003226845059543848, ...</td>\n      <td>1</td>\n    </tr>\n    <tr>\n      <th>2</th>\n      <td>Insurance Company\\nBlue Shield Health Insuranc...</td>\n      <td>[0.005859837867319584, -0.015740295872092247, ...</td>\n      <td>2</td>\n    </tr>\n    <tr>\n      <th>3</th>\n      <td>Bronze 60 Plan: Peace of Mind for Unexpected H...</td>\n      <td>[0.01280609704554081, 0.015537003986537457, 0....</td>\n      <td>3</td>\n    </tr>\n    <tr>\n      <th>4</th>\n      <td>Chinese Community Health Insurance Coverage\\nF...</td>\n      <td>[0.007296297233551741, 0.012715067714452744, 0...</td>\n      <td>4</td>\n    </tr>\n    <tr>\n      <th>5</th>\n      <td>Covered California Deadline\\nGeneral Applicati...</td>\n      <td>[-0.013264380395412445, 0.003993576858192682, ...</td>\n      <td>5</td>\n    </tr>\n    <tr>\n      <th>6</th>\n      <td>Family Health Insurance in California\\nMany fa...</td>\n      <td>[0.01131445448845625, 0.007411356084048748, 0....</td>\n      <td>6</td>\n    </tr>\n    <tr>\n      <th>7</th>\n      <td>Covered California Gold 80 Plan: Gold is Golde...</td>\n      <td>[0.024426080286502838, 0.01196149829775095, 0....</td>\n      <td>7</td>\n    </tr>\n    <tr>\n      <th>8</th>\n      <td>The Subsidy or Tax Credit of Healthcare Reform...</td>\n      <td>[0.004846894647926092, -0.0026914558839052916,...</td>\n      <td>8</td>\n    </tr>\n    <tr>\n      <th>9</th>\n      <td>Health Net Health Insurance Coverage\\nAbout He...</td>\n      <td>[-0.008957654237747192, -0.0032053696922957897...</td>\n      <td>9</td>\n    </tr>\n    <tr>\n      <th>10</th>\n      <td>HMO vs. PPO Plans\\nIn California, everyone nee...</td>\n      <td>[0.01743467152118683, 0.007221270352602005, 0....</td>\n      <td>10</td>\n    </tr>\n    <tr>\n      <th>11</th>\n      <td>IEHP Insurance\\nInland Empire Health Plan (IEH...</td>\n      <td>[-0.0050645568408071995, 0.004377060104161501,...</td>\n      <td>11</td>\n    </tr>\n    <tr>\n      <th>12</th>\n      <td>Covered California Income Limits\\n\\nIncome Gui...</td>\n      <td>[0.009735602885484695, -0.014041989110410213, ...</td>\n      <td>12</td>\n    </tr>\n    <tr>\n      <th>13</th>\n      <td>Individual Health Insurance California\\nHealth...</td>\n      <td>[0.013386666774749756, 0.006544879171997309, 0...</td>\n      <td>13</td>\n    </tr>\n    <tr>\n      <th>14</th>\n      <td>IRS 1095-A Form\\nAt the end of the year, we st...</td>\n      <td>[-0.01765616051852703, 0.008491584099829197, 0...</td>\n      <td>14</td>\n    </tr>\n    <tr>\n      <th>15</th>\n      <td>Insurance Company\\nKaiser Permanente Health In...</td>\n      <td>[0.008426056243479252, 0.017805255949497223, 0...</td>\n      <td>15</td>\n    </tr>\n    <tr>\n      <th>16</th>\n      <td>L.A. Care Health Insurance Coverage\\nFind the ...</td>\n      <td>[0.011298784986138344, 0.013840679079294205, 0...</td>\n      <td>16</td>\n    </tr>\n    <tr>\n      <th>17</th>\n      <td>Medi-Cal\\nMedi-Cal is California’s Medicaid pr...</td>\n      <td>[0.009693297557532787, 0.018585387617349625, 0...</td>\n      <td>17</td>\n    </tr>\n    <tr>\n      <th>18</th>\n      <td>Covered California Minimum Coverage: The Least...</td>\n      <td>[0.009746179915964603, 0.0073824431747198105, ...</td>\n      <td>18</td>\n    </tr>\n    <tr>\n      <th>19</th>\n      <td>Molina Health Insurance Coverage\\nFind the Low...</td>\n      <td>[-0.003949515987187624, 0.00425182469189167, 0...</td>\n      <td>19</td>\n    </tr>\n    <tr>\n      <th>20</th>\n      <td>There is so much to prepare when you’re expect...</td>\n      <td>[0.024224787950515747, 0.006691439542919397, 0...</td>\n      <td>20</td>\n    </tr>\n    <tr>\n      <th>21</th>\n      <td>Covered California 2023-2024 Open Enrollment P...</td>\n      <td>[0.0024975468404591084, -0.009278933517634869,...</td>\n      <td>21</td>\n    </tr>\n    <tr>\n      <th>22</th>\n      <td>\\nCovered California Platinum 90 Plan: Top of ...</td>\n      <td>[0.022902365773916245, 0.009350789710879326, 0...</td>\n      <td>22</td>\n    </tr>\n    <tr>\n      <th>23</th>\n      <td>Preventive Care\\nPreventive care aims to help ...</td>\n      <td>[0.00799807533621788, 0.003906498197466135, 0....</td>\n      <td>23</td>\n    </tr>\n    <tr>\n      <th>24</th>\n      <td>Qualifying Life Events\\nf you wish to enroll i...</td>\n      <td>[0.0002826306445058435, -0.0019552751909941435...</td>\n      <td>24</td>\n    </tr>\n    <tr>\n      <th>25</th>\n      <td>Reporting Changes to Covered California\\nOnce ...</td>\n      <td>[0.0025597831699997187, 0.001466643065214157, ...</td>\n      <td>25</td>\n    </tr>\n    <tr>\n      <th>26</th>\n      <td>Self-Employed Health Insurance Options in Cali...</td>\n      <td>[0.009315697476267815, -0.004736628849059343, ...</td>\n      <td>26</td>\n    </tr>\n    <tr>\n      <th>27</th>\n      <td>What are your Senior Health Insurance options?...</td>\n      <td>[0.020831726491451263, 0.00025999598437920213,...</td>\n      <td>27</td>\n    </tr>\n    <tr>\n      <th>28</th>\n      <td>Sharp Health Insurance Coverage\\nFind the Lowe...</td>\n      <td>[0.01390156801789999, 0.007476643193513155, 0....</td>\n      <td>28</td>\n    </tr>\n    <tr>\n      <th>29</th>\n      <td>Is it time to switch to an HMO Plan?\\n\\nIf you...</td>\n      <td>[0.011512723751366138, 0.010894590988755226, 0...</td>\n      <td>29</td>\n    </tr>\n    <tr>\n      <th>30</th>\n      <td>2023 Covered California Silver 70\\nThe Covered...</td>\n      <td>[0.01917673833668232, 0.010680798441171646, 0....</td>\n      <td>30</td>\n    </tr>\n    <tr>\n      <th>31</th>\n      <td>2023 Silver 73: Enhanced Plan\\nThe Silver 73 i...</td>\n      <td>[0.01669887639582157, 0.0020840091165155172, 0...</td>\n      <td>31</td>\n    </tr>\n    <tr>\n      <th>32</th>\n      <td>2023 Silver 87: Enhanced Plan\\nThe Silver 87 P...</td>\n      <td>[0.009757570922374725, 0.011762919835746288, 0...</td>\n      <td>32</td>\n    </tr>\n    <tr>\n      <th>33</th>\n      <td>2023 Silver 94: Enhanced Plan\\nIf you already ...</td>\n      <td>[0.022906674072146416, 0.009197580628097057, 0...</td>\n      <td>33</td>\n    </tr>\n    <tr>\n      <th>34</th>\n      <td>Covered California Silver Plans: Popular Middl...</td>\n      <td>[0.023327887058258057, 0.009682399220764637, 0...</td>\n      <td>34</td>\n    </tr>\n    <tr>\n      <th>35</th>\n      <td>Small Business and Group Health Insurance Cali...</td>\n      <td>[0.007633492816239595, 0.01680428721010685, 0....</td>\n      <td>35</td>\n    </tr>\n    <tr>\n      <th>36</th>\n      <td>Covered California – Special Enrollment Period...</td>\n      <td>[-0.00020279244927223772, -0.00192715297453105...</td>\n      <td>36</td>\n    </tr>\n    <tr>\n      <th>37</th>\n      <td>Supplemental Health Insurance Plans\\nSupplemen...</td>\n      <td>[0.016194310039281845, 0.03202470391988754, 0....</td>\n      <td>37</td>\n    </tr>\n    <tr>\n      <th>38</th>\n      <td>International Travel Medical Insurance and Sho...</td>\n      <td>[0.009028005413711071, 0.020868433639407158, 0...</td>\n      <td>38</td>\n    </tr>\n    <tr>\n      <th>39</th>\n      <td>Valley Health Insurance Coverage\\nFind the Low...</td>\n      <td>[-0.0007648649043403566, -0.000489143072627484...</td>\n      <td>39</td>\n    </tr>\n    <tr>\n      <th>40</th>\n      <td>Western Health Advantage Health Insurance Cove...</td>\n      <td>[0.006481920834630728, -0.006431957241147757, ...</td>\n      <td>40</td>\n    </tr>\n  </tbody>\n</table>\n</div>"
     },
     "execution_count": 156,
     "metadata": {},
     "output_type": "execute_result"
    }
   ],
   "source": [
    "len(df['embeddings'])\n",
    "ids = []\n",
    "for i in range(41):\n",
    "    ids.append(i)\n",
    "df['id'] = ids\n",
    "df\n",
    "    "
   ],
   "metadata": {
    "collapsed": false,
    "ExecuteTime": {
     "end_time": "2024-04-30T22:58:57.347751Z",
     "start_time": "2024-04-30T22:58:57.330937Z"
    }
   },
   "id": "509be00cd80cec43",
   "execution_count": 156
  },
  {
   "cell_type": "code",
   "outputs": [
    {
     "data": {
      "text/plain": "                                                 text  id  \\\n0   Aetna Insurance\\nAetna is a health insurance p...   0   \n1   Insurance Company\\nAnthem Blue Cross Health In...   1   \n2   Insurance Company\\nBlue Shield Health Insuranc...   2   \n3   Bronze 60 Plan: Peace of Mind for Unexpected H...   3   \n4   Chinese Community Health Insurance Coverage\\nF...   4   \n5   Covered California Deadline\\nGeneral Applicati...   5   \n6   Family Health Insurance in California\\nMany fa...   6   \n7   Covered California Gold 80 Plan: Gold is Golde...   7   \n8   The Subsidy or Tax Credit of Healthcare Reform...   8   \n9   Health Net Health Insurance Coverage\\nAbout He...   9   \n10  HMO vs. PPO Plans\\nIn California, everyone nee...  10   \n11  IEHP Insurance\\nInland Empire Health Plan (IEH...  11   \n12  Covered California Income Limits\\n\\nIncome Gui...  12   \n13  Individual Health Insurance California\\nHealth...  13   \n14  IRS 1095-A Form\\nAt the end of the year, we st...  14   \n15  Insurance Company\\nKaiser Permanente Health In...  15   \n16  L.A. Care Health Insurance Coverage\\nFind the ...  16   \n17  Medi-Cal\\nMedi-Cal is California’s Medicaid pr...  17   \n18  Covered California Minimum Coverage: The Least...  18   \n19  Molina Health Insurance Coverage\\nFind the Low...  19   \n20  There is so much to prepare when you’re expect...  20   \n21  Covered California 2023-2024 Open Enrollment P...  21   \n22  \\nCovered California Platinum 90 Plan: Top of ...  22   \n23  Preventive Care\\nPreventive care aims to help ...  23   \n24  Qualifying Life Events\\nf you wish to enroll i...  24   \n25  Reporting Changes to Covered California\\nOnce ...  25   \n26  Self-Employed Health Insurance Options in Cali...  26   \n27  What are your Senior Health Insurance options?...  27   \n28  Sharp Health Insurance Coverage\\nFind the Lowe...  28   \n29  Is it time to switch to an HMO Plan?\\n\\nIf you...  29   \n30  2023 Covered California Silver 70\\nThe Covered...  30   \n31  2023 Silver 73: Enhanced Plan\\nThe Silver 73 i...  31   \n32  2023 Silver 87: Enhanced Plan\\nThe Silver 87 P...  32   \n33  2023 Silver 94: Enhanced Plan\\nIf you already ...  33   \n34  Covered California Silver Plans: Popular Middl...  34   \n35  Small Business and Group Health Insurance Cali...  35   \n36  Covered California – Special Enrollment Period...  36   \n37  Supplemental Health Insurance Plans\\nSupplemen...  37   \n38  International Travel Medical Insurance and Sho...  38   \n39  Valley Health Insurance Coverage\\nFind the Low...  39   \n40  Western Health Advantage Health Insurance Cove...  40   \n\n                                               vector  \n0   [0.011871634051203728, 0.009219045750796795, 0...  \n1   [0.002933195559307933, -0.003226845059543848, ...  \n2   [0.005859837867319584, -0.015740295872092247, ...  \n3   [0.01280609704554081, 0.015537003986537457, 0....  \n4   [0.007296297233551741, 0.012715067714452744, 0...  \n5   [-0.013264380395412445, 0.003993576858192682, ...  \n6   [0.01131445448845625, 0.007411356084048748, 0....  \n7   [0.024426080286502838, 0.01196149829775095, 0....  \n8   [0.004846894647926092, -0.0026914558839052916,...  \n9   [-0.008957654237747192, -0.0032053696922957897...  \n10  [0.01743467152118683, 0.007221270352602005, 0....  \n11  [-0.0050645568408071995, 0.004377060104161501,...  \n12  [0.009735602885484695, -0.014041989110410213, ...  \n13  [0.013386666774749756, 0.006544879171997309, 0...  \n14  [-0.01765616051852703, 0.008491584099829197, 0...  \n15  [0.008426056243479252, 0.017805255949497223, 0...  \n16  [0.011298784986138344, 0.013840679079294205, 0...  \n17  [0.009693297557532787, 0.018585387617349625, 0...  \n18  [0.009746179915964603, 0.0073824431747198105, ...  \n19  [-0.003949515987187624, 0.00425182469189167, 0...  \n20  [0.024224787950515747, 0.006691439542919397, 0...  \n21  [0.0024975468404591084, -0.009278933517634869,...  \n22  [0.022902365773916245, 0.009350789710879326, 0...  \n23  [0.00799807533621788, 0.003906498197466135, 0....  \n24  [0.0002826306445058435, -0.0019552751909941435...  \n25  [0.0025597831699997187, 0.001466643065214157, ...  \n26  [0.009315697476267815, -0.004736628849059343, ...  \n27  [0.020831726491451263, 0.00025999598437920213,...  \n28  [0.01390156801789999, 0.007476643193513155, 0....  \n29  [0.011512723751366138, 0.010894590988755226, 0...  \n30  [0.01917673833668232, 0.010680798441171646, 0....  \n31  [0.01669887639582157, 0.0020840091165155172, 0...  \n32  [0.009757570922374725, 0.011762919835746288, 0...  \n33  [0.022906674072146416, 0.009197580628097057, 0...  \n34  [0.023327887058258057, 0.009682399220764637, 0...  \n35  [0.007633492816239595, 0.01680428721010685, 0....  \n36  [-0.00020279244927223772, -0.00192715297453105...  \n37  [0.016194310039281845, 0.03202470391988754, 0....  \n38  [0.009028005413711071, 0.020868433639407158, 0...  \n39  [-0.0007648649043403566, -0.000489143072627484...  \n40  [0.006481920834630728, -0.006431957241147757, ...  ",
      "text/html": "<div>\n<style scoped>\n    .dataframe tbody tr th:only-of-type {\n        vertical-align: middle;\n    }\n\n    .dataframe tbody tr th {\n        vertical-align: top;\n    }\n\n    .dataframe thead th {\n        text-align: right;\n    }\n</style>\n<table border=\"1\" class=\"dataframe\">\n  <thead>\n    <tr style=\"text-align: right;\">\n      <th></th>\n      <th>text</th>\n      <th>id</th>\n      <th>vector</th>\n    </tr>\n  </thead>\n  <tbody>\n    <tr>\n      <th>0</th>\n      <td>Aetna Insurance\\nAetna is a health insurance p...</td>\n      <td>0</td>\n      <td>[0.011871634051203728, 0.009219045750796795, 0...</td>\n    </tr>\n    <tr>\n      <th>1</th>\n      <td>Insurance Company\\nAnthem Blue Cross Health In...</td>\n      <td>1</td>\n      <td>[0.002933195559307933, -0.003226845059543848, ...</td>\n    </tr>\n    <tr>\n      <th>2</th>\n      <td>Insurance Company\\nBlue Shield Health Insuranc...</td>\n      <td>2</td>\n      <td>[0.005859837867319584, -0.015740295872092247, ...</td>\n    </tr>\n    <tr>\n      <th>3</th>\n      <td>Bronze 60 Plan: Peace of Mind for Unexpected H...</td>\n      <td>3</td>\n      <td>[0.01280609704554081, 0.015537003986537457, 0....</td>\n    </tr>\n    <tr>\n      <th>4</th>\n      <td>Chinese Community Health Insurance Coverage\\nF...</td>\n      <td>4</td>\n      <td>[0.007296297233551741, 0.012715067714452744, 0...</td>\n    </tr>\n    <tr>\n      <th>5</th>\n      <td>Covered California Deadline\\nGeneral Applicati...</td>\n      <td>5</td>\n      <td>[-0.013264380395412445, 0.003993576858192682, ...</td>\n    </tr>\n    <tr>\n      <th>6</th>\n      <td>Family Health Insurance in California\\nMany fa...</td>\n      <td>6</td>\n      <td>[0.01131445448845625, 0.007411356084048748, 0....</td>\n    </tr>\n    <tr>\n      <th>7</th>\n      <td>Covered California Gold 80 Plan: Gold is Golde...</td>\n      <td>7</td>\n      <td>[0.024426080286502838, 0.01196149829775095, 0....</td>\n    </tr>\n    <tr>\n      <th>8</th>\n      <td>The Subsidy or Tax Credit of Healthcare Reform...</td>\n      <td>8</td>\n      <td>[0.004846894647926092, -0.0026914558839052916,...</td>\n    </tr>\n    <tr>\n      <th>9</th>\n      <td>Health Net Health Insurance Coverage\\nAbout He...</td>\n      <td>9</td>\n      <td>[-0.008957654237747192, -0.0032053696922957897...</td>\n    </tr>\n    <tr>\n      <th>10</th>\n      <td>HMO vs. PPO Plans\\nIn California, everyone nee...</td>\n      <td>10</td>\n      <td>[0.01743467152118683, 0.007221270352602005, 0....</td>\n    </tr>\n    <tr>\n      <th>11</th>\n      <td>IEHP Insurance\\nInland Empire Health Plan (IEH...</td>\n      <td>11</td>\n      <td>[-0.0050645568408071995, 0.004377060104161501,...</td>\n    </tr>\n    <tr>\n      <th>12</th>\n      <td>Covered California Income Limits\\n\\nIncome Gui...</td>\n      <td>12</td>\n      <td>[0.009735602885484695, -0.014041989110410213, ...</td>\n    </tr>\n    <tr>\n      <th>13</th>\n      <td>Individual Health Insurance California\\nHealth...</td>\n      <td>13</td>\n      <td>[0.013386666774749756, 0.006544879171997309, 0...</td>\n    </tr>\n    <tr>\n      <th>14</th>\n      <td>IRS 1095-A Form\\nAt the end of the year, we st...</td>\n      <td>14</td>\n      <td>[-0.01765616051852703, 0.008491584099829197, 0...</td>\n    </tr>\n    <tr>\n      <th>15</th>\n      <td>Insurance Company\\nKaiser Permanente Health In...</td>\n      <td>15</td>\n      <td>[0.008426056243479252, 0.017805255949497223, 0...</td>\n    </tr>\n    <tr>\n      <th>16</th>\n      <td>L.A. Care Health Insurance Coverage\\nFind the ...</td>\n      <td>16</td>\n      <td>[0.011298784986138344, 0.013840679079294205, 0...</td>\n    </tr>\n    <tr>\n      <th>17</th>\n      <td>Medi-Cal\\nMedi-Cal is California’s Medicaid pr...</td>\n      <td>17</td>\n      <td>[0.009693297557532787, 0.018585387617349625, 0...</td>\n    </tr>\n    <tr>\n      <th>18</th>\n      <td>Covered California Minimum Coverage: The Least...</td>\n      <td>18</td>\n      <td>[0.009746179915964603, 0.0073824431747198105, ...</td>\n    </tr>\n    <tr>\n      <th>19</th>\n      <td>Molina Health Insurance Coverage\\nFind the Low...</td>\n      <td>19</td>\n      <td>[-0.003949515987187624, 0.00425182469189167, 0...</td>\n    </tr>\n    <tr>\n      <th>20</th>\n      <td>There is so much to prepare when you’re expect...</td>\n      <td>20</td>\n      <td>[0.024224787950515747, 0.006691439542919397, 0...</td>\n    </tr>\n    <tr>\n      <th>21</th>\n      <td>Covered California 2023-2024 Open Enrollment P...</td>\n      <td>21</td>\n      <td>[0.0024975468404591084, -0.009278933517634869,...</td>\n    </tr>\n    <tr>\n      <th>22</th>\n      <td>\\nCovered California Platinum 90 Plan: Top of ...</td>\n      <td>22</td>\n      <td>[0.022902365773916245, 0.009350789710879326, 0...</td>\n    </tr>\n    <tr>\n      <th>23</th>\n      <td>Preventive Care\\nPreventive care aims to help ...</td>\n      <td>23</td>\n      <td>[0.00799807533621788, 0.003906498197466135, 0....</td>\n    </tr>\n    <tr>\n      <th>24</th>\n      <td>Qualifying Life Events\\nf you wish to enroll i...</td>\n      <td>24</td>\n      <td>[0.0002826306445058435, -0.0019552751909941435...</td>\n    </tr>\n    <tr>\n      <th>25</th>\n      <td>Reporting Changes to Covered California\\nOnce ...</td>\n      <td>25</td>\n      <td>[0.0025597831699997187, 0.001466643065214157, ...</td>\n    </tr>\n    <tr>\n      <th>26</th>\n      <td>Self-Employed Health Insurance Options in Cali...</td>\n      <td>26</td>\n      <td>[0.009315697476267815, -0.004736628849059343, ...</td>\n    </tr>\n    <tr>\n      <th>27</th>\n      <td>What are your Senior Health Insurance options?...</td>\n      <td>27</td>\n      <td>[0.020831726491451263, 0.00025999598437920213,...</td>\n    </tr>\n    <tr>\n      <th>28</th>\n      <td>Sharp Health Insurance Coverage\\nFind the Lowe...</td>\n      <td>28</td>\n      <td>[0.01390156801789999, 0.007476643193513155, 0....</td>\n    </tr>\n    <tr>\n      <th>29</th>\n      <td>Is it time to switch to an HMO Plan?\\n\\nIf you...</td>\n      <td>29</td>\n      <td>[0.011512723751366138, 0.010894590988755226, 0...</td>\n    </tr>\n    <tr>\n      <th>30</th>\n      <td>2023 Covered California Silver 70\\nThe Covered...</td>\n      <td>30</td>\n      <td>[0.01917673833668232, 0.010680798441171646, 0....</td>\n    </tr>\n    <tr>\n      <th>31</th>\n      <td>2023 Silver 73: Enhanced Plan\\nThe Silver 73 i...</td>\n      <td>31</td>\n      <td>[0.01669887639582157, 0.0020840091165155172, 0...</td>\n    </tr>\n    <tr>\n      <th>32</th>\n      <td>2023 Silver 87: Enhanced Plan\\nThe Silver 87 P...</td>\n      <td>32</td>\n      <td>[0.009757570922374725, 0.011762919835746288, 0...</td>\n    </tr>\n    <tr>\n      <th>33</th>\n      <td>2023 Silver 94: Enhanced Plan\\nIf you already ...</td>\n      <td>33</td>\n      <td>[0.022906674072146416, 0.009197580628097057, 0...</td>\n    </tr>\n    <tr>\n      <th>34</th>\n      <td>Covered California Silver Plans: Popular Middl...</td>\n      <td>34</td>\n      <td>[0.023327887058258057, 0.009682399220764637, 0...</td>\n    </tr>\n    <tr>\n      <th>35</th>\n      <td>Small Business and Group Health Insurance Cali...</td>\n      <td>35</td>\n      <td>[0.007633492816239595, 0.01680428721010685, 0....</td>\n    </tr>\n    <tr>\n      <th>36</th>\n      <td>Covered California – Special Enrollment Period...</td>\n      <td>36</td>\n      <td>[-0.00020279244927223772, -0.00192715297453105...</td>\n    </tr>\n    <tr>\n      <th>37</th>\n      <td>Supplemental Health Insurance Plans\\nSupplemen...</td>\n      <td>37</td>\n      <td>[0.016194310039281845, 0.03202470391988754, 0....</td>\n    </tr>\n    <tr>\n      <th>38</th>\n      <td>International Travel Medical Insurance and Sho...</td>\n      <td>38</td>\n      <td>[0.009028005413711071, 0.020868433639407158, 0...</td>\n    </tr>\n    <tr>\n      <th>39</th>\n      <td>Valley Health Insurance Coverage\\nFind the Low...</td>\n      <td>39</td>\n      <td>[-0.0007648649043403566, -0.000489143072627484...</td>\n    </tr>\n    <tr>\n      <th>40</th>\n      <td>Western Health Advantage Health Insurance Cove...</td>\n      <td>40</td>\n      <td>[0.006481920834630728, -0.006431957241147757, ...</td>\n    </tr>\n  </tbody>\n</table>\n</div>"
     },
     "execution_count": 157,
     "metadata": {},
     "output_type": "execute_result"
    }
   ],
   "source": [
    "df['vector'] = df['embeddings']\n",
    "df.drop(['embeddings'], axis=1, inplace=True)\n",
    "\n",
    "df\n"
   ],
   "metadata": {
    "collapsed": false,
    "ExecuteTime": {
     "end_time": "2024-04-30T22:58:59.083630Z",
     "start_time": "2024-04-30T22:58:59.078964Z"
    }
   },
   "id": "e55cd624d91e3fac",
   "execution_count": 157
  },
  {
   "cell_type": "code",
   "outputs": [
    {
     "data": {
      "text/plain": "    id                                             vector  \\\n0    0  [0.011871634051203728, 0.009219045750796795, 0...   \n1    1  [0.002933195559307933, -0.003226845059543848, ...   \n2    2  [0.005859837867319584, -0.015740295872092247, ...   \n3    3  [0.01280609704554081, 0.015537003986537457, 0....   \n4    4  [0.007296297233551741, 0.012715067714452744, 0...   \n5    5  [-0.013264380395412445, 0.003993576858192682, ...   \n6    6  [0.01131445448845625, 0.007411356084048748, 0....   \n7    7  [0.024426080286502838, 0.01196149829775095, 0....   \n8    8  [0.004846894647926092, -0.0026914558839052916,...   \n9    9  [-0.008957654237747192, -0.0032053696922957897...   \n10  10  [0.01743467152118683, 0.007221270352602005, 0....   \n11  11  [-0.0050645568408071995, 0.004377060104161501,...   \n12  12  [0.009735602885484695, -0.014041989110410213, ...   \n13  13  [0.013386666774749756, 0.006544879171997309, 0...   \n14  14  [-0.01765616051852703, 0.008491584099829197, 0...   \n15  15  [0.008426056243479252, 0.017805255949497223, 0...   \n16  16  [0.011298784986138344, 0.013840679079294205, 0...   \n17  17  [0.009693297557532787, 0.018585387617349625, 0...   \n18  18  [0.009746179915964603, 0.0073824431747198105, ...   \n19  19  [-0.003949515987187624, 0.00425182469189167, 0...   \n20  20  [0.024224787950515747, 0.006691439542919397, 0...   \n21  21  [0.0024975468404591084, -0.009278933517634869,...   \n22  22  [0.022902365773916245, 0.009350789710879326, 0...   \n23  23  [0.00799807533621788, 0.003906498197466135, 0....   \n24  24  [0.0002826306445058435, -0.0019552751909941435...   \n25  25  [0.0025597831699997187, 0.001466643065214157, ...   \n26  26  [0.009315697476267815, -0.004736628849059343, ...   \n27  27  [0.020831726491451263, 0.00025999598437920213,...   \n28  28  [0.01390156801789999, 0.007476643193513155, 0....   \n29  29  [0.011512723751366138, 0.010894590988755226, 0...   \n30  30  [0.01917673833668232, 0.010680798441171646, 0....   \n31  31  [0.01669887639582157, 0.0020840091165155172, 0...   \n32  32  [0.009757570922374725, 0.011762919835746288, 0...   \n33  33  [0.022906674072146416, 0.009197580628097057, 0...   \n34  34  [0.023327887058258057, 0.009682399220764637, 0...   \n35  35  [0.007633492816239595, 0.01680428721010685, 0....   \n36  36  [-0.00020279244927223772, -0.00192715297453105...   \n37  37  [0.016194310039281845, 0.03202470391988754, 0....   \n38  38  [0.009028005413711071, 0.020868433639407158, 0...   \n39  39  [-0.0007648649043403566, -0.000489143072627484...   \n40  40  [0.006481920834630728, -0.006431957241147757, ...   \n\n                                                 text  \\\n0   Aetna Insurance\\nAetna is a health insurance p...   \n1   Insurance Company\\nAnthem Blue Cross Health In...   \n2   Insurance Company\\nBlue Shield Health Insuranc...   \n3   Bronze 60 Plan: Peace of Mind for Unexpected H...   \n4   Chinese Community Health Insurance Coverage\\nF...   \n5   Covered California Deadline\\nGeneral Applicati...   \n6   Family Health Insurance in California\\nMany fa...   \n7   Covered California Gold 80 Plan: Gold is Golde...   \n8   The Subsidy or Tax Credit of Healthcare Reform...   \n9   Health Net Health Insurance Coverage\\nAbout He...   \n10  HMO vs. PPO Plans\\nIn California, everyone nee...   \n11  IEHP Insurance\\nInland Empire Health Plan (IEH...   \n12  Covered California Income Limits\\n\\nIncome Gui...   \n13  Individual Health Insurance California\\nHealth...   \n14  IRS 1095-A Form\\nAt the end of the year, we st...   \n15  Insurance Company\\nKaiser Permanente Health In...   \n16  L.A. Care Health Insurance Coverage\\nFind the ...   \n17  Medi-Cal\\nMedi-Cal is California’s Medicaid pr...   \n18  Covered California Minimum Coverage: The Least...   \n19  Molina Health Insurance Coverage\\nFind the Low...   \n20  There is so much to prepare when you’re expect...   \n21  Covered California 2023-2024 Open Enrollment P...   \n22  \\nCovered California Platinum 90 Plan: Top of ...   \n23  Preventive Care\\nPreventive care aims to help ...   \n24  Qualifying Life Events\\nf you wish to enroll i...   \n25  Reporting Changes to Covered California\\nOnce ...   \n26  Self-Employed Health Insurance Options in Cali...   \n27  What are your Senior Health Insurance options?...   \n28  Sharp Health Insurance Coverage\\nFind the Lowe...   \n29  Is it time to switch to an HMO Plan?\\n\\nIf you...   \n30  2023 Covered California Silver 70\\nThe Covered...   \n31  2023 Silver 73: Enhanced Plan\\nThe Silver 73 i...   \n32  2023 Silver 87: Enhanced Plan\\nThe Silver 87 P...   \n33  2023 Silver 94: Enhanced Plan\\nIf you already ...   \n34  Covered California Silver Plans: Popular Middl...   \n35  Small Business and Group Health Insurance Cali...   \n36  Covered California – Special Enrollment Period...   \n37  Supplemental Health Insurance Plans\\nSupplemen...   \n38  International Travel Medical Insurance and Sho...   \n39  Valley Health Insurance Coverage\\nFind the Low...   \n40  Western Health Advantage Health Insurance Cove...   \n\n                 embeddings_type  \n0   covered_california_insurance  \n1   covered_california_insurance  \n2   covered_california_insurance  \n3   covered_california_insurance  \n4   covered_california_insurance  \n5   covered_california_insurance  \n6   covered_california_insurance  \n7   covered_california_insurance  \n8   covered_california_insurance  \n9   covered_california_insurance  \n10  covered_california_insurance  \n11  covered_california_insurance  \n12  covered_california_insurance  \n13  covered_california_insurance  \n14  covered_california_insurance  \n15  covered_california_insurance  \n16  covered_california_insurance  \n17  covered_california_insurance  \n18  covered_california_insurance  \n19  covered_california_insurance  \n20  covered_california_insurance  \n21  covered_california_insurance  \n22  covered_california_insurance  \n23  covered_california_insurance  \n24  covered_california_insurance  \n25  covered_california_insurance  \n26  covered_california_insurance  \n27  covered_california_insurance  \n28  covered_california_insurance  \n29  covered_california_insurance  \n30  covered_california_insurance  \n31  covered_california_insurance  \n32  covered_california_insurance  \n33  covered_california_insurance  \n34  covered_california_insurance  \n35  covered_california_insurance  \n36  covered_california_insurance  \n37  covered_california_insurance  \n38  covered_california_insurance  \n39  covered_california_insurance  \n40  covered_california_insurance  ",
      "text/html": "<div>\n<style scoped>\n    .dataframe tbody tr th:only-of-type {\n        vertical-align: middle;\n    }\n\n    .dataframe tbody tr th {\n        vertical-align: top;\n    }\n\n    .dataframe thead th {\n        text-align: right;\n    }\n</style>\n<table border=\"1\" class=\"dataframe\">\n  <thead>\n    <tr style=\"text-align: right;\">\n      <th></th>\n      <th>id</th>\n      <th>vector</th>\n      <th>text</th>\n      <th>embeddings_type</th>\n    </tr>\n  </thead>\n  <tbody>\n    <tr>\n      <th>0</th>\n      <td>0</td>\n      <td>[0.011871634051203728, 0.009219045750796795, 0...</td>\n      <td>Aetna Insurance\\nAetna is a health insurance p...</td>\n      <td>covered_california_insurance</td>\n    </tr>\n    <tr>\n      <th>1</th>\n      <td>1</td>\n      <td>[0.002933195559307933, -0.003226845059543848, ...</td>\n      <td>Insurance Company\\nAnthem Blue Cross Health In...</td>\n      <td>covered_california_insurance</td>\n    </tr>\n    <tr>\n      <th>2</th>\n      <td>2</td>\n      <td>[0.005859837867319584, -0.015740295872092247, ...</td>\n      <td>Insurance Company\\nBlue Shield Health Insuranc...</td>\n      <td>covered_california_insurance</td>\n    </tr>\n    <tr>\n      <th>3</th>\n      <td>3</td>\n      <td>[0.01280609704554081, 0.015537003986537457, 0....</td>\n      <td>Bronze 60 Plan: Peace of Mind for Unexpected H...</td>\n      <td>covered_california_insurance</td>\n    </tr>\n    <tr>\n      <th>4</th>\n      <td>4</td>\n      <td>[0.007296297233551741, 0.012715067714452744, 0...</td>\n      <td>Chinese Community Health Insurance Coverage\\nF...</td>\n      <td>covered_california_insurance</td>\n    </tr>\n    <tr>\n      <th>5</th>\n      <td>5</td>\n      <td>[-0.013264380395412445, 0.003993576858192682, ...</td>\n      <td>Covered California Deadline\\nGeneral Applicati...</td>\n      <td>covered_california_insurance</td>\n    </tr>\n    <tr>\n      <th>6</th>\n      <td>6</td>\n      <td>[0.01131445448845625, 0.007411356084048748, 0....</td>\n      <td>Family Health Insurance in California\\nMany fa...</td>\n      <td>covered_california_insurance</td>\n    </tr>\n    <tr>\n      <th>7</th>\n      <td>7</td>\n      <td>[0.024426080286502838, 0.01196149829775095, 0....</td>\n      <td>Covered California Gold 80 Plan: Gold is Golde...</td>\n      <td>covered_california_insurance</td>\n    </tr>\n    <tr>\n      <th>8</th>\n      <td>8</td>\n      <td>[0.004846894647926092, -0.0026914558839052916,...</td>\n      <td>The Subsidy or Tax Credit of Healthcare Reform...</td>\n      <td>covered_california_insurance</td>\n    </tr>\n    <tr>\n      <th>9</th>\n      <td>9</td>\n      <td>[-0.008957654237747192, -0.0032053696922957897...</td>\n      <td>Health Net Health Insurance Coverage\\nAbout He...</td>\n      <td>covered_california_insurance</td>\n    </tr>\n    <tr>\n      <th>10</th>\n      <td>10</td>\n      <td>[0.01743467152118683, 0.007221270352602005, 0....</td>\n      <td>HMO vs. PPO Plans\\nIn California, everyone nee...</td>\n      <td>covered_california_insurance</td>\n    </tr>\n    <tr>\n      <th>11</th>\n      <td>11</td>\n      <td>[-0.0050645568408071995, 0.004377060104161501,...</td>\n      <td>IEHP Insurance\\nInland Empire Health Plan (IEH...</td>\n      <td>covered_california_insurance</td>\n    </tr>\n    <tr>\n      <th>12</th>\n      <td>12</td>\n      <td>[0.009735602885484695, -0.014041989110410213, ...</td>\n      <td>Covered California Income Limits\\n\\nIncome Gui...</td>\n      <td>covered_california_insurance</td>\n    </tr>\n    <tr>\n      <th>13</th>\n      <td>13</td>\n      <td>[0.013386666774749756, 0.006544879171997309, 0...</td>\n      <td>Individual Health Insurance California\\nHealth...</td>\n      <td>covered_california_insurance</td>\n    </tr>\n    <tr>\n      <th>14</th>\n      <td>14</td>\n      <td>[-0.01765616051852703, 0.008491584099829197, 0...</td>\n      <td>IRS 1095-A Form\\nAt the end of the year, we st...</td>\n      <td>covered_california_insurance</td>\n    </tr>\n    <tr>\n      <th>15</th>\n      <td>15</td>\n      <td>[0.008426056243479252, 0.017805255949497223, 0...</td>\n      <td>Insurance Company\\nKaiser Permanente Health In...</td>\n      <td>covered_california_insurance</td>\n    </tr>\n    <tr>\n      <th>16</th>\n      <td>16</td>\n      <td>[0.011298784986138344, 0.013840679079294205, 0...</td>\n      <td>L.A. Care Health Insurance Coverage\\nFind the ...</td>\n      <td>covered_california_insurance</td>\n    </tr>\n    <tr>\n      <th>17</th>\n      <td>17</td>\n      <td>[0.009693297557532787, 0.018585387617349625, 0...</td>\n      <td>Medi-Cal\\nMedi-Cal is California’s Medicaid pr...</td>\n      <td>covered_california_insurance</td>\n    </tr>\n    <tr>\n      <th>18</th>\n      <td>18</td>\n      <td>[0.009746179915964603, 0.0073824431747198105, ...</td>\n      <td>Covered California Minimum Coverage: The Least...</td>\n      <td>covered_california_insurance</td>\n    </tr>\n    <tr>\n      <th>19</th>\n      <td>19</td>\n      <td>[-0.003949515987187624, 0.00425182469189167, 0...</td>\n      <td>Molina Health Insurance Coverage\\nFind the Low...</td>\n      <td>covered_california_insurance</td>\n    </tr>\n    <tr>\n      <th>20</th>\n      <td>20</td>\n      <td>[0.024224787950515747, 0.006691439542919397, 0...</td>\n      <td>There is so much to prepare when you’re expect...</td>\n      <td>covered_california_insurance</td>\n    </tr>\n    <tr>\n      <th>21</th>\n      <td>21</td>\n      <td>[0.0024975468404591084, -0.009278933517634869,...</td>\n      <td>Covered California 2023-2024 Open Enrollment P...</td>\n      <td>covered_california_insurance</td>\n    </tr>\n    <tr>\n      <th>22</th>\n      <td>22</td>\n      <td>[0.022902365773916245, 0.009350789710879326, 0...</td>\n      <td>\\nCovered California Platinum 90 Plan: Top of ...</td>\n      <td>covered_california_insurance</td>\n    </tr>\n    <tr>\n      <th>23</th>\n      <td>23</td>\n      <td>[0.00799807533621788, 0.003906498197466135, 0....</td>\n      <td>Preventive Care\\nPreventive care aims to help ...</td>\n      <td>covered_california_insurance</td>\n    </tr>\n    <tr>\n      <th>24</th>\n      <td>24</td>\n      <td>[0.0002826306445058435, -0.0019552751909941435...</td>\n      <td>Qualifying Life Events\\nf you wish to enroll i...</td>\n      <td>covered_california_insurance</td>\n    </tr>\n    <tr>\n      <th>25</th>\n      <td>25</td>\n      <td>[0.0025597831699997187, 0.001466643065214157, ...</td>\n      <td>Reporting Changes to Covered California\\nOnce ...</td>\n      <td>covered_california_insurance</td>\n    </tr>\n    <tr>\n      <th>26</th>\n      <td>26</td>\n      <td>[0.009315697476267815, -0.004736628849059343, ...</td>\n      <td>Self-Employed Health Insurance Options in Cali...</td>\n      <td>covered_california_insurance</td>\n    </tr>\n    <tr>\n      <th>27</th>\n      <td>27</td>\n      <td>[0.020831726491451263, 0.00025999598437920213,...</td>\n      <td>What are your Senior Health Insurance options?...</td>\n      <td>covered_california_insurance</td>\n    </tr>\n    <tr>\n      <th>28</th>\n      <td>28</td>\n      <td>[0.01390156801789999, 0.007476643193513155, 0....</td>\n      <td>Sharp Health Insurance Coverage\\nFind the Lowe...</td>\n      <td>covered_california_insurance</td>\n    </tr>\n    <tr>\n      <th>29</th>\n      <td>29</td>\n      <td>[0.011512723751366138, 0.010894590988755226, 0...</td>\n      <td>Is it time to switch to an HMO Plan?\\n\\nIf you...</td>\n      <td>covered_california_insurance</td>\n    </tr>\n    <tr>\n      <th>30</th>\n      <td>30</td>\n      <td>[0.01917673833668232, 0.010680798441171646, 0....</td>\n      <td>2023 Covered California Silver 70\\nThe Covered...</td>\n      <td>covered_california_insurance</td>\n    </tr>\n    <tr>\n      <th>31</th>\n      <td>31</td>\n      <td>[0.01669887639582157, 0.0020840091165155172, 0...</td>\n      <td>2023 Silver 73: Enhanced Plan\\nThe Silver 73 i...</td>\n      <td>covered_california_insurance</td>\n    </tr>\n    <tr>\n      <th>32</th>\n      <td>32</td>\n      <td>[0.009757570922374725, 0.011762919835746288, 0...</td>\n      <td>2023 Silver 87: Enhanced Plan\\nThe Silver 87 P...</td>\n      <td>covered_california_insurance</td>\n    </tr>\n    <tr>\n      <th>33</th>\n      <td>33</td>\n      <td>[0.022906674072146416, 0.009197580628097057, 0...</td>\n      <td>2023 Silver 94: Enhanced Plan\\nIf you already ...</td>\n      <td>covered_california_insurance</td>\n    </tr>\n    <tr>\n      <th>34</th>\n      <td>34</td>\n      <td>[0.023327887058258057, 0.009682399220764637, 0...</td>\n      <td>Covered California Silver Plans: Popular Middl...</td>\n      <td>covered_california_insurance</td>\n    </tr>\n    <tr>\n      <th>35</th>\n      <td>35</td>\n      <td>[0.007633492816239595, 0.01680428721010685, 0....</td>\n      <td>Small Business and Group Health Insurance Cali...</td>\n      <td>covered_california_insurance</td>\n    </tr>\n    <tr>\n      <th>36</th>\n      <td>36</td>\n      <td>[-0.00020279244927223772, -0.00192715297453105...</td>\n      <td>Covered California – Special Enrollment Period...</td>\n      <td>covered_california_insurance</td>\n    </tr>\n    <tr>\n      <th>37</th>\n      <td>37</td>\n      <td>[0.016194310039281845, 0.03202470391988754, 0....</td>\n      <td>Supplemental Health Insurance Plans\\nSupplemen...</td>\n      <td>covered_california_insurance</td>\n    </tr>\n    <tr>\n      <th>38</th>\n      <td>38</td>\n      <td>[0.009028005413711071, 0.020868433639407158, 0...</td>\n      <td>International Travel Medical Insurance and Sho...</td>\n      <td>covered_california_insurance</td>\n    </tr>\n    <tr>\n      <th>39</th>\n      <td>39</td>\n      <td>[-0.0007648649043403566, -0.000489143072627484...</td>\n      <td>Valley Health Insurance Coverage\\nFind the Low...</td>\n      <td>covered_california_insurance</td>\n    </tr>\n    <tr>\n      <th>40</th>\n      <td>40</td>\n      <td>[0.006481920834630728, -0.006431957241147757, ...</td>\n      <td>Western Health Advantage Health Insurance Cove...</td>\n      <td>covered_california_insurance</td>\n    </tr>\n  </tbody>\n</table>\n</div>"
     },
     "execution_count": 158,
     "metadata": {},
     "output_type": "execute_result"
    }
   ],
   "source": [
    "new_order = ['id', 'vector', 'text', 'embeddings_type']\n",
    "df['embeddings_type'] = \"covered_california_insurance\"\n",
    "df_reordered = df[new_order]\n",
    "data = df_reordered.to_dict(orient='records')\n",
    "df_reordered"
   ],
   "metadata": {
    "collapsed": false,
    "ExecuteTime": {
     "end_time": "2024-04-30T22:59:10.405526Z",
     "start_time": "2024-04-30T22:59:10.376956Z"
    }
   },
   "id": "756aef3151014583",
   "execution_count": 158
  },
  {
   "cell_type": "code",
   "outputs": [
    {
     "name": "stdout",
     "output_type": "stream",
     "text": [
      "{'insert_count': 41, 'ids': [0, 1, 2, 3, 4, 5, 6, 7, 8, 9, 10, 11, 12, 13, 14, 15, 16, 17, 18, 19, 20, 21, 22, 23, 24, 25, 26, 27, 28, 29, 30, 31, 32, 33, 34, 35, 36, 37, 38, 39, 40]}\n"
     ]
    }
   ],
   "source": [
    "\n",
    "res = client.insert(\n",
    "    collection_name=\"open_api_embeddings\",\n",
    "    data=data\n",
    ")\n",
    "\n",
    "print(res)\n",
    "\n",
    "# client.delete(collection_name=\"open_api_embeddings\", ids=[0, 1, 2, 3, 4, 5, 6, 7, 8, 9, 10, 11, 12, 13, 14, 15, 16, 17, 18, 19, 20, 21, 22, 23, 24, 25, 26, 27, 28, 29, 30, 31, 32, 33, 34, 35, 36, 37, 38, 39, 40])\n",
    "\n"
   ],
   "metadata": {
    "collapsed": false,
    "ExecuteTime": {
     "end_time": "2024-04-30T22:59:24.308947Z",
     "start_time": "2024-04-30T22:59:24.248168Z"
    }
   },
   "id": "1e2b0d5b86d504a4",
   "execution_count": 159
  },
  {
   "cell_type": "code",
   "outputs": [],
   "source": [
    "# 6. Search with a single vector\n",
    "# 6.1. Prepare query vectors\n",
    "# query_vectors = [\n",
    "# ]\n",
    "# \n",
    "# # 6.2. Start search\n",
    "# res = client.search(\n",
    "#     collection_name=\"quick_setup\",     # target collection\n",
    "#     data=query_vectors,                # query vectors\n",
    "#     limit=3,                           # number of returned entities\n",
    "# )\n",
    "# \n",
    "# print(res)"
   ],
   "metadata": {
    "collapsed": false,
    "ExecuteTime": {
     "end_time": "2024-04-30T22:58:16.965191Z",
     "start_time": "2024-04-30T22:58:16.962560Z"
    }
   },
   "id": "355dbfd934f3aee8",
   "execution_count": 149
  },
  {
   "cell_type": "code",
   "outputs": [
    {
     "name": "stdout",
     "output_type": "stream",
     "text": [
      "[{'text': 'Aetna Insurance\\nAetna is a health insurance provider owned by CVS Health. It’s one of the oldest and largest health insurance companies in the country, with a history dating back to the 1800s. Aetna got its start selling life insurance. Today, it also offers various medical and dental plans nationwide.\\n\\nAetna wasn’t always available in California. In 2018, the California Department of Health Care Services (DHCS) approved Aetna joining Medi-Cal with its Better Health of California plan, offered in San Diego and Sacramento counties. Then, in 2023, Aetna CVS Health joined Covered California to offer individual and family health insurance.\\n\\nWhat Is Aetna Known For?\\nPeople choose Aetna for its vast network of providers, competitive rates and long history in the insurance industry. It also offers benefits like access to 24/7 virtual care at no or low costs, depending on your plan, and mental health coverage. Aetna is regarded as a good health insurance provider overall.\\n\\nHow Do You Get an Aetna Plan in California?\\nThe first step to getting Aetna health insurance in California is determining if it’s available in your area. Aetna CVS Health currently serves the following counties:\\n\\nEl Dorado\\nFresno\\nKings\\nMadera\\nPlacer\\nSacramento\\nYolo\\nThe next step is to apply. You’ll need to wait until the open enrollment period, which typically starts in November and ends in January.\\n\\nHowever, you can enter a special enrollment period if you’ve experienced a qualifying life event. This opportunity will allow you to apply and enroll in an Aetna plan outside of open enrollment. You can start the application process easily through our site, beginning with a free, fast quote.\\n\\nIf you’re eligible for a Medi-Cal plan, like Aetna Better Health of California, you can enroll year-round. But first, you must determine if you’re eligible for Medi-Cal. You’ll need to consider whether you meet the income, age or medical requirements. For example, if you earn less than $20,121 a year, you could be eligible.\\n\\nYou can also determine Medi-Cal eligibility by using our online quote and selecting the option to see if you qualify for a discount.\\n\\nWhat Does Aetna CVS Health Cover?\\nAetna CVS Health is compliant with the Affordable Care Act (ACA), meaning it covers essential benefits such as:\\n\\nMedical care for adults and children\\nMental health services\\nMaternity care\\nHospitalization and emergency services\\nPrescriptions\\nLab services\\nPreventive care\\nChronic disease management\\nAs a Medi-Cal beneficiary with an Aetna plan, you’ll also have dental care benefits with Denti-Cal. Your medications will be covered under Medi-Cal Rx rather than Aetna.\\n\\nIs Aetna Better Than Kaiser Permanente?\\nThe National Committee for Quality Assurance (NCQA) gives Kaiser Permanente a higher rating than Aetna plans overall. These ratings are based on patient happiness, the quality of care received and the plan’s efforts to improve. You can review any health plan’s ratings on the NCQA site here.\\n\\nLearn More About Aetna With Us\\nDo you have more questions about Aetna health insurance? We’re here for you. At Health for California, we understand that applying for health insurance can be confusing. You might have a lot of questions or need clarification about the best options available to you and your family.\\n\\nOur agents can answer questions about Aetna or any Covered California health plan. We’re happy to help you find an affordable health plan stress-free.\\n\\nIf you’re ready to apply for health insurance, our online application process is quick and simple. Get started today with a free quote.', 'id': 0}]\n"
     ]
    }
   ],
   "source": [
    "# 10. Query with a filter expression using a schema-defined field\n",
    "res = client.query(\n",
    "    collection_name=\"open_api_embeddings\",\n",
    "    filter='$meta[\"embeddings_type\"] == \"covered_california_insurance\"',\n",
    "    output_fields=[\"text\"],\n",
    "    limit=1\n",
    ")\n",
    "print(res)"
   ],
   "metadata": {
    "collapsed": false,
    "ExecuteTime": {
     "end_time": "2024-04-30T22:59:28.559039Z",
     "start_time": "2024-04-30T22:59:28.541161Z"
    }
   },
   "id": "71e7ddd9efdae805",
   "execution_count": 160
  },
  {
   "cell_type": "code",
   "outputs": [],
   "source": [
    "# 15. Drop collection\n",
    "# client.drop_collection(\n",
    "#     collection_name=\"open_api_embeddings\"\n",
    "# )"
   ],
   "metadata": {
    "collapsed": false,
    "ExecuteTime": {
     "end_time": "2024-04-30T22:59:36.999104Z",
     "start_time": "2024-04-30T22:59:36.988205Z"
    }
   },
   "id": "bb9e82f214ce1b79",
   "execution_count": 161
  }
 ],
 "metadata": {
  "kernelspec": {
   "display_name": "Python 3",
   "language": "python",
   "name": "python3"
  },
  "language_info": {
   "codemirror_mode": {
    "name": "ipython",
    "version": 2
   },
   "file_extension": ".py",
   "mimetype": "text/x-python",
   "name": "python",
   "nbconvert_exporter": "python",
   "pygments_lexer": "ipython2",
   "version": "2.7.6"
  }
 },
 "nbformat": 4,
 "nbformat_minor": 5
}
